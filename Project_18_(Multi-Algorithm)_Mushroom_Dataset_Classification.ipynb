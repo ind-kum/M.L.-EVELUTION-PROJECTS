{
 "cells": [
  {
   "cell_type": "code",
   "execution_count": 1,
   "metadata": {},
   "outputs": [
    {
     "data": {
      "text/html": [
       "<div>\n",
       "<style scoped>\n",
       "    .dataframe tbody tr th:only-of-type {\n",
       "        vertical-align: middle;\n",
       "    }\n",
       "\n",
       "    .dataframe tbody tr th {\n",
       "        vertical-align: top;\n",
       "    }\n",
       "\n",
       "    .dataframe thead th {\n",
       "        text-align: right;\n",
       "    }\n",
       "</style>\n",
       "<table border=\"1\" class=\"dataframe\">\n",
       "  <thead>\n",
       "    <tr style=\"text-align: right;\">\n",
       "      <th></th>\n",
       "      <th>class</th>\n",
       "      <th>cap-shape</th>\n",
       "      <th>cap-surface</th>\n",
       "      <th>cap-color</th>\n",
       "      <th>bruises</th>\n",
       "      <th>odor</th>\n",
       "      <th>gill-attachment</th>\n",
       "      <th>gill-spacing</th>\n",
       "      <th>gill-size</th>\n",
       "      <th>gill-color</th>\n",
       "      <th>...</th>\n",
       "      <th>stalk-surface-below-ring</th>\n",
       "      <th>stalk-color-above-ring</th>\n",
       "      <th>stalk-color-below-ring</th>\n",
       "      <th>veil-type</th>\n",
       "      <th>veil-color</th>\n",
       "      <th>ring-number</th>\n",
       "      <th>ring-type</th>\n",
       "      <th>spore-print-color</th>\n",
       "      <th>population</th>\n",
       "      <th>habitat</th>\n",
       "    </tr>\n",
       "  </thead>\n",
       "  <tbody>\n",
       "    <tr>\n",
       "      <th>0</th>\n",
       "      <td>p</td>\n",
       "      <td>x</td>\n",
       "      <td>s</td>\n",
       "      <td>n</td>\n",
       "      <td>t</td>\n",
       "      <td>p</td>\n",
       "      <td>f</td>\n",
       "      <td>c</td>\n",
       "      <td>n</td>\n",
       "      <td>k</td>\n",
       "      <td>...</td>\n",
       "      <td>s</td>\n",
       "      <td>w</td>\n",
       "      <td>w</td>\n",
       "      <td>p</td>\n",
       "      <td>w</td>\n",
       "      <td>o</td>\n",
       "      <td>p</td>\n",
       "      <td>k</td>\n",
       "      <td>s</td>\n",
       "      <td>u</td>\n",
       "    </tr>\n",
       "    <tr>\n",
       "      <th>1</th>\n",
       "      <td>e</td>\n",
       "      <td>x</td>\n",
       "      <td>s</td>\n",
       "      <td>y</td>\n",
       "      <td>t</td>\n",
       "      <td>a</td>\n",
       "      <td>f</td>\n",
       "      <td>c</td>\n",
       "      <td>b</td>\n",
       "      <td>k</td>\n",
       "      <td>...</td>\n",
       "      <td>s</td>\n",
       "      <td>w</td>\n",
       "      <td>w</td>\n",
       "      <td>p</td>\n",
       "      <td>w</td>\n",
       "      <td>o</td>\n",
       "      <td>p</td>\n",
       "      <td>n</td>\n",
       "      <td>n</td>\n",
       "      <td>g</td>\n",
       "    </tr>\n",
       "    <tr>\n",
       "      <th>2</th>\n",
       "      <td>e</td>\n",
       "      <td>b</td>\n",
       "      <td>s</td>\n",
       "      <td>w</td>\n",
       "      <td>t</td>\n",
       "      <td>l</td>\n",
       "      <td>f</td>\n",
       "      <td>c</td>\n",
       "      <td>b</td>\n",
       "      <td>n</td>\n",
       "      <td>...</td>\n",
       "      <td>s</td>\n",
       "      <td>w</td>\n",
       "      <td>w</td>\n",
       "      <td>p</td>\n",
       "      <td>w</td>\n",
       "      <td>o</td>\n",
       "      <td>p</td>\n",
       "      <td>n</td>\n",
       "      <td>n</td>\n",
       "      <td>m</td>\n",
       "    </tr>\n",
       "    <tr>\n",
       "      <th>3</th>\n",
       "      <td>p</td>\n",
       "      <td>x</td>\n",
       "      <td>y</td>\n",
       "      <td>w</td>\n",
       "      <td>t</td>\n",
       "      <td>p</td>\n",
       "      <td>f</td>\n",
       "      <td>c</td>\n",
       "      <td>n</td>\n",
       "      <td>n</td>\n",
       "      <td>...</td>\n",
       "      <td>s</td>\n",
       "      <td>w</td>\n",
       "      <td>w</td>\n",
       "      <td>p</td>\n",
       "      <td>w</td>\n",
       "      <td>o</td>\n",
       "      <td>p</td>\n",
       "      <td>k</td>\n",
       "      <td>s</td>\n",
       "      <td>u</td>\n",
       "    </tr>\n",
       "    <tr>\n",
       "      <th>4</th>\n",
       "      <td>e</td>\n",
       "      <td>x</td>\n",
       "      <td>s</td>\n",
       "      <td>g</td>\n",
       "      <td>f</td>\n",
       "      <td>n</td>\n",
       "      <td>f</td>\n",
       "      <td>w</td>\n",
       "      <td>b</td>\n",
       "      <td>k</td>\n",
       "      <td>...</td>\n",
       "      <td>s</td>\n",
       "      <td>w</td>\n",
       "      <td>w</td>\n",
       "      <td>p</td>\n",
       "      <td>w</td>\n",
       "      <td>o</td>\n",
       "      <td>e</td>\n",
       "      <td>n</td>\n",
       "      <td>a</td>\n",
       "      <td>g</td>\n",
       "    </tr>\n",
       "    <tr>\n",
       "      <th>...</th>\n",
       "      <td>...</td>\n",
       "      <td>...</td>\n",
       "      <td>...</td>\n",
       "      <td>...</td>\n",
       "      <td>...</td>\n",
       "      <td>...</td>\n",
       "      <td>...</td>\n",
       "      <td>...</td>\n",
       "      <td>...</td>\n",
       "      <td>...</td>\n",
       "      <td>...</td>\n",
       "      <td>...</td>\n",
       "      <td>...</td>\n",
       "      <td>...</td>\n",
       "      <td>...</td>\n",
       "      <td>...</td>\n",
       "      <td>...</td>\n",
       "      <td>...</td>\n",
       "      <td>...</td>\n",
       "      <td>...</td>\n",
       "      <td>...</td>\n",
       "    </tr>\n",
       "    <tr>\n",
       "      <th>8119</th>\n",
       "      <td>e</td>\n",
       "      <td>k</td>\n",
       "      <td>s</td>\n",
       "      <td>n</td>\n",
       "      <td>f</td>\n",
       "      <td>n</td>\n",
       "      <td>a</td>\n",
       "      <td>c</td>\n",
       "      <td>b</td>\n",
       "      <td>y</td>\n",
       "      <td>...</td>\n",
       "      <td>s</td>\n",
       "      <td>o</td>\n",
       "      <td>o</td>\n",
       "      <td>p</td>\n",
       "      <td>o</td>\n",
       "      <td>o</td>\n",
       "      <td>p</td>\n",
       "      <td>b</td>\n",
       "      <td>c</td>\n",
       "      <td>l</td>\n",
       "    </tr>\n",
       "    <tr>\n",
       "      <th>8120</th>\n",
       "      <td>e</td>\n",
       "      <td>x</td>\n",
       "      <td>s</td>\n",
       "      <td>n</td>\n",
       "      <td>f</td>\n",
       "      <td>n</td>\n",
       "      <td>a</td>\n",
       "      <td>c</td>\n",
       "      <td>b</td>\n",
       "      <td>y</td>\n",
       "      <td>...</td>\n",
       "      <td>s</td>\n",
       "      <td>o</td>\n",
       "      <td>o</td>\n",
       "      <td>p</td>\n",
       "      <td>n</td>\n",
       "      <td>o</td>\n",
       "      <td>p</td>\n",
       "      <td>b</td>\n",
       "      <td>v</td>\n",
       "      <td>l</td>\n",
       "    </tr>\n",
       "    <tr>\n",
       "      <th>8121</th>\n",
       "      <td>e</td>\n",
       "      <td>f</td>\n",
       "      <td>s</td>\n",
       "      <td>n</td>\n",
       "      <td>f</td>\n",
       "      <td>n</td>\n",
       "      <td>a</td>\n",
       "      <td>c</td>\n",
       "      <td>b</td>\n",
       "      <td>n</td>\n",
       "      <td>...</td>\n",
       "      <td>s</td>\n",
       "      <td>o</td>\n",
       "      <td>o</td>\n",
       "      <td>p</td>\n",
       "      <td>o</td>\n",
       "      <td>o</td>\n",
       "      <td>p</td>\n",
       "      <td>b</td>\n",
       "      <td>c</td>\n",
       "      <td>l</td>\n",
       "    </tr>\n",
       "    <tr>\n",
       "      <th>8122</th>\n",
       "      <td>p</td>\n",
       "      <td>k</td>\n",
       "      <td>y</td>\n",
       "      <td>n</td>\n",
       "      <td>f</td>\n",
       "      <td>y</td>\n",
       "      <td>f</td>\n",
       "      <td>c</td>\n",
       "      <td>n</td>\n",
       "      <td>b</td>\n",
       "      <td>...</td>\n",
       "      <td>k</td>\n",
       "      <td>w</td>\n",
       "      <td>w</td>\n",
       "      <td>p</td>\n",
       "      <td>w</td>\n",
       "      <td>o</td>\n",
       "      <td>e</td>\n",
       "      <td>w</td>\n",
       "      <td>v</td>\n",
       "      <td>l</td>\n",
       "    </tr>\n",
       "    <tr>\n",
       "      <th>8123</th>\n",
       "      <td>e</td>\n",
       "      <td>x</td>\n",
       "      <td>s</td>\n",
       "      <td>n</td>\n",
       "      <td>f</td>\n",
       "      <td>n</td>\n",
       "      <td>a</td>\n",
       "      <td>c</td>\n",
       "      <td>b</td>\n",
       "      <td>y</td>\n",
       "      <td>...</td>\n",
       "      <td>s</td>\n",
       "      <td>o</td>\n",
       "      <td>o</td>\n",
       "      <td>p</td>\n",
       "      <td>o</td>\n",
       "      <td>o</td>\n",
       "      <td>p</td>\n",
       "      <td>o</td>\n",
       "      <td>c</td>\n",
       "      <td>l</td>\n",
       "    </tr>\n",
       "  </tbody>\n",
       "</table>\n",
       "<p>8124 rows × 23 columns</p>\n",
       "</div>"
      ],
      "text/plain": [
       "     class cap-shape cap-surface cap-color bruises odor gill-attachment  \\\n",
       "0        p         x           s         n       t    p               f   \n",
       "1        e         x           s         y       t    a               f   \n",
       "2        e         b           s         w       t    l               f   \n",
       "3        p         x           y         w       t    p               f   \n",
       "4        e         x           s         g       f    n               f   \n",
       "...    ...       ...         ...       ...     ...  ...             ...   \n",
       "8119     e         k           s         n       f    n               a   \n",
       "8120     e         x           s         n       f    n               a   \n",
       "8121     e         f           s         n       f    n               a   \n",
       "8122     p         k           y         n       f    y               f   \n",
       "8123     e         x           s         n       f    n               a   \n",
       "\n",
       "     gill-spacing gill-size gill-color  ... stalk-surface-below-ring  \\\n",
       "0               c         n          k  ...                        s   \n",
       "1               c         b          k  ...                        s   \n",
       "2               c         b          n  ...                        s   \n",
       "3               c         n          n  ...                        s   \n",
       "4               w         b          k  ...                        s   \n",
       "...           ...       ...        ...  ...                      ...   \n",
       "8119            c         b          y  ...                        s   \n",
       "8120            c         b          y  ...                        s   \n",
       "8121            c         b          n  ...                        s   \n",
       "8122            c         n          b  ...                        k   \n",
       "8123            c         b          y  ...                        s   \n",
       "\n",
       "     stalk-color-above-ring stalk-color-below-ring veil-type veil-color  \\\n",
       "0                         w                      w         p          w   \n",
       "1                         w                      w         p          w   \n",
       "2                         w                      w         p          w   \n",
       "3                         w                      w         p          w   \n",
       "4                         w                      w         p          w   \n",
       "...                     ...                    ...       ...        ...   \n",
       "8119                      o                      o         p          o   \n",
       "8120                      o                      o         p          n   \n",
       "8121                      o                      o         p          o   \n",
       "8122                      w                      w         p          w   \n",
       "8123                      o                      o         p          o   \n",
       "\n",
       "     ring-number ring-type spore-print-color population habitat  \n",
       "0              o         p                 k          s       u  \n",
       "1              o         p                 n          n       g  \n",
       "2              o         p                 n          n       m  \n",
       "3              o         p                 k          s       u  \n",
       "4              o         e                 n          a       g  \n",
       "...          ...       ...               ...        ...     ...  \n",
       "8119           o         p                 b          c       l  \n",
       "8120           o         p                 b          v       l  \n",
       "8121           o         p                 b          c       l  \n",
       "8122           o         e                 w          v       l  \n",
       "8123           o         p                 o          c       l  \n",
       "\n",
       "[8124 rows x 23 columns]"
      ]
     },
     "execution_count": 1,
     "metadata": {},
     "output_type": "execute_result"
    }
   ],
   "source": [
    "import pandas as pd\n",
    "df=pd.read_csv(\"https://raw.githubusercontent.com/msivalenka/Mushroom-Dataset/master/mushrooms.csv\")\n",
    "df"
   ]
  },
  {
   "cell_type": "code",
   "execution_count": 2,
   "metadata": {},
   "outputs": [
    {
     "data": {
      "text/plain": [
       "class                       0\n",
       "cap-shape                   0\n",
       "cap-surface                 0\n",
       "cap-color                   0\n",
       "bruises                     0\n",
       "odor                        0\n",
       "gill-attachment             0\n",
       "gill-spacing                0\n",
       "gill-size                   0\n",
       "gill-color                  0\n",
       "stalk-shape                 0\n",
       "stalk-root                  0\n",
       "stalk-surface-above-ring    0\n",
       "stalk-surface-below-ring    0\n",
       "stalk-color-above-ring      0\n",
       "stalk-color-below-ring      0\n",
       "veil-type                   0\n",
       "veil-color                  0\n",
       "ring-number                 0\n",
       "ring-type                   0\n",
       "spore-print-color           0\n",
       "population                  0\n",
       "habitat                     0\n",
       "dtype: int64"
      ]
     },
     "execution_count": 2,
     "metadata": {},
     "output_type": "execute_result"
    }
   ],
   "source": [
    "df.isnull().sum()"
   ]
  },
  {
   "cell_type": "code",
   "execution_count": 3,
   "metadata": {},
   "outputs": [
    {
     "data": {
      "image/png": "[encoded data removed]",
      "text/plain": [
       "<Figure size 432x288 with 1 Axes>"
      ]
     },
     "metadata": {
      "needs_background": "light"
     },
     "output_type": "display_data"
    }
   ],
   "source": [
    "#Lets chcek the count of each type of mushroom graphically\n",
    "import seaborn as sns\n",
    "import matplotlib.pyplot as plt\n",
    "sns.countplot(x=\"class\",data=df)\n",
    "plt.show()"
   ]
  },
  {
   "cell_type": "code",
   "execution_count": 4,
   "metadata": {},
   "outputs": [
    {
     "data": {
      "image/png": "[encoded data removed]",
      "text/plain": [
       "<Figure size 432x288 with 1 Axes>"
      ]
     },
     "metadata": {
      "needs_background": "light"
     },
     "output_type": "display_data"
    }
   ],
   "source": [
    "#Lets chcek whether the count basis of cap shape\n",
    "sns.countplot(x=\"cap-shape\",hue=\"class\",data=df)\n",
    "plt.show()\n",
    "# with cap-shaped as x and f both have alsmost equal count of poisonous and not edible mushrooms\n",
    "#with cap shaped as k poisonous are more"
   ]
  },
  {
   "cell_type": "code",
   "execution_count": 5,
   "metadata": {},
   "outputs": [
    {
     "data": {
      "image/png": "[encoded data removed]",
      "text/plain": [
       "<Figure size 432x288 with 1 Axes>"
      ]
     },
     "metadata": {
      "needs_background": "light"
     },
     "output_type": "display_data"
    }
   ],
   "source": [
    "#lets chcek the count on the basis of bruises\n",
    "sns.countplot(x=\"bruises\",hue=\"class\",data=df)\n",
    "plt.show()\n",
    "#Here we come to know that mushrooms without bruises are in very high number poisonous\n",
    "#we can say almost all the mushrooms without bruises are poisonous if we leave 500 instances"
   ]
  },
  {
   "cell_type": "code",
   "execution_count": 6,
   "metadata": {},
   "outputs": [
    {
     "data": {
      "image/png": "[encoded data removed]",
      "text/plain": [
       "<Figure size 432x288 with 1 Axes>"
      ]
     },
     "metadata": {
      "needs_background": "light"
     },
     "output_type": "display_data"
    }
   ],
   "source": [
    "#lets chcek the count on the basis of \"odor\"\n",
    "sns.countplot(x=\"odor\",hue=\"class\",data=df)\n",
    "plt.show()\n",
    "#Here we come to know that edible mushrooms are basically has odor almond ,anise and no smell\n",
    "#mximum number of edible mushrooms have no smell\n",
    "#maximum number of poisonous mushrooms have foul smell"
   ]
  },
  {
   "cell_type": "code",
   "execution_count": 7,
   "metadata": {},
   "outputs": [
    {
     "data": {
      "image/png": "[encoded data removed]",
      "text/plain": [
       "<Figure size 432x288 with 1 Axes>"
      ]
     },
     "metadata": {
      "needs_background": "light"
     },
     "output_type": "display_data"
    }
   ],
   "source": [
    "#Lets chcek the count on basis of gill-color\n",
    "sns.countplot(x=\"gill-color\",hue=\"class\",data=df)\n",
    "plt.show()\n",
    "#from here we can conclude all mushrooms with gill color buff are poisonous and they are very high number\n",
    "#So we should restrict ourselves before eating mushrooms havng gill color buff"
   ]
  },
  {
   "cell_type": "code",
   "execution_count": 8,
   "metadata": {},
   "outputs": [
    {
     "data": {
      "image/png": "[encoded data removed]",
      "text/plain": [
       "<Figure size 432x288 with 1 Axes>"
      ]
     },
     "metadata": {
      "needs_background": "light"
     },
     "output_type": "display_data"
    }
   ],
   "source": [
    "#Lets check the count on basis of stalk-shape\n",
    "sns.countplot(x=\"stalk-shape\",hue=\"class\",data=df)\n",
    "plt.show()"
   ]
  },
  {
   "cell_type": "code",
   "execution_count": 9,
   "metadata": {},
   "outputs": [
    {
     "data": {
      "image/png": "[encoded data removed]",
      "text/plain": [
       "<Figure size 432x288 with 1 Axes>"
      ]
     },
     "metadata": {
      "needs_background": "light"
     },
     "output_type": "display_data"
    }
   ],
   "source": [
    "#lets chcek the count on basis of veil-color\n",
    "sns.countplot(x=\"veil-color\",hue=\"class\",data=df)\n",
    "plt.show()\n",
    "#we cant conclude any thing from here as maximum of both types are from veil color white\n",
    "#we can drop this column also as it has very less variance"
   ]
  },
  {
   "cell_type": "code",
   "execution_count": 10,
   "metadata": {},
   "outputs": [],
   "source": [
    "#lets drop the column veil-color as concluded from above\n",
    "df.drop(columns=[\"veil-color\"],inplace=True)"
   ]
  },
  {
   "cell_type": "code",
   "execution_count": 11,
   "metadata": {},
   "outputs": [
    {
     "data": {
      "image/png": "[encoded data removed]",
      "text/plain": [
       "<Figure size 432x288 with 1 Axes>"
      ]
     },
     "metadata": {
      "needs_background": "light"
     },
     "output_type": "display_data"
    }
   ],
   "source": [
    "#lets chcek the count on basis of veil-type\n",
    "sns.countplot(x=\"veil-type\",hue=\"class\",data=df)\n",
    "plt.show()\n",
    "#so we can say veil type aslo does not prvide any clear distinction on its own"
   ]
  },
  {
   "cell_type": "code",
   "execution_count": 12,
   "metadata": {},
   "outputs": [
    {
     "data": {
      "image/png": "[encoded data removed]",
      "text/plain": [
       "<Figure size 432x288 with 1 Axes>"
      ]
     },
     "metadata": {
      "needs_background": "light"
     },
     "output_type": "display_data"
    }
   ],
   "source": [
    "#lets chcek the counts on the basis of population\n",
    "sns.countplot(x=\"population\",hue=\"class\",data=df)\n",
    "plt.show()"
   ]
  },
  {
   "cell_type": "code",
   "execution_count": 13,
   "metadata": {},
   "outputs": [],
   "source": [
    "#Let's now divide the dataset into input and output\n",
    "df_x=df.drop(columns=[\"class\"])\n",
    "y=df[[\"class\"]]"
   ]
  },
  {
   "cell_type": "code",
   "execution_count": 14,
   "metadata": {},
   "outputs": [],
   "source": [
    "#we will convert the input into into integers using get_dummies\n",
    "df_x=pd.get_dummies(df_x,drop_first=True)"
   ]
  },
  {
   "cell_type": "code",
   "execution_count": 15,
   "metadata": {},
   "outputs": [
    {
     "data": {
      "text/plain": [
       "(8124, 92)"
      ]
     },
     "execution_count": 15,
     "metadata": {},
     "output_type": "execute_result"
    }
   ],
   "source": [
    "#lets chcek the shape\n",
    "df_x.shape"
   ]
  },
  {
   "cell_type": "code",
   "execution_count": 16,
   "metadata": {},
   "outputs": [],
   "source": [
    "#Lets bring input dataset features to same scale\n",
    "from sklearn.preprocessing import StandardScaler\n",
    "sc=StandardScaler()\n",
    "sc.fit(df_x)\n",
    "x=sc.transform(df_x)\n",
    "x=pd.DataFrame(x,columns=df_x.columns)"
   ]
  },
  {
   "cell_type": "code",
   "execution_count": 17,
   "metadata": {},
   "outputs": [
    {
     "name": "stderr",
     "output_type": "stream",
     "text": [
      "C:\\ProgramData\\Anaconda3\\lib\\site-packages\\sklearn\\preprocessing\\_label.py:235: DataConversionWarning: A column-vector y was passed when a 1d array was expected. Please change the shape of y to (n_samples, ), for example using ravel().\n",
      "  y = column_or_1d(y, warn=True)\n",
      "C:\\ProgramData\\Anaconda3\\lib\\site-packages\\sklearn\\preprocessing\\_label.py:268: DataConversionWarning: A column-vector y was passed when a 1d array was expected. Please change the shape of y to (n_samples, ), for example using ravel().\n",
      "  y = column_or_1d(y, warn=True)\n"
     ]
    },
    {
     "data": {
      "text/plain": [
       "array([1, 0, 0, ..., 0, 1, 0])"
      ]
     },
     "execution_count": 17,
     "metadata": {},
     "output_type": "execute_result"
    }
   ],
   "source": [
    "#lets use labelencoder to convert target class into integers\n",
    "from sklearn.preprocessing import LabelEncoder\n",
    "le=LabelEncoder()\n",
    "le.fit(y)\n",
    "y=le.transform(y)\n",
    "y"
   ]
  },
  {
   "cell_type": "code",
   "execution_count": 18,
   "metadata": {},
   "outputs": [],
   "source": [
    "from sklearn.decomposition import PCA\n",
    "pca = PCA(n_components=55)\n",
    "principalComponents = pca.fit_transform(x)\n",
    "#principalDf = pd.DataFrame(data = principalComponents\n",
    "#             , columns = ['principal component 1', 'principal component 2'])"
   ]
  },
  {
   "cell_type": "code",
   "execution_count": 19,
   "metadata": {},
   "outputs": [
    {
     "data": {
      "text/plain": [
       "0.9588302167858739"
      ]
     },
     "execution_count": 19,
     "metadata": {},
     "output_type": "execute_result"
    }
   ],
   "source": [
    "#Lets chcek information retained after dimensionality reduction\n",
    "sum(pca.explained_variance_ratio_)\n",
    "#therefore we reduced the dimensions from 92 to 55"
   ]
  },
  {
   "cell_type": "code",
   "execution_count": 20,
   "metadata": {},
   "outputs": [],
   "source": [
    "#We will use f1 score as the metrics as it is balanced dataset problem\n",
    "#Maximum f1 score in between random states 42 to 100\n",
    "from sklearn.metrics import f1_score\n",
    "from sklearn.model_selection import train_test_split\n",
    "def maxf1_score(clf,df_x,y):\n",
    "    maxf=0\n",
    "    rs=0\n",
    "    for r_state in range(42,100):\n",
    "        x_train,x_test,y_train,y_test=train_test_split(df_x, y,random_state = r_state,test_size=0.20,stratify=y)\n",
    "        clf.fit(x_train,y_train)\n",
    "        y_pred=clf.predict(x_test)\n",
    "        tmp=f1_score(y_test,y_pred)\n",
    "        print(\"random state :\",r_state,\" and f1 score: \",tmp)\n",
    "        if tmp>maxf:\n",
    "            maxf=tmp\n",
    "            rs=r_state\n",
    "    print(\"maximum f1_score is at random state :\",rs,\" and it is :\",maxf)"
   ]
  },
  {
   "cell_type": "code",
   "execution_count": 21,
   "metadata": {
    "scrolled": false
   },
   "outputs": [
    {
     "name": "stdout",
     "output_type": "stream",
     "text": [
      "random state : 42  and f1 score:  0.9987212276214833\n",
      "random state : 43  and f1 score:  0.9993610223642173\n",
      "random state : 44  and f1 score:  0.9980806142034548\n",
      "random state : 45  and f1 score:  1.0\n",
      "random state : 46  and f1 score:  1.0\n",
      "random state : 47  and f1 score:  1.0\n",
      "random state : 48  and f1 score:  0.9993610223642173\n",
      "random state : 49  and f1 score:  1.0\n",
      "random state : 50  and f1 score:  0.9993610223642173\n",
      "random state : 51  and f1 score:  1.0\n",
      "random state : 52  and f1 score:  1.0\n",
      "random state : 53  and f1 score:  1.0\n",
      "random state : 54  and f1 score:  0.9987212276214833\n",
      "random state : 55  and f1 score:  0.9993610223642173\n",
      "random state : 56  and f1 score:  1.0\n",
      "random state : 57  and f1 score:  0.9993610223642173\n",
      "random state : 58  and f1 score:  1.0\n",
      "random state : 59  and f1 score:  0.9993610223642173\n",
      "random state : 60  and f1 score:  0.9993610223642173\n",
      "random state : 61  and f1 score:  0.9993610223642173\n",
      "random state : 62  and f1 score:  0.9993610223642173\n",
      "random state : 63  and f1 score:  0.9993610223642173\n",
      "random state : 64  and f1 score:  1.0\n",
      "random state : 65  and f1 score:  0.9993610223642173\n",
      "random state : 66  and f1 score:  1.0\n",
      "random state : 67  and f1 score:  0.9987212276214833\n",
      "random state : 68  and f1 score:  1.0\n",
      "random state : 69  and f1 score:  1.0\n",
      "random state : 70  and f1 score:  0.9993610223642173\n",
      "random state : 71  and f1 score:  1.0\n",
      "random state : 72  and f1 score:  0.9993610223642173\n",
      "random state : 73  and f1 score:  0.9993610223642173\n",
      "random state : 74  and f1 score:  0.9993610223642173\n",
      "random state : 75  and f1 score:  1.0\n",
      "random state : 76  and f1 score:  0.9993610223642173\n",
      "random state : 77  and f1 score:  1.0\n",
      "random state : 78  and f1 score:  1.0\n",
      "random state : 79  and f1 score:  1.0\n",
      "random state : 80  and f1 score:  1.0\n",
      "random state : 81  and f1 score:  0.9993610223642173\n",
      "random state : 82  and f1 score:  1.0\n",
      "random state : 83  and f1 score:  1.0\n",
      "random state : 84  and f1 score:  1.0\n",
      "random state : 85  and f1 score:  1.0\n",
      "random state : 86  and f1 score:  0.9993610223642173\n",
      "random state : 87  and f1 score:  1.0\n",
      "random state : 88  and f1 score:  1.0\n",
      "random state : 89  and f1 score:  0.9987212276214833\n",
      "random state : 90  and f1 score:  0.9993610223642173\n",
      "random state : 91  and f1 score:  1.0\n",
      "random state : 92  and f1 score:  0.9993610223642173\n",
      "random state : 93  and f1 score:  1.0\n",
      "random state : 94  and f1 score:  0.9993610223642173\n",
      "random state : 95  and f1 score:  0.9993610223642173\n",
      "random state : 96  and f1 score:  0.9993610223642173\n",
      "random state : 97  and f1 score:  0.9993610223642173\n",
      "random state : 98  and f1 score:  0.9993610223642173\n",
      "random state : 99  and f1 score:  0.9993610223642173\n",
      "maximum f1_score is at random state : 45  and it is : 1.0\n"
     ]
    }
   ],
   "source": [
    "#lets use logistic regression\n",
    "from sklearn.linear_model import LogisticRegression\n",
    "import warnings\n",
    "warnings.filterwarnings(\"ignore\")\n",
    "lg_clf=LogisticRegression()\n",
    "maxf1_score(lg_clf,principalComponents,y)"
   ]
  },
  {
   "cell_type": "code",
   "execution_count": 22,
   "metadata": {
    "scrolled": true
   },
   "outputs": [
    {
     "name": "stdout",
     "output_type": "stream",
     "text": [
      "Mean f1 score for logistic classifier:  0.9271308162987\n",
      "standard deviation in f1 score for logistic classifier:  0.10710263573469608\n",
      "[0.9142462  0.99936102 0.99872123 1.         0.72332564]\n"
     ]
    }
   ],
   "source": [
    "#Lets use cross_val_score and evaluate the logistic regression model\n",
    "from sklearn.model_selection import cross_val_score\n",
    "print(\"Mean f1 score for logistic classifier: \",cross_val_score(lg_clf,principalComponents,y,cv=5,scoring=\"f1\").mean())\n",
    "print(\"standard deviation in f1 score for logistic classifier: \",cross_val_score(lg_clf,principalComponents,y,cv=5,scoring=\"f1\").std())\n",
    "print(cross_val_score(lg_clf,principalComponents,y,cv=5,scoring=\"f1\"))"
   ]
  },
  {
   "cell_type": "code",
   "execution_count": 23,
   "metadata": {},
   "outputs": [
    {
     "data": {
      "text/plain": [
       "{'n_neighbors': 2}"
      ]
     },
     "execution_count": 23,
     "metadata": {},
     "output_type": "execute_result"
    }
   ],
   "source": [
    "#Lets use KNN\n",
    "#For KNN we need to know the best value of k using grid search\n",
    "from sklearn.model_selection import GridSearchCV\n",
    "from sklearn.neighbors import KNeighborsClassifier\n",
    "import warnings\n",
    "warnings.filterwarnings(\"ignore\")\n",
    "kc=KNeighborsClassifier()\n",
    "neighbors={\"n_neighbors\":range(1,30)}\n",
    "clf = GridSearchCV(kc, neighbors, cv=5,scoring=\"f1\")\n",
    "clf.fit(principalComponents,y)\n",
    "clf.best_params_"
   ]
  },
  {
   "cell_type": "code",
   "execution_count": 24,
   "metadata": {},
   "outputs": [
    {
     "name": "stdout",
     "output_type": "stream",
     "text": [
      "random state : 42  and f1 score:  0.9987212276214833\n",
      "random state : 43  and f1 score:  1.0\n",
      "random state : 44  and f1 score:  0.9987212276214833\n",
      "random state : 45  and f1 score:  1.0\n",
      "random state : 46  and f1 score:  1.0\n",
      "random state : 47  and f1 score:  1.0\n",
      "random state : 48  and f1 score:  1.0\n",
      "random state : 49  and f1 score:  1.0\n",
      "random state : 50  and f1 score:  1.0\n",
      "random state : 51  and f1 score:  1.0\n",
      "random state : 52  and f1 score:  1.0\n",
      "random state : 53  and f1 score:  1.0\n",
      "random state : 54  and f1 score:  0.9987212276214833\n",
      "random state : 55  and f1 score:  1.0\n",
      "random state : 56  and f1 score:  1.0\n",
      "random state : 57  and f1 score:  1.0\n",
      "random state : 58  and f1 score:  1.0\n",
      "random state : 59  and f1 score:  1.0\n",
      "random state : 60  and f1 score:  1.0\n",
      "random state : 61  and f1 score:  1.0\n",
      "random state : 62  and f1 score:  1.0\n",
      "random state : 63  and f1 score:  1.0\n",
      "random state : 64  and f1 score:  1.0\n",
      "random state : 65  and f1 score:  1.0\n",
      "random state : 66  and f1 score:  1.0\n",
      "random state : 67  and f1 score:  0.9987212276214833\n",
      "random state : 68  and f1 score:  1.0\n",
      "random state : 69  and f1 score:  1.0\n",
      "random state : 70  and f1 score:  1.0\n",
      "random state : 71  and f1 score:  1.0\n",
      "random state : 72  and f1 score:  1.0\n",
      "random state : 73  and f1 score:  1.0\n",
      "random state : 74  and f1 score:  1.0\n",
      "random state : 75  and f1 score:  1.0\n",
      "random state : 76  and f1 score:  1.0\n",
      "random state : 77  and f1 score:  1.0\n",
      "random state : 78  and f1 score:  1.0\n",
      "random state : 79  and f1 score:  1.0\n",
      "random state : 80  and f1 score:  1.0\n",
      "random state : 81  and f1 score:  1.0\n",
      "random state : 82  and f1 score:  1.0\n",
      "random state : 83  and f1 score:  1.0\n",
      "random state : 84  and f1 score:  1.0\n",
      "random state : 85  and f1 score:  1.0\n",
      "random state : 86  and f1 score:  1.0\n",
      "random state : 87  and f1 score:  1.0\n",
      "random state : 88  and f1 score:  1.0\n",
      "random state : 89  and f1 score:  0.9987212276214833\n",
      "random state : 90  and f1 score:  1.0\n",
      "random state : 91  and f1 score:  1.0\n",
      "random state : 92  and f1 score:  1.0\n",
      "random state : 93  and f1 score:  1.0\n",
      "random state : 94  and f1 score:  1.0\n",
      "random state : 95  and f1 score:  1.0\n",
      "random state : 96  and f1 score:  1.0\n",
      "random state : 97  and f1 score:  1.0\n",
      "random state : 98  and f1 score:  1.0\n",
      "random state : 99  and f1 score:  1.0\n",
      "maximum f1_score is at random state : 43  and it is : 1.0\n"
     ]
    }
   ],
   "source": [
    "kc=KNeighborsClassifier(n_neighbors=2)\n",
    "maxf1_score(kc,principalComponents,y)"
   ]
  },
  {
   "cell_type": "code",
   "execution_count": 25,
   "metadata": {},
   "outputs": [
    {
     "name": "stdout",
     "output_type": "stream",
     "text": [
      "Mean f1 score for knn classifier:  0.9301731179382889\n",
      "standard deviation in f1 score for knn classifier:  0.08488152199331807\n",
      "[0.81031866 1.         0.99679693 1.         0.84375   ]\n"
     ]
    }
   ],
   "source": [
    "#Lets use cross_val_score and evaluate the knn model\n",
    "from sklearn.model_selection import cross_val_score\n",
    "print(\"Mean f1 score for knn classifier: \",cross_val_score(kc,principalComponents,y,cv=5,scoring=\"f1\").mean())\n",
    "print(\"standard deviation in f1 score for knn classifier: \",cross_val_score(kc,principalComponents,y,cv=5,scoring=\"f1\").std())\n",
    "print(cross_val_score(kc,principalComponents,y,cv=5,scoring=\"f1\"))"
   ]
  },
  {
   "cell_type": "code",
   "execution_count": 26,
   "metadata": {},
   "outputs": [
    {
     "name": "stdout",
     "output_type": "stream",
     "text": [
      "random state : 42  and f1 score:  0.9974489795918366\n",
      "random state : 43  and f1 score:  0.9948849104859335\n",
      "random state : 44  and f1 score:  0.9942492012779554\n",
      "random state : 45  and f1 score:  0.9929802169751116\n",
      "random state : 46  and f1 score:  0.9942638623326959\n",
      "random state : 47  and f1 score:  0.9955499046408137\n",
      "random state : 48  and f1 score:  0.998085513720485\n",
      "random state : 49  and f1 score:  0.9987244897959183\n",
      "random state : 50  and f1 score:  0.9980830670926518\n",
      "random state : 51  and f1 score:  0.9987212276214833\n",
      "random state : 52  and f1 score:  0.9961685823754789\n",
      "random state : 53  and f1 score:  0.9974489795918366\n",
      "random state : 54  and f1 score:  0.9955271565495207\n",
      "random state : 55  and f1 score:  0.9961587708066583\n",
      "random state : 56  and f1 score:  0.9968051118210861\n",
      "random state : 57  and f1 score:  0.9968132568514977\n",
      "random state : 58  and f1 score:  0.9974489795918366\n",
      "random state : 59  and f1 score:  0.9961685823754789\n",
      "random state : 60  and f1 score:  0.9974489795918366\n",
      "random state : 61  and f1 score:  0.9948914431673053\n",
      "random state : 62  and f1 score:  0.9955099422706863\n",
      "random state : 63  and f1 score:  0.996173469387755\n",
      "random state : 64  and f1 score:  0.9980830670926518\n",
      "random state : 65  and f1 score:  0.9948849104859335\n",
      "random state : 66  and f1 score:  0.9948914431673053\n",
      "random state : 67  and f1 score:  0.9948849104859335\n",
      "random state : 68  and f1 score:  0.9955328653477983\n",
      "random state : 69  and f1 score:  0.9987228607918263\n",
      "random state : 70  and f1 score:  0.9923469387755103\n",
      "random state : 71  and f1 score:  0.9974489795918366\n",
      "random state : 72  and f1 score:  0.9948979591836734\n",
      "random state : 73  and f1 score:  0.9955271565495207\n",
      "random state : 74  and f1 score:  0.9955328653477983\n",
      "random state : 75  and f1 score:  0.9961685823754789\n",
      "random state : 76  and f1 score:  0.9987244897959183\n",
      "random state : 77  and f1 score:  0.9948979591836734\n",
      "random state : 78  and f1 score:  0.9955328653477983\n",
      "random state : 79  and f1 score:  0.9968051118210861\n",
      "random state : 80  and f1 score:  0.9968132568514977\n",
      "random state : 81  and f1 score:  0.9961636828644502\n",
      "random state : 82  and f1 score:  0.9955214331413946\n",
      "random state : 83  and f1 score:  0.9968091895341417\n",
      "random state : 84  and f1 score:  0.9968091895341417\n",
      "random state : 85  and f1 score:  0.9948783610755442\n",
      "random state : 86  and f1 score:  0.9974489795918366\n",
      "random state : 87  and f1 score:  0.9974489795918366\n",
      "random state : 88  and f1 score:  0.9936061381074169\n",
      "random state : 89  and f1 score:  0.9942492012779554\n",
      "random state : 90  and f1 score:  0.9955385595920969\n",
      "random state : 91  and f1 score:  0.9974489795918366\n",
      "random state : 92  and f1 score:  0.996173469387755\n",
      "random state : 93  and f1 score:  0.996173469387755\n",
      "random state : 94  and f1 score:  0.9942784488239034\n",
      "random state : 95  and f1 score:  0.9955271565495207\n",
      "random state : 96  and f1 score:  0.9961832061068702\n",
      "random state : 97  and f1 score:  0.9968132568514977\n",
      "random state : 98  and f1 score:  1.0\n",
      "random state : 99  and f1 score:  0.9993610223642173\n",
      "maximum f1_score is at random state : 98  and it is : 1.0\n"
     ]
    }
   ],
   "source": [
    "#lets use decision tree\n",
    "from sklearn.tree import DecisionTreeClassifier\n",
    "dc=DecisionTreeClassifier()\n",
    "maxf1_score(dc,principalComponents,y)"
   ]
  },
  {
   "cell_type": "code",
   "execution_count": 27,
   "metadata": {},
   "outputs": [
    {
     "name": "stdout",
     "output_type": "stream",
     "text": [
      "Mean f1 score for decision tree classifier:  0.9053155798372933\n",
      "standard deviation in f1 score for decision tree classifier:  0.0965558381606422\n",
      "[0.81122062 0.99618321 0.95472703 0.99617834 0.76176176]\n"
     ]
    }
   ],
   "source": [
    "#Lets use cross_val_score and evaluate the knn model\n",
    "from sklearn.model_selection import cross_val_score\n",
    "print(\"Mean f1 score for decision tree classifier: \",cross_val_score(dc,principalComponents,y,cv=5,scoring=\"f1\").mean())\n",
    "print(\"standard deviation in f1 score for decision tree classifier: \",cross_val_score(dc,principalComponents,y,cv=5,scoring=\"f1\").std())\n",
    "print(cross_val_score(dc,principalComponents,y,cv=5,scoring=\"f1\"))"
   ]
  },
  {
   "cell_type": "code",
   "execution_count": 28,
   "metadata": {},
   "outputs": [
    {
     "data": {
      "text/plain": [
       "{'n_estimators': 500}"
      ]
     },
     "execution_count": 28,
     "metadata": {},
     "output_type": "execute_result"
    }
   ],
   "source": [
    "#lets use ensemble calssifier such as random forest\n",
    "from sklearn.ensemble import RandomForestClassifier\n",
    "from sklearn.model_selection import GridSearchCV\n",
    "parameters={\"n_estimators\":[10,100,500]}\n",
    "rf_clf=RandomForestClassifier()\n",
    "clf = GridSearchCV(rf_clf, parameters, cv=5,scoring=\"f1\")\n",
    "clf.fit(principalComponents,y)\n",
    "clf.best_params_"
   ]
  },
  {
   "cell_type": "code",
   "execution_count": 30,
   "metadata": {},
   "outputs": [
    {
     "name": "stdout",
     "output_type": "stream",
     "text": [
      "random state : 42  and f1 score:  0.9987212276214833\n",
      "random state : 43  and f1 score:  1.0\n",
      "random state : 44  and f1 score:  0.9993610223642173\n",
      "random state : 45  and f1 score:  1.0\n",
      "random state : 46  and f1 score:  1.0\n",
      "random state : 47  and f1 score:  1.0\n",
      "random state : 48  and f1 score:  1.0\n",
      "random state : 49  and f1 score:  1.0\n",
      "random state : 50  and f1 score:  1.0\n",
      "random state : 51  and f1 score:  1.0\n",
      "random state : 52  and f1 score:  1.0\n",
      "random state : 53  and f1 score:  1.0\n",
      "random state : 54  and f1 score:  0.9993610223642173\n",
      "random state : 55  and f1 score:  1.0\n",
      "random state : 56  and f1 score:  1.0\n",
      "random state : 57  and f1 score:  1.0\n",
      "random state : 58  and f1 score:  1.0\n",
      "random state : 59  and f1 score:  0.9993610223642173\n",
      "random state : 60  and f1 score:  1.0\n",
      "random state : 61  and f1 score:  1.0\n",
      "random state : 62  and f1 score:  1.0\n",
      "random state : 63  and f1 score:  1.0\n",
      "random state : 64  and f1 score:  1.0\n",
      "random state : 65  and f1 score:  1.0\n",
      "random state : 66  and f1 score:  1.0\n",
      "random state : 67  and f1 score:  0.9987212276214833\n",
      "random state : 68  and f1 score:  1.0\n",
      "random state : 69  and f1 score:  1.0\n",
      "random state : 70  and f1 score:  1.0\n",
      "random state : 71  and f1 score:  1.0\n",
      "random state : 72  and f1 score:  1.0\n",
      "random state : 73  and f1 score:  1.0\n",
      "random state : 74  and f1 score:  1.0\n",
      "random state : 75  and f1 score:  1.0\n",
      "random state : 76  and f1 score:  1.0\n",
      "random state : 77  and f1 score:  1.0\n",
      "random state : 78  and f1 score:  1.0\n",
      "random state : 79  and f1 score:  1.0\n",
      "random state : 80  and f1 score:  1.0\n",
      "random state : 81  and f1 score:  0.9993610223642173\n",
      "random state : 82  and f1 score:  1.0\n",
      "random state : 83  and f1 score:  1.0\n",
      "random state : 84  and f1 score:  1.0\n",
      "random state : 85  and f1 score:  1.0\n",
      "random state : 86  and f1 score:  1.0\n",
      "random state : 87  and f1 score:  1.0\n",
      "random state : 88  and f1 score:  1.0\n",
      "random state : 89  and f1 score:  0.9993610223642173\n",
      "random state : 90  and f1 score:  1.0\n",
      "random state : 91  and f1 score:  1.0\n",
      "random state : 92  and f1 score:  1.0\n",
      "random state : 93  and f1 score:  1.0\n",
      "random state : 94  and f1 score:  1.0\n",
      "random state : 95  and f1 score:  1.0\n",
      "random state : 96  and f1 score:  1.0\n",
      "random state : 97  and f1 score:  1.0\n",
      "random state : 98  and f1 score:  1.0\n",
      "random state : 99  and f1 score:  1.0\n",
      "maximum f1_score is at random state : 43  and it is : 1.0\n"
     ]
    }
   ],
   "source": [
    "rf_clf=RandomForestClassifier(n_estimators=500)\n",
    "maxf1_score(rf_clf,principalComponents,y)"
   ]
  },
  {
   "cell_type": "code",
   "execution_count": 31,
   "metadata": {},
   "outputs": [
    {
     "name": "stdout",
     "output_type": "stream",
     "text": [
      "Mean f1 score for random forest classifier:  0.9062716412363472\n",
      "standard deviation in f1 score for random forest classifier:  0.11158985735437021\n",
      "[0.79938744 1.         0.99292605 1.         0.75216138]\n"
     ]
    }
   ],
   "source": [
    "#lets again use cross val score\n",
    "print(\"Mean f1 score for random forest classifier: \",cross_val_score(rf_clf,principalComponents,y,cv=5,scoring=\"f1\").mean())\n",
    "print(\"standard deviation in f1 score for random forest classifier: \",cross_val_score(rf_clf,principalComponents,y,cv=5,scoring=\"f1\").std())\n",
    "print(cross_val_score(rf_clf,principalComponents,y,cv=5,scoring=\"f1\"))"
   ]
  },
  {
   "cell_type": "code",
   "execution_count": 32,
   "metadata": {},
   "outputs": [
    {
     "name": "stdout",
     "output_type": "stream",
     "text": [
      "random state : 42  and f1 score:  0.8093750000000001\n",
      "random state : 43  and f1 score:  0.8062015503875969\n",
      "random state : 44  and f1 score:  0.8135770234986945\n",
      "random state : 45  and f1 score:  0.8064182194616978\n",
      "random state : 46  and f1 score:  0.8068006182380216\n",
      "random state : 47  and f1 score:  0.7892875189489642\n",
      "random state : 48  and f1 score:  0.7942973523421589\n",
      "random state : 49  and f1 score:  0.799182422074604\n",
      "random state : 50  and f1 score:  0.8051546391752578\n",
      "random state : 51  and f1 score:  0.8116242864556305\n",
      "random state : 52  and f1 score:  0.7967229902713774\n",
      "random state : 53  and f1 score:  0.8143899895724713\n",
      "random state : 54  and f1 score:  0.7890466531440163\n",
      "random state : 55  and f1 score:  0.8084886128364388\n",
      "random state : 56  and f1 score:  0.8141592920353982\n",
      "random state : 57  and f1 score:  0.8028895768833849\n",
      "random state : 58  and f1 score:  0.8037190082644629\n",
      "random state : 59  and f1 score:  0.7989769820971866\n",
      "random state : 60  and f1 score:  0.7985648385443364\n",
      "random state : 61  and f1 score:  0.809573361082206\n",
      "random state : 62  and f1 score:  0.8091050181065701\n",
      "random state : 63  and f1 score:  0.8008234688625836\n",
      "random state : 64  and f1 score:  0.8039114770972723\n",
      "random state : 65  and f1 score:  0.8006150691952845\n",
      "random state : 66  and f1 score:  0.8035069623517278\n",
      "random state : 67  and f1 score:  0.8183254344391786\n",
      "random state : 68  and f1 score:  0.7983665135273098\n",
      "random state : 69  and f1 score:  0.8086866597724922\n",
      "random state : 70  and f1 score:  0.8103626943005181\n",
      "random state : 71  and f1 score:  0.8074341765616934\n",
      "random state : 72  and f1 score:  0.8039114770972723\n",
      "random state : 73  and f1 score:  0.809548521017125\n",
      "random state : 74  and f1 score:  0.8022598870056497\n",
      "random state : 75  and f1 score:  0.8051413881748072\n",
      "random state : 76  and f1 score:  0.8035069623517278\n",
      "random state : 77  and f1 score:  0.8256491785903549\n",
      "random state : 78  and f1 score:  0.8039215686274509\n",
      "random state : 79  and f1 score:  0.8051546391752578\n",
      "random state : 80  and f1 score:  0.816326530612245\n",
      "random state : 81  and f1 score:  0.7997951868919612\n",
      "random state : 82  and f1 score:  0.8115789473684211\n",
      "random state : 83  and f1 score:  0.8093023255813954\n",
      "random state : 84  and f1 score:  0.8165618448637316\n",
      "random state : 85  and f1 score:  0.8110072689511942\n",
      "random state : 86  and f1 score:  0.8093750000000001\n",
      "random state : 87  and f1 score:  0.8010256410256411\n",
      "random state : 88  and f1 score:  0.8182294394971189\n",
      "random state : 89  and f1 score:  0.812006319115324\n",
      "random state : 90  and f1 score:  0.7941026944585664\n",
      "random state : 91  and f1 score:  0.8041131105398457\n",
      "random state : 92  and f1 score:  0.8064016520392359\n",
      "random state : 93  and f1 score:  0.8162839248434239\n",
      "random state : 94  and f1 score:  0.8238396624472574\n",
      "random state : 95  and f1 score:  0.795315682281059\n",
      "random state : 96  and f1 score:  0.7983581323755773\n",
      "random state : 97  and f1 score:  0.7934727180010199\n",
      "random state : 98  and f1 score:  0.7953037263910158\n",
      "random state : 99  and f1 score:  0.8188976377952756\n",
      "maximum f1_score is at random state : 77  and it is : 0.8256491785903549\n"
     ]
    }
   ],
   "source": [
    "# Lets check naive bayes\n",
    "from sklearn.naive_bayes import GaussianNB\n",
    "gnb=GaussianNB()\n",
    "maxf1_score(gnb,principalComponents,y)"
   ]
  },
  {
   "cell_type": "code",
   "execution_count": 33,
   "metadata": {},
   "outputs": [
    {
     "name": "stdout",
     "output_type": "stream",
     "text": [
      "Mean f1 score for GaussianNB:  0.9048118444629653\n",
      "standard deviation in f1 score for GaussianNB:  0.10959832043143035\n",
      "[0.79938744 1.         0.99550994 1.         0.73902784]\n"
     ]
    }
   ],
   "source": [
    "#lets again use cross val score\n",
    "print(\"Mean f1 score for GaussianNB: \",cross_val_score(rf_clf,principalComponents,y,cv=5,scoring=\"f1\").mean())\n",
    "print(\"standard deviation in f1 score for GaussianNB: \",cross_val_score(rf_clf,principalComponents,y,cv=5,scoring=\"f1\").std())\n",
    "print(cross_val_score(rf_clf,principalComponents,y,cv=5,scoring=\"f1\"))"
   ]
  },
  {
   "cell_type": "code",
   "execution_count": 34,
   "metadata": {},
   "outputs": [
    {
     "data": {
      "text/plain": [
       "{'C': 1, 'kernel': 'poly'}"
      ]
     },
     "execution_count": 34,
     "metadata": {},
     "output_type": "execute_result"
    }
   ],
   "source": [
    "#Lets use SVM\n",
    "from sklearn.svm import SVC\n",
    "svc=SVC()\n",
    "parameters={\"kernel\":[\"linear\", \"poly\", \"rbf\"],\"C\":[0.001,0.01,0.1,1,10]}\n",
    "clf = GridSearchCV(svc, parameters, cv=5,scoring=\"f1\")\n",
    "clf.fit(principalComponents,y)\n",
    "clf.best_params_"
   ]
  },
  {
   "cell_type": "code",
   "execution_count": 35,
   "metadata": {},
   "outputs": [
    {
     "name": "stdout",
     "output_type": "stream",
     "text": [
      "random state : 42  and f1 score:  0.9987212276214833\n",
      "random state : 43  and f1 score:  0.9993610223642173\n",
      "random state : 44  and f1 score:  0.9980806142034548\n",
      "random state : 45  and f1 score:  1.0\n",
      "random state : 46  and f1 score:  1.0\n",
      "random state : 47  and f1 score:  1.0\n",
      "random state : 48  and f1 score:  0.9993610223642173\n",
      "random state : 49  and f1 score:  1.0\n",
      "random state : 50  and f1 score:  0.9993610223642173\n",
      "random state : 51  and f1 score:  1.0\n",
      "random state : 52  and f1 score:  1.0\n",
      "random state : 53  and f1 score:  1.0\n",
      "random state : 54  and f1 score:  0.9987212276214833\n",
      "random state : 55  and f1 score:  0.9993610223642173\n",
      "random state : 56  and f1 score:  1.0\n",
      "random state : 57  and f1 score:  0.9993610223642173\n",
      "random state : 58  and f1 score:  0.9993610223642173\n",
      "random state : 59  and f1 score:  0.9993610223642173\n",
      "random state : 60  and f1 score:  0.9993610223642173\n",
      "random state : 61  and f1 score:  0.9993610223642173\n",
      "random state : 62  and f1 score:  0.9987212276214833\n",
      "random state : 63  and f1 score:  0.9993610223642173\n",
      "random state : 64  and f1 score:  1.0\n",
      "random state : 65  and f1 score:  0.9987212276214833\n",
      "random state : 66  and f1 score:  0.9993610223642173\n",
      "random state : 67  and f1 score:  0.9987212276214833\n",
      "random state : 68  and f1 score:  1.0\n",
      "random state : 69  and f1 score:  1.0\n",
      "random state : 70  and f1 score:  0.9987212276214833\n",
      "random state : 71  and f1 score:  1.0\n",
      "random state : 72  and f1 score:  0.9987212276214833\n",
      "random state : 73  and f1 score:  0.9993610223642173\n",
      "random state : 74  and f1 score:  0.9993610223642173\n",
      "random state : 75  and f1 score:  1.0\n",
      "random state : 76  and f1 score:  0.9993610223642173\n",
      "random state : 77  and f1 score:  1.0\n",
      "random state : 78  and f1 score:  1.0\n",
      "random state : 79  and f1 score:  1.0\n",
      "random state : 80  and f1 score:  1.0\n",
      "random state : 81  and f1 score:  0.9993610223642173\n",
      "random state : 82  and f1 score:  1.0\n",
      "random state : 83  and f1 score:  0.9993610223642173\n",
      "random state : 84  and f1 score:  1.0\n",
      "random state : 85  and f1 score:  0.9993610223642173\n",
      "random state : 86  and f1 score:  0.9993610223642173\n",
      "random state : 87  and f1 score:  0.9993610223642173\n",
      "random state : 88  and f1 score:  1.0\n",
      "random state : 89  and f1 score:  0.9987212276214833\n",
      "random state : 90  and f1 score:  0.9993610223642173\n",
      "random state : 91  and f1 score:  1.0\n",
      "random state : 92  and f1 score:  0.9987212276214833\n",
      "random state : 93  and f1 score:  1.0\n",
      "random state : 94  and f1 score:  0.9993610223642173\n",
      "random state : 95  and f1 score:  0.9993610223642173\n",
      "random state : 96  and f1 score:  0.9993610223642173\n",
      "random state : 97  and f1 score:  0.9987212276214833\n",
      "random state : 98  and f1 score:  0.9993610223642173\n",
      "random state : 99  and f1 score:  0.9993610223642173\n",
      "maximum f1_score is at random state : 45  and it is : 1.0\n"
     ]
    }
   ],
   "source": [
    "svc=SVC(kernel=\"poly\",C=1)\n",
    "maxf1_score(svc,principalComponents,y)"
   ]
  },
  {
   "cell_type": "code",
   "execution_count": 36,
   "metadata": {},
   "outputs": [
    {
     "name": "stdout",
     "output_type": "stream",
     "text": [
      "Mean f1 score for SVM classifier:  0.9398464138260996\n",
      "standard deviation in f1 score for SVM classifier:  0.07759449877279885\n",
      "[0.80487805 0.99936102 0.99550994 1.         0.89948306]\n"
     ]
    }
   ],
   "source": [
    "#lets again use cross val score\n",
    "print(\"Mean f1 score for SVM classifier: \",cross_val_score(svc,principalComponents,y,cv=5,scoring=\"f1\").mean())\n",
    "print(\"standard deviation in f1 score for SVM classifier: \",cross_val_score(svc,principalComponents,y,cv=5,scoring=\"f1\").std())\n",
    "print(cross_val_score(svc,principalComponents,y,cv=5,scoring=\"f1\"))"
   ]
  },
  {
   "cell_type": "code",
   "execution_count": 37,
   "metadata": {},
   "outputs": [],
   "source": [
    "#comparitively SVM is performing better so lets use svm\n",
    "#random state 45\n",
    "svc=SVC(kernel=\"poly\",C=1)\n",
    "x_train,x_test,y_train,y_test=train_test_split(principalComponents, y,random_state = 45,test_size=0.20,stratify=y)\n",
    "svc.fit(x_train,y_train)\n",
    "y_pred=svc.predict(x_test)"
   ]
  },
  {
   "cell_type": "code",
   "execution_count": 38,
   "metadata": {
    "scrolled": true
   },
   "outputs": [
    {
     "name": "stdout",
     "output_type": "stream",
     "text": [
      "Confusion matrix \n",
      " [[842   0]\n",
      " [  0 783]]\n",
      "f1 score is :  1.0\n",
      "classification report \n",
      "               precision    recall  f1-score   support\n",
      "\n",
      "           0       1.00      1.00      1.00       842\n",
      "           1       1.00      1.00      1.00       783\n",
      "\n",
      "    accuracy                           1.00      1625\n",
      "   macro avg       1.00      1.00      1.00      1625\n",
      "weighted avg       1.00      1.00      1.00      1625\n",
      "\n",
      "AUC ROC Score:  1.0\n"
     ]
    }
   ],
   "source": [
    "from sklearn.metrics import confusion_matrix\n",
    "from sklearn.metrics import classification_report\n",
    "from sklearn.metrics import f1_score\n",
    "from sklearn.metrics import roc_auc_score\n",
    "print(\"Confusion matrix \\n\",confusion_matrix(y_test,y_pred))\n",
    "print(\"f1 score is : \",f1_score(y_test,y_pred))\n",
    "print(\"classification report \\n\",classification_report(y_test,y_pred))\n",
    "print(\"AUC ROC Score: \",roc_auc_score(y_test,y_pred))"
   ]
  }
 ],
 "metadata": {
  "kernelspec": {
   "display_name": "Python 3",
   "language": "python",
   "name": "python3"
  },
  "language_info": {
   "codemirror_mode": {
    "name": "ipython",
    "version": 3
   },
   "file_extension": ".py",
   "mimetype": "text/x-python",
   "name": "python",
   "nbconvert_exporter": "python",
   "pygments_lexer": "ipython3",
   "version": "3.7.6"
  }
 },
 "nbformat": 4,
 "nbformat_minor": 4
}
