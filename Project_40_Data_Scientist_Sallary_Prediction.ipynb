{
  "nbformat": 4,
  "nbformat_minor": 0,
  "metadata": {
    "colab": {
      "name": "Project_40_Data_Scientist_Sallary_Prediction.ipynb",
      "provenance": [],
      "collapsed_sections": [],
      "include_colab_link": true
    },
    "kernelspec": {
      "display_name": "Python 3",
      "language": "python",
      "name": "python3"
    },
    "language_info": {
      "codemirror_mode": {
        "name": "ipython",
        "version": 3
      },
      "file_extension": ".py",
      "mimetype": "text/x-python",
      "name": "python",
      "nbconvert_exporter": "python",
      "pygments_lexer": "ipython3",
      "version": "3.8.5"
    }
  },
  "cells": [
    {
      "cell_type": "markdown",
      "metadata": {
        "id": "view-in-github",
        "colab_type": "text"
      },
      "source": [
        "<a href=\"https://colab.research.google.com/github/ind-kum/M.L.-EVELUTION-PROJECTS/blob/master/Project_40_Data_Scientist_Sallary_Prediction.ipynb\" target=\"_parent\"><img src=\"https://colab.research.google.com/assets/colab-badge.svg\" alt=\"Open In Colab\"/></a>"
      ]
    },
    {
      "cell_type": "code",
      "metadata": {
        "colab": {
          "base_uri": "https://localhost:8080/"
        },
        "id": "2Z0gnLqX6Ehe",
        "outputId": "b311b5f0-c0cf-4f95-d1fa-a4ee3c8c7be9"
      },
      "source": [
        "from google.colab import drive\n",
        "drive.mount('/content/drive')"
      ],
      "execution_count": null,
      "outputs": [
        {
          "output_type": "stream",
          "text": [
            "Go to this URL in a browser: https://accounts.google.com/o/oauth2/auth?client_id=947318989803-6bn6qk8qdgf4n4g3pfee6491hc0brc4i.apps.googleusercontent.com&redirect_uri=urn%3aietf%3awg%3aoauth%3a2.0%3aoob&scope=email%20https%3a%2f%2fwww.googleapis.com%2fauth%2fdocs.test%20https%3a%2f%2fwww.googleapis.com%2fauth%2fdrive%20https%3a%2f%2fwww.googleapis.com%2fauth%2fdrive.photos.readonly%20https%3a%2f%2fwww.googleapis.com%2fauth%2fpeopleapi.readonly%20https%3a%2f%2fwww.googleapis.com%2fauth%2fdrive.activity.readonly%20https%3a%2f%2fwww.googleapis.com%2fauth%2fexperimentsandconfigs%20https%3a%2f%2fwww.googleapis.com%2fauth%2fphotos.native&response_type=code\n",
            "\n",
            "Enter your authorization code:\n",
            "4/1AY0e-g6JuJLqByHwPHGz_VYRpoZdT8ItSq0iRotTkJG_ayqcVjmePhIzUN4\n",
            "Mounted at /content/drive\n"
          ],
          "name": "stdout"
        }
      ]
    },
    {
      "cell_type": "code",
      "metadata": {
        "colab": {
          "base_uri": "https://localhost:8080/",
          "height": 340
        },
        "id": "U23GJc3t1j83",
        "outputId": "1af7e4d9-109a-4845-8e0c-1965b6fe4f71"
      },
      "source": [
        "import pandas as pd\n",
        "import numpy as np\n",
        "train=pd.read_csv(\"/content/drive/MyDrive/DATASETS/Data_Scientist_Sallary_Dataset/Train_Dataset.csv\")\n",
        "test=pd.read_csv(\"/content/drive/MyDrive/DATASETS/Data_Scientist_Sallary_Dataset/Test_Dataset.csv\")\n",
        "train.head()"
      ],
      "execution_count": null,
      "outputs": [
        {
          "output_type": "execute_result",
          "data": {
            "text/html": [
              "<div>\n",
              "<style scoped>\n",
              "    .dataframe tbody tr th:only-of-type {\n",
              "        vertical-align: middle;\n",
              "    }\n",
              "\n",
              "    .dataframe tbody tr th {\n",
              "        vertical-align: top;\n",
              "    }\n",
              "\n",
              "    .dataframe thead th {\n",
              "        text-align: right;\n",
              "    }\n",
              "</style>\n",
              "<table border=\"1\" class=\"dataframe\">\n",
              "  <thead>\n",
              "    <tr style=\"text-align: right;\">\n",
              "      <th></th>\n",
              "      <th>Unnamed: 0</th>\n",
              "      <th>experience</th>\n",
              "      <th>job_description</th>\n",
              "      <th>job_desig</th>\n",
              "      <th>job_type</th>\n",
              "      <th>key_skills</th>\n",
              "      <th>location</th>\n",
              "      <th>salary</th>\n",
              "      <th>company_name_encoded</th>\n",
              "    </tr>\n",
              "  </thead>\n",
              "  <tbody>\n",
              "    <tr>\n",
              "      <th>0</th>\n",
              "      <td>0</td>\n",
              "      <td>5-7 yrs</td>\n",
              "      <td>Exp: Minimum 5 years;Good understanding of IOC...</td>\n",
              "      <td>Senior Exploit and Vulnerability Researcher</td>\n",
              "      <td>NaN</td>\n",
              "      <td>team skills, communication skills, analytical ...</td>\n",
              "      <td>Delhi NCR(Vikas Puri)</td>\n",
              "      <td>6to10</td>\n",
              "      <td>3687</td>\n",
              "    </tr>\n",
              "    <tr>\n",
              "      <th>1</th>\n",
              "      <td>1</td>\n",
              "      <td>10-17 yrs</td>\n",
              "      <td>He should have handled a team of atleast 5-6 d...</td>\n",
              "      <td>Head SCM</td>\n",
              "      <td>NaN</td>\n",
              "      <td>ppc, logistics, inventory management, supply c...</td>\n",
              "      <td>Sonepat</td>\n",
              "      <td>10to15</td>\n",
              "      <td>458</td>\n",
              "    </tr>\n",
              "    <tr>\n",
              "      <th>2</th>\n",
              "      <td>2</td>\n",
              "      <td>5-9 yrs</td>\n",
              "      <td>Must be an effective communicator (written &amp; s...</td>\n",
              "      <td>Deputy Manager - Talent Management &amp; Leadershi...</td>\n",
              "      <td>Analytics</td>\n",
              "      <td>HR Analytics, Employee Engagement, Training, S...</td>\n",
              "      <td>Delhi NCR</td>\n",
              "      <td>15to25</td>\n",
              "      <td>4195</td>\n",
              "    </tr>\n",
              "    <tr>\n",
              "      <th>3</th>\n",
              "      <td>3</td>\n",
              "      <td>7-10 yrs</td>\n",
              "      <td>7  -  10 years of overall experience in data e...</td>\n",
              "      <td>Associate Manager Data Engineering</td>\n",
              "      <td>Analytics</td>\n",
              "      <td>SQL, Javascript, Automation, Python, Ruby, Ana...</td>\n",
              "      <td>Bengaluru</td>\n",
              "      <td>10to15</td>\n",
              "      <td>313</td>\n",
              "    </tr>\n",
              "    <tr>\n",
              "      <th>4</th>\n",
              "      <td>4</td>\n",
              "      <td>1-3 yrs</td>\n",
              "      <td>Chartered Accountancy degree or MBA in Finance...</td>\n",
              "      <td>TS- GSA- Senior Analyst</td>\n",
              "      <td>NaN</td>\n",
              "      <td>accounting, finance, cash flow, financial plan...</td>\n",
              "      <td>Gurgaon</td>\n",
              "      <td>3to6</td>\n",
              "      <td>1305</td>\n",
              "    </tr>\n",
              "  </tbody>\n",
              "</table>\n",
              "</div>"
            ],
            "text/plain": [
              "   Unnamed: 0 experience  ...  salary company_name_encoded\n",
              "0           0    5-7 yrs  ...   6to10                 3687\n",
              "1           1  10-17 yrs  ...  10to15                  458\n",
              "2           2    5-9 yrs  ...  15to25                 4195\n",
              "3           3   7-10 yrs  ...  10to15                  313\n",
              "4           4    1-3 yrs  ...    3to6                 1305\n",
              "\n",
              "[5 rows x 9 columns]"
            ]
          },
          "metadata": {
            "tags": []
          },
          "execution_count": 2
        }
      ]
    },
    {
      "cell_type": "code",
      "metadata": {
        "colab": {
          "base_uri": "https://localhost:8080/"
        },
        "id": "aCcHZ1nj9paZ",
        "outputId": "bb095204-2d00-4cb6-f112-2fedc1f74120"
      },
      "source": [
        "#lets chcek the null values\n",
        "train.isnull().sum()"
      ],
      "execution_count": null,
      "outputs": [
        {
          "output_type": "execute_result",
          "data": {
            "text/plain": [
              "Unnamed: 0                  0\n",
              "experience                  0\n",
              "job_description          4418\n",
              "job_desig                   0\n",
              "job_type                15005\n",
              "key_skills                  1\n",
              "location                    0\n",
              "salary                      0\n",
              "company_name_encoded        0\n",
              "dtype: int64"
            ]
          },
          "metadata": {
            "tags": []
          },
          "execution_count": 3
        }
      ]
    },
    {
      "cell_type": "code",
      "metadata": {
        "colab": {
          "base_uri": "https://localhost:8080/"
        },
        "id": "WqLC1fif9zxt",
        "outputId": "1222ae7c-9e83-4c5b-dd0a-3363d81b13b0"
      },
      "source": [
        "#Lets chcek the value counts of object type columns\n",
        "for col in train.columns:\n",
        "    if train[col].dtype==\"object\":\n",
        "        print(train[col].value_counts())\n",
        "        print()"
      ],
      "execution_count": null,
      "outputs": [
        {
          "output_type": "stream",
          "text": [
            "5-10 yrs     1274\n",
            "2-5 yrs      1188\n",
            "3-8 yrs       922\n",
            "2-7 yrs       832\n",
            "4-9 yrs       678\n",
            "             ... \n",
            "14-19 yrs       1\n",
            "12-13 yrs       1\n",
            "17-25 yrs       1\n",
            "17-24 yrs       1\n",
            "11-12 yrs       1\n",
            "Name: experience, Length: 129, dtype: int64\n",
            "\n",
            "Accenture Technology powers our clients businesses with innovative technologies established and emerging ...    144\n",
            "- Experience in Credit card/ banking domain with knowledge across customer lifecycle is must;- Candidate ...     46\n",
            "- Experience in defining and executing professional software engineering best practices for the full ...         33\n",
            "- Team management / mentor ship experience is must; Should be good at resolving conflicts;- Experience ...       32\n",
            "- An advanced degree in Math, Computer Science, Statistics, Physics, or a related field (high GPAs ...           29\n",
            "                                                                                                               ... \n",
            "-Relevant professional experience in state-of-the-art Natural Language Processing and Deep Learning with ...      1\n",
            "- 4 to 7 years of banking experience;Require professionals with Banking analytics experience (4-7 years ...       1\n",
            "- Looking for individuals with experience in reviewing and validating complex credit risk models ...              1\n",
            "A proven track record of QA/Testing in a technology-led company preferably working on web-based systems ...       1\n",
            "Head finance functions that involves determining financial objectives, designing ...                              1\n",
            "Name: job_description, Length: 9059, dtype: int64\n",
            "\n",
            "Business Analyst                                                        148\n",
            "Data Scientist                                                           84\n",
            "Data Analyst                                                             67\n",
            "Product Manager                                                          60\n",
            "Home Base Job/ Data Entry/online Work/part Time Work/freelancer work     58\n",
            "                                                                       ... \n",
            "Accounts Manager ( MIS )                                                  1\n",
            "Sales Executive -delhi                                                    1\n",
            "Medical Scribe- Fresher/ Exp- US Semi Voice- US Shift- KPO- CHN           1\n",
            "Urgent Hiring for Opex Manager in an Mnc-mumbai Location                  1\n",
            "Contact Center L3 with Synophic Systems Bangalore.                        1\n",
            "Name: job_desig, Length: 11708, dtype: int64\n",
            "\n",
            "Analytics    3747\n",
            "analytics     921\n",
            "ANALYTICS      77\n",
            "analytic       32\n",
            "Analytic       20\n",
            "Name: job_type, dtype: int64\n",
            "\n",
            "part time, freelancing, data entry, present job, work from home...                84\n",
            "SAS, Sdtm, Adam, Statistical Programming, Statistics, Life Sciences...            21\n",
            "Fraud Analytics, People Management Skills, Team Leading, Problem Solving...       18\n",
            "business analysis, System Analyst, Business Analyst...                            17\n",
            "Communication Skills, Analytical, Problem Solving, itil solving...                16\n",
            "                                                                                  ..\n",
            "change management, HPSM, Incident and change management, software testing...       1\n",
            "Predictive Maintenance, Preventive, Cotton, Maintenance Management...              1\n",
            "SAS, Telecom, Outsourcing, Python, Campaign management, Econometrics...            1\n",
            "Business Analysis, Business Solutions, Business Process, Strategy, Research...     1\n",
            "physical security, security training, security management, security audit...       1\n",
            "Name: key_skills, Length: 12951, dtype: int64\n",
            "\n",
            "Bengaluru                     4168\n",
            "Mumbai                        2508\n",
            "Gurgaon                       1644\n",
            "Pune                          1193\n",
            "Hyderabad                     1083\n",
            "                              ... \n",
            "Chennai, Cuddalore, Trichy       1\n",
            "Bengaluru(Richmond Town)         1\n",
            "Dubai/ UAE, abu dhabi            1\n",
            "Ahmedabad(Santej)                1\n",
            "Raigarh                          1\n",
            "Name: location, Length: 1504, dtype: int64\n",
            "\n",
            "10to15    4500\n",
            "15to25    4125\n",
            "6to10     3533\n",
            "0to3      3245\n",
            "3to6      2824\n",
            "25to50    1575\n",
            "Name: salary, dtype: int64\n",
            "\n"
          ],
          "name": "stdout"
        }
      ]
    },
    {
      "cell_type": "code",
      "metadata": {
        "colab": {
          "base_uri": "https://localhost:8080/"
        },
        "id": "Mgx6WXIG-B6u",
        "outputId": "edb070d0-1f4f-4113-f177-9da75e7e2af0"
      },
      "source": [
        "train.company_name_encoded.nunique()\n",
        "train.shape"
      ],
      "execution_count": null,
      "outputs": [
        {
          "output_type": "execute_result",
          "data": {
            "text/plain": [
              "(19802, 9)"
            ]
          },
          "metadata": {
            "tags": []
          },
          "execution_count": 5
        }
      ]
    },
    {
      "cell_type": "code",
      "metadata": {
        "colab": {
          "base_uri": "https://localhost:8080/"
        },
        "id": "b5De3nb6-B-O",
        "outputId": "fa3aae4c-7a29-4b58-83a0-5a499867e7c1"
      },
      "source": [
        "# train.experience.apply(lambda x:x.split(\"-\"))\n",
        "train.job_type.value_counts()"
      ],
      "execution_count": null,
      "outputs": [
        {
          "output_type": "execute_result",
          "data": {
            "text/plain": [
              "Analytics    3747\n",
              "analytics     921\n",
              "ANALYTICS      77\n",
              "analytic       32\n",
              "Analytic       20\n",
              "Name: job_type, dtype: int64"
            ]
          },
          "metadata": {
            "tags": []
          },
          "execution_count": 6
        }
      ]
    },
    {
      "cell_type": "code",
      "metadata": {
        "id": "lOwsMBzUSExN"
      },
      "source": [
        "df=train.copy()\n",
        "\n",
        "df.job_description.fillna('None',inplace=True)\n",
        "df.key_skills.fillna('None',inplace=True)\n",
        "def exp1(val):\n",
        "    v=val.split(\" \")[0].split(\"-\")\n",
        "    v1,v2=int(v[0]),int(v[1])\n",
        "    return (v1+v2)/2\n",
        "df['exp']=df.experience.apply(exp1)\n",
        "df['key_skill_len']=df.key_skills.apply(lambda x:len(x.split(\",\")))\n",
        "\n",
        "\n",
        "df['exp_low']=df.experience.apply(lambda x:int(x.split(\"-\")[0]))\n",
        "df['exp_high']=df.experience.apply(lambda x:int(x.split(\"-\")[1].split(\" \")[0]))\n",
        "\n",
        "\n",
        "df['jdescLen']=df.job_description.apply(len)\n",
        "df['jdsgnLen']=df.job_desig.apply(len)\n",
        "df['locationLen']=df.location.apply(lambda x:len(x.split(\",\")))\n",
        "\n",
        "df.drop(['job_type','Unnamed: 0','experience'],axis=1,inplace=True)\n",
        "target=df.salary\n",
        "# target=pd.get_dummies(train.salary)"
      ],
      "execution_count": null,
      "outputs": []
    },
    {
      "cell_type": "code",
      "metadata": {
        "colab": {
          "base_uri": "https://localhost:8080/"
        },
        "id": "DOg0WnyVWu2j",
        "outputId": "3ce332d8-7f54-4bf6-b171-4c73542e05f0"
      },
      "source": [
        "df.isnull().sum()\n",
        "# df.columns"
      ],
      "execution_count": null,
      "outputs": [
        {
          "output_type": "execute_result",
          "data": {
            "text/plain": [
              "job_description         0\n",
              "job_desig               0\n",
              "key_skills              0\n",
              "location                0\n",
              "salary                  0\n",
              "company_name_encoded    0\n",
              "exp                     0\n",
              "key_skill_len           0\n",
              "exp_low                 0\n",
              "exp_high                0\n",
              "jdescLen                0\n",
              "jdsgnLen                0\n",
              "locationLen             0\n",
              "dtype: int64"
            ]
          },
          "metadata": {
            "tags": []
          },
          "execution_count": 8
        }
      ]
    },
    {
      "cell_type": "code",
      "metadata": {
        "id": "wFnzR4-JXTLh"
      },
      "source": [
        "from sklearn.feature_extraction.text import CountVectorizer,TfidfVectorizer\n",
        "cv_jb = TfidfVectorizer(ngram_range=(1,3),stop_words=\"english\", analyzer='word')\n",
        "jb =cv_jb.fit_transform(df['job_description'])\n",
        "\n",
        "cv_jd = TfidfVectorizer(ngram_range=(1,2),stop_words=\"english\", analyzer='word')\n",
        "jd =cv_jd.fit_transform(df['job_desig'])\n",
        "\n",
        "cv_key = TfidfVectorizer(ngram_range=(1,3),stop_words=\"english\", analyzer='word')\n",
        "ks =cv_key.fit_transform(df['key_skills'])\n",
        "\n",
        "cv_jbchar = TfidfVectorizer(ngram_range=(1,9),stop_words=\"english\", analyzer='char')\n",
        "jbchar =cv_jbchar.fit_transform(df['job_description'])\n",
        "\n",
        "cv_jdchar = TfidfVectorizer(ngram_range=(1,8),stop_words=\"english\", analyzer='char')\n",
        "jdchar =cv_jdchar.fit_transform(df['job_desig'])\n",
        "\n",
        "cv_keychar = TfidfVectorizer(ngram_range=(1,9),stop_words=\"english\", analyzer='char')\n",
        "kschar =cv_keychar.fit_transform(df['key_skills'])"
      ],
      "execution_count": null,
      "outputs": []
    },
    {
      "cell_type": "code",
      "metadata": {
        "colab": {
          "base_uri": "https://localhost:8080/"
        },
        "id": "wDixORU7XbR-",
        "outputId": "2fa97f76-6fc0-4290-f56e-bb55dab7858c"
      },
      "source": [
        "# loc=np.array(df['location'].values)\n",
        "# loc.append(np.array(test['location'].values),axis=0)\n",
        "loc = np.append(df['location'].values, test['location'].values, axis=0)\n",
        "loc"
      ],
      "execution_count": null,
      "outputs": [
        {
          "output_type": "execute_result",
          "data": {
            "text/plain": [
              "array(['Delhi NCR(Vikas Puri)', 'Sonepat', 'Delhi NCR', ..., 'Mumbai',\n",
              "       'Hyderabad', 'Bengaluru'], dtype=object)"
            ]
          },
          "metadata": {
            "tags": []
          },
          "execution_count": 10
        }
      ]
    },
    {
      "cell_type": "code",
      "metadata": {
        "colab": {
          "base_uri": "https://localhost:8080/"
        },
        "id": "AOiOJ2KjXdwJ",
        "outputId": "5b36b12b-1b18-4f09-e401-dbbc185f9d19"
      },
      "source": [
        "loc.shape"
      ],
      "execution_count": null,
      "outputs": [
        {
          "output_type": "execute_result",
          "data": {
            "text/plain": [
              "(26403,)"
            ]
          },
          "metadata": {
            "tags": []
          },
          "execution_count": 11
        }
      ]
    },
    {
      "cell_type": "code",
      "metadata": {
        "id": "7jvXSoeEXf5D"
      },
      "source": [
        "from sklearn.preprocessing import LabelEncoder\n",
        "l=LabelEncoder()\n",
        "l.fit(list(set(loc)))\n",
        "df['location']=l.transform(df['location'])\n",
        "\n",
        "\n",
        "tot_comp = np.append(df['company_name_encoded'].values, test['company_name_encoded'].values, axis=0)\n",
        "l_comp=LabelEncoder()\n",
        "l_comp.fit(list(set(tot_comp)))\n",
        "df['company_name_encoded']=l_comp.transform(df['company_name_encoded'])"
      ],
      "execution_count": null,
      "outputs": []
    },
    {
      "cell_type": "code",
      "metadata": {
        "colab": {
          "base_uri": "https://localhost:8080/"
        },
        "id": "08aB8Qd2Xi-R",
        "outputId": "03396642-0735-4227-ec99-f6988b7e8628"
      },
      "source": [
        "df.columns"
      ],
      "execution_count": null,
      "outputs": [
        {
          "output_type": "execute_result",
          "data": {
            "text/plain": [
              "Index(['job_description', 'job_desig', 'key_skills', 'location', 'salary',\n",
              "       'company_name_encoded', 'exp', 'key_skill_len', 'exp_low', 'exp_high',\n",
              "       'jdescLen', 'jdsgnLen', 'locationLen'],\n",
              "      dtype='object')"
            ]
          },
          "metadata": {
            "tags": []
          },
          "execution_count": 13
        }
      ]
    },
    {
      "cell_type": "code",
      "metadata": {
        "id": "5l6kzLobbMZL"
      },
      "source": [
        "from scipy.sparse import csr_matrix\n",
        "from scipy import sparse\n",
        "final_features = sparse.hstack((df[['location','company_name_encoded','exp','key_skill_len','jdescLen', 'jdsgnLen', 'locationLen']], jb, jd, ks,jbchar, jdchar, kschar)).tocsr()\n",
        "# final_features = sparse.hstack((df[['location','company_name_encoded','exp','key_skill_len']], jb, jd, ks)).tocsr()"
      ],
      "execution_count": null,
      "outputs": []
    },
    {
      "cell_type": "code",
      "metadata": {
        "colab": {
          "base_uri": "https://localhost:8080/"
        },
        "id": "osw_2MLxbMep",
        "outputId": "c9f03647-081c-4be8-e4cc-01f21fa71658"
      },
      "source": [
        "final_features"
      ],
      "execution_count": null,
      "outputs": [
        {
          "output_type": "execute_result",
          "data": {
            "text/plain": [
              "<19802x2102744 sparse matrix of type '<class 'numpy.float64'>'\n",
              "\twith 26948727 stored elements in Compressed Sparse Row format>"
            ]
          },
          "metadata": {
            "tags": []
          },
          "execution_count": 15
        }
      ]
    },
    {
      "cell_type": "code",
      "metadata": {
        "id": "NeyKRogkbMk1"
      },
      "source": [
        "dftest=test.copy()\n",
        "\n",
        "dftest.job_description.fillna('None',inplace=True)\n",
        "dftest.key_skills.fillna('None',inplace=True)\n",
        "def exp1(val):\n",
        "    v=val.split(\" \")[0].split(\"-\")\n",
        "    v1,v2=int(v[0]),int(v[1])\n",
        "    return (v1+v2)/2\n",
        "dftest['exp']=dftest.experience.apply(exp1)\n",
        "dftest['key_skill_len']=dftest.key_skills.apply(lambda x:len(x.split(\",\")))\n",
        "\n",
        "dftest['exp_low']=dftest.experience.apply(lambda x:int(x.split(\"-\")[0]))\n",
        "dftest['exp_high']=dftest.experience.apply(lambda x:int(x.split(\"-\")[1].split(\" \")[0]))\n",
        "\n",
        "jb_t =cv_jb.transform(dftest['job_description'])\n",
        "jd_t =cv_jd.transform(dftest['job_desig'])\n",
        "ks_t =cv_key.transform(dftest['key_skills'])\n",
        "\n",
        "jb_tchar =cv_jbchar.transform(dftest['job_description'])\n",
        "jd_tchar =cv_jdchar.transform(dftest['job_desig'])\n",
        "ks_tchar =cv_keychar.transform(dftest['key_skills'])\n",
        "\n",
        "\n",
        "dftest['location']=l.transform(dftest['location'])\n",
        "dftest['company_name_encoded']=l_comp.transform(dftest['company_name_encoded'])\n",
        "\n",
        "dftest['jdescLen']=dftest.job_description.apply(len)\n",
        "dftest['jdsgnLen']=dftest.job_desig.apply(len)\n",
        "dftest['locationLen']=dftest.location.astype(str).apply(lambda x:len(x.split(\",\")))\n",
        "dftest.drop(['job_type','experience'],axis=1,inplace=True)\n",
        "\n",
        "final_features_t = sparse.hstack((dftest[['location','company_name_encoded','exp','key_skill_len','jdescLen', 'jdsgnLen', 'locationLen']], jb_t, jd_t, ks_t,jb_tchar, jd_tchar, ks_tchar)).tocsr()\n",
        "# final_features_t = sparse.hstack((dftest[['location','company_name_encoded','exp','key_skill_len']], jb_t, jd_t, ks_t)).tocsr()"
      ],
      "execution_count": null,
      "outputs": []
    },
    {
      "cell_type": "code",
      "metadata": {
        "colab": {
          "base_uri": "https://localhost:8080/"
        },
        "id": "x9Fvn6vFbgvE",
        "outputId": "8f6be9b3-74c3-4a50-87ec-c28d42925b0b"
      },
      "source": [
        "final_features_t"
      ],
      "execution_count": null,
      "outputs": [
        {
          "output_type": "execute_result",
          "data": {
            "text/plain": [
              "<6601x2102744 sparse matrix of type '<class 'numpy.float64'>'\n",
              "\twith 8669216 stored elements in Compressed Sparse Row format>"
            ]
          },
          "metadata": {
            "tags": []
          },
          "execution_count": 17
        }
      ]
    },
    {
      "cell_type": "code",
      "metadata": {
        "id": "pMJJTJhQbMnU"
      },
      "source": [
        "from sklearn.model_selection import train_test_split\n",
        "from sklearn.metrics import accuracy_score\n",
        "X_train,X_val,y_train,y_val = train_test_split(final_features,target,test_size=0.25,random_state = 1994)"
      ],
      "execution_count": null,
      "outputs": []
    },
    {
      "cell_type": "code",
      "metadata": {
        "colab": {
          "base_uri": "https://localhost:8080/"
        },
        "id": "OIp6ReS2OR_L",
        "outputId": "10ae30bb-9245-46cc-e5a9-f374e0e910df"
      },
      "source": [
        "pip install catboost"
      ],
      "execution_count": null,
      "outputs": [
        {
          "output_type": "stream",
          "text": [
            "Collecting catboost\n",
            "\u001b[?25l  Downloading https://files.pythonhosted.org/packages/47/80/8e9c57ec32dfed6ba2922bc5c96462cbf8596ce1a6f5de532ad1e43e53fe/catboost-0.25.1-cp37-none-manylinux1_x86_64.whl (67.3MB)\n",
            "\u001b[K     |████████████████████████████████| 67.3MB 47kB/s \n",
            "\u001b[?25hRequirement already satisfied: matplotlib in /usr/local/lib/python3.7/dist-packages (from catboost) (3.2.2)\n",
            "Requirement already satisfied: six in /usr/local/lib/python3.7/dist-packages (from catboost) (1.15.0)\n",
            "Requirement already satisfied: graphviz in /usr/local/lib/python3.7/dist-packages (from catboost) (0.10.1)\n",
            "Requirement already satisfied: numpy>=1.16.0 in /usr/local/lib/python3.7/dist-packages (from catboost) (1.19.5)\n",
            "Requirement already satisfied: plotly in /usr/local/lib/python3.7/dist-packages (from catboost) (4.4.1)\n",
            "Requirement already satisfied: pandas>=0.24.0 in /usr/local/lib/python3.7/dist-packages (from catboost) (1.1.5)\n",
            "Requirement already satisfied: scipy in /usr/local/lib/python3.7/dist-packages (from catboost) (1.4.1)\n",
            "Requirement already satisfied: cycler>=0.10 in /usr/local/lib/python3.7/dist-packages (from matplotlib->catboost) (0.10.0)\n",
            "Requirement already satisfied: pyparsing!=2.0.4,!=2.1.2,!=2.1.6,>=2.0.1 in /usr/local/lib/python3.7/dist-packages (from matplotlib->catboost) (2.4.7)\n",
            "Requirement already satisfied: kiwisolver>=1.0.1 in /usr/local/lib/python3.7/dist-packages (from matplotlib->catboost) (1.3.1)\n",
            "Requirement already satisfied: python-dateutil>=2.1 in /usr/local/lib/python3.7/dist-packages (from matplotlib->catboost) (2.8.1)\n",
            "Requirement already satisfied: retrying>=1.3.3 in /usr/local/lib/python3.7/dist-packages (from plotly->catboost) (1.3.3)\n",
            "Requirement already satisfied: pytz>=2017.2 in /usr/local/lib/python3.7/dist-packages (from pandas>=0.24.0->catboost) (2018.9)\n",
            "Installing collected packages: catboost\n",
            "Successfully installed catboost-0.25.1\n"
          ],
          "name": "stdout"
        }
      ]
    },
    {
      "cell_type": "code",
      "metadata": {
        "colab": {
          "base_uri": "https://localhost:8080/"
        },
        "id": "kXWbH2JTHIP5",
        "outputId": "b624c05b-9f8b-43de-bc69-219a28c1f2f5"
      },
      "source": [
        "pip install xgboost"
      ],
      "execution_count": null,
      "outputs": [
        {
          "output_type": "stream",
          "text": [
            "Requirement already satisfied: xgboost in /usr/local/lib/python3.7/dist-packages (0.90)\n",
            "Requirement already satisfied: scipy in /usr/local/lib/python3.7/dist-packages (from xgboost) (1.4.1)\n",
            "Requirement already satisfied: numpy in /usr/local/lib/python3.7/dist-packages (from xgboost) (1.19.5)\n"
          ],
          "name": "stdout"
        }
      ]
    },
    {
      "cell_type": "code",
      "metadata": {
        "id": "66mP32OFbnXP"
      },
      "source": [
        "from sklearn import metrics\n",
        "from sklearn.naive_bayes import MultinomialNB\n",
        "from sklearn.linear_model import LogisticRegression\n",
        "from sklearn.ensemble import RandomForestClassifier\n",
        "from catboost import CatBoostClassifier\n",
        "from sklearn.multiclass import OneVsRestClassifier\n",
        "from sklearn.svm import SVC\n",
        "def train_model(classifier, train_X, train_y, test_X, test_y):\n",
        "    # fit the training dataset on the classifier\n",
        "    classifier.fit(train_X, train_y)\n",
        "    \n",
        "    # predict the labels on validation dataset\n",
        "    predictions = classifier.predict(test_X)\n",
        "    \n",
        "    return metrics.accuracy_score(predictions, test_y)"
      ],
      "execution_count": null,
      "outputs": []
    },
    {
      "cell_type": "code",
      "metadata": {
        "colab": {
          "base_uri": "https://localhost:8080/"
        },
        "id": "HwgrJyY2b4tf",
        "outputId": "7012d6dc-782c-4d80-e646-437161568932"
      },
      "source": [
        "import xgboost\n",
        "accuracy = train_model(xgboost.XGBClassifier(verbose=True), X_train.tocsc(), y_train, X_val.tocsc(),y_val)\n",
        "print( \"Xgb, Count Vectors: \", accuracy)"
      ],
      "execution_count": null,
      "outputs": [
        {
          "output_type": "stream",
          "text": [
            "Xgb, Count Vectors:  0.4607150070692789\n"
          ],
          "name": "stdout"
        }
      ]
    },
    {
      "cell_type": "code",
      "metadata": {
        "colab": {
          "base_uri": "https://localhost:8080/"
        },
        "id": "NtbbkiyacL_b",
        "outputId": "f25ddfd5-29e9-421d-dc57-2045ebf0985b"
      },
      "source": [
        "lr=LogisticRegression(class_weight='balanced',C=2,random_state=1994,n_jobs=-1)\n",
        "lr.fit(X_train,y_train)\n",
        "lrpred=lr.predict(X_val)\n",
        "print(accuracy_score(y_val,lrpred))"
      ],
      "execution_count": null,
      "outputs": [
        {
          "output_type": "stream",
          "text": [
            "0.22217733791153302\n"
          ],
          "name": "stdout"
        }
      ]
    },
    {
      "cell_type": "code",
      "metadata": {
        "id": "41rtXoWVcheI"
      },
      "source": [
        "xgb=xgboost.XGBClassifier()\n",
        "\n",
        "eval_set = [(X_train.tocsc(), y_train),(X_val.tocsc(), y_val)]\n",
        "xgb.fit(X_train.tocsc(), y_train, eval_metric=\"mlogloss\", eval_set=eval_set, verbose=True,early_stopping_rounds=50)\n",
        "# make predictions for test data\n",
        "\n",
        "xgb.fit(X_train.tocsc(),y_train)\n",
        "xgbpred=xgb.predict(X_val.tocsc())\n",
        "print(accuracy_score(y_val,xgbpred))"
      ],
      "execution_count": null,
      "outputs": []
    },
    {
      "cell_type": "code",
      "metadata": {
        "id": "jYmA_q9Oc5uJ"
      },
      "source": [
        "from sklearn.naive_bayes import MultinomialNB\n",
        "from sklearn.linear_model import LogisticRegression\n",
        "from sklearn.ensemble import RandomForestClassifier\n",
        "from catboost import CatBoostClassifier\n",
        "\n",
        "mb=MultinomialNB(alpha=0.5)\n",
        "mb.fit(final_features,target)\n",
        "mbpred=mb.predict(final_features_t)\n",
        "\n",
        "lr=LogisticRegression(class_weight='balanced',C=2,random_state=1994,n_jobs=-1)\n",
        "lr.fit(final_features,target)\n",
        "lrpred=lr.predict(final_features_t)\n",
        "\n",
        "xgb=xgboost.XGBClassifier(verbose=True,n_jobs=-1)\n",
        "xgb.fit(final_features.tocsc(),target)\n",
        "xgbpred=xgb.predict(final_features_t.tocsc())\n",
        "\n",
        "rf=RandomForestClassifier(n_estimators=200)\n",
        "rf.fit(final_features,target)\n",
        "rfpred=rf.predict(final_features_t)\n",
        "\n",
        "cb=CatBoostClassifier()\n",
        "cb.fit(final_features,target)\n",
        "cbpred=cb.predict(final_features_t)"
      ],
      "execution_count": null,
      "outputs": []
    },
    {
      "cell_type": "code",
      "metadata": {
        "id": "VYvHL1Ptcs8A"
      },
      "source": [
        "from sklearn.ensemble import RandomForestClassifier\n",
        "rf=RandomForestClassifier()\n",
        "rf.fit(X_train,y_train)\n",
        "rfpred=rf.predict(X_val)\n",
        "print(accuracy_score(y_val,rfpred))"
      ],
      "execution_count": null,
      "outputs": []
    },
    {
      "cell_type": "code",
      "metadata": {
        "id": "HCbtXg0sc535"
      },
      "source": [
        "xgbpred"
      ],
      "execution_count": null,
      "outputs": []
    },
    {
      "cell_type": "code",
      "metadata": {
        "id": "tQk8THPCc6EU"
      },
      "source": [
        "s=pd.DataFrame({'company_name_encoded':test.company_name_encoded,'salary':xgbpred})\n",
        "s.head()\n",
        "s.to_excel('xgbbase9.xlsx',index=False)"
      ],
      "execution_count": null,
      "outputs": []
    },
    {
      "cell_type": "code",
      "metadata": {
        "id": "7Xomwn3Jc6UT"
      },
      "source": [
        "s['salary']=lrpred\n",
        "s.to_excel('lr.xlsx',index=False)\n",
        "\n",
        "s['salary']=rfpred\n",
        "s.to_excel('rf.xlsx',index=False)"
      ],
      "execution_count": null,
      "outputs": []
    }
  ]
}