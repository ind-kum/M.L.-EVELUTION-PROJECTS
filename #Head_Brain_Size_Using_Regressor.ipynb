{
  "nbformat": 4,
  "nbformat_minor": 0,
  "metadata": {
    "colab": {
      "name": "Head_Brain_Size.ipynb",
      "provenance": [],
      "collapsed_sections": [],
      "authorship_tag": "ABX9TyMGxJF04GXAGSL60NY1eP9b",
      "include_colab_link": true
    },
    "kernelspec": {
      "display_name": "Python 3",
      "name": "python3"
    },
    "language_info": {
      "name": "python"
    }
  },
  "cells": [
    {
      "cell_type": "markdown",
      "metadata": {
        "id": "view-in-github",
        "colab_type": "text"
      },
      "source": [
        "<a href=\"https://colab.research.google.com/github/ind-kum/M.L.-EVELUTION-PROJECTS/blob/master/%23Head_Brain_Size_Using_Regressor.ipynb\" target=\"_parent\"><img src=\"https://colab.research.google.com/assets/colab-badge.svg\" alt=\"Open In Colab\"/></a>"
      ]
    },
    {
      "cell_type": "code",
      "metadata": {
        "colab": {
          "base_uri": "https://localhost:8080/",
          "height": 419
        },
        "id": "qR3AkNP36HYb",
        "outputId": "93ead574-8651-4d39-d07a-30dff9f49f94"
      },
      "source": [
        "import pandas as pd\n",
        "import numpy as np\n",
        "df = pd.read_csv(\"https://raw.githubusercontent.com/ind-kum/Datasets/master/headbrain.csv\")\n",
        "df"
      ],
      "execution_count": 1,
      "outputs": [
        {
          "output_type": "execute_result",
          "data": {
            "text/html": [
              "<div>\n",
              "<style scoped>\n",
              "    .dataframe tbody tr th:only-of-type {\n",
              "        vertical-align: middle;\n",
              "    }\n",
              "\n",
              "    .dataframe tbody tr th {\n",
              "        vertical-align: top;\n",
              "    }\n",
              "\n",
              "    .dataframe thead th {\n",
              "        text-align: right;\n",
              "    }\n",
              "</style>\n",
              "<table border=\"1\" class=\"dataframe\">\n",
              "  <thead>\n",
              "    <tr style=\"text-align: right;\">\n",
              "      <th></th>\n",
              "      <th>Gender</th>\n",
              "      <th>Age Range</th>\n",
              "      <th>Head Size(cm^3)</th>\n",
              "      <th>Brain Weight(grams)</th>\n",
              "    </tr>\n",
              "  </thead>\n",
              "  <tbody>\n",
              "    <tr>\n",
              "      <th>0</th>\n",
              "      <td>1</td>\n",
              "      <td>1</td>\n",
              "      <td>4512</td>\n",
              "      <td>1530</td>\n",
              "    </tr>\n",
              "    <tr>\n",
              "      <th>1</th>\n",
              "      <td>1</td>\n",
              "      <td>1</td>\n",
              "      <td>3738</td>\n",
              "      <td>1297</td>\n",
              "    </tr>\n",
              "    <tr>\n",
              "      <th>2</th>\n",
              "      <td>1</td>\n",
              "      <td>1</td>\n",
              "      <td>4261</td>\n",
              "      <td>1335</td>\n",
              "    </tr>\n",
              "    <tr>\n",
              "      <th>3</th>\n",
              "      <td>1</td>\n",
              "      <td>1</td>\n",
              "      <td>3777</td>\n",
              "      <td>1282</td>\n",
              "    </tr>\n",
              "    <tr>\n",
              "      <th>4</th>\n",
              "      <td>1</td>\n",
              "      <td>1</td>\n",
              "      <td>4177</td>\n",
              "      <td>1590</td>\n",
              "    </tr>\n",
              "    <tr>\n",
              "      <th>...</th>\n",
              "      <td>...</td>\n",
              "      <td>...</td>\n",
              "      <td>...</td>\n",
              "      <td>...</td>\n",
              "    </tr>\n",
              "    <tr>\n",
              "      <th>232</th>\n",
              "      <td>2</td>\n",
              "      <td>2</td>\n",
              "      <td>3214</td>\n",
              "      <td>1110</td>\n",
              "    </tr>\n",
              "    <tr>\n",
              "      <th>233</th>\n",
              "      <td>2</td>\n",
              "      <td>2</td>\n",
              "      <td>3394</td>\n",
              "      <td>1215</td>\n",
              "    </tr>\n",
              "    <tr>\n",
              "      <th>234</th>\n",
              "      <td>2</td>\n",
              "      <td>2</td>\n",
              "      <td>3233</td>\n",
              "      <td>1104</td>\n",
              "    </tr>\n",
              "    <tr>\n",
              "      <th>235</th>\n",
              "      <td>2</td>\n",
              "      <td>2</td>\n",
              "      <td>3352</td>\n",
              "      <td>1170</td>\n",
              "    </tr>\n",
              "    <tr>\n",
              "      <th>236</th>\n",
              "      <td>2</td>\n",
              "      <td>2</td>\n",
              "      <td>3391</td>\n",
              "      <td>1120</td>\n",
              "    </tr>\n",
              "  </tbody>\n",
              "</table>\n",
              "<p>237 rows × 4 columns</p>\n",
              "</div>"
            ],
            "text/plain": [
              "     Gender  Age Range  Head Size(cm^3)  Brain Weight(grams)\n",
              "0         1          1             4512                 1530\n",
              "1         1          1             3738                 1297\n",
              "2         1          1             4261                 1335\n",
              "3         1          1             3777                 1282\n",
              "4         1          1             4177                 1590\n",
              "..      ...        ...              ...                  ...\n",
              "232       2          2             3214                 1110\n",
              "233       2          2             3394                 1215\n",
              "234       2          2             3233                 1104\n",
              "235       2          2             3352                 1170\n",
              "236       2          2             3391                 1120\n",
              "\n",
              "[237 rows x 4 columns]"
            ]
          },
          "metadata": {
            "tags": []
          },
          "execution_count": 1
        }
      ]
    },
    {
      "cell_type": "code",
      "metadata": {
        "colab": {
          "base_uri": "https://localhost:8080/",
          "height": 364
        },
        "id": "gQeWUhE363Y1",
        "outputId": "28d6ea9e-660f-4f7a-a243-bed82089cee7"
      },
      "source": [
        "#Lets check whether the null values are present in the dataset or not using heatmap\n",
        "import seaborn as sns\n",
        "import matplotlib.pyplot as plt\n",
        "sns.heatmap(df.isnull(),annot=True)\n",
        "plt.show()"
      ],
      "execution_count": 2,
      "outputs": [
        {
          "output_type": "display_data",
          "data": {
            "image/png": "[encoded data removed]",
            "text/plain": [
              "<Figure size 432x288 with 2 Axes>"
            ]
          },
          "metadata": {
            "tags": [],
            "needs_background": "light"
          }
        }
      ]
    },
    {
      "cell_type": "code",
      "metadata": {
        "colab": {
          "base_uri": "https://localhost:8080/"
        },
        "id": "6zjS3Ics7Nhk",
        "outputId": "4dac9a4f-7da6-4b97-8ca2-1443f03e83a8"
      },
      "source": [
        "#Lets check the null vales without using visualisation\n",
        "df.isnull().sum()"
      ],
      "execution_count": 3,
      "outputs": [
        {
          "output_type": "execute_result",
          "data": {
            "text/plain": [
              "Gender                 0\n",
              "Age Range              0\n",
              "Head Size(cm^3)        0\n",
              "Brain Weight(grams)    0\n",
              "dtype: int64"
            ]
          },
          "metadata": {
            "tags": []
          },
          "execution_count": 3
        }
      ]
    },
    {
      "cell_type": "code",
      "metadata": {
        "colab": {
          "base_uri": "https://localhost:8080/"
        },
        "id": "navSpt9Z7l2M",
        "outputId": "991d7b02-b74e-4a60-a85c-907a084bf359"
      },
      "source": [
        "#Lets check whether their are outliers present in the dataset or not\n",
        "from scipy.stats import zscore\n",
        "z_score=abs(zscore(df))\n",
        "print(df.shape)\n",
        "df_final=df.loc[(z_score<3).all(axis=1)]\n",
        "print(df_final.shape)"
      ],
      "execution_count": 4,
      "outputs": [
        {
          "output_type": "stream",
          "text": [
            "(237, 4)\n",
            "(236, 4)\n"
          ],
          "name": "stdout"
        }
      ]
    },
    {
      "cell_type": "code",
      "metadata": {
        "colab": {
          "base_uri": "https://localhost:8080/",
          "height": 279
        },
        "id": "IX2B4n068ASh",
        "outputId": "8d50232a-9404-4b2b-e2e2-092d232403d4"
      },
      "source": [
        "#Lets check the how Brain Weight(grams) is changing with respect to Head Size(cm^3)\n",
        "sns.lineplot(x=df_final[\"Head Size(cm^3)\"],y=df_final[\"Brain Weight(grams)\"],data=df_final)\n",
        "plt.show()\n",
        "#The below graph clearly shows that with increase in head size their is increase in brain weight too"
      ],
      "execution_count": 5,
      "outputs": [
        {
          "output_type": "display_data",
          "data": {
            "image/png": "[encoded data removed]",
            "text/plain": [
              "<Figure size 432x288 with 1 Axes>"
            ]
          },
          "metadata": {
            "tags": [],
            "needs_background": "light"
          }
        }
      ]
    },
    {
      "cell_type": "code",
      "metadata": {
        "colab": {
          "base_uri": "https://localhost:8080/",
          "height": 281
        },
        "id": "wfX4o-Y38Zc1",
        "outputId": "1400c9da-3dca-48e1-92f3-7c806392c312"
      },
      "source": [
        "#Lets check what is the average brain size according to gender\n",
        "sns.barplot(x=df_final[\"Gender\"],y=df_final[\"Brain Weight(grams)\"],data=df_final)\n",
        "plt.show()"
      ],
      "execution_count": 6,
      "outputs": [
        {
          "output_type": "display_data",
          "data": {
            "image/png": "[encoded data removed]",
            "text/plain": [
              "<Figure size 432x288 with 1 Axes>"
            ]
          },
          "metadata": {
            "tags": [],
            "needs_background": "light"
          }
        }
      ]
    },
    {
      "cell_type": "code",
      "metadata": {
        "colab": {
          "base_uri": "https://localhost:8080/",
          "height": 279
        },
        "id": "IGbrzBKD857c",
        "outputId": "f038b84f-0357-46d1-ca4e-2d91d640f801"
      },
      "source": [
        "#Now Lets check what is the average brain size according to age range\n",
        "sns.barplot(x=df_final[\"Age Range\"],y=df_final[\"Brain Weight(grams)\"],data=df_final)\n",
        "plt.show()"
      ],
      "execution_count": 7,
      "outputs": [
        {
          "output_type": "display_data",
          "data": {
            "image/png": "[encoded data removed]",
            "text/plain": [
              "<Figure size 432x288 with 1 Axes>"
            ]
          },
          "metadata": {
            "tags": [],
            "needs_background": "light"
          }
        }
      ]
    },
    {
      "cell_type": "code",
      "metadata": {
        "colab": {
          "base_uri": "https://localhost:8080/",
          "height": 265
        },
        "id": "zQeFEUfV9G67",
        "outputId": "3630e7b5-23ba-4eb0-ace8-cf4a786cfcec"
      },
      "source": [
        "#Lets draw histogram for brain weight\n",
        "plt.hist(x=\"Brain Weight(grams)\",bins=10,data=df_final)\n",
        "plt.show()\n",
        "#we can say it shows almost normal distribution based on below output"
      ],
      "execution_count": 8,
      "outputs": [
        {
          "output_type": "display_data",
          "data": {
            "image/png": "[encoded data removed]",
            "text/plain": [
              "<Figure size 432x288 with 1 Axes>"
            ]
          },
          "metadata": {
            "tags": [],
            "needs_background": "light"
          }
        }
      ]
    },
    {
      "cell_type": "code",
      "metadata": {
        "colab": {
          "base_uri": "https://localhost:8080/"
        },
        "id": "Spqb5lqe9RKB",
        "outputId": "4b81a603-9799-4747-cb51-99711258c52d"
      },
      "source": [
        "#Lets check skewness of the dataset\n",
        "df_final.skew()\n",
        "#Below shows acceptable level of skewnes"
      ],
      "execution_count": 9,
      "outputs": [
        {
          "output_type": "execute_result",
          "data": {
            "text/plain": [
              "Gender                 0.257959\n",
              "Age Range             -0.153968\n",
              "Head Size(cm^3)        0.164767\n",
              "Brain Weight(grams)    0.205274\n",
              "dtype: float64"
            ]
          },
          "metadata": {
            "tags": []
          },
          "execution_count": 9
        }
      ]
    },
    {
      "cell_type": "code",
      "metadata": {
        "colab": {
          "base_uri": "https://localhost:8080/"
        },
        "id": "fTvyGuYB9ciI",
        "outputId": "9806d518-424a-4379-9b07-2eef95e1d97d"
      },
      "source": [
        "#Now Let seprate input and output variable to be used for the linear regression problem\n",
        "x=df_final[[\"Head Size(cm^3)\"]]\n",
        "y=df_final[[\"Brain Weight(grams)\"]]\n",
        "x.shape"
      ],
      "execution_count": 10,
      "outputs": [
        {
          "output_type": "execute_result",
          "data": {
            "text/plain": [
              "(236, 1)"
            ]
          },
          "metadata": {
            "tags": []
          },
          "execution_count": 10
        }
      ]
    },
    {
      "cell_type": "code",
      "metadata": {
        "colab": {
          "base_uri": "https://localhost:8080/"
        },
        "id": "z8MAe4Ey6bhF",
        "outputId": "7f7a2265-a523-4f2a-d081-5ec3066b3934"
      },
      "source": [
        "y.shape"
      ],
      "execution_count": 11,
      "outputs": [
        {
          "output_type": "execute_result",
          "data": {
            "text/plain": [
              "(236, 1)"
            ]
          },
          "metadata": {
            "tags": []
          },
          "execution_count": 11
        }
      ]
    },
    {
      "cell_type": "code",
      "metadata": {
        "colab": {
          "base_uri": "https://localhost:8080/"
        },
        "id": "8h-wFSJF981q",
        "outputId": "7b2dcbac-f7bc-4af6-f865-e775fbcfe45e"
      },
      "source": [
        "#scanling down using standardscaler\n",
        "from sklearn.preprocessing import StandardScaler\n",
        "sc = StandardScaler()\n",
        "x = sc.fit_transform(x)\n",
        "x"
      ],
      "execution_count": 12,
      "outputs": [
        {
          "output_type": "execute_result",
          "data": {
            "text/plain": [
              "array([[ 2.46589809],\n",
              "       [ 0.30372296],\n",
              "       [ 1.7647276 ],\n",
              "       [ 0.41266977],\n",
              "       [ 1.53007294],\n",
              "       [-0.12368375],\n",
              "       [ 0.43501784],\n",
              "       [-0.19631495],\n",
              "       [-0.04546553],\n",
              "       [ 0.9853389 ],\n",
              "       [-0.52036187],\n",
              "       [ 1.01606748],\n",
              "       [ 0.02995919],\n",
              "       [ 1.61667168],\n",
              "       [ 0.56631271],\n",
              "       [ 0.68922706],\n",
              "       [-0.36951244],\n",
              "       [-0.45611119],\n",
              "       [-1.49250262],\n",
              "       [ 2.22006939],\n",
              "       [ 0.69481407],\n",
              "       [ 1.1641234 ],\n",
              "       [ 0.48809449],\n",
              "       [ 0.22550474],\n",
              "       [ 2.21727589],\n",
              "       [ 1.13618832],\n",
              "       [ 1.09707921],\n",
              "       [-0.48963328],\n",
              "       [ 1.52448592],\n",
              "       [ 0.44060485],\n",
              "       [ 0.46574642],\n",
              "       [ 1.32335335],\n",
              "       [ 1.48537681],\n",
              "       [ 1.47699629],\n",
              "       [ 0.51602957],\n",
              "       [-0.28570721],\n",
              "       [ 0.33165804],\n",
              "       [-0.82485423],\n",
              "       [-0.38347998],\n",
              "       [ 0.92946874],\n",
              "       [-0.34716438],\n",
              "       [ 1.91557703],\n",
              "       [ 0.48809449],\n",
              "       [ 0.65291145],\n",
              "       [ 1.13060131],\n",
              "       [ 1.89602248],\n",
              "       [-1.29695707],\n",
              "       [ 0.0327527 ],\n",
              "       [ 0.04113322],\n",
              "       [ 0.73112968],\n",
              "       [ 0.4573659 ],\n",
              "       [ 1.78986917],\n",
              "       [ 1.21161304],\n",
              "       [ 1.06914413],\n",
              "       [-0.47845925],\n",
              "       [ 0.72833617],\n",
              "       [ 1.49934435],\n",
              "       [ 0.85404402],\n",
              "       [ 0.11097092],\n",
              "       [ 0.66129198],\n",
              "       [-0.66003727],\n",
              "       [ 2.27035254],\n",
              "       [ 1.74237954],\n",
              "       [ 0.27299438],\n",
              "       [-0.83882177],\n",
              "       [-0.59858009],\n",
              "       [-0.71870093],\n",
              "       [ 2.23683044],\n",
              "       [ 2.09994855],\n",
              "       [ 1.0579701 ],\n",
              "       [ 0.63894391],\n",
              "       [ 1.3736365 ],\n",
              "       [ 1.19485199],\n",
              "       [ 0.54396464],\n",
              "       [-0.65724376],\n",
              "       [-0.19910846],\n",
              "       [-0.74663601],\n",
              "       [ 0.84007648],\n",
              "       [ 0.57469323],\n",
              "       [ 0.56072569],\n",
              "       [ 0.6333569 ],\n",
              "       [-1.06230241],\n",
              "       [-0.14603181],\n",
              "       [ 0.84845701],\n",
              "       [ 0.61659585],\n",
              "       [-0.89469193],\n",
              "       [-0.62372166],\n",
              "       [-0.34437087],\n",
              "       [ 0.7758258 ],\n",
              "       [ 1.4825833 ],\n",
              "       [-0.86955036],\n",
              "       [ 0.09141636],\n",
              "       [ 0.75347774],\n",
              "       [ 0.19756966],\n",
              "       [ 0.41825679],\n",
              "       [-0.43655663],\n",
              "       [-0.389067  ],\n",
              "       [ 0.0690683 ],\n",
              "       [-0.42258909],\n",
              "       [-0.37509946],\n",
              "       [ 0.57189972],\n",
              "       [ 0.68922706],\n",
              "       [ 0.08862285],\n",
              "       [-0.03149799],\n",
              "       [ 0.05230725],\n",
              "       [ 1.12501429],\n",
              "       [-0.64327622],\n",
              "       [ 0.80096737],\n",
              "       [ 2.23683044],\n",
              "       [ 0.18360212],\n",
              "       [-0.29408773],\n",
              "       [-0.16279286],\n",
              "       [-0.09854218],\n",
              "       [-0.68797235],\n",
              "       [-0.36392543],\n",
              "       [-0.11250971],\n",
              "       [ 0.75627125],\n",
              "       [ 1.35408194],\n",
              "       [ 0.85963104],\n",
              "       [-0.64327622],\n",
              "       [ 1.59432362],\n",
              "       [ 2.3988539 ],\n",
              "       [-0.04267202],\n",
              "       [ 1.17809094],\n",
              "       [ 0.42663731],\n",
              "       [-0.66562428],\n",
              "       [-1.4114909 ],\n",
              "       [ 1.18367796],\n",
              "       [-0.13206427],\n",
              "       [ 0.10259039],\n",
              "       [-0.27173967],\n",
              "       [ 1.1641234 ],\n",
              "       [ 0.1053839 ],\n",
              "       [-2.15735751],\n",
              "       [-0.53991643],\n",
              "       [ 0.45177888],\n",
              "       [-0.91424649],\n",
              "       [-1.46736105],\n",
              "       [-1.28019602],\n",
              "       [-0.15999935],\n",
              "       [-0.27732668],\n",
              "       [-1.26902199],\n",
              "       [-0.53432941],\n",
              "       [ 0.76465177],\n",
              "       [ 0.75347774],\n",
              "       [-0.6376892 ],\n",
              "       [-1.01201926],\n",
              "       [-0.49801381],\n",
              "       [-1.50647016],\n",
              "       [-0.60416711],\n",
              "       [-0.85558282],\n",
              "       [ 0.14169951],\n",
              "       [-0.5315359 ],\n",
              "       [ 0.62497637],\n",
              "       [-1.32209864],\n",
              "       [-0.97849717],\n",
              "       [ 0.21712422],\n",
              "       [ 1.05238309],\n",
              "       [-1.00643225],\n",
              "       [-1.55954681],\n",
              "       [ 0.41825679],\n",
              "       [-0.22704354],\n",
              "       [-0.94218157],\n",
              "       [-0.36951244],\n",
              "       [-1.52881823],\n",
              "       [-1.06509591],\n",
              "       [-0.75781004],\n",
              "       [ 0.48530098],\n",
              "       [-0.1767604 ],\n",
              "       [-1.35282723],\n",
              "       [-0.3527514 ],\n",
              "       [-0.16279286],\n",
              "       [ 0.26461385],\n",
              "       [-0.03987851],\n",
              "       [-1.19080377],\n",
              "       [-0.05663956],\n",
              "       [-0.19072794],\n",
              "       [ 0.97695837],\n",
              "       [-0.26894616],\n",
              "       [ 0.16684108],\n",
              "       [-1.31651163],\n",
              "       [ 1.04958958],\n",
              "       [-1.25226094],\n",
              "       [-0.41979559],\n",
              "       [ 0.0355462 ],\n",
              "       [ 0.00761113],\n",
              "       [-1.56513383],\n",
              "       [-0.65724376],\n",
              "       [ 0.20595019],\n",
              "       [-1.29695707],\n",
              "       [-0.76898407],\n",
              "       [-1.75788588],\n",
              "       [ 0.16125406],\n",
              "       [-0.20469548],\n",
              "       [-2.39201217],\n",
              "       [-1.59586242],\n",
              "       [-0.79691915],\n",
              "       [-0.38068647],\n",
              "       [-0.92821403],\n",
              "       [-0.75222303],\n",
              "       [-1.12096607],\n",
              "       [-0.98408418],\n",
              "       [ 0.61938936],\n",
              "       [-1.57072085],\n",
              "       [ 0.1752216 ],\n",
              "       [-0.6348957 ],\n",
              "       [ 1.0216545 ],\n",
              "       [-0.86955036],\n",
              "       [-2.54006809],\n",
              "       [-1.93387688],\n",
              "       [-0.13765129],\n",
              "       [-1.92828986],\n",
              "       [-1.78861446],\n",
              "       [-0.12089024],\n",
              "       [-1.32209864],\n",
              "       [-1.07068293],\n",
              "       [-1.28298953],\n",
              "       [-1.00922576],\n",
              "       [-0.6712113 ],\n",
              "       [-0.69355936],\n",
              "       [-2.13780295],\n",
              "       [ 0.30930998],\n",
              "       [-0.41979559],\n",
              "       [ 0.04951374],\n",
              "       [ 0.24226579],\n",
              "       [-0.96452963],\n",
              "       [ 1.60549765],\n",
              "       [ 0.29534244],\n",
              "       [-1.14890115],\n",
              "       [ 0.15566704],\n",
              "       [ 0.2087437 ],\n",
              "       [-1.16007518],\n",
              "       [-0.65724376],\n",
              "       [-1.10699853],\n",
              "       [-0.77457109],\n",
              "       [-0.66562428]])"
            ]
          },
          "metadata": {
            "tags": []
          },
          "execution_count": 12
        }
      ]
    },
    {
      "cell_type": "code",
      "metadata": {
        "id": "B-zLkQYOAYO_"
      },
      "source": [
        "from sklearn.metrics import mean_absolute_error\n",
        "from sklearn.metrics import mean_squared_error\n",
        "from sklearn.metrics import r2_score\n",
        "from sklearn.model_selection import train_test_split\n",
        "def maxr2_score(regr,x,y):\n",
        "    max_r_score=0\n",
        "    for r_state in range(42,100):\n",
        "        x_train, x_test, y_train, y_test = train_test_split(x, y,random_state = r_state,test_size=0.20)\n",
        "        regr.fit(x_train,y_train)\n",
        "        y_pred = regr.predict(x_test)\n",
        "        r2_scr=r2_score(y_test,y_pred)\n",
        "        print(\"r2 score corresponding to \",r_state,\" is \",r2_scr)\n",
        "        if r2_scr>max_r_score:\n",
        "            max_r_score=r2_scr\n",
        "            final_r_state=r_state\n",
        "    print(\"max r2 score corresponding to \",final_r_state,\" is \",max_r_score)\n",
        "    return final_r_state"
      ],
      "execution_count": 13,
      "outputs": []
    },
    {
      "cell_type": "markdown",
      "metadata": {
        "id": "en3IweI41AWL"
      },
      "source": [
        "# 1.  Linear Regression\n",
        "\n",
        "---\n",
        "\n",
        "\n",
        "\n",
        "---\n",
        "\n",
        "\n",
        "\n",
        "---"
      ]
    },
    {
      "cell_type": "code",
      "metadata": {
        "colab": {
          "base_uri": "https://localhost:8080/"
        },
        "id": "KIWlhnYhqiJ4",
        "outputId": "5da62f15-4ec2-4400-d06e-ff16f8a9bf62"
      },
      "source": [
        "#Lets use LInear regression and check max r2 score corresponding to different random states\n",
        "from sklearn.linear_model import LinearRegression\n",
        "lreg=LinearRegression()\n",
        "r_state=maxr2_score(lreg,x,y)\n",
        "print('----------------------------------------------------------------------')\n",
        "from sklearn.model_selection import cross_val_score\n",
        "print(\"Mean r2 score for Linear Regression: \",cross_val_score(lreg,x,y,cv=5,scoring=\"r2\").mean())\n",
        "print(\"standard deviation in r2 score for Linear Regression: \",cross_val_score(lreg,x,y,cv=5,scoring=\"r2\").std())"
      ],
      "execution_count": 14,
      "outputs": [
        {
          "output_type": "stream",
          "text": [
            "r2 score corresponding to  42  is  0.5160439339209708\n",
            "r2 score corresponding to  43  is  0.7390820760256583\n",
            "r2 score corresponding to  44  is  0.5359704407099068\n",
            "r2 score corresponding to  45  is  0.7179743617057047\n",
            "r2 score corresponding to  46  is  0.6374863798560535\n",
            "r2 score corresponding to  47  is  0.6392680441660814\n",
            "r2 score corresponding to  48  is  0.6706309006045819\n",
            "r2 score corresponding to  49  is  0.7637633745880883\n",
            "r2 score corresponding to  50  is  0.588690940616982\n",
            "r2 score corresponding to  51  is  0.463872906496715\n",
            "r2 score corresponding to  52  is  0.7814049973715858\n",
            "r2 score corresponding to  53  is  0.6693035417585758\n",
            "r2 score corresponding to  54  is  0.6180044907461555\n",
            "r2 score corresponding to  55  is  0.679837724748311\n",
            "r2 score corresponding to  56  is  0.5648237961804998\n",
            "r2 score corresponding to  57  is  0.4948578643087602\n",
            "r2 score corresponding to  58  is  0.6598772428845934\n",
            "r2 score corresponding to  59  is  0.5867788491433329\n",
            "r2 score corresponding to  60  is  0.7410260224201461\n",
            "r2 score corresponding to  61  is  0.6540312921309792\n",
            "r2 score corresponding to  62  is  0.6472776562252863\n",
            "r2 score corresponding to  63  is  0.6403151524486139\n",
            "r2 score corresponding to  64  is  0.6655949939334962\n",
            "r2 score corresponding to  65  is  0.6347251177785157\n",
            "r2 score corresponding to  66  is  0.47110329840579024\n",
            "r2 score corresponding to  67  is  0.5871592153164132\n",
            "r2 score corresponding to  68  is  0.6879944565881262\n",
            "r2 score corresponding to  69  is  0.6420713955899293\n",
            "r2 score corresponding to  70  is  0.6719679678031656\n",
            "r2 score corresponding to  71  is  0.6984377613666866\n",
            "r2 score corresponding to  72  is  0.6183901614878811\n",
            "r2 score corresponding to  73  is  0.5665931055744842\n",
            "r2 score corresponding to  74  is  0.6673341407088094\n",
            "r2 score corresponding to  75  is  0.41609311855523534\n",
            "r2 score corresponding to  76  is  0.6661317105433396\n",
            "r2 score corresponding to  77  is  0.6542051499292876\n",
            "r2 score corresponding to  78  is  0.5478186287961975\n",
            "r2 score corresponding to  79  is  0.5082085137862393\n",
            "r2 score corresponding to  80  is  0.4639073281616608\n",
            "r2 score corresponding to  81  is  0.6763834280010892\n",
            "r2 score corresponding to  82  is  0.7383962159793607\n",
            "r2 score corresponding to  83  is  0.5656852102594254\n",
            "r2 score corresponding to  84  is  0.5332058512541566\n",
            "r2 score corresponding to  85  is  0.5606270938163962\n",
            "r2 score corresponding to  86  is  0.5058301291871978\n",
            "r2 score corresponding to  87  is  0.5513984836267198\n",
            "r2 score corresponding to  88  is  0.5718763711949715\n",
            "r2 score corresponding to  89  is  0.5182597426695972\n",
            "r2 score corresponding to  90  is  0.7621774501258384\n",
            "r2 score corresponding to  91  is  0.611198108037643\n",
            "r2 score corresponding to  92  is  0.7413357228762587\n",
            "r2 score corresponding to  93  is  0.667395779856827\n",
            "r2 score corresponding to  94  is  0.6952844899826502\n",
            "r2 score corresponding to  95  is  0.4967730594073213\n",
            "r2 score corresponding to  96  is  0.7399566512391538\n",
            "r2 score corresponding to  97  is  0.5655630598608076\n",
            "r2 score corresponding to  98  is  0.670609583631329\n",
            "r2 score corresponding to  99  is  0.7006098327985713\n",
            "max r2 score corresponding to  52  is  0.7814049973715858\n",
            "----------------------------------------------------------------------\n",
            "Mean r2 score for Linear Regression:  0.4734555277018046\n",
            "standard deviation in r2 score for Linear Regression:  0.160201111275872\n"
          ],
          "name": "stdout"
        }
      ]
    },
    {
      "cell_type": "markdown",
      "metadata": {
        "id": "B96yDtRv2Cbs"
      },
      "source": [
        "# 2.  KNeighbor Regression\n",
        "\n",
        "---\n",
        "\n",
        "\n",
        "\n",
        "---\n",
        "\n",
        "\n",
        "\n",
        "---\n",
        "\n",
        "\n",
        "\n",
        "---\n",
        "\n"
      ]
    },
    {
      "cell_type": "code",
      "metadata": {
        "colab": {
          "base_uri": "https://localhost:8080/"
        },
        "id": "JXnZUEjar2EM",
        "outputId": "4925bed8-857a-4141-949f-67b0e2c59491"
      },
      "source": [
        "#Lets use grid_search to find optimal value of n_neigbors for KNN model\n",
        "from sklearn.model_selection import GridSearchCV\n",
        "from sklearn.neighbors import KNeighborsRegressor\n",
        "neighbors={\"n_neighbors\":range(1,30)}\n",
        "knr=KNeighborsRegressor()\n",
        "gknr = GridSearchCV(knr, neighbors, cv=10)\n",
        "gknr.fit(x,y)\n",
        "gknr.best_params_"
      ],
      "execution_count": 15,
      "outputs": [
        {
          "output_type": "execute_result",
          "data": {
            "text/plain": [
              "{'n_neighbors': 22}"
            ]
          },
          "metadata": {
            "tags": []
          },
          "execution_count": 15
        }
      ]
    },
    {
      "cell_type": "code",
      "metadata": {
        "colab": {
          "base_uri": "https://localhost:8080/"
        },
        "id": "NkHbS9NqsLm-",
        "outputId": "d6dbf8d7-ff27-4174-c804-842c4b08c919"
      },
      "source": [
        "#Lets use KNN regression and check max r2 score corresponding to different random states\n",
        "knr=KNeighborsRegressor(n_neighbors=22)\n",
        "r_state=maxr2_score(knr,x,y)\n",
        "print('----------------------------------------------------------------------------')\n",
        "print(\"Mean r2 score for KNN Regression: \",cross_val_score(knr,x,y,cv=5,scoring=\"r2\").mean())\n",
        "print(\"standard deviation in r2 score for KNN Regression \",cross_val_score(knr,x,y,cv=5,scoring=\"r2\").std())"
      ],
      "execution_count": 16,
      "outputs": [
        {
          "output_type": "stream",
          "text": [
            "r2 score corresponding to  42  is  0.5254582301537805\n",
            "r2 score corresponding to  43  is  0.6568897319093183\n",
            "r2 score corresponding to  44  is  0.46258539694791245\n",
            "r2 score corresponding to  45  is  0.6051891512929217\n",
            "r2 score corresponding to  46  is  0.6017140520527353\n",
            "r2 score corresponding to  47  is  0.606960526158836\n",
            "r2 score corresponding to  48  is  0.6132327786450276\n",
            "r2 score corresponding to  49  is  0.7173139044569561\n",
            "r2 score corresponding to  50  is  0.5320267483556209\n",
            "r2 score corresponding to  51  is  0.44221322653733364\n",
            "r2 score corresponding to  52  is  0.6921753819572353\n",
            "r2 score corresponding to  53  is  0.6166204893116669\n",
            "r2 score corresponding to  54  is  0.5765195994183165\n",
            "r2 score corresponding to  55  is  0.6335954002316917\n",
            "r2 score corresponding to  56  is  0.49533285068922495\n",
            "r2 score corresponding to  57  is  0.4829361738808573\n",
            "r2 score corresponding to  58  is  0.5573580103289252\n",
            "r2 score corresponding to  59  is  0.5674832376025567\n",
            "r2 score corresponding to  60  is  0.6785724153908131\n",
            "r2 score corresponding to  61  is  0.6129012527709903\n",
            "r2 score corresponding to  62  is  0.6486238915318849\n",
            "r2 score corresponding to  63  is  0.5968116414030322\n",
            "r2 score corresponding to  64  is  0.6414074586495784\n",
            "r2 score corresponding to  65  is  0.6387240163211885\n",
            "r2 score corresponding to  66  is  0.4819884565212271\n",
            "r2 score corresponding to  67  is  0.5812334922988547\n",
            "r2 score corresponding to  68  is  0.5415427447054754\n",
            "r2 score corresponding to  69  is  0.6145216719994006\n",
            "r2 score corresponding to  70  is  0.6353934651816174\n",
            "r2 score corresponding to  71  is  0.5608779362202561\n",
            "r2 score corresponding to  72  is  0.6055230257489583\n",
            "r2 score corresponding to  73  is  0.5230479501545406\n",
            "r2 score corresponding to  74  is  0.5939042437419518\n",
            "r2 score corresponding to  75  is  0.42331788681575455\n",
            "r2 score corresponding to  76  is  0.634688679832708\n",
            "r2 score corresponding to  77  is  0.6340712925029245\n",
            "r2 score corresponding to  78  is  0.5232732119459875\n",
            "r2 score corresponding to  79  is  0.4576640057025603\n",
            "r2 score corresponding to  80  is  0.5185214634849578\n",
            "r2 score corresponding to  81  is  0.6518858429196006\n",
            "r2 score corresponding to  82  is  0.6649512204550265\n",
            "r2 score corresponding to  83  is  0.5870479102860102\n",
            "r2 score corresponding to  84  is  0.546232232848151\n",
            "r2 score corresponding to  85  is  0.5263501631383967\n",
            "r2 score corresponding to  86  is  0.4902051424691153\n",
            "r2 score corresponding to  87  is  0.48866096989570096\n",
            "r2 score corresponding to  88  is  0.5812418383934134\n",
            "r2 score corresponding to  89  is  0.4566833006863573\n",
            "r2 score corresponding to  90  is  0.7083990011091996\n",
            "r2 score corresponding to  91  is  0.5451066684140835\n",
            "r2 score corresponding to  92  is  0.6933267488412422\n",
            "r2 score corresponding to  93  is  0.5919564270881175\n",
            "r2 score corresponding to  94  is  0.6699126711860227\n",
            "r2 score corresponding to  95  is  0.49667644845095327\n",
            "r2 score corresponding to  96  is  0.7048910055199984\n",
            "r2 score corresponding to  97  is  0.5478256307273524\n",
            "r2 score corresponding to  98  is  0.646494349436425\n",
            "r2 score corresponding to  99  is  0.6562506698298722\n",
            "max r2 score corresponding to  49  is  0.7173139044569561\n",
            "----------------------------------------------------------------------------\n",
            "Mean r2 score for KNN Regression:  0.40117674225104\n",
            "standard deviation in r2 score for KNN Regression  0.16696475927908658\n"
          ],
          "name": "stdout"
        }
      ]
    },
    {
      "cell_type": "markdown",
      "metadata": {
        "id": "k62IdAOM2_2q"
      },
      "source": [
        "# 3.  Lasso Regression\n",
        "\n",
        "---\n",
        "\n",
        "\n",
        "\n",
        "---\n",
        "\n",
        "\n",
        "\n",
        "---"
      ]
    },
    {
      "cell_type": "code",
      "metadata": {
        "colab": {
          "base_uri": "https://localhost:8080/"
        },
        "id": "mGGw_vjLsxR6",
        "outputId": "ff57ea86-c285-49c2-b202-fde3ddb399d8"
      },
      "source": [
        "#Lets check lasso regression and find best value of alpha\n",
        "from sklearn.linear_model import Lasso\n",
        "lsreg=Lasso()\n",
        "parameters={\"alpha\":[0.001,0.01,0.1,1]}\n",
        "clf = GridSearchCV(lsreg, parameters, cv=10)\n",
        "clf.fit(x,y)\n",
        "clf.best_params_"
      ],
      "execution_count": 17,
      "outputs": [
        {
          "output_type": "execute_result",
          "data": {
            "text/plain": [
              "{'alpha': 0.001}"
            ]
          },
          "metadata": {
            "tags": []
          },
          "execution_count": 17
        }
      ]
    },
    {
      "cell_type": "code",
      "metadata": {
        "colab": {
          "base_uri": "https://localhost:8080/"
        },
        "id": "08IGgy6jtQh3",
        "outputId": "68b017ce-a233-47cc-9352-dbe12ca4cb69"
      },
      "source": [
        "#Lets check max r2 score when we use Lasso\n",
        "lsreg=Lasso(alpha=0.001)\n",
        "r_state=maxr2_score(lsreg,x,y)\n",
        "print('----------------------------------------------------------------------------------------')\n",
        "print(\"Mean r2 score for Lasso Regression: \",cross_val_score(lsreg,x,y,cv=5,scoring=\"r2\").mean())\n",
        "print(\"standard deviation in r2 score for Lasso Regression: \",cross_val_score(lsreg,x,y,cv=5,scoring=\"r2\").std())"
      ],
      "execution_count": 18,
      "outputs": [
        {
          "output_type": "stream",
          "text": [
            "r2 score corresponding to  42  is  0.5160454080254829\n",
            "r2 score corresponding to  43  is  0.7390843436385253\n",
            "r2 score corresponding to  44  is  0.5359709178260349\n",
            "r2 score corresponding to  45  is  0.7179714306769396\n",
            "r2 score corresponding to  46  is  0.637487724818552\n",
            "r2 score corresponding to  47  is  0.6392661455618073\n",
            "r2 score corresponding to  48  is  0.6706302256368422\n",
            "r2 score corresponding to  49  is  0.7637628792864153\n",
            "r2 score corresponding to  50  is  0.588691663070912\n",
            "r2 score corresponding to  51  is  0.4638755710036714\n",
            "r2 score corresponding to  52  is  0.7814014705417708\n",
            "r2 score corresponding to  53  is  0.6693015252730038\n",
            "r2 score corresponding to  54  is  0.6180044326392604\n",
            "r2 score corresponding to  55  is  0.6798365069484629\n",
            "r2 score corresponding to  56  is  0.5648225884950677\n",
            "r2 score corresponding to  57  is  0.4948602258980076\n",
            "r2 score corresponding to  58  is  0.659876454990819\n",
            "r2 score corresponding to  59  is  0.5867819258039564\n",
            "r2 score corresponding to  60  is  0.7410244346397428\n",
            "r2 score corresponding to  61  is  0.6540289972308861\n",
            "r2 score corresponding to  62  is  0.6472767410552056\n",
            "r2 score corresponding to  63  is  0.6403145934230701\n",
            "r2 score corresponding to  64  is  0.6655941326574359\n",
            "r2 score corresponding to  65  is  0.6347264424755391\n",
            "r2 score corresponding to  66  is  0.47110750885958497\n",
            "r2 score corresponding to  67  is  0.5871592235634231\n",
            "r2 score corresponding to  68  is  0.6879911140124848\n",
            "r2 score corresponding to  69  is  0.6420707500739216\n",
            "r2 score corresponding to  70  is  0.6719684288393244\n",
            "r2 score corresponding to  71  is  0.6984373659480091\n",
            "r2 score corresponding to  72  is  0.6183897638534288\n",
            "r2 score corresponding to  73  is  0.5665952330800499\n",
            "r2 score corresponding to  74  is  0.6673337617920625\n",
            "r2 score corresponding to  75  is  0.4160953740366762\n",
            "r2 score corresponding to  76  is  0.6661335929554644\n",
            "r2 score corresponding to  77  is  0.6542047329064744\n",
            "r2 score corresponding to  78  is  0.5478180953560279\n",
            "r2 score corresponding to  79  is  0.5082092065221152\n",
            "r2 score corresponding to  80  is  0.46390994649219885\n",
            "r2 score corresponding to  81  is  0.6763820599853592\n",
            "r2 score corresponding to  82  is  0.738394079911384\n",
            "r2 score corresponding to  83  is  0.5656873655414588\n",
            "r2 score corresponding to  84  is  0.5332077346925392\n",
            "r2 score corresponding to  85  is  0.5606280546645833\n",
            "r2 score corresponding to  86  is  0.5058300736493058\n",
            "r2 score corresponding to  87  is  0.5513975669488173\n",
            "r2 score corresponding to  88  is  0.5718758556638411\n",
            "r2 score corresponding to  89  is  0.5182602589160707\n",
            "r2 score corresponding to  90  is  0.7621758269681189\n",
            "r2 score corresponding to  91  is  0.6111986352485717\n",
            "r2 score corresponding to  92  is  0.741335553538142\n",
            "r2 score corresponding to  93  is  0.6673934544573904\n",
            "r2 score corresponding to  94  is  0.6952860101144738\n",
            "r2 score corresponding to  95  is  0.4967766161499839\n",
            "r2 score corresponding to  96  is  0.7399557963663531\n",
            "r2 score corresponding to  97  is  0.5655622037755044\n",
            "r2 score corresponding to  98  is  0.6706084752463757\n",
            "r2 score corresponding to  99  is  0.7006105334826807\n",
            "max r2 score corresponding to  52  is  0.7814014705417708\n",
            "----------------------------------------------------------------------------------------\n",
            "Mean r2 score for Lasso Regression:  0.47345462628005563\n",
            "standard deviation in r2 score for Lasso Regression:  0.16020041883194597\n"
          ],
          "name": "stdout"
        }
      ]
    },
    {
      "cell_type": "markdown",
      "metadata": {
        "id": "S5DUeE2VMuPM"
      },
      "source": [
        "# 4. Decision Tree Regressor\n",
        "\n",
        "---\n",
        "\n",
        "\n",
        "\n",
        "---\n",
        "\n",
        "\n",
        "\n",
        "---\n",
        "\n",
        "\n",
        "\n",
        "---\n",
        "\n"
      ]
    },
    {
      "cell_type": "code",
      "metadata": {
        "colab": {
          "base_uri": "https://localhost:8080/"
        },
        "id": "UA2Cv3HYNArR",
        "outputId": "7a059437-7770-45d4-e54f-d1626ccbef10"
      },
      "source": [
        "#Lets use decision tree\n",
        "from sklearn.tree import DecisionTreeClassifier\n",
        "dtr = DecisionTreeClassifier()\n",
        "r_state=maxr2_score(dtr,x,y)\n",
        "print('----------------------------------------------------------------------------------------')\n",
        "print(\"Mean r2 score for Lasso Regression: \",cross_val_score(lsreg,x,y,cv=5,scoring=\"r2\").mean())\n",
        "print(\"standard deviation in r2 score for Lasso Regression: \",cross_val_score(lsreg,x,y,cv=5,scoring=\"r2\").std())\n",
        "#We can see this model is not performing well"
      ],
      "execution_count": 19,
      "outputs": [
        {
          "output_type": "stream",
          "text": [
            "r2 score corresponding to  42  is  0.375521916809503\n",
            "r2 score corresponding to  43  is  0.07298098854258805\n",
            "r2 score corresponding to  44  is  0.20814189651477777\n",
            "r2 score corresponding to  45  is  0.35636939940859524\n",
            "r2 score corresponding to  46  is  -0.026023632813956032\n",
            "r2 score corresponding to  47  is  0.3357584952126389\n",
            "r2 score corresponding to  48  is  0.4698918924562272\n",
            "r2 score corresponding to  49  is  0.5756841307770824\n",
            "r2 score corresponding to  50  is  0.2914287416283008\n",
            "r2 score corresponding to  51  is  0.20293812767387465\n",
            "r2 score corresponding to  52  is  0.6432768246362249\n",
            "r2 score corresponding to  53  is  0.3779929561036486\n",
            "r2 score corresponding to  54  is  0.29701361294839057\n",
            "r2 score corresponding to  55  is  0.4359735302375518\n",
            "r2 score corresponding to  56  is  0.3259360696206838\n",
            "r2 score corresponding to  57  is  0.012152021960709525\n",
            "r2 score corresponding to  58  is  0.27024454237279594\n",
            "r2 score corresponding to  59  is  0.4149895784261559\n",
            "r2 score corresponding to  60  is  0.4527032723539691\n",
            "r2 score corresponding to  61  is  0.2625595682379285\n",
            "r2 score corresponding to  62  is  0.5353085486699674\n",
            "r2 score corresponding to  63  is  0.23015427236634922\n",
            "r2 score corresponding to  64  is  0.4855519184621455\n",
            "r2 score corresponding to  65  is  0.46771495156419607\n",
            "r2 score corresponding to  66  is  0.014929814707289268\n",
            "r2 score corresponding to  67  is  0.053203566226522336\n",
            "r2 score corresponding to  68  is  0.23271510944928064\n",
            "r2 score corresponding to  69  is  0.3911651876492417\n",
            "r2 score corresponding to  70  is  0.21907796550439163\n",
            "r2 score corresponding to  71  is  0.3033234084009979\n",
            "r2 score corresponding to  72  is  0.027530216575269773\n",
            "r2 score corresponding to  73  is  0.06612690911487273\n",
            "r2 score corresponding to  74  is  0.03225838497875222\n",
            "r2 score corresponding to  75  is  0.08752029907068337\n",
            "r2 score corresponding to  76  is  0.3290800556359357\n",
            "r2 score corresponding to  77  is  0.3846467732152894\n",
            "r2 score corresponding to  78  is  0.23514522539500404\n",
            "r2 score corresponding to  79  is  0.22532242323818075\n",
            "r2 score corresponding to  80  is  0.018177986856013573\n",
            "r2 score corresponding to  81  is  0.3391135000968918\n",
            "r2 score corresponding to  82  is  0.48611431463483\n",
            "r2 score corresponding to  83  is  0.2841231378501342\n",
            "r2 score corresponding to  84  is  0.35433426423483494\n",
            "r2 score corresponding to  85  is  0.02367033108465022\n",
            "r2 score corresponding to  86  is  0.34411199200218723\n",
            "r2 score corresponding to  87  is  0.20421676297502545\n",
            "r2 score corresponding to  88  is  0.07501681838249197\n",
            "r2 score corresponding to  89  is  0.17098581454680795\n",
            "r2 score corresponding to  90  is  0.4030865535956428\n",
            "r2 score corresponding to  91  is  0.4205208016186468\n",
            "r2 score corresponding to  92  is  0.5108946019680961\n",
            "r2 score corresponding to  93  is  0.24100438201730467\n",
            "r2 score corresponding to  94  is  0.43283339004676036\n",
            "r2 score corresponding to  95  is  0.19536800229724727\n",
            "r2 score corresponding to  96  is  0.481101785780923\n",
            "r2 score corresponding to  97  is  0.28635798400508117\n",
            "r2 score corresponding to  98  is  0.44617440270627795\n",
            "r2 score corresponding to  99  is  0.38029712430989504\n",
            "max r2 score corresponding to  52  is  0.6432768246362249\n",
            "----------------------------------------------------------------------------------------\n",
            "Mean r2 score for Lasso Regression:  0.47345462628005563\n",
            "standard deviation in r2 score for Lasso Regression:  0.16020041883194597\n"
          ],
          "name": "stdout"
        }
      ]
    },
    {
      "cell_type": "markdown",
      "metadata": {
        "id": "c_-0pg84o5-4"
      },
      "source": [
        "# 4. SVM Regressor\n",
        "\n",
        "---\n",
        "\n",
        "\n",
        "\n",
        "---\n",
        "\n",
        "\n",
        "\n",
        "---"
      ]
    },
    {
      "cell_type": "code",
      "metadata": {
        "colab": {
          "base_uri": "https://localhost:8080/"
        },
        "id": "bFJXLCl2pL7a",
        "outputId": "9b83d981-4a05-4c5f-dfc1-6f132bf07eb3"
      },
      "source": [
        "#Lets use SVM\n",
        "from sklearn.svm import SVR\n",
        "svr=SVR()\n",
        "parameters={\"kernel\":[\"linear\", \"poly\", \"rbf\"],\"C\":[0.001,0.01,0.1,1,10]}\n",
        "clf = GridSearchCV(svr, parameters, cv=5,scoring=\"r2\")\n",
        "clf.fit(x,y)\n",
        "clf.best_params_"
      ],
      "execution_count": 29,
      "outputs": [
        {
          "output_type": "execute_result",
          "data": {
            "text/plain": [
              "{'C': 10, 'kernel': 'linear'}"
            ]
          },
          "metadata": {
            "tags": []
          },
          "execution_count": 29
        }
      ]
    },
    {
      "cell_type": "code",
      "metadata": {
        "id": "umnaqcw0Mn7h",
        "colab": {
          "base_uri": "https://localhost:8080/"
        },
        "outputId": "31f0d4b2-5524-42a2-d8c8-b3119a2e8b61"
      },
      "source": [
        "svr=SVR(kernel=\"linear\",C=10)\n",
        "r_state=maxr2_score(svr,x,y)\n",
        "print('----------------------------------------------------------------------------------------')\n",
        "print(\"Mean r2 score for SVM Regression: \",cross_val_score(svr,x,y,cv=5,scoring=\"r2\").mean())\n",
        "print(\"standard deviation in r2 score for SVM Regression: \",cross_val_score(svr,x,y,cv=5,scoring=\"r2\").std())"
      ],
      "execution_count": 30,
      "outputs": [
        {
          "output_type": "stream",
          "text": [
            "r2 score corresponding to  42  is  0.5205508132024779\n",
            "r2 score corresponding to  43  is  0.7501144194982108\n",
            "r2 score corresponding to  44  is  0.5357209563117784\n",
            "r2 score corresponding to  45  is  0.6802877980038426\n",
            "r2 score corresponding to  46  is  0.6408617938785378\n",
            "r2 score corresponding to  47  is  0.6024691408227314\n",
            "r2 score corresponding to  48  is  0.663606863538328\n",
            "r2 score corresponding to  49  is  0.7610545958662609\n",
            "r2 score corresponding to  50  is  0.5896391314008279\n",
            "r2 score corresponding to  51  is  0.4786036868612614\n",
            "r2 score corresponding to  52  is  0.770086164741735\n",
            "r2 score corresponding to  53  is  0.657773121935961\n",
            "r2 score corresponding to  54  is  0.6153607393871146\n",
            "r2 score corresponding to  55  is  0.6705906245095252\n",
            "r2 score corresponding to  56  is  0.5440932231985232\n",
            "r2 score corresponding to  57  is  0.4956862603159301\n",
            "r2 score corresponding to  58  is  0.65937155129634\n",
            "r2 score corresponding to  59  is  0.5955067264071252\n",
            "r2 score corresponding to  60  is  0.7299844542366816\n",
            "r2 score corresponding to  61  is  0.6517613466321521\n",
            "r2 score corresponding to  62  is  0.6390712985757007\n",
            "r2 score corresponding to  63  is  0.6401211928622283\n",
            "r2 score corresponding to  64  is  0.6578845821735868\n",
            "r2 score corresponding to  65  is  0.6430883674996261\n",
            "r2 score corresponding to  66  is  0.4860356516769725\n",
            "r2 score corresponding to  67  is  0.5748777245666006\n",
            "r2 score corresponding to  68  is  0.6816286276651486\n",
            "r2 score corresponding to  69  is  0.6349872538934007\n",
            "r2 score corresponding to  70  is  0.6775211101563113\n",
            "r2 score corresponding to  71  is  0.7042864133897426\n",
            "r2 score corresponding to  72  is  0.6117804531232997\n",
            "r2 score corresponding to  73  is  0.5718517026523207\n",
            "r2 score corresponding to  74  is  0.6605794662644133\n",
            "r2 score corresponding to  75  is  0.4230950869644585\n",
            "r2 score corresponding to  76  is  0.6753360489371462\n",
            "r2 score corresponding to  77  is  0.6502554086370143\n",
            "r2 score corresponding to  78  is  0.5485914646916396\n",
            "r2 score corresponding to  79  is  0.5112696330562465\n",
            "r2 score corresponding to  80  is  0.4760620948467581\n",
            "r2 score corresponding to  81  is  0.6726819049121884\n",
            "r2 score corresponding to  82  is  0.7249894902545106\n",
            "r2 score corresponding to  83  is  0.5793281980071252\n",
            "r2 score corresponding to  84  is  0.5432474372752902\n",
            "r2 score corresponding to  85  is  0.5607336187426233\n",
            "r2 score corresponding to  86  is  0.5039557235583862\n",
            "r2 score corresponding to  87  is  0.5385941647595699\n",
            "r2 score corresponding to  88  is  0.5666831919494536\n",
            "r2 score corresponding to  89  is  0.5187422310564058\n",
            "r2 score corresponding to  90  is  0.7489653263026192\n",
            "r2 score corresponding to  91  is  0.608816203614296\n",
            "r2 score corresponding to  92  is  0.7355342495702555\n",
            "r2 score corresponding to  93  is  0.6526101879502724\n",
            "r2 score corresponding to  94  is  0.7007790514271647\n",
            "r2 score corresponding to  95  is  0.511748021592368\n",
            "r2 score corresponding to  96  is  0.7350182953473412\n",
            "r2 score corresponding to  97  is  0.5570125131896325\n",
            "r2 score corresponding to  98  is  0.6675487608912377\n",
            "r2 score corresponding to  99  is  0.6918955146175818\n",
            "max r2 score corresponding to  52  is  0.770086164741735\n",
            "----------------------------------------------------------------------------------------\n",
            "Mean r2 score for SVM Regression:  0.46142269694288435\n",
            "standard deviation in r2 score for SVM Regression:  0.18352899685482726\n"
          ],
          "name": "stdout"
        }
      ]
    },
    {
      "cell_type": "markdown",
      "metadata": {
        "id": "WHjJMw9Ao0a0"
      },
      "source": [
        "# 5.  GradientBoosting Regressor\n",
        "\n",
        "---\n",
        "\n",
        "\n",
        "\n",
        "---\n",
        "\n",
        "---\n",
        "\n",
        "\n",
        "\n",
        "---\n",
        "\n"
      ]
    },
    {
      "cell_type": "code",
      "metadata": {
        "id": "aVxjFLBitta-",
        "colab": {
          "base_uri": "https://localhost:8080/"
        },
        "outputId": "481c1ecc-659e-418b-d82e-a74ec5447bb8"
      },
      "source": [
        "#Now we will try to use gradient boosting technique\n",
        "#For getting best set of parmeters we will use grid search\n",
        "from sklearn.ensemble import GradientBoostingRegressor\n",
        "import warnings\n",
        "warnings.filterwarnings(\"ignore\")\n",
        "gbr=GradientBoostingRegressor()\n",
        "parameters={\"learning_rate\":[0.001,0.01,0.1,1],\"n_estimators\":[10,100,500,1000]}\n",
        "clf = GridSearchCV(gbr, parameters, cv=5)\n",
        "clf.fit(x,y)\n",
        "clf.best_params_"
      ],
      "execution_count": 22,
      "outputs": [
        {
          "output_type": "execute_result",
          "data": {
            "text/plain": [
              "{'learning_rate': 0.01, 'n_estimators': 500}"
            ]
          },
          "metadata": {
            "tags": []
          },
          "execution_count": 22
        }
      ]
    },
    {
      "cell_type": "code",
      "metadata": {
        "id": "GwrHc1zHuMop",
        "colab": {
          "base_uri": "https://localhost:8080/"
        },
        "outputId": "91e4a4d7-717c-444b-9c93-413dffb9db62"
      },
      "source": [
        "gbr=GradientBoostingRegressor(learning_rate=0.01,n_estimators=500)\n",
        "r_state=maxr2_score(gbr,x,y)\n",
        "print('----------------------------------------------------------------------------------------')\n",
        "print(\"Mean r2 score for gradient boosting Regression: \",cross_val_score(gbr,x,y,cv=5,scoring=\"r2\").mean())\n",
        "print(\"standard deviation in r2 score for gradient boosting Regression: \",cross_val_score(gbr,x,y,cv=5,scoring=\"r2\").std())"
      ],
      "execution_count": 23,
      "outputs": [
        {
          "output_type": "stream",
          "text": [
            "r2 score corresponding to  42  is  0.5695492397015001\n",
            "r2 score corresponding to  43  is  0.615020986307722\n",
            "r2 score corresponding to  44  is  0.5178497263412996\n",
            "r2 score corresponding to  45  is  0.6331594517396149\n",
            "r2 score corresponding to  46  is  0.562142574619932\n",
            "r2 score corresponding to  47  is  0.5930879060361992\n",
            "r2 score corresponding to  48  is  0.6677114020883863\n",
            "r2 score corresponding to  49  is  0.7868866990043797\n",
            "r2 score corresponding to  50  is  0.5143721555742837\n",
            "r2 score corresponding to  51  is  0.4058227660905892\n",
            "r2 score corresponding to  52  is  0.7499884431002993\n",
            "r2 score corresponding to  53  is  0.6626651974864439\n",
            "r2 score corresponding to  54  is  0.561849990736809\n",
            "r2 score corresponding to  55  is  0.6391428410452431\n",
            "r2 score corresponding to  56  is  0.5193917188425232\n",
            "r2 score corresponding to  57  is  0.46585264684701766\n",
            "r2 score corresponding to  58  is  0.5790478052196748\n",
            "r2 score corresponding to  59  is  0.6134173750793275\n",
            "r2 score corresponding to  60  is  0.7013712167155894\n",
            "r2 score corresponding to  61  is  0.6630528218224366\n",
            "r2 score corresponding to  62  is  0.6495975882841707\n",
            "r2 score corresponding to  63  is  0.535045351421447\n",
            "r2 score corresponding to  64  is  0.6118073774329125\n",
            "r2 score corresponding to  65  is  0.5971048327005843\n",
            "r2 score corresponding to  66  is  0.4093467955253649\n",
            "r2 score corresponding to  67  is  0.5461012618237981\n",
            "r2 score corresponding to  68  is  0.5427270147508065\n",
            "r2 score corresponding to  69  is  0.6395642198414738\n",
            "r2 score corresponding to  70  is  0.5655270538226846\n",
            "r2 score corresponding to  71  is  0.5846416207836391\n",
            "r2 score corresponding to  72  is  0.5260329136665896\n",
            "r2 score corresponding to  73  is  0.46251074016051763\n",
            "r2 score corresponding to  74  is  0.5762250256902091\n",
            "r2 score corresponding to  75  is  0.44607873778866114\n",
            "r2 score corresponding to  76  is  0.5668710207161403\n",
            "r2 score corresponding to  77  is  0.6125204329281516\n",
            "r2 score corresponding to  78  is  0.431510808140222\n",
            "r2 score corresponding to  79  is  0.401570430216439\n",
            "r2 score corresponding to  80  is  0.4456530358393451\n",
            "r2 score corresponding to  81  is  0.6115242682557458\n",
            "r2 score corresponding to  82  is  0.709692121650948\n",
            "r2 score corresponding to  83  is  0.537563085255465\n",
            "r2 score corresponding to  84  is  0.5235592240067858\n",
            "r2 score corresponding to  85  is  0.4410014402567882\n",
            "r2 score corresponding to  86  is  0.5331064440072673\n",
            "r2 score corresponding to  87  is  0.4881687396251626\n",
            "r2 score corresponding to  88  is  0.540852968076712\n",
            "r2 score corresponding to  89  is  0.4162906327552949\n",
            "r2 score corresponding to  90  is  0.7604940628124888\n",
            "r2 score corresponding to  91  is  0.5939571132914097\n",
            "r2 score corresponding to  92  is  0.6990444285273325\n",
            "r2 score corresponding to  93  is  0.6072096426683277\n",
            "r2 score corresponding to  94  is  0.6366400940819166\n",
            "r2 score corresponding to  95  is  0.46310223416534246\n",
            "r2 score corresponding to  96  is  0.7217139369417507\n",
            "r2 score corresponding to  97  is  0.5337694507514861\n",
            "r2 score corresponding to  98  is  0.6445167965468173\n",
            "r2 score corresponding to  99  is  0.7251458878167631\n",
            "max r2 score corresponding to  49  is  0.7868866990043797\n",
            "----------------------------------------------------------------------------------------\n",
            "Mean r2 score for gradient boosting Regression:  0.4136873846341462\n",
            "standard deviation in r2 score for gradient boosting Regression:  0.18418127497756684\n"
          ],
          "name": "stdout"
        }
      ]
    },
    {
      "cell_type": "markdown",
      "metadata": {
        "id": "5VV_wlLBppys"
      },
      "source": [
        "# 6. AdaBoost Regressor\n",
        "\n",
        "---\n",
        "\n",
        "\n",
        "\n",
        "---\n",
        "\n",
        "\n",
        "\n",
        "---\n",
        "\n"
      ]
    },
    {
      "cell_type": "code",
      "metadata": {
        "id": "keDsYZCUuosg",
        "colab": {
          "base_uri": "https://localhost:8080/"
        },
        "outputId": "301ec268-ec7a-4814-f500-8dff6a13deb6"
      },
      "source": [
        "#Now Lets use ada boost regression alagorithm\n",
        "from sklearn.ensemble import AdaBoostRegressor\n",
        "from sklearn.tree import DecisionTreeRegressor\n",
        "ada_reg=AdaBoostRegressor()\n",
        "parameters={\"learning_rate\":[0.001,0.01,0.1,1],\"n_estimators\":[10,100,500,1000],\"base_estimator\":[lreg,lsreg,DecisionTreeRegressor()]}\n",
        "clf = GridSearchCV(ada_reg, parameters, cv=5)\n",
        "clf.fit(x,y)\n",
        "clf.best_params_"
      ],
      "execution_count": 25,
      "outputs": [
        {
          "output_type": "execute_result",
          "data": {
            "text/plain": [
              "{'base_estimator': LinearRegression(copy_X=True, fit_intercept=True, n_jobs=None, normalize=False),\n",
              " 'learning_rate': 1,\n",
              " 'n_estimators': 10}"
            ]
          },
          "metadata": {
            "tags": []
          },
          "execution_count": 25
        }
      ]
    },
    {
      "cell_type": "code",
      "metadata": {
        "id": "_FAMwcAnxtnl",
        "colab": {
          "base_uri": "https://localhost:8080/"
        },
        "outputId": "02fe1ecc-eaa0-4874-8280-dfc01af0f933"
      },
      "source": [
        "ada_reg=AdaBoostRegressor(base_estimator=lreg,learning_rate=1,n_estimators=10)\n",
        "r_state=maxr2_score(ada_reg,x,y)\n",
        "print('----------------------------------------------------------------------------------------')\n",
        "print(\"Mean r2 score for AdaBoost Regressor: \",cross_val_score(ada_reg,x,y,cv=5,scoring=\"r2\").mean())\n",
        "print(\"standard deviation in r2 score for AdaBoost Regressor: \",cross_val_score(ada_reg,x,y,cv=5,scoring=\"r2\").std())"
      ],
      "execution_count": 26,
      "outputs": [
        {
          "output_type": "stream",
          "text": [
            "r2 score corresponding to  42  is  0.5086608886570827\n",
            "r2 score corresponding to  43  is  0.7499844717410658\n",
            "r2 score corresponding to  44  is  0.5267871762416482\n",
            "r2 score corresponding to  45  is  0.7296654631110762\n",
            "r2 score corresponding to  46  is  0.6351914515050081\n",
            "r2 score corresponding to  47  is  0.6363515566948892\n",
            "r2 score corresponding to  48  is  0.6671221584193732\n",
            "r2 score corresponding to  49  is  0.7632079425723008\n",
            "r2 score corresponding to  50  is  0.5887981871155004\n",
            "r2 score corresponding to  51  is  0.47004988730592645\n",
            "r2 score corresponding to  52  is  0.76462379328766\n",
            "r2 score corresponding to  53  is  0.6551072335930541\n",
            "r2 score corresponding to  54  is  0.6184819934876076\n",
            "r2 score corresponding to  55  is  0.6795808420680605\n",
            "r2 score corresponding to  56  is  0.5669916898595817\n",
            "r2 score corresponding to  57  is  0.5031270519350612\n",
            "r2 score corresponding to  58  is  0.6404632911926329\n",
            "r2 score corresponding to  59  is  0.5864421517434288\n",
            "r2 score corresponding to  60  is  0.7290125903475553\n",
            "r2 score corresponding to  61  is  0.6402621139017125\n",
            "r2 score corresponding to  62  is  0.6537080034064988\n",
            "r2 score corresponding to  63  is  0.6415996980859091\n",
            "r2 score corresponding to  64  is  0.6610568106087196\n",
            "r2 score corresponding to  65  is  0.6379724316295278\n",
            "r2 score corresponding to  66  is  0.4648301996793214\n",
            "r2 score corresponding to  67  is  0.5930648657587136\n",
            "r2 score corresponding to  68  is  0.6865037915874677\n",
            "r2 score corresponding to  69  is  0.6377776628740904\n",
            "r2 score corresponding to  70  is  0.6483079025526892\n",
            "r2 score corresponding to  71  is  0.6947490632659329\n",
            "r2 score corresponding to  72  is  0.6196152459416975\n",
            "r2 score corresponding to  73  is  0.563116438569771\n",
            "r2 score corresponding to  74  is  0.6651485070872425\n",
            "r2 score corresponding to  75  is  0.4313185143264716\n",
            "r2 score corresponding to  76  is  0.6490429355791785\n",
            "r2 score corresponding to  77  is  0.6377151397013061\n",
            "r2 score corresponding to  78  is  0.5460988326950464\n",
            "r2 score corresponding to  79  is  0.509609999675395\n",
            "r2 score corresponding to  80  is  0.481039679964928\n",
            "r2 score corresponding to  81  is  0.6821576039811696\n",
            "r2 score corresponding to  82  is  0.7345364177229652\n",
            "r2 score corresponding to  83  is  0.5447051198244997\n",
            "r2 score corresponding to  84  is  0.532781268380077\n",
            "r2 score corresponding to  85  is  0.5617358242975652\n",
            "r2 score corresponding to  86  is  0.511210429048927\n",
            "r2 score corresponding to  87  is  0.5539060643604335\n",
            "r2 score corresponding to  88  is  0.5649173912287124\n",
            "r2 score corresponding to  89  is  0.5185165267244998\n",
            "r2 score corresponding to  90  is  0.7432085040381783\n",
            "r2 score corresponding to  91  is  0.6093698697963641\n",
            "r2 score corresponding to  92  is  0.7311467099321427\n",
            "r2 score corresponding to  93  is  0.6612754190850991\n",
            "r2 score corresponding to  94  is  0.6931093051755279\n",
            "r2 score corresponding to  95  is  0.4866142436798774\n",
            "r2 score corresponding to  96  is  0.7511330965832983\n",
            "r2 score corresponding to  97  is  0.5683589331817847\n",
            "r2 score corresponding to  98  is  0.6658145581119914\n",
            "r2 score corresponding to  99  is  0.7158059162174819\n",
            "max r2 score corresponding to  52  is  0.76462379328766\n",
            "----------------------------------------------------------------------------------------\n",
            "Mean r2 score for AdaBoost Regressor:  0.4605769945072547\n",
            "standard deviation in r2 score for AdaBoost Regressor:  0.14046272250721337\n"
          ],
          "name": "stdout"
        }
      ]
    },
    {
      "cell_type": "markdown",
      "metadata": {
        "id": "BYUifNv0qFjT"
      },
      "source": [
        "# **7. RandomForest Regressor**\n",
        "\n",
        "---\n",
        "\n",
        "\n",
        "\n",
        "---\n",
        "\n",
        "\n",
        "\n",
        "---\n",
        "\n"
      ]
    },
    {
      "cell_type": "code",
      "metadata": {
        "id": "IX4H-E_gysnk",
        "colab": {
          "base_uri": "https://localhost:8080/"
        },
        "outputId": "7aba8e40-5d0a-44d0-da05-ae2be1640fbe"
      },
      "source": [
        "#lets use random forest regressor\n",
        "from sklearn.ensemble import RandomForestRegressor\n",
        "from sklearn.model_selection import GridSearchCV\n",
        "import warnings\n",
        "warnings.filterwarnings(\"ignore\")\n",
        "rfr=RandomForestRegressor()\n",
        "parameters = {\"n_estimators\":[10,100,500,1000]}\n",
        "clf = GridSearchCV(rfr, parameters, cv=5)\n",
        "clf.fit(x,y)\n",
        "clf.best_params_"
      ],
      "execution_count": 27,
      "outputs": [
        {
          "output_type": "execute_result",
          "data": {
            "text/plain": [
              "{'n_estimators': 10}"
            ]
          },
          "metadata": {
            "tags": []
          },
          "execution_count": 27
        }
      ]
    },
    {
      "cell_type": "code",
      "metadata": {
        "id": "MpUBV67GzNzj",
        "colab": {
          "base_uri": "https://localhost:8080/"
        },
        "outputId": "61ce50cd-0bae-40a1-cf2e-b4874f7f91c5"
      },
      "source": [
        "rfr=RandomForestRegressor(n_estimators=10)\n",
        "r_state=maxr2_score(rfr,x,y)\n",
        "print('----------------------------------------------------------------------------------------')\n",
        "print(\"Mean r2 score for rfr: \",cross_val_score(rfr,x,y,cv=5,scoring=\"r2\").mean())\n",
        "print(\"standard deviation in r2 score for rfr: \",cross_val_score(rfr,x,y,cv=5,scoring=\"r2\").std())"
      ],
      "execution_count": 28,
      "outputs": [
        {
          "output_type": "stream",
          "text": [
            "r2 score corresponding to  42  is  0.44231432328498\n",
            "r2 score corresponding to  43  is  0.4861499332814657\n",
            "r2 score corresponding to  44  is  0.3409963765064552\n",
            "r2 score corresponding to  45  is  0.5262505964011082\n",
            "r2 score corresponding to  46  is  0.44127117926032144\n",
            "r2 score corresponding to  47  is  0.5134920738409186\n",
            "r2 score corresponding to  48  is  0.6104394060442111\n",
            "r2 score corresponding to  49  is  0.7440584831919641\n",
            "r2 score corresponding to  50  is  0.41993418722182974\n",
            "r2 score corresponding to  51  is  0.35714106591892925\n",
            "r2 score corresponding to  52  is  0.7006680007621018\n",
            "r2 score corresponding to  53  is  0.49950480608053005\n",
            "r2 score corresponding to  54  is  0.4338809054503484\n",
            "r2 score corresponding to  55  is  0.5227833541764699\n",
            "r2 score corresponding to  56  is  0.4246616330872519\n",
            "r2 score corresponding to  57  is  0.23927712676715795\n",
            "r2 score corresponding to  58  is  0.41689439144565754\n",
            "r2 score corresponding to  59  is  0.38857657968276993\n",
            "r2 score corresponding to  60  is  0.5809644084574459\n",
            "r2 score corresponding to  61  is  0.5636969500691174\n",
            "r2 score corresponding to  62  is  0.5631635551302014\n",
            "r2 score corresponding to  63  is  0.3867088739293266\n",
            "r2 score corresponding to  64  is  0.5645397314767304\n",
            "r2 score corresponding to  65  is  0.48831455867171514\n",
            "r2 score corresponding to  66  is  0.23788230647419895\n",
            "r2 score corresponding to  67  is  0.26914668332322966\n",
            "r2 score corresponding to  68  is  0.44305648327556624\n",
            "r2 score corresponding to  69  is  0.5387593492750944\n",
            "r2 score corresponding to  70  is  0.4226633912695382\n",
            "r2 score corresponding to  71  is  0.4898262990678166\n",
            "r2 score corresponding to  72  is  0.28786758905967835\n",
            "r2 score corresponding to  73  is  0.24860674810301264\n",
            "r2 score corresponding to  74  is  0.3644186122785351\n",
            "r2 score corresponding to  75  is  0.34319542129832514\n",
            "r2 score corresponding to  76  is  0.3868162754755562\n",
            "r2 score corresponding to  77  is  0.4590319661348763\n",
            "r2 score corresponding to  78  is  0.384115531007609\n",
            "r2 score corresponding to  79  is  0.3028008028993272\n",
            "r2 score corresponding to  80  is  0.35286451471559277\n",
            "r2 score corresponding to  81  is  0.5617319547298254\n",
            "r2 score corresponding to  82  is  0.6823045234673213\n",
            "r2 score corresponding to  83  is  0.2859257777336892\n",
            "r2 score corresponding to  84  is  0.4142833147295736\n",
            "r2 score corresponding to  85  is  0.27508343627664733\n",
            "r2 score corresponding to  86  is  0.4675857879098033\n",
            "r2 score corresponding to  87  is  0.41068016801948226\n",
            "r2 score corresponding to  88  is  0.41610618202570415\n",
            "r2 score corresponding to  89  is  0.33105708514929333\n",
            "r2 score corresponding to  90  is  0.6262939810627901\n",
            "r2 score corresponding to  91  is  0.5181233830922423\n",
            "r2 score corresponding to  92  is  0.6085765986755598\n",
            "r2 score corresponding to  93  is  0.4400686796791339\n",
            "r2 score corresponding to  94  is  0.5440631891950038\n",
            "r2 score corresponding to  95  is  0.2971811197321358\n",
            "r2 score corresponding to  96  is  0.6769052615201994\n",
            "r2 score corresponding to  97  is  0.4486001198067846\n",
            "r2 score corresponding to  98  is  0.5824103705094268\n",
            "r2 score corresponding to  99  is  0.5655607887461493\n",
            "max r2 score corresponding to  49  is  0.7440584831919641\n",
            "----------------------------------------------------------------------------------------\n",
            "Mean r2 score for rfr:  0.205557104232384\n",
            "standard deviation in r2 score for rfr:  0.23810931570040453\n"
          ],
          "name": "stdout"
        }
      ]
    },
    {
      "cell_type": "code",
      "metadata": {
        "id": "RnNKmerlCzLi"
      },
      "source": [
        "x_train, x_test, y_train, y_test = train_test_split(x, y,random_state =49,test_size=0.20)\n",
        "gbr=GradientBoostingRegressor(learning_rate=0.01,n_estimators=500)\n",
        "gbr.fit(x_train,y_train)\n",
        "y_pred=gbr.predict(x_test)"
      ],
      "execution_count": 31,
      "outputs": []
    },
    {
      "cell_type": "code",
      "metadata": {
        "id": "b-2wcIK0ED46",
        "colab": {
          "base_uri": "https://localhost:8080/"
        },
        "outputId": "3df6d84c-3a88-419d-856e-14ac1bce0c49"
      },
      "source": [
        "#Lets find the rmse and r2_score using sklearn.metrics\n",
        "import numpy as np\n",
        "from sklearn.metrics import r2_score\n",
        "from sklearn.metrics import mean_squared_error\n",
        "print(\"RMSE is: \",np.sqrt(mean_squared_error(y_test,y_pred)))\n",
        "print(\"r2_score is: \",r2_score(y_test,y_pred))\n"
      ],
      "execution_count": 32,
      "outputs": [
        {
          "output_type": "stream",
          "text": [
            "RMSE is:  54.70516766137211\n",
            "r2_score is:  0.7868866990043797\n"
          ],
          "name": "stdout"
        }
      ]
    }
  ]
}