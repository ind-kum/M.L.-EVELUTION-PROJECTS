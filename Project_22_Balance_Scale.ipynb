{
 "cells": [
  {
   "cell_type": "code",
   "execution_count": 1,
   "metadata": {},
   "outputs": [
    {
     "data": {
      "text/html": [
       "<div>\n",
       "<style scoped>\n",
       "    .dataframe tbody tr th:only-of-type {\n",
       "        vertical-align: middle;\n",
       "    }\n",
       "\n",
       "    .dataframe tbody tr th {\n",
       "        vertical-align: top;\n",
       "    }\n",
       "\n",
       "    .dataframe thead th {\n",
       "        text-align: right;\n",
       "    }\n",
       "</style>\n",
       "<table border=\"1\" class=\"dataframe\">\n",
       "  <thead>\n",
       "    <tr style=\"text-align: right;\">\n",
       "      <th></th>\n",
       "      <th>B</th>\n",
       "      <th>1</th>\n",
       "      <th>1.1</th>\n",
       "      <th>1.2</th>\n",
       "      <th>1.3</th>\n",
       "    </tr>\n",
       "  </thead>\n",
       "  <tbody>\n",
       "    <tr>\n",
       "      <th>0</th>\n",
       "      <td>R</td>\n",
       "      <td>1</td>\n",
       "      <td>1</td>\n",
       "      <td>1</td>\n",
       "      <td>2</td>\n",
       "    </tr>\n",
       "    <tr>\n",
       "      <th>1</th>\n",
       "      <td>R</td>\n",
       "      <td>1</td>\n",
       "      <td>1</td>\n",
       "      <td>1</td>\n",
       "      <td>3</td>\n",
       "    </tr>\n",
       "    <tr>\n",
       "      <th>2</th>\n",
       "      <td>R</td>\n",
       "      <td>1</td>\n",
       "      <td>1</td>\n",
       "      <td>1</td>\n",
       "      <td>4</td>\n",
       "    </tr>\n",
       "    <tr>\n",
       "      <th>3</th>\n",
       "      <td>R</td>\n",
       "      <td>1</td>\n",
       "      <td>1</td>\n",
       "      <td>1</td>\n",
       "      <td>5</td>\n",
       "    </tr>\n",
       "    <tr>\n",
       "      <th>4</th>\n",
       "      <td>R</td>\n",
       "      <td>1</td>\n",
       "      <td>1</td>\n",
       "      <td>2</td>\n",
       "      <td>1</td>\n",
       "    </tr>\n",
       "    <tr>\n",
       "      <th>...</th>\n",
       "      <td>...</td>\n",
       "      <td>...</td>\n",
       "      <td>...</td>\n",
       "      <td>...</td>\n",
       "      <td>...</td>\n",
       "    </tr>\n",
       "    <tr>\n",
       "      <th>619</th>\n",
       "      <td>L</td>\n",
       "      <td>5</td>\n",
       "      <td>5</td>\n",
       "      <td>5</td>\n",
       "      <td>1</td>\n",
       "    </tr>\n",
       "    <tr>\n",
       "      <th>620</th>\n",
       "      <td>L</td>\n",
       "      <td>5</td>\n",
       "      <td>5</td>\n",
       "      <td>5</td>\n",
       "      <td>2</td>\n",
       "    </tr>\n",
       "    <tr>\n",
       "      <th>621</th>\n",
       "      <td>L</td>\n",
       "      <td>5</td>\n",
       "      <td>5</td>\n",
       "      <td>5</td>\n",
       "      <td>3</td>\n",
       "    </tr>\n",
       "    <tr>\n",
       "      <th>622</th>\n",
       "      <td>L</td>\n",
       "      <td>5</td>\n",
       "      <td>5</td>\n",
       "      <td>5</td>\n",
       "      <td>4</td>\n",
       "    </tr>\n",
       "    <tr>\n",
       "      <th>623</th>\n",
       "      <td>B</td>\n",
       "      <td>5</td>\n",
       "      <td>5</td>\n",
       "      <td>5</td>\n",
       "      <td>5</td>\n",
       "    </tr>\n",
       "  </tbody>\n",
       "</table>\n",
       "<p>624 rows × 5 columns</p>\n",
       "</div>"
      ],
      "text/plain": [
       "     B  1  1.1  1.2  1.3\n",
       "0    R  1    1    1    2\n",
       "1    R  1    1    1    3\n",
       "2    R  1    1    1    4\n",
       "3    R  1    1    1    5\n",
       "4    R  1    1    2    1\n",
       "..  .. ..  ...  ...  ...\n",
       "619  L  5    5    5    1\n",
       "620  L  5    5    5    2\n",
       "621  L  5    5    5    3\n",
       "622  L  5    5    5    4\n",
       "623  B  5    5    5    5\n",
       "\n",
       "[624 rows x 5 columns]"
      ]
     },
     "execution_count": 1,
     "metadata": {},
     "output_type": "execute_result"
    }
   ],
   "source": [
    "import pandas as pd\n",
    "df=pd.read_csv(\"https://archive.ics.uci.edu/ml/machine-learning-databases/balance-scale/balance-scale.data\")\n",
    "df"
   ]
  },
  {
   "cell_type": "code",
   "execution_count": 2,
   "metadata": {},
   "outputs": [
    {
     "data": {
      "text/html": [
       "<div>\n",
       "<style scoped>\n",
       "    .dataframe tbody tr th:only-of-type {\n",
       "        vertical-align: middle;\n",
       "    }\n",
       "\n",
       "    .dataframe tbody tr th {\n",
       "        vertical-align: top;\n",
       "    }\n",
       "\n",
       "    .dataframe thead th {\n",
       "        text-align: right;\n",
       "    }\n",
       "</style>\n",
       "<table border=\"1\" class=\"dataframe\">\n",
       "  <thead>\n",
       "    <tr style=\"text-align: right;\">\n",
       "      <th></th>\n",
       "      <th>target</th>\n",
       "      <th>col1</th>\n",
       "      <th>col2</th>\n",
       "      <th>col3</th>\n",
       "      <th>col4</th>\n",
       "    </tr>\n",
       "  </thead>\n",
       "  <tbody>\n",
       "    <tr>\n",
       "      <th>0</th>\n",
       "      <td>R</td>\n",
       "      <td>1</td>\n",
       "      <td>1</td>\n",
       "      <td>1</td>\n",
       "      <td>2</td>\n",
       "    </tr>\n",
       "    <tr>\n",
       "      <th>1</th>\n",
       "      <td>R</td>\n",
       "      <td>1</td>\n",
       "      <td>1</td>\n",
       "      <td>1</td>\n",
       "      <td>3</td>\n",
       "    </tr>\n",
       "    <tr>\n",
       "      <th>2</th>\n",
       "      <td>R</td>\n",
       "      <td>1</td>\n",
       "      <td>1</td>\n",
       "      <td>1</td>\n",
       "      <td>4</td>\n",
       "    </tr>\n",
       "    <tr>\n",
       "      <th>3</th>\n",
       "      <td>R</td>\n",
       "      <td>1</td>\n",
       "      <td>1</td>\n",
       "      <td>1</td>\n",
       "      <td>5</td>\n",
       "    </tr>\n",
       "    <tr>\n",
       "      <th>4</th>\n",
       "      <td>R</td>\n",
       "      <td>1</td>\n",
       "      <td>1</td>\n",
       "      <td>2</td>\n",
       "      <td>1</td>\n",
       "    </tr>\n",
       "    <tr>\n",
       "      <th>...</th>\n",
       "      <td>...</td>\n",
       "      <td>...</td>\n",
       "      <td>...</td>\n",
       "      <td>...</td>\n",
       "      <td>...</td>\n",
       "    </tr>\n",
       "    <tr>\n",
       "      <th>619</th>\n",
       "      <td>L</td>\n",
       "      <td>5</td>\n",
       "      <td>5</td>\n",
       "      <td>5</td>\n",
       "      <td>1</td>\n",
       "    </tr>\n",
       "    <tr>\n",
       "      <th>620</th>\n",
       "      <td>L</td>\n",
       "      <td>5</td>\n",
       "      <td>5</td>\n",
       "      <td>5</td>\n",
       "      <td>2</td>\n",
       "    </tr>\n",
       "    <tr>\n",
       "      <th>621</th>\n",
       "      <td>L</td>\n",
       "      <td>5</td>\n",
       "      <td>5</td>\n",
       "      <td>5</td>\n",
       "      <td>3</td>\n",
       "    </tr>\n",
       "    <tr>\n",
       "      <th>622</th>\n",
       "      <td>L</td>\n",
       "      <td>5</td>\n",
       "      <td>5</td>\n",
       "      <td>5</td>\n",
       "      <td>4</td>\n",
       "    </tr>\n",
       "    <tr>\n",
       "      <th>623</th>\n",
       "      <td>B</td>\n",
       "      <td>5</td>\n",
       "      <td>5</td>\n",
       "      <td>5</td>\n",
       "      <td>5</td>\n",
       "    </tr>\n",
       "  </tbody>\n",
       "</table>\n",
       "<p>624 rows × 5 columns</p>\n",
       "</div>"
      ],
      "text/plain": [
       "    target  col1  col2  col3  col4\n",
       "0        R     1     1     1     2\n",
       "1        R     1     1     1     3\n",
       "2        R     1     1     1     4\n",
       "3        R     1     1     1     5\n",
       "4        R     1     1     2     1\n",
       "..     ...   ...   ...   ...   ...\n",
       "619      L     5     5     5     1\n",
       "620      L     5     5     5     2\n",
       "621      L     5     5     5     3\n",
       "622      L     5     5     5     4\n",
       "623      B     5     5     5     5\n",
       "\n",
       "[624 rows x 5 columns]"
      ]
     },
     "execution_count": 2,
     "metadata": {},
     "output_type": "execute_result"
    }
   ],
   "source": [
    "#lets provide column names to the dataframe\n",
    "df.columns=[\"target\",\"col1\",\"col2\",\"col3\",\"col4\"]\n",
    "df"
   ]
  },
  {
   "cell_type": "code",
   "execution_count": 3,
   "metadata": {},
   "outputs": [
    {
     "data": {
      "text/plain": [
       "target    0\n",
       "col1      0\n",
       "col2      0\n",
       "col3      0\n",
       "col4      0\n",
       "dtype: int64"
      ]
     },
     "execution_count": 3,
     "metadata": {},
     "output_type": "execute_result"
    }
   ],
   "source": [
    "#Lets check whether null values are present or not\n",
    "df.isnull().sum()\n",
    "#there are no null values"
   ]
  },
  {
   "cell_type": "code",
   "execution_count": 4,
   "metadata": {},
   "outputs": [
    {
     "data": {
      "text/html": [
       "<div>\n",
       "<style scoped>\n",
       "    .dataframe tbody tr th:only-of-type {\n",
       "        vertical-align: middle;\n",
       "    }\n",
       "\n",
       "    .dataframe tbody tr th {\n",
       "        vertical-align: top;\n",
       "    }\n",
       "\n",
       "    .dataframe thead th {\n",
       "        text-align: right;\n",
       "    }\n",
       "</style>\n",
       "<table border=\"1\" class=\"dataframe\">\n",
       "  <thead>\n",
       "    <tr style=\"text-align: right;\">\n",
       "      <th></th>\n",
       "      <th>col1</th>\n",
       "      <th>col2</th>\n",
       "      <th>col3</th>\n",
       "      <th>col4</th>\n",
       "    </tr>\n",
       "  </thead>\n",
       "  <tbody>\n",
       "    <tr>\n",
       "      <th>count</th>\n",
       "      <td>624.000000</td>\n",
       "      <td>624.000000</td>\n",
       "      <td>624.000000</td>\n",
       "      <td>624.000000</td>\n",
       "    </tr>\n",
       "    <tr>\n",
       "      <th>mean</th>\n",
       "      <td>3.003205</td>\n",
       "      <td>3.003205</td>\n",
       "      <td>3.003205</td>\n",
       "      <td>3.003205</td>\n",
       "    </tr>\n",
       "    <tr>\n",
       "      <th>std</th>\n",
       "      <td>1.414210</td>\n",
       "      <td>1.414210</td>\n",
       "      <td>1.414210</td>\n",
       "      <td>1.414210</td>\n",
       "    </tr>\n",
       "    <tr>\n",
       "      <th>min</th>\n",
       "      <td>1.000000</td>\n",
       "      <td>1.000000</td>\n",
       "      <td>1.000000</td>\n",
       "      <td>1.000000</td>\n",
       "    </tr>\n",
       "    <tr>\n",
       "      <th>25%</th>\n",
       "      <td>2.000000</td>\n",
       "      <td>2.000000</td>\n",
       "      <td>2.000000</td>\n",
       "      <td>2.000000</td>\n",
       "    </tr>\n",
       "    <tr>\n",
       "      <th>50%</th>\n",
       "      <td>3.000000</td>\n",
       "      <td>3.000000</td>\n",
       "      <td>3.000000</td>\n",
       "      <td>3.000000</td>\n",
       "    </tr>\n",
       "    <tr>\n",
       "      <th>75%</th>\n",
       "      <td>4.000000</td>\n",
       "      <td>4.000000</td>\n",
       "      <td>4.000000</td>\n",
       "      <td>4.000000</td>\n",
       "    </tr>\n",
       "    <tr>\n",
       "      <th>max</th>\n",
       "      <td>5.000000</td>\n",
       "      <td>5.000000</td>\n",
       "      <td>5.000000</td>\n",
       "      <td>5.000000</td>\n",
       "    </tr>\n",
       "  </tbody>\n",
       "</table>\n",
       "</div>"
      ],
      "text/plain": [
       "             col1        col2        col3        col4\n",
       "count  624.000000  624.000000  624.000000  624.000000\n",
       "mean     3.003205    3.003205    3.003205    3.003205\n",
       "std      1.414210    1.414210    1.414210    1.414210\n",
       "min      1.000000    1.000000    1.000000    1.000000\n",
       "25%      2.000000    2.000000    2.000000    2.000000\n",
       "50%      3.000000    3.000000    3.000000    3.000000\n",
       "75%      4.000000    4.000000    4.000000    4.000000\n",
       "max      5.000000    5.000000    5.000000    5.000000"
      ]
     },
     "execution_count": 4,
     "metadata": {},
     "output_type": "execute_result"
    }
   ],
   "source": [
    "#lets describe the dataframe\n",
    "df.describe()"
   ]
  },
  {
   "cell_type": "code",
   "execution_count": 5,
   "metadata": {},
   "outputs": [
    {
     "data": {
      "text/html": [
       "<div>\n",
       "<style scoped>\n",
       "    .dataframe tbody tr th:only-of-type {\n",
       "        vertical-align: middle;\n",
       "    }\n",
       "\n",
       "    .dataframe tbody tr th {\n",
       "        vertical-align: top;\n",
       "    }\n",
       "\n",
       "    .dataframe thead th {\n",
       "        text-align: right;\n",
       "    }\n",
       "</style>\n",
       "<table border=\"1\" class=\"dataframe\">\n",
       "  <thead>\n",
       "    <tr style=\"text-align: right;\">\n",
       "      <th></th>\n",
       "      <th>col1</th>\n",
       "      <th>col2</th>\n",
       "      <th>col3</th>\n",
       "      <th>col4</th>\n",
       "    </tr>\n",
       "  </thead>\n",
       "  <tbody>\n",
       "    <tr>\n",
       "      <th>col1</th>\n",
       "      <td>1.000000</td>\n",
       "      <td>-0.003215</td>\n",
       "      <td>-0.003215</td>\n",
       "      <td>-0.003215</td>\n",
       "    </tr>\n",
       "    <tr>\n",
       "      <th>col2</th>\n",
       "      <td>-0.003215</td>\n",
       "      <td>1.000000</td>\n",
       "      <td>-0.003215</td>\n",
       "      <td>-0.003215</td>\n",
       "    </tr>\n",
       "    <tr>\n",
       "      <th>col3</th>\n",
       "      <td>-0.003215</td>\n",
       "      <td>-0.003215</td>\n",
       "      <td>1.000000</td>\n",
       "      <td>-0.003215</td>\n",
       "    </tr>\n",
       "    <tr>\n",
       "      <th>col4</th>\n",
       "      <td>-0.003215</td>\n",
       "      <td>-0.003215</td>\n",
       "      <td>-0.003215</td>\n",
       "      <td>1.000000</td>\n",
       "    </tr>\n",
       "  </tbody>\n",
       "</table>\n",
       "</div>"
      ],
      "text/plain": [
       "          col1      col2      col3      col4\n",
       "col1  1.000000 -0.003215 -0.003215 -0.003215\n",
       "col2 -0.003215  1.000000 -0.003215 -0.003215\n",
       "col3 -0.003215 -0.003215  1.000000 -0.003215\n",
       "col4 -0.003215 -0.003215 -0.003215  1.000000"
      ]
     },
     "execution_count": 5,
     "metadata": {},
     "output_type": "execute_result"
    }
   ],
   "source": [
    "#lets chcek the correlation\n",
    "df.corr()"
   ]
  },
  {
   "cell_type": "code",
   "execution_count": 6,
   "metadata": {},
   "outputs": [
    {
     "data": {
      "text/plain": [
       "col1   -0.002266\n",
       "col2   -0.002266\n",
       "col3   -0.002266\n",
       "col4   -0.002266\n",
       "dtype: float64"
      ]
     },
     "execution_count": 6,
     "metadata": {},
     "output_type": "execute_result"
    }
   ],
   "source": [
    "#lets chcek the skewness of the dataset\n",
    "df.skew()\n",
    "#there is no skewness at all"
   ]
  },
  {
   "cell_type": "code",
   "execution_count": 7,
   "metadata": {},
   "outputs": [
    {
     "data": {
      "image/png": "[encoded data removed]",
      "text/plain": [
       "<Figure size 432x288 with 1 Axes>"
      ]
     },
     "metadata": {
      "needs_background": "light"
     },
     "output_type": "display_data"
    }
   ],
   "source": [
    "#Lets chcek the count of each type of target class\n",
    "import seaborn as sns\n",
    "import matplotlib.pyplot as plt\n",
    "sns.countplot(x=\"target\",data=df)\n",
    "plt.show()\n",
    "#count of B type is very less\n",
    "#L and R have equal counts"
   ]
  },
  {
   "cell_type": "code",
   "execution_count": 8,
   "metadata": {},
   "outputs": [],
   "source": [
    "#lets divide input and output\n",
    "df_x=df.drop(columns=[\"target\"])\n",
    "y=df[[\"target\"]]"
   ]
  },
  {
   "cell_type": "code",
   "execution_count": 9,
   "metadata": {},
   "outputs": [],
   "source": [
    "#let's bring the features to same scale\n",
    "from sklearn.preprocessing import StandardScaler\n",
    "sc=StandardScaler()\n",
    "sc.fit(df_x)\n",
    "x=sc.transform(df_x)\n",
    "x=pd.DataFrame(x,columns=df_x.columns)"
   ]
  },
  {
   "cell_type": "code",
   "execution_count": 10,
   "metadata": {},
   "outputs": [
    {
     "name": "stderr",
     "output_type": "stream",
     "text": [
      "C:\\ProgramData\\Anaconda3\\lib\\site-packages\\sklearn\\preprocessing\\_label.py:235: DataConversionWarning: A column-vector y was passed when a 1d array was expected. Please change the shape of y to (n_samples, ), for example using ravel().\n",
      "  y = column_or_1d(y, warn=True)\n",
      "C:\\ProgramData\\Anaconda3\\lib\\site-packages\\sklearn\\preprocessing\\_label.py:268: DataConversionWarning: A column-vector y was passed when a 1d array was expected. Please change the shape of y to (n_samples, ), for example using ravel().\n",
      "  y = column_or_1d(y, warn=True)\n"
     ]
    },
    {
     "data": {
      "text/plain": [
       "array([2, 2, 2, 2, 2, 2, 2, 2, 2, 2, 2, 2, 2, 2, 2, 2, 2, 2, 2, 2, 2, 2,\n",
       "       2, 2, 1, 0, 2, 2, 2, 0, 2, 2, 2, 2, 2, 2, 2, 2, 2, 2, 2, 2, 2, 2,\n",
       "       2, 2, 2, 2, 2, 1, 1, 0, 2, 2, 1, 2, 2, 2, 2, 0, 2, 2, 2, 2, 2, 2,\n",
       "       2, 2, 2, 2, 2, 2, 2, 2, 1, 1, 1, 0, 2, 1, 0, 2, 2, 2, 1, 2, 2, 2,\n",
       "       2, 0, 2, 2, 2, 2, 2, 2, 2, 2, 2, 1, 1, 1, 1, 0, 1, 1, 2, 2, 2, 1,\n",
       "       2, 2, 2, 2, 1, 2, 2, 2, 2, 0, 2, 2, 2, 2, 1, 0, 2, 2, 2, 0, 2, 2,\n",
       "       2, 2, 2, 2, 2, 2, 2, 2, 2, 2, 2, 2, 2, 2, 2, 2, 2, 1, 1, 1, 0, 2,\n",
       "       1, 0, 2, 2, 2, 1, 2, 2, 2, 2, 0, 2, 2, 2, 2, 2, 2, 2, 2, 2, 1, 1,\n",
       "       1, 1, 1, 1, 1, 0, 2, 2, 1, 0, 2, 2, 2, 1, 2, 2, 2, 2, 1, 2, 2, 2,\n",
       "       2, 1, 1, 1, 1, 1, 1, 1, 1, 0, 2, 1, 1, 2, 2, 2, 1, 0, 2, 2, 2, 1,\n",
       "       2, 2, 2, 2, 1, 1, 1, 1, 1, 1, 1, 1, 1, 0, 1, 1, 1, 2, 2, 1, 1, 2,\n",
       "       2, 2, 1, 0, 2, 2, 2, 1, 1, 0, 2, 2, 1, 2, 2, 2, 2, 0, 2, 2, 2, 2,\n",
       "       2, 2, 2, 2, 2, 2, 2, 2, 2, 2, 1, 1, 1, 1, 1, 1, 1, 0, 2, 2, 1, 0,\n",
       "       2, 2, 2, 1, 2, 2, 2, 2, 1, 2, 2, 2, 2, 1, 1, 1, 1, 1, 1, 1, 1, 1,\n",
       "       2, 1, 1, 0, 2, 2, 1, 1, 2, 2, 2, 1, 2, 2, 2, 2, 1, 1, 1, 1, 1, 1,\n",
       "       1, 1, 1, 1, 1, 1, 1, 0, 2, 1, 1, 0, 2, 2, 1, 1, 2, 2, 2, 1, 1, 1,\n",
       "       1, 1, 1, 1, 1, 1, 1, 1, 1, 1, 1, 0, 1, 1, 1, 2, 2, 1, 1, 0, 2, 2,\n",
       "       1, 1, 1, 0, 2, 1, 0, 2, 2, 2, 1, 2, 2, 2, 2, 0, 2, 2, 2, 2, 2, 2,\n",
       "       2, 2, 2, 1, 1, 1, 1, 1, 1, 1, 1, 0, 2, 1, 1, 2, 2, 2, 1, 0, 2, 2,\n",
       "       2, 1, 2, 2, 2, 2, 1, 1, 1, 1, 1, 1, 1, 1, 1, 1, 1, 1, 1, 0, 2, 1,\n",
       "       1, 0, 2, 2, 1, 1, 2, 2, 2, 1, 1, 1, 1, 1, 1, 1, 1, 1, 1, 1, 1, 1,\n",
       "       1, 1, 1, 1, 1, 0, 2, 1, 1, 1, 2, 2, 1, 1, 1, 1, 1, 1, 1, 1, 1, 1,\n",
       "       1, 1, 1, 1, 1, 1, 1, 1, 1, 0, 1, 1, 1, 0, 2, 1, 1, 1, 1, 0, 1, 1,\n",
       "       2, 2, 2, 1, 2, 2, 2, 2, 1, 2, 2, 2, 2, 0, 2, 2, 2, 2, 1, 1, 1, 1,\n",
       "       1, 1, 1, 1, 1, 0, 1, 1, 1, 2, 2, 1, 1, 2, 2, 2, 1, 0, 2, 2, 2, 1,\n",
       "       1, 1, 1, 1, 1, 1, 1, 1, 1, 1, 1, 1, 1, 0, 1, 1, 1, 2, 2, 1, 1, 0,\n",
       "       2, 2, 1, 1, 1, 1, 1, 1, 1, 1, 1, 1, 1, 1, 1, 1, 1, 1, 1, 1, 1, 0,\n",
       "       1, 1, 1, 0, 2, 1, 1, 1, 1, 1, 1, 1, 1, 1, 1, 1, 1, 1, 1, 1, 1, 1,\n",
       "       1, 1, 1, 1, 1, 1, 1, 0])"
      ]
     },
     "execution_count": 10,
     "metadata": {},
     "output_type": "execute_result"
    }
   ],
   "source": [
    "#lets use labelencoder to convert target class into integers\n",
    "from sklearn.preprocessing import LabelEncoder\n",
    "le=LabelEncoder()\n",
    "le.fit(y)\n",
    "y=le.transform(y)\n",
    "y"
   ]
  },
  {
   "cell_type": "code",
   "execution_count": 11,
   "metadata": {},
   "outputs": [],
   "source": [
    "#since it is imbalanced dataset so we will focus on auc-roc score\n",
    "from imblearn.over_sampling import SMOTE\n",
    "from sklearn.metrics import roc_auc_score\n",
    "from sklearn.model_selection import train_test_split\n",
    "def max_aucroc_score(clf,df_x,y):\n",
    "    max_aucroc_score=0\n",
    "    for r_state in range(42,100):\n",
    "        x_train, x_test, y_train, y_test = train_test_split(df_x, y,random_state = r_state,test_size=0.20,stratify=y)\n",
    "        x_train, y_train = SMOTE().fit_sample(x_train, y_train)\n",
    "        clf.fit(x_train,y_train)\n",
    "        y_pred = clf.predict(x_test)\n",
    "        aucroc_scr=roc_auc_score(y_test,y_pred)\n",
    "        print(\"auc roc score corresponding to \",r_state,\" is \",aucroc_scr)\n",
    "        if aucroc_scr>max_aucroc_score:\n",
    "            max_aucroc_score=aucroc_scr\n",
    "            final_r_state=r_state\n",
    "    print(\"max auc roc score corresponding to \",final_r_state,\" is \",max_aucroc_score)\n",
    "    return final_r_state"
   ]
  },
  {
   "cell_type": "code",
   "execution_count": 12,
   "metadata": {},
   "outputs": [],
   "source": [
    "#lets make a function which evaluates the model using cross_val_score\n",
    "from sklearn.model_selection import cross_val_score\n",
    "def model_evaluation(model,x,y):\n",
    "    print(\"Mean roc auc score for classifier: \",cross_val_score(model,x,y,cv=10,scoring=\"roc_auc\").mean())\n",
    "    print(\"standard deviation in roc auc score for classifier: \",cross_val_score(model,x,y,cv=10,scoring=\"roc_auc\").std())\n",
    "    print(cross_val_score(model,x,y,cv=10,scoring=\"roc_auc\"))"
   ]
  },
  {
   "cell_type": "code",
   "execution_count": 13,
   "metadata": {},
   "outputs": [
    {
     "data": {
      "text/plain": [
       "{'n_neighbors': 25}"
      ]
     },
     "execution_count": 13,
     "metadata": {},
     "output_type": "execute_result"
    }
   ],
   "source": [
    "#lets chcek KNN\n",
    "from sklearn.neighbors import KNeighborsClassifier\n",
    "from sklearn.model_selection import GridSearchCV\n",
    "from sklearn.preprocessing import label_binarize\n",
    "import warnings\n",
    "warnings.filterwarnings(\"ignore\")\n",
    "kc=KNeighborsClassifier()\n",
    "neighbors={\"n_neighbors\":range(1,30)}\n",
    "clf = GridSearchCV(kc, neighbors, cv=10,scoring=\"roc_auc\")\n",
    "y1 = label_binarize(y, classes=[0, 1, 2])\n",
    "clf.fit(x,y1)\n",
    "clf.best_params_"
   ]
  },
  {
   "cell_type": "code",
   "execution_count": 15,
   "metadata": {},
   "outputs": [
    {
     "name": "stdout",
     "output_type": "stream",
     "text": [
      "auc roc score corresponding to  42  is  0.7415127427994129\n",
      "auc roc score corresponding to  43  is  0.7394636015325671\n",
      "auc roc score corresponding to  44  is  0.7678799489144317\n",
      "auc roc score corresponding to  45  is  0.7827934084367435\n",
      "auc roc score corresponding to  46  is  0.6855711862145212\n",
      "auc roc score corresponding to  47  is  0.7123911095861688\n",
      "auc roc score corresponding to  48  is  0.7030389241531805\n",
      "auc roc score corresponding to  49  is  0.7455967289986848\n",
      "auc roc score corresponding to  50  is  0.7709131545338442\n",
      "auc roc score corresponding to  51  is  0.7530069956729761\n",
      "auc roc score corresponding to  52  is  0.7184575208249938\n",
      "auc roc score corresponding to  53  is  0.7596452602885954\n",
      "auc roc score corresponding to  54  is  0.8092273307790548\n",
      "auc roc score corresponding to  55  is  0.7035845675835383\n",
      "auc roc score corresponding to  56  is  0.7326656945159261\n",
      "auc roc score corresponding to  57  is  0.729951773698557\n",
      "auc roc score corresponding to  58  is  0.7452774441966413\n",
      "auc roc score corresponding to  59  is  0.7892720306513409\n",
      "auc roc score corresponding to  60  is  0.692435809458455\n",
      "auc roc score corresponding to  61  is  0.7272378528811879\n",
      "auc roc score corresponding to  62  is  0.7466475095785441\n",
      "auc roc score corresponding to  63  is  0.7177522349936144\n",
      "auc roc score corresponding to  64  is  0.6954690150778674\n",
      "auc roc score corresponding to  65  is  0.7513438554354663\n",
      "auc roc score corresponding to  66  is  0.7026529231238444\n",
      "auc roc score corresponding to  67  is  0.7497474314252491\n",
      "auc roc score corresponding to  68  is  0.7425635233792721\n",
      "auc roc score corresponding to  69  is  0.6855711862145212\n",
      "auc roc score corresponding to  70  is  0.7089456929909838\n",
      "auc roc score corresponding to  71  is  0.729565772669221\n",
      "auc roc score corresponding to  72  is  0.7378671775223499\n",
      "auc roc score corresponding to  73  is  0.7470335106078801\n",
      "auc roc score corresponding to  74  is  0.7224485808505365\n",
      "auc roc score corresponding to  75  is  0.7740130763805494\n",
      "auc roc score corresponding to  76  is  0.7445459484188254\n",
      "auc roc score corresponding to  77  is  0.7776181353767561\n",
      "auc roc score corresponding to  78  is  0.7457563713997065\n",
      "auc roc score corresponding to  79  is  0.7226082232515583\n",
      "auc roc score corresponding to  80  is  0.6813275576142277\n",
      "auc roc score corresponding to  81  is  0.7223294447303711\n",
      "auc roc score corresponding to  82  is  0.7246573645184041\n",
      "auc roc score corresponding to  83  is  0.6611458988581994\n",
      "auc roc score corresponding to  84  is  0.7849616858237547\n",
      "auc roc score corresponding to  85  is  0.7038633461047255\n",
      "auc roc score corresponding to  86  is  0.7438406625874459\n",
      "auc roc score corresponding to  87  is  0.7010564991136272\n",
      "auc roc score corresponding to  88  is  0.7623591811059645\n",
      "auc roc score corresponding to  89  is  0.7321200510855683\n",
      "auc roc score corresponding to  90  is  0.7497474314252491\n",
      "auc roc score corresponding to  91  is  0.7334376965745982\n",
      "auc roc score corresponding to  92  is  0.7693167305236271\n",
      "auc roc score corresponding to  93  is  0.7483106498160539\n",
      "auc roc score corresponding to  94  is  0.7141471759974075\n",
      "auc roc score corresponding to  95  is  0.7055264863422352\n",
      "auc roc score corresponding to  96  is  0.7146928194277654\n",
      "auc roc score corresponding to  97  is  0.7195083014048532\n",
      "auc roc score corresponding to  98  is  0.7671484531366158\n",
      "auc roc score corresponding to  99  is  0.7434951678389661\n",
      "max auc roc score corresponding to  54  is  0.8092273307790548\n"
     ]
    },
    {
     "data": {
      "text/plain": [
       "54"
      ]
     },
     "execution_count": 15,
     "metadata": {},
     "output_type": "execute_result"
    }
   ],
   "source": [
    "kc=KNeighborsClassifier(n_neighbors=25)\n",
    "max_aucroc_score(kc,x,y1)"
   ]
  },
  {
   "cell_type": "code",
   "execution_count": 16,
   "metadata": {},
   "outputs": [
    {
     "name": "stdout",
     "output_type": "stream",
     "text": [
      "KNN CLASSIFIER\n",
      "\n",
      "\n",
      "Mean roc auc score for classifier:  0.9484103283225128\n",
      "standard deviation in roc auc score for classifier:  0.03297595892283505\n",
      "[0.96024653 0.91059607 0.95553981 0.95537764 0.98184101 0.96408046\n",
      " 0.96516106 0.97701149 0.86629598 0.94795322]\n"
     ]
    }
   ],
   "source": [
    "#Lets chcek the cross val score\n",
    "#lets print the scores for KNN classifier\n",
    "print(\"KNN CLASSIFIER\\n\\n\")\n",
    "model_evaluation(kc,x,y1)"
   ]
  },
  {
   "cell_type": "code",
   "execution_count": 17,
   "metadata": {},
   "outputs": [
    {
     "name": "stdout",
     "output_type": "stream",
     "text": [
      "auc roc score corresponding to  42  is  0.7631597758334762\n",
      "auc roc score corresponding to  43  is  0.7615633518232592\n",
      "auc roc score corresponding to  44  is  0.7880902003392997\n",
      "auc roc score corresponding to  45  is  0.7485656011132079\n",
      "auc roc score corresponding to  46  is  0.7780327290749319\n",
      "auc roc score corresponding to  47  is  0.7187791883494405\n",
      "auc roc score corresponding to  48  is  0.7567478698461715\n",
      "auc roc score corresponding to  49  is  0.8331355673738586\n",
      "auc roc score corresponding to  50  is  0.8054912220506661\n",
      "auc roc score corresponding to  51  is  0.7789643735346257\n",
      "auc roc score corresponding to  52  is  0.8447489563675873\n",
      "auc roc score corresponding to  53  is  0.7335854253636035\n",
      "auc roc score corresponding to  54  is  0.7407693334095805\n",
      "auc roc score corresponding to  55  is  0.7620422790263243\n",
      "auc roc score corresponding to  56  is  0.8124082651874726\n",
      "auc roc score corresponding to  57  is  0.7605649911362726\n",
      "auc roc score corresponding to  58  is  0.817383389565582\n",
      "auc roc score corresponding to  59  is  0.7860410590724537\n",
      "auc roc score corresponding to  60  is  0.7990912296753779\n",
      "auc roc score corresponding to  61  is  0.7357417891385983\n",
      "auc roc score corresponding to  62  is  0.7920145441375498\n",
      "auc roc score corresponding to  63  is  0.7624544900020968\n",
      "auc roc score corresponding to  64  is  0.7265087398257754\n",
      "auc roc score corresponding to  65  is  0.7677488991822496\n",
      "auc roc score corresponding to  66  is  0.8222536741579458\n",
      "auc roc score corresponding to  67  is  0.7528759459407941\n",
      "auc roc score corresponding to  68  is  0.715014486952212\n",
      "auc roc score corresponding to  69  is  0.7385081298488401\n",
      "auc roc score corresponding to  70  is  0.8228517374811766\n",
      "auc roc score corresponding to  71  is  0.7539267265206536\n",
      "auc roc score corresponding to  72  is  0.8088699224185585\n",
      "auc roc score corresponding to  73  is  0.8371123310649816\n",
      "auc roc score corresponding to  74  is  0.7339190065000668\n",
      "auc roc score corresponding to  75  is  0.7592878519280989\n",
      "auc roc score corresponding to  76  is  0.8242885190903718\n",
      "auc roc score corresponding to  77  is  0.7390013533863251\n",
      "auc roc score corresponding to  78  is  0.8341863479537178\n",
      "auc roc score corresponding to  79  is  0.7399449114580355\n",
      "auc roc score corresponding to  80  is  0.7704628199996186\n",
      "auc roc score corresponding to  81  is  0.7940493890699759\n",
      "auc roc score corresponding to  82  is  0.7323750023827224\n",
      "auc roc score corresponding to  83  is  0.7974948056651608\n",
      "auc roc score corresponding to  84  is  0.7475148205333486\n",
      "auc roc score corresponding to  85  is  0.8119698442652638\n",
      "auc roc score corresponding to  86  is  0.8167186100150589\n",
      "auc roc score corresponding to  87  is  0.7592354320352261\n",
      "auc roc score corresponding to  88  is  0.7309930233888031\n",
      "auc roc score corresponding to  89  is  0.7653804731133605\n",
      "auc roc score corresponding to  90  is  0.7757048092868987\n",
      "auc roc score corresponding to  91  is  0.7614966355959666\n",
      "auc roc score corresponding to  92  is  0.814338270334153\n",
      "auc roc score corresponding to  93  is  0.7302734412230039\n",
      "auc roc score corresponding to  94  is  0.7471288195040126\n",
      "auc roc score corresponding to  95  is  0.7222508148910619\n",
      "auc roc score corresponding to  96  is  0.8142310478260041\n",
      "auc roc score corresponding to  97  is  0.7898057604696822\n",
      "auc roc score corresponding to  98  is  0.7639841977850214\n",
      "auc roc score corresponding to  99  is  0.8140046891976898\n",
      "max auc roc score corresponding to  52  is  0.8447489563675873\n"
     ]
    },
    {
     "data": {
      "text/plain": [
       "52"
      ]
     },
     "execution_count": 17,
     "metadata": {},
     "output_type": "execute_result"
    }
   ],
   "source": [
    "#Lets use decision tree\n",
    "from sklearn.tree import DecisionTreeClassifier\n",
    "dc=DecisionTreeClassifier()\n",
    "max_aucroc_score(dc,df_x,y1)"
   ]
  },
  {
   "cell_type": "code",
   "execution_count": 18,
   "metadata": {},
   "outputs": [
    {
     "name": "stdout",
     "output_type": "stream",
     "text": [
      "Decision tree CLASSIFIER\n",
      "\n",
      "\n",
      "Mean roc auc score for classifier:  0.7310713427004643\n",
      "standard deviation in roc auc score for classifier:  0.06053911700325642\n",
      "[0.7751926  0.66299789 0.75210792 0.75237005 0.76285121 0.74498178\n",
      " 0.74842437 0.76842028 0.76902657 0.57284076]\n"
     ]
    }
   ],
   "source": [
    "#lets use cross_val_score\n",
    "#Lets print the scores of decision tree\n",
    "print(\"Decision tree CLASSIFIER\\n\\n\")\n",
    "model_evaluation(dc,df_x,y1)"
   ]
  },
  {
   "cell_type": "code",
   "execution_count": 19,
   "metadata": {},
   "outputs": [
    {
     "data": {
      "text/plain": [
       "{'n_estimators': 500}"
      ]
     },
     "execution_count": 19,
     "metadata": {},
     "output_type": "execute_result"
    }
   ],
   "source": [
    "#Lets use random forest\n",
    "from sklearn.ensemble import RandomForestClassifier\n",
    "from sklearn.model_selection import GridSearchCV\n",
    "parameters={\"n_estimators\":[10,100,500]}\n",
    "rf_clf=RandomForestClassifier()\n",
    "clf = GridSearchCV(rf_clf, parameters, cv=10,scoring=\"roc_auc\")\n",
    "clf.fit(df_x,y1)\n",
    "clf.best_params_"
   ]
  },
  {
   "cell_type": "code",
   "execution_count": 20,
   "metadata": {},
   "outputs": [
    {
     "name": "stdout",
     "output_type": "stream",
     "text": [
      "auc roc score corresponding to  42  is  0.7646489773355446\n",
      "auc roc score corresponding to  43  is  0.781957072873182\n",
      "auc roc score corresponding to  44  is  0.8167186100150587\n",
      "auc roc score corresponding to  45  is  0.7722188864108576\n",
      "auc roc score corresponding to  46  is  0.7805727111568593\n",
      "auc roc score corresponding to  47  is  0.7669768971235774\n",
      "auc roc score corresponding to  48  is  0.7506671622729266\n",
      "auc roc score corresponding to  49  is  0.7959913078286727\n",
      "auc roc score corresponding to  50  is  0.8338527668172547\n",
      "auc roc score corresponding to  51  is  0.7642629763062084\n",
      "auc roc score corresponding to  52  is  0.8463453803778044\n",
      "auc roc score corresponding to  53  is  0.7225963096395418\n",
      "auc roc score corresponding to  54  is  0.73491498446465\n",
      "auc roc score corresponding to  55  is  0.7709417472026839\n",
      "auc roc score corresponding to  56  is  0.8338003469243819\n",
      "auc roc score corresponding to  57  is  0.8688406625874459\n",
      "auc roc score corresponding to  58  is  0.7774727893101542\n",
      "auc roc score corresponding to  59  is  0.7967633098873449\n",
      "auc roc score corresponding to  60  is  0.7285030784773451\n",
      "auc roc score corresponding to  61  is  0.7996368731057357\n",
      "auc roc score corresponding to  62  is  0.8502697241760546\n",
      "auc roc score corresponding to  63  is  0.7211071081374736\n",
      "auc roc score corresponding to  64  is  0.7894721793332189\n",
      "auc roc score corresponding to  65  is  0.7920669640304224\n",
      "auc roc score corresponding to  66  is  0.8280532204876003\n",
      "auc roc score corresponding to  67  is  0.7764220087302949\n",
      "auc roc score corresponding to  68  is  0.7303258611158766\n",
      "auc roc score corresponding to  69  is  0.8284916414098092\n",
      "auc roc score corresponding to  70  is  0.7933846095194527\n",
      "auc roc score corresponding to  71  is  0.7823954937953909\n",
      "auc roc score corresponding to  72  is  0.8136854043956463\n",
      "auc roc score corresponding to  73  is  0.8260040792207546\n",
      "auc roc score corresponding to  74  is  0.793503745639618\n",
      "auc roc score corresponding to  75  is  0.7886882636625302\n",
      "auc roc score corresponding to  76  is  0.7843779188349441\n",
      "auc roc score corresponding to  77  is  0.7509983606869866\n",
      "auc roc score corresponding to  78  is  0.8313652046282001\n",
      "auc roc score corresponding to  79  is  0.8019647928937688\n",
      "auc roc score corresponding to  80  is  0.7933441032385963\n",
      "auc roc score corresponding to  81  is  0.8077119193305503\n",
      "auc roc score corresponding to  82  is  0.7307118621452128\n",
      "auc roc score corresponding to  83  is  0.7697432378338194\n",
      "auc roc score corresponding to  84  is  0.7545915060711769\n",
      "auc roc score corresponding to  85  is  0.8298760031261319\n",
      "auc roc score corresponding to  86  is  0.8369526886639599\n",
      "auc roc score corresponding to  87  is  0.7867058386229772\n",
      "auc roc score corresponding to  88  is  0.8037875755323002\n",
      "auc roc score corresponding to  89  is  0.792186100150588\n",
      "auc roc score corresponding to  90  is  0.8338003469243819\n",
      "auc roc score corresponding to  91  is  0.7836059167762719\n",
      "auc roc score corresponding to  92  is  0.8798964945388001\n",
      "auc roc score corresponding to  93  is  0.7688520996549819\n",
      "auc roc score corresponding to  94  is  0.746130458817026\n",
      "auc roc score corresponding to  95  is  0.8105854825489412\n",
      "auc roc score corresponding to  96  is  0.8426998151007415\n",
      "auc roc score corresponding to  97  is  0.8369526886639599\n",
      "auc roc score corresponding to  98  is  0.7568527096319171\n",
      "auc roc score corresponding to  99  is  0.8232901584033853\n",
      "max auc roc score corresponding to  92  is  0.8798964945388001\n"
     ]
    },
    {
     "data": {
      "text/plain": [
       "92"
      ]
     },
     "execution_count": 20,
     "metadata": {},
     "output_type": "execute_result"
    }
   ],
   "source": [
    "rf_clf=RandomForestClassifier(n_estimators=500)\n",
    "max_aucroc_score(rf_clf,df_x,y1)"
   ]
  },
  {
   "cell_type": "code",
   "execution_count": 21,
   "metadata": {},
   "outputs": [
    {
     "name": "stdout",
     "output_type": "stream",
     "text": [
      "Random forest CLASSIFIER\n",
      "\n",
      "\n",
      "Mean roc auc score for classifier:  0.8714365091592917\n",
      "standard deviation in roc auc score for classifier:  0.034524350243655924\n",
      "[0.88089368 0.8311108  0.831103   0.83689387 0.835994   0.89565999\n",
      " 0.87295752 0.90239648 0.91564826 0.94586145]\n"
     ]
    }
   ],
   "source": [
    "#lets chcek the cross_val score\n",
    "#Lets print the scores of Random forest\n",
    "print(\"Random forest CLASSIFIER\\n\\n\")\n",
    "model_evaluation(rf_clf,df_x,y1)"
   ]
  },
  {
   "cell_type": "code",
   "execution_count": 22,
   "metadata": {},
   "outputs": [],
   "source": [
    "#we will use random forest as a final model\n",
    "x_train, x_test, y_train, y_test = train_test_split(df_x, y,random_state = 92,test_size=0.20,stratify=y)\n",
    "x_train, y_train = SMOTE().fit_sample(x_train, y_train)\n",
    "rf_clf=RandomForestClassifier(n_estimators=500)\n",
    "rf_clf.fit(x_train,y_train)\n",
    "y_pred=rf_clf.predict(x_test)"
   ]
  },
  {
   "cell_type": "code",
   "execution_count": 23,
   "metadata": {},
   "outputs": [
    {
     "name": "stdout",
     "output_type": "stream",
     "text": [
      "Confusion matrix \n",
      " [[ 6  2  1]\n",
      " [ 7 49  2]\n",
      " [10  1 47]]\n",
      "classification report \n",
      "               precision    recall  f1-score   support\n",
      "\n",
      "           0       0.26      0.67      0.38         9\n",
      "           1       0.94      0.84      0.89        58\n",
      "           2       0.94      0.81      0.87        58\n",
      "\n",
      "    accuracy                           0.82       125\n",
      "   macro avg       0.71      0.77      0.71       125\n",
      "weighted avg       0.89      0.82      0.84       125\n",
      "\n",
      "AUC ROC Score:  0.8476225195859781\n"
     ]
    }
   ],
   "source": [
    "from sklearn.metrics import confusion_matrix\n",
    "from sklearn.metrics import classification_report\n",
    "from sklearn.metrics import f1_score\n",
    "from sklearn.metrics import roc_auc_score\n",
    "print(\"Confusion matrix \\n\",confusion_matrix(y_test,y_pred))\n",
    "print(\"classification report \\n\",classification_report(y_test,y_pred))\n",
    "y_test = label_binarize(y_test, classes=[0, 1, 2])\n",
    "y_pred = label_binarize(y_pred, classes=[0, 1, 2])\n",
    "print(\"AUC ROC Score: \",roc_auc_score(y_test,y_pred))"
   ]
  }
 ],
 "metadata": {
  "kernelspec": {
   "display_name": "Python 3",
   "language": "python",
   "name": "python3"
  },
  "language_info": {
   "codemirror_mode": {
    "name": "ipython",
    "version": 3
   },
   "file_extension": ".py",
   "mimetype": "text/x-python",
   "name": "python",
   "nbconvert_exporter": "python",
   "pygments_lexer": "ipython3",
   "version": "3.7.6"
  }
 },
 "nbformat": 4,
 "nbformat_minor": 4
}
