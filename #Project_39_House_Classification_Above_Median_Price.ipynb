{
 "cells": [
  {
   "cell_type": "code",
   "execution_count": 1,
   "metadata": {},
   "outputs": [
    {
     "data": {
      "text/html": [
       "<div>\n",
       "<style scoped>\n",
       "    .dataframe tbody tr th:only-of-type {\n",
       "        vertical-align: middle;\n",
       "    }\n",
       "\n",
       "    .dataframe tbody tr th {\n",
       "        vertical-align: top;\n",
       "    }\n",
       "\n",
       "    .dataframe thead th {\n",
       "        text-align: right;\n",
       "    }\n",
       "</style>\n",
       "<table border=\"1\" class=\"dataframe\">\n",
       "  <thead>\n",
       "    <tr style=\"text-align: right;\">\n",
       "      <th></th>\n",
       "      <th>LotArea</th>\n",
       "      <th>OverallQual</th>\n",
       "      <th>OverallCond</th>\n",
       "      <th>TotalBsmtSF</th>\n",
       "      <th>FullBath</th>\n",
       "      <th>HalfBath</th>\n",
       "      <th>BedroomAbvGr</th>\n",
       "      <th>TotRmsAbvGrd</th>\n",
       "      <th>Fireplaces</th>\n",
       "      <th>GarageArea</th>\n",
       "      <th>AboveMedianPrice</th>\n",
       "    </tr>\n",
       "  </thead>\n",
       "  <tbody>\n",
       "    <tr>\n",
       "      <th>0</th>\n",
       "      <td>8450</td>\n",
       "      <td>7</td>\n",
       "      <td>5</td>\n",
       "      <td>856</td>\n",
       "      <td>2</td>\n",
       "      <td>1</td>\n",
       "      <td>3</td>\n",
       "      <td>8</td>\n",
       "      <td>0</td>\n",
       "      <td>548</td>\n",
       "      <td>1</td>\n",
       "    </tr>\n",
       "    <tr>\n",
       "      <th>1</th>\n",
       "      <td>9600</td>\n",
       "      <td>6</td>\n",
       "      <td>8</td>\n",
       "      <td>1262</td>\n",
       "      <td>2</td>\n",
       "      <td>0</td>\n",
       "      <td>3</td>\n",
       "      <td>6</td>\n",
       "      <td>1</td>\n",
       "      <td>460</td>\n",
       "      <td>1</td>\n",
       "    </tr>\n",
       "    <tr>\n",
       "      <th>2</th>\n",
       "      <td>11250</td>\n",
       "      <td>7</td>\n",
       "      <td>5</td>\n",
       "      <td>920</td>\n",
       "      <td>2</td>\n",
       "      <td>1</td>\n",
       "      <td>3</td>\n",
       "      <td>6</td>\n",
       "      <td>1</td>\n",
       "      <td>608</td>\n",
       "      <td>1</td>\n",
       "    </tr>\n",
       "    <tr>\n",
       "      <th>3</th>\n",
       "      <td>9550</td>\n",
       "      <td>7</td>\n",
       "      <td>5</td>\n",
       "      <td>756</td>\n",
       "      <td>1</td>\n",
       "      <td>0</td>\n",
       "      <td>3</td>\n",
       "      <td>7</td>\n",
       "      <td>1</td>\n",
       "      <td>642</td>\n",
       "      <td>0</td>\n",
       "    </tr>\n",
       "    <tr>\n",
       "      <th>4</th>\n",
       "      <td>14260</td>\n",
       "      <td>8</td>\n",
       "      <td>5</td>\n",
       "      <td>1145</td>\n",
       "      <td>2</td>\n",
       "      <td>1</td>\n",
       "      <td>4</td>\n",
       "      <td>9</td>\n",
       "      <td>1</td>\n",
       "      <td>836</td>\n",
       "      <td>1</td>\n",
       "    </tr>\n",
       "    <tr>\n",
       "      <th>...</th>\n",
       "      <td>...</td>\n",
       "      <td>...</td>\n",
       "      <td>...</td>\n",
       "      <td>...</td>\n",
       "      <td>...</td>\n",
       "      <td>...</td>\n",
       "      <td>...</td>\n",
       "      <td>...</td>\n",
       "      <td>...</td>\n",
       "      <td>...</td>\n",
       "      <td>...</td>\n",
       "    </tr>\n",
       "    <tr>\n",
       "      <th>1455</th>\n",
       "      <td>7917</td>\n",
       "      <td>6</td>\n",
       "      <td>5</td>\n",
       "      <td>953</td>\n",
       "      <td>2</td>\n",
       "      <td>1</td>\n",
       "      <td>3</td>\n",
       "      <td>7</td>\n",
       "      <td>1</td>\n",
       "      <td>460</td>\n",
       "      <td>1</td>\n",
       "    </tr>\n",
       "    <tr>\n",
       "      <th>1456</th>\n",
       "      <td>13175</td>\n",
       "      <td>6</td>\n",
       "      <td>6</td>\n",
       "      <td>1542</td>\n",
       "      <td>2</td>\n",
       "      <td>0</td>\n",
       "      <td>3</td>\n",
       "      <td>7</td>\n",
       "      <td>2</td>\n",
       "      <td>500</td>\n",
       "      <td>1</td>\n",
       "    </tr>\n",
       "    <tr>\n",
       "      <th>1457</th>\n",
       "      <td>9042</td>\n",
       "      <td>7</td>\n",
       "      <td>9</td>\n",
       "      <td>1152</td>\n",
       "      <td>2</td>\n",
       "      <td>0</td>\n",
       "      <td>4</td>\n",
       "      <td>9</td>\n",
       "      <td>2</td>\n",
       "      <td>252</td>\n",
       "      <td>1</td>\n",
       "    </tr>\n",
       "    <tr>\n",
       "      <th>1458</th>\n",
       "      <td>9717</td>\n",
       "      <td>5</td>\n",
       "      <td>6</td>\n",
       "      <td>1078</td>\n",
       "      <td>1</td>\n",
       "      <td>0</td>\n",
       "      <td>2</td>\n",
       "      <td>5</td>\n",
       "      <td>0</td>\n",
       "      <td>240</td>\n",
       "      <td>0</td>\n",
       "    </tr>\n",
       "    <tr>\n",
       "      <th>1459</th>\n",
       "      <td>9937</td>\n",
       "      <td>5</td>\n",
       "      <td>6</td>\n",
       "      <td>1256</td>\n",
       "      <td>1</td>\n",
       "      <td>1</td>\n",
       "      <td>3</td>\n",
       "      <td>6</td>\n",
       "      <td>0</td>\n",
       "      <td>276</td>\n",
       "      <td>0</td>\n",
       "    </tr>\n",
       "  </tbody>\n",
       "</table>\n",
       "<p>1460 rows × 11 columns</p>\n",
       "</div>"
      ],
      "text/plain": [
       "      LotArea  OverallQual  OverallCond  TotalBsmtSF  FullBath  HalfBath  \\\n",
       "0        8450            7            5          856         2         1   \n",
       "1        9600            6            8         1262         2         0   \n",
       "2       11250            7            5          920         2         1   \n",
       "3        9550            7            5          756         1         0   \n",
       "4       14260            8            5         1145         2         1   \n",
       "...       ...          ...          ...          ...       ...       ...   \n",
       "1455     7917            6            5          953         2         1   \n",
       "1456    13175            6            6         1542         2         0   \n",
       "1457     9042            7            9         1152         2         0   \n",
       "1458     9717            5            6         1078         1         0   \n",
       "1459     9937            5            6         1256         1         1   \n",
       "\n",
       "      BedroomAbvGr  TotRmsAbvGrd  Fireplaces  GarageArea  AboveMedianPrice  \n",
       "0                3             8           0         548                 1  \n",
       "1                3             6           1         460                 1  \n",
       "2                3             6           1         608                 1  \n",
       "3                3             7           1         642                 0  \n",
       "4                4             9           1         836                 1  \n",
       "...            ...           ...         ...         ...               ...  \n",
       "1455             3             7           1         460                 1  \n",
       "1456             3             7           2         500                 1  \n",
       "1457             4             9           2         252                 1  \n",
       "1458             2             5           0         240                 0  \n",
       "1459             3             6           0         276                 0  \n",
       "\n",
       "[1460 rows x 11 columns]"
      ]
     },
     "execution_count": 1,
     "metadata": {},
     "output_type": "execute_result"
    }
   ],
   "source": [
    "import pandas as pd\n",
    "df=pd.read_csv(\"https://raw.githubusercontent.com/dsrscientist/dataset1/master/house_price_data_median.csv\")\n",
    "df"
   ]
  },
  {
   "cell_type": "code",
   "execution_count": 2,
   "metadata": {},
   "outputs": [
    {
     "data": {
      "text/plain": [
       "LotArea             0\n",
       "OverallQual         0\n",
       "OverallCond         0\n",
       "TotalBsmtSF         0\n",
       "FullBath            0\n",
       "HalfBath            0\n",
       "BedroomAbvGr        0\n",
       "TotRmsAbvGrd        0\n",
       "Fireplaces          0\n",
       "GarageArea          0\n",
       "AboveMedianPrice    0\n",
       "dtype: int64"
      ]
     },
     "execution_count": 2,
     "metadata": {},
     "output_type": "execute_result"
    }
   ],
   "source": [
    "#check if here any null value present in this dataset\n",
    "df.isnull().sum()"
   ]
  },
  {
   "cell_type": "code",
   "execution_count": 3,
   "metadata": {},
   "outputs": [
    {
     "data": {
      "image/png": "[encoded data removed]",
      "text/plain": [
       "<Figure size 432x288 with 1 Axes>"
      ]
     },
     "metadata": {
      "needs_background": "light"
     },
     "output_type": "display_data"
    }
   ],
   "source": [
    "#Lets chcek the count of Target\n",
    "import seaborn as sns\n",
    "import matplotlib.pyplot as plt\n",
    "sns.countplot(x=\"AboveMedianPrice\",data=df)\n",
    "plt.show()"
   ]
  },
  {
   "cell_type": "code",
   "execution_count": 4,
   "metadata": {},
   "outputs": [
    {
     "data": {
      "text/html": [
       "<div>\n",
       "<style scoped>\n",
       "    .dataframe tbody tr th:only-of-type {\n",
       "        vertical-align: middle;\n",
       "    }\n",
       "\n",
       "    .dataframe tbody tr th {\n",
       "        vertical-align: top;\n",
       "    }\n",
       "\n",
       "    .dataframe thead th {\n",
       "        text-align: right;\n",
       "    }\n",
       "</style>\n",
       "<table border=\"1\" class=\"dataframe\">\n",
       "  <thead>\n",
       "    <tr style=\"text-align: right;\">\n",
       "      <th></th>\n",
       "      <th>LotArea</th>\n",
       "      <th>OverallQual</th>\n",
       "      <th>OverallCond</th>\n",
       "      <th>TotalBsmtSF</th>\n",
       "      <th>FullBath</th>\n",
       "      <th>HalfBath</th>\n",
       "      <th>BedroomAbvGr</th>\n",
       "      <th>TotRmsAbvGrd</th>\n",
       "      <th>Fireplaces</th>\n",
       "      <th>GarageArea</th>\n",
       "      <th>AboveMedianPrice</th>\n",
       "    </tr>\n",
       "  </thead>\n",
       "  <tbody>\n",
       "    <tr>\n",
       "      <th>count</th>\n",
       "      <td>1460.000000</td>\n",
       "      <td>1460.000000</td>\n",
       "      <td>1460.000000</td>\n",
       "      <td>1460.000000</td>\n",
       "      <td>1460.000000</td>\n",
       "      <td>1460.000000</td>\n",
       "      <td>1460.000000</td>\n",
       "      <td>1460.000000</td>\n",
       "      <td>1460.000000</td>\n",
       "      <td>1460.000000</td>\n",
       "      <td>1460.000000</td>\n",
       "    </tr>\n",
       "    <tr>\n",
       "      <th>mean</th>\n",
       "      <td>10516.828082</td>\n",
       "      <td>6.099315</td>\n",
       "      <td>5.575342</td>\n",
       "      <td>1057.429452</td>\n",
       "      <td>1.565068</td>\n",
       "      <td>0.382877</td>\n",
       "      <td>2.866438</td>\n",
       "      <td>6.517808</td>\n",
       "      <td>0.613014</td>\n",
       "      <td>472.980137</td>\n",
       "      <td>0.498630</td>\n",
       "    </tr>\n",
       "    <tr>\n",
       "      <th>std</th>\n",
       "      <td>9981.264932</td>\n",
       "      <td>1.382997</td>\n",
       "      <td>1.112799</td>\n",
       "      <td>438.705324</td>\n",
       "      <td>0.550916</td>\n",
       "      <td>0.502885</td>\n",
       "      <td>0.815778</td>\n",
       "      <td>1.625393</td>\n",
       "      <td>0.644666</td>\n",
       "      <td>213.804841</td>\n",
       "      <td>0.500169</td>\n",
       "    </tr>\n",
       "    <tr>\n",
       "      <th>min</th>\n",
       "      <td>1300.000000</td>\n",
       "      <td>1.000000</td>\n",
       "      <td>1.000000</td>\n",
       "      <td>0.000000</td>\n",
       "      <td>0.000000</td>\n",
       "      <td>0.000000</td>\n",
       "      <td>0.000000</td>\n",
       "      <td>2.000000</td>\n",
       "      <td>0.000000</td>\n",
       "      <td>0.000000</td>\n",
       "      <td>0.000000</td>\n",
       "    </tr>\n",
       "    <tr>\n",
       "      <th>25%</th>\n",
       "      <td>7553.500000</td>\n",
       "      <td>5.000000</td>\n",
       "      <td>5.000000</td>\n",
       "      <td>795.750000</td>\n",
       "      <td>1.000000</td>\n",
       "      <td>0.000000</td>\n",
       "      <td>2.000000</td>\n",
       "      <td>5.000000</td>\n",
       "      <td>0.000000</td>\n",
       "      <td>334.500000</td>\n",
       "      <td>0.000000</td>\n",
       "    </tr>\n",
       "    <tr>\n",
       "      <th>50%</th>\n",
       "      <td>9478.500000</td>\n",
       "      <td>6.000000</td>\n",
       "      <td>5.000000</td>\n",
       "      <td>991.500000</td>\n",
       "      <td>2.000000</td>\n",
       "      <td>0.000000</td>\n",
       "      <td>3.000000</td>\n",
       "      <td>6.000000</td>\n",
       "      <td>1.000000</td>\n",
       "      <td>480.000000</td>\n",
       "      <td>0.000000</td>\n",
       "    </tr>\n",
       "    <tr>\n",
       "      <th>75%</th>\n",
       "      <td>11601.500000</td>\n",
       "      <td>7.000000</td>\n",
       "      <td>6.000000</td>\n",
       "      <td>1298.250000</td>\n",
       "      <td>2.000000</td>\n",
       "      <td>1.000000</td>\n",
       "      <td>3.000000</td>\n",
       "      <td>7.000000</td>\n",
       "      <td>1.000000</td>\n",
       "      <td>576.000000</td>\n",
       "      <td>1.000000</td>\n",
       "    </tr>\n",
       "    <tr>\n",
       "      <th>max</th>\n",
       "      <td>215245.000000</td>\n",
       "      <td>10.000000</td>\n",
       "      <td>9.000000</td>\n",
       "      <td>6110.000000</td>\n",
       "      <td>3.000000</td>\n",
       "      <td>2.000000</td>\n",
       "      <td>8.000000</td>\n",
       "      <td>14.000000</td>\n",
       "      <td>3.000000</td>\n",
       "      <td>1418.000000</td>\n",
       "      <td>1.000000</td>\n",
       "    </tr>\n",
       "  </tbody>\n",
       "</table>\n",
       "</div>"
      ],
      "text/plain": [
       "             LotArea  OverallQual  OverallCond  TotalBsmtSF     FullBath  \\\n",
       "count    1460.000000  1460.000000  1460.000000  1460.000000  1460.000000   \n",
       "mean    10516.828082     6.099315     5.575342  1057.429452     1.565068   \n",
       "std      9981.264932     1.382997     1.112799   438.705324     0.550916   \n",
       "min      1300.000000     1.000000     1.000000     0.000000     0.000000   \n",
       "25%      7553.500000     5.000000     5.000000   795.750000     1.000000   \n",
       "50%      9478.500000     6.000000     5.000000   991.500000     2.000000   \n",
       "75%     11601.500000     7.000000     6.000000  1298.250000     2.000000   \n",
       "max    215245.000000    10.000000     9.000000  6110.000000     3.000000   \n",
       "\n",
       "          HalfBath  BedroomAbvGr  TotRmsAbvGrd   Fireplaces   GarageArea  \\\n",
       "count  1460.000000   1460.000000   1460.000000  1460.000000  1460.000000   \n",
       "mean      0.382877      2.866438      6.517808     0.613014   472.980137   \n",
       "std       0.502885      0.815778      1.625393     0.644666   213.804841   \n",
       "min       0.000000      0.000000      2.000000     0.000000     0.000000   \n",
       "25%       0.000000      2.000000      5.000000     0.000000   334.500000   \n",
       "50%       0.000000      3.000000      6.000000     1.000000   480.000000   \n",
       "75%       1.000000      3.000000      7.000000     1.000000   576.000000   \n",
       "max       2.000000      8.000000     14.000000     3.000000  1418.000000   \n",
       "\n",
       "       AboveMedianPrice  \n",
       "count       1460.000000  \n",
       "mean           0.498630  \n",
       "std            0.500169  \n",
       "min            0.000000  \n",
       "25%            0.000000  \n",
       "50%            0.000000  \n",
       "75%            1.000000  \n",
       "max            1.000000  "
      ]
     },
     "execution_count": 4,
     "metadata": {},
     "output_type": "execute_result"
    }
   ],
   "source": [
    "df.describe()"
   ]
  },
  {
   "cell_type": "code",
   "execution_count": 5,
   "metadata": {},
   "outputs": [
    {
     "data": {
      "text/plain": [
       "LotArea             12.207688\n",
       "OverallQual          0.216944\n",
       "OverallCond          0.693067\n",
       "TotalBsmtSF          1.524255\n",
       "FullBath             0.036562\n",
       "HalfBath             0.675897\n",
       "BedroomAbvGr         0.211790\n",
       "TotRmsAbvGrd         0.676341\n",
       "Fireplaces           0.649565\n",
       "GarageArea           0.179981\n",
       "AboveMedianPrice     0.005485\n",
       "dtype: float64"
      ]
     },
     "execution_count": 5,
     "metadata": {},
     "output_type": "execute_result"
    }
   ],
   "source": [
    "df.skew()"
   ]
  },
  {
   "cell_type": "code",
   "execution_count": 6,
   "metadata": {},
   "outputs": [],
   "source": [
    "#Lets remove skewness from the data\n",
    "import numpy as np\n",
    "for col in df.columns:\n",
    "    if df.skew().loc[col]>0.55:\n",
    "        df[col]=np.log1p(df[col])"
   ]
  },
  {
   "cell_type": "code",
   "execution_count": 7,
   "metadata": {},
   "outputs": [
    {
     "data": {
      "text/plain": [
       "LotArea            -0.137404\n",
       "OverallQual         0.216944\n",
       "OverallCond        -0.254015\n",
       "TotalBsmtSF        -5.154670\n",
       "FullBath            0.036562\n",
       "HalfBath            0.566168\n",
       "BedroomAbvGr        0.211790\n",
       "TotRmsAbvGrd       -0.058258\n",
       "Fireplaces          0.182083\n",
       "GarageArea          0.179981\n",
       "AboveMedianPrice    0.005485\n",
       "dtype: float64"
      ]
     },
     "execution_count": 7,
     "metadata": {},
     "output_type": "execute_result"
    }
   ],
   "source": [
    "df.skew()"
   ]
  },
  {
   "cell_type": "code",
   "execution_count": 8,
   "metadata": {},
   "outputs": [
    {
     "name": "stdout",
     "output_type": "stream",
     "text": [
      "(1460, 11)\n",
      "(1366, 11)\n"
     ]
    }
   ],
   "source": [
    "#Lets remove outleyers\n",
    "from scipy.stats import zscore\n",
    "z_score=abs(zscore(df))\n",
    "print(df.shape)\n",
    "df_final=df.loc[(z_score<3).all(axis=1)]\n",
    "print(df_final.shape)"
   ]
  },
  {
   "cell_type": "code",
   "execution_count": 9,
   "metadata": {},
   "outputs": [],
   "source": [
    "import numpy as np\n",
    "df_x=df_final.drop(columns=[\"AboveMedianPrice\"])\n",
    "y=df_final[[\"AboveMedianPrice\"]]"
   ]
  },
  {
   "cell_type": "code",
   "execution_count": 10,
   "metadata": {},
   "outputs": [],
   "source": [
    "#Lets bring input dataset features to same scale\n",
    "from sklearn.preprocessing import StandardScaler\n",
    "sc = StandardScaler()\n",
    "x = sc.fit_transform(df_x)\n",
    "x=pd.DataFrame(x,columns=df_x.columns)"
   ]
  },
  {
   "cell_type": "code",
   "execution_count": 11,
   "metadata": {},
   "outputs": [
    {
     "data": {
      "text/plain": [
       "LotArea        -0.722932\n",
       "OverallQual     0.284231\n",
       "OverallCond     0.370078\n",
       "TotalBsmtSF    -0.388375\n",
       "FullBath        0.081239\n",
       "HalfBath        0.534579\n",
       "BedroomAbvGr   -0.020792\n",
       "TotRmsAbvGrd    0.005309\n",
       "Fireplaces      0.131391\n",
       "GarageArea     -0.002727\n",
       "dtype: float64"
      ]
     },
     "execution_count": 11,
     "metadata": {},
     "output_type": "execute_result"
    }
   ],
   "source": [
    "x.skew()"
   ]
  },
  {
   "cell_type": "code",
   "execution_count": 12,
   "metadata": {},
   "outputs": [],
   "source": [
    "#We will use f1 score as the metrics as it is balanced dataset problem\n",
    "#Maximum f1 score in between random states 42 to 100\n",
    "from sklearn.metrics import f1_score\n",
    "from sklearn.model_selection import train_test_split\n",
    "def maxf1_score(clf,x,y):\n",
    "    maxf=0\n",
    "    rs=0\n",
    "    for r_state in range(42,100):\n",
    "        x_train,x_test,y_train,y_test=train_test_split(x, y,random_state = r_state,test_size=0.20,stratify=y)\n",
    "        clf.fit(x_train,y_train)\n",
    "        y_pred=clf.predict(x_test)\n",
    "        tmp=f1_score(y_test,y_pred)\n",
    "        print(\"random state :\",r_state,\" and f1 score: \",tmp)\n",
    "        if tmp>maxf:\n",
    "            maxf=tmp\n",
    "            rs=r_state\n",
    "    print(\"maximum f1_score is at random state :\",rs,\" and it is :\",maxf)"
   ]
  },
  {
   "cell_type": "markdown",
   "metadata": {},
   "source": [
    "# 1. LogisticRegression"
   ]
  },
  {
   "cell_type": "code",
   "execution_count": 14,
   "metadata": {},
   "outputs": [
    {
     "name": "stdout",
     "output_type": "stream",
     "text": [
      "random state : 42  and f1 score:  0.9078014184397163\n",
      "random state : 43  and f1 score:  0.8701754385964914\n",
      "random state : 44  and f1 score:  0.8896551724137931\n",
      "random state : 45  and f1 score:  0.9064748201438848\n",
      "random state : 46  and f1 score:  0.9116607773851589\n",
      "random state : 47  and f1 score:  0.8992805755395683\n",
      "random state : 48  and f1 score:  0.8904109589041096\n",
      "random state : 49  and f1 score:  0.9166666666666666\n",
      "random state : 50  and f1 score:  0.9039145907473309\n",
      "random state : 51  and f1 score:  0.9084507042253521\n",
      "random state : 52  and f1 score:  0.910958904109589\n",
      "random state : 53  and f1 score:  0.8780487804878048\n",
      "random state : 54  and f1 score:  0.9090909090909091\n",
      "random state : 55  and f1 score:  0.8912280701754387\n",
      "random state : 56  and f1 score:  0.8943661971830986\n",
      "random state : 57  and f1 score:  0.9097222222222222\n",
      "random state : 58  and f1 score:  0.891304347826087\n",
      "random state : 59  and f1 score:  0.9071428571428571\n",
      "random state : 60  and f1 score:  0.8896551724137931\n",
      "random state : 61  and f1 score:  0.9010238907849829\n",
      "random state : 62  and f1 score:  0.9020979020979021\n",
      "random state : 63  and f1 score:  0.9116607773851589\n",
      "random state : 64  and f1 score:  0.912280701754386\n",
      "random state : 65  and f1 score:  0.910958904109589\n",
      "random state : 66  and f1 score:  0.9014084507042254\n",
      "random state : 67  and f1 score:  0.8967971530249109\n",
      "random state : 68  and f1 score:  0.9039145907473309\n",
      "random state : 69  and f1 score:  0.9051094890510948\n",
      "random state : 70  and f1 score:  0.9252669039145908\n",
      "random state : 71  and f1 score:  0.9084507042253521\n",
      "random state : 72  and f1 score:  0.9057971014492754\n",
      "random state : 73  and f1 score:  0.926829268292683\n",
      "random state : 74  and f1 score:  0.9136690647482014\n",
      "random state : 75  and f1 score:  0.8982456140350877\n",
      "random state : 76  and f1 score:  0.924731182795699\n",
      "random state : 77  and f1 score:  0.8872727272727273\n",
      "random state : 78  and f1 score:  0.8780487804878048\n",
      "random state : 79  and f1 score:  0.9192982456140351\n",
      "random state : 80  and f1 score:  0.8905109489051095\n",
      "random state : 81  and f1 score:  0.9178082191780823\n",
      "random state : 82  and f1 score:  0.8943661971830986\n",
      "random state : 83  and f1 score:  0.9084507042253521\n",
      "random state : 84  and f1 score:  0.862876254180602\n",
      "random state : 85  and f1 score:  0.9300699300699301\n",
      "random state : 86  and f1 score:  0.8857142857142858\n",
      "random state : 87  and f1 score:  0.8936170212765957\n",
      "random state : 88  and f1 score:  0.9136690647482014\n",
      "random state : 89  and f1 score:  0.9198606271777002\n",
      "random state : 90  and f1 score:  0.9146757679180887\n",
      "random state : 91  and f1 score:  0.8832116788321168\n",
      "random state : 92  and f1 score:  0.9103942652329748\n",
      "random state : 93  and f1 score:  0.9051094890510948\n",
      "random state : 94  and f1 score:  0.8996539792387545\n",
      "random state : 95  and f1 score:  0.9318996415770608\n",
      "random state : 96  and f1 score:  0.89198606271777\n",
      "random state : 97  and f1 score:  0.9130434782608695\n",
      "random state : 98  and f1 score:  0.9025270758122743\n",
      "random state : 99  and f1 score:  0.9097222222222222\n",
      "maximum f1_score is at random state : 95  and it is : 0.9318996415770608\n"
     ]
    }
   ],
   "source": [
    "#lets use logistic regression\n",
    "from sklearn.linear_model import LogisticRegression\n",
    "import warnings\n",
    "warnings.filterwarnings(\"ignore\")\n",
    "lg_clf=LogisticRegression()\n",
    "maxf1_score(lg_clf,x,y)"
   ]
  },
  {
   "cell_type": "code",
   "execution_count": 15,
   "metadata": {},
   "outputs": [
    {
     "name": "stdout",
     "output_type": "stream",
     "text": [
      "Mean f1 score for logistic classifier:  0.8987102039362076\n",
      "Standard deviation in f1 score for logistic classifier:  0.015176826896678378\n",
      "[0.90459364 0.9252669  0.88194444 0.88888889 0.89285714]\n"
     ]
    }
   ],
   "source": [
    "#Lets use cross_val_score and evaluate the logistic regression model\n",
    "from sklearn.model_selection import cross_val_score\n",
    "print(\"Mean f1 score for logistic classifier: \",cross_val_score(lg_clf,x,y,cv=5,scoring=\"f1\").mean())\n",
    "print(\"Standard deviation in f1 score for logistic classifier: \",cross_val_score(lg_clf,x,y,cv=5,scoring=\"f1\").std())\n",
    "print(cross_val_score(lg_clf,x,y,cv=5,scoring=\"f1\"))"
   ]
  },
  {
   "cell_type": "markdown",
   "metadata": {},
   "source": [
    "# 2. KNeighborsClassifier"
   ]
  },
  {
   "cell_type": "code",
   "execution_count": 16,
   "metadata": {},
   "outputs": [
    {
     "data": {
      "text/plain": [
       "{'n_neighbors': 5}"
      ]
     },
     "execution_count": 16,
     "metadata": {},
     "output_type": "execute_result"
    }
   ],
   "source": [
    "#Lets use KNN\n",
    "#For KNN we need to know the best value of k using grid search\n",
    "from sklearn.model_selection import GridSearchCV\n",
    "from sklearn.neighbors import KNeighborsClassifier\n",
    "import warnings\n",
    "warnings.filterwarnings(\"ignore\")\n",
    "kc=KNeighborsClassifier()\n",
    "neighbors={\"n_neighbors\":range(1,30)}\n",
    "clf = GridSearchCV(kc, neighbors, cv=5,scoring=\"f1\")\n",
    "clf.fit(x,y)\n",
    "clf.best_params_"
   ]
  },
  {
   "cell_type": "code",
   "execution_count": 17,
   "metadata": {},
   "outputs": [
    {
     "name": "stdout",
     "output_type": "stream",
     "text": [
      "random state : 42  and f1 score:  0.9323843416370108\n",
      "random state : 43  and f1 score:  0.8540925266903915\n",
      "random state : 44  and f1 score:  0.8732394366197184\n",
      "random state : 45  and f1 score:  0.9197080291970802\n",
      "random state : 46  and f1 score:  0.8960573476702509\n",
      "random state : 47  and f1 score:  0.8759124087591241\n",
      "random state : 48  and f1 score:  0.881118881118881\n",
      "random state : 49  and f1 score:  0.8982456140350877\n",
      "random state : 50  and f1 score:  0.8904593639575973\n",
      "random state : 51  and f1 score:  0.9052631578947369\n",
      "random state : 52  and f1 score:  0.9078014184397163\n",
      "random state : 53  and f1 score:  0.888086642599278\n",
      "random state : 54  and f1 score:  0.9411764705882353\n",
      "random state : 55  and f1 score:  0.8714285714285713\n",
      "random state : 56  and f1 score:  0.8992805755395683\n",
      "random state : 57  and f1 score:  0.9010238907849829\n",
      "random state : 58  and f1 score:  0.8936170212765957\n",
      "random state : 59  and f1 score:  0.9052631578947369\n",
      "random state : 60  and f1 score:  0.9025270758122743\n",
      "random state : 61  and f1 score:  0.8754448398576512\n",
      "random state : 62  and f1 score:  0.9045936395759717\n",
      "random state : 63  and f1 score:  0.8992805755395683\n",
      "random state : 64  and f1 score:  0.9295774647887325\n",
      "random state : 65  and f1 score:  0.9116607773851589\n",
      "random state : 66  and f1 score:  0.89198606271777\n",
      "random state : 67  and f1 score:  0.9103942652329748\n",
      "random state : 68  and f1 score:  0.8642857142857142\n",
      "random state : 69  and f1 score:  0.8937728937728938\n",
      "random state : 70  and f1 score:  0.9\n",
      "random state : 71  and f1 score:  0.8817204301075269\n",
      "random state : 72  and f1 score:  0.8848920863309353\n",
      "random state : 73  and f1 score:  0.9128919860627179\n",
      "random state : 74  and f1 score:  0.9018181818181819\n",
      "random state : 75  and f1 score:  0.8873239436619719\n",
      "random state : 76  and f1 score:  0.9\n",
      "random state : 77  and f1 score:  0.8939393939393939\n",
      "random state : 78  and f1 score:  0.8896797153024911\n",
      "random state : 79  and f1 score:  0.9198606271777002\n",
      "random state : 80  and f1 score:  0.8736462093862816\n",
      "random state : 81  and f1 score:  0.9225352112676057\n",
      "random state : 82  and f1 score:  0.9097472924187726\n",
      "random state : 83  and f1 score:  0.8825622775800712\n",
      "random state : 84  and f1 score:  0.8780487804878048\n",
      "random state : 85  and f1 score:  0.9187279151943464\n",
      "random state : 86  and f1 score:  0.8970588235294118\n",
      "random state : 87  and f1 score:  0.8759124087591241\n",
      "random state : 88  and f1 score:  0.9018181818181819\n",
      "random state : 89  and f1 score:  0.9128919860627179\n",
      "random state : 90  and f1 score:  0.8975265017667845\n",
      "random state : 91  and f1 score:  0.8808664259927798\n",
      "random state : 92  and f1 score:  0.900709219858156\n",
      "random state : 93  and f1 score:  0.8929889298892989\n",
      "random state : 94  and f1 score:  0.9014084507042254\n",
      "random state : 95  and f1 score:  0.9097472924187726\n",
      "random state : 96  and f1 score:  0.8951048951048951\n",
      "random state : 97  and f1 score:  0.9097472924187726\n",
      "random state : 98  and f1 score:  0.8905109489051095\n",
      "random state : 99  and f1 score:  0.8896797153024911\n",
      "maximum f1_score is at random state : 54  and it is : 0.9411764705882353\n"
     ]
    }
   ],
   "source": [
    "kc=KNeighborsClassifier(n_neighbors=5)\n",
    "maxf1_score(kc,x,y)"
   ]
  },
  {
   "cell_type": "code",
   "execution_count": 18,
   "metadata": {},
   "outputs": [
    {
     "name": "stdout",
     "output_type": "stream",
     "text": [
      "Mean f1 score for knn classifier:  0.8952472777709287\n",
      "standard deviation in f1 score for knn classifier:  0.016546185181235733\n",
      "[0.91549296 0.89605735 0.87108014 0.88321168 0.91039427]\n"
     ]
    }
   ],
   "source": [
    "#Lets use cross_val_score and evaluate the knn model\n",
    "from sklearn.model_selection import cross_val_score\n",
    "print(\"Mean f1 score for knn classifier: \",cross_val_score(kc,x,y,cv=5,scoring=\"f1\").mean())\n",
    "print(\"standard deviation in f1 score for knn classifier: \",cross_val_score(kc,x,y,cv=5,scoring=\"f1\").std())\n",
    "print(cross_val_score(kc,x,y,cv=5,scoring=\"f1\"))"
   ]
  },
  {
   "cell_type": "markdown",
   "metadata": {},
   "source": [
    "# 3. DecisionTreeClassifier"
   ]
  },
  {
   "cell_type": "code",
   "execution_count": 19,
   "metadata": {},
   "outputs": [
    {
     "name": "stdout",
     "output_type": "stream",
     "text": [
      "random state : 42  and f1 score:  0.9025270758122743\n",
      "random state : 43  and f1 score:  0.8540925266903915\n",
      "random state : 44  and f1 score:  0.8482758620689655\n",
      "random state : 45  and f1 score:  0.8510638297872339\n",
      "random state : 46  and f1 score:  0.8692579505300354\n",
      "random state : 47  and f1 score:  0.845878136200717\n",
      "random state : 48  and f1 score:  0.8551724137931035\n",
      "random state : 49  and f1 score:  0.8263888888888888\n",
      "random state : 50  and f1 score:  0.8832116788321168\n",
      "random state : 51  and f1 score:  0.8350877192982455\n",
      "random state : 52  and f1 score:  0.8612099644128114\n",
      "random state : 53  and f1 score:  0.8661971830985915\n",
      "random state : 54  and f1 score:  0.8719723183391003\n",
      "random state : 55  and f1 score:  0.859106529209622\n",
      "random state : 56  and f1 score:  0.8652482269503546\n",
      "random state : 57  and f1 score:  0.8698630136986301\n",
      "random state : 58  and f1 score:  0.8723404255319149\n",
      "random state : 59  and f1 score:  0.8613138686131386\n",
      "random state : 60  and f1 score:  0.8368794326241135\n",
      "random state : 61  and f1 score:  0.8602150537634409\n",
      "random state : 62  and f1 score:  0.8802816901408451\n",
      "random state : 63  and f1 score:  0.8633093525179856\n",
      "random state : 64  and f1 score:  0.850909090909091\n",
      "random state : 65  and f1 score:  0.89198606271777\n",
      "random state : 66  and f1 score:  0.8601398601398601\n",
      "random state : 67  and f1 score:  0.8661971830985915\n",
      "random state : 68  and f1 score:  0.8661971830985915\n",
      "random state : 69  and f1 score:  0.8581818181818182\n",
      "random state : 70  and f1 score:  0.8602150537634409\n",
      "random state : 71  and f1 score:  0.881118881118881\n",
      "random state : 72  and f1 score:  0.8671328671328671\n",
      "random state : 73  and f1 score:  0.9103448275862069\n",
      "random state : 74  and f1 score:  0.85\n",
      "random state : 75  and f1 score:  0.8530465949820788\n",
      "random state : 76  and f1 score:  0.8683274021352313\n",
      "random state : 77  and f1 score:  0.850909090909091\n",
      "random state : 78  and f1 score:  0.8835616438356164\n",
      "random state : 79  and f1 score:  0.8842105263157894\n",
      "random state : 80  and f1 score:  0.8519855595667869\n",
      "random state : 81  and f1 score:  0.8551724137931035\n",
      "random state : 82  and f1 score:  0.8571428571428571\n",
      "random state : 83  and f1 score:  0.8428571428571429\n",
      "random state : 84  and f1 score:  0.8271186440677967\n",
      "random state : 85  and f1 score:  0.8780487804878048\n",
      "random state : 86  and f1 score:  0.8701754385964914\n",
      "random state : 87  and f1 score:  0.9032258064516129\n",
      "random state : 88  and f1 score:  0.875\n",
      "random state : 89  and f1 score:  0.8668941979522186\n",
      "random state : 90  and f1 score:  0.8680555555555555\n",
      "random state : 91  and f1 score:  0.845878136200717\n",
      "random state : 92  and f1 score:  0.8767123287671234\n",
      "random state : 93  and f1 score:  0.8705035971223023\n",
      "random state : 94  and f1 score:  0.8512110726643598\n",
      "random state : 95  and f1 score:  0.8982456140350877\n",
      "random state : 96  and f1 score:  0.8620689655172412\n",
      "random state : 97  and f1 score:  0.8802816901408451\n",
      "random state : 98  and f1 score:  0.8642857142857142\n",
      "random state : 99  and f1 score:  0.8723404255319149\n",
      "maximum f1_score is at random state : 73  and it is : 0.9103448275862069\n"
     ]
    }
   ],
   "source": [
    "#lets use decision tree\n",
    "from sklearn.tree import DecisionTreeClassifier\n",
    "dc=DecisionTreeClassifier()\n",
    "maxf1_score(dc,x,y)"
   ]
  },
  {
   "cell_type": "code",
   "execution_count": 20,
   "metadata": {},
   "outputs": [
    {
     "name": "stdout",
     "output_type": "stream",
     "text": [
      "Mean f1 score for decision tree classifier:  0.8613307328598964\n",
      "standard deviation in f1 score for decision tree classifier:  0.026988908568105617\n",
      "[0.85815603 0.88256228 0.81003584 0.84805654 0.8683274 ]\n"
     ]
    }
   ],
   "source": [
    "#Lets use cross_val_score and evaluate the knn model\n",
    "from sklearn.model_selection import cross_val_score\n",
    "print(\"Mean f1 score for decision tree classifier: \",cross_val_score(dc,x,y,cv=5,scoring=\"f1\").mean())\n",
    "print(\"standard deviation in f1 score for decision tree classifier: \",cross_val_score(dc,x,y,cv=5,scoring=\"f1\").std())\n",
    "print(cross_val_score(dc,x,y,cv=5,scoring=\"f1\"))"
   ]
  },
  {
   "cell_type": "markdown",
   "metadata": {},
   "source": [
    "# 4. RandomForestClassifier"
   ]
  },
  {
   "cell_type": "code",
   "execution_count": 21,
   "metadata": {},
   "outputs": [
    {
     "data": {
      "text/plain": [
       "{'n_estimators': 500}"
      ]
     },
     "execution_count": 21,
     "metadata": {},
     "output_type": "execute_result"
    }
   ],
   "source": [
    "#lets use ensemble calssifier such as random forest\n",
    "from sklearn.ensemble import RandomForestClassifier\n",
    "from sklearn.model_selection import GridSearchCV\n",
    "parameters={\"n_estimators\":[10,100,500,1000]}\n",
    "rfc_clf=RandomForestClassifier()\n",
    "clf = GridSearchCV(rfc_clf, parameters, cv=5,scoring=\"f1\")\n",
    "clf.fit(x,y)\n",
    "clf.best_params_"
   ]
  },
  {
   "cell_type": "code",
   "execution_count": 22,
   "metadata": {},
   "outputs": [
    {
     "name": "stdout",
     "output_type": "stream",
     "text": [
      "random state : 42  and f1 score:  0.9208633093525179\n",
      "random state : 43  and f1 score:  0.8754448398576512\n",
      "random state : 44  and f1 score:  0.8785714285714286\n",
      "random state : 45  and f1 score:  0.9018181818181819\n",
      "random state : 46  and f1 score:  0.9142857142857144\n",
      "random state : 47  and f1 score:  0.9029850746268657\n",
      "random state : 48  and f1 score:  0.8788927335640139\n",
      "random state : 49  and f1 score:  0.9072164948453608\n",
      "random state : 50  and f1 score:  0.8937728937728938\n",
      "random state : 51  and f1 score:  0.8960573476702509\n",
      "random state : 52  and f1 score:  0.9045936395759717\n",
      "random state : 53  and f1 score:  0.9057971014492754\n",
      "random state : 54  and f1 score:  0.9263157894736843\n",
      "random state : 55  and f1 score:  0.8960573476702509\n",
      "random state : 56  and f1 score:  0.9045936395759717\n",
      "random state : 57  and f1 score:  0.8951048951048951\n",
      "random state : 58  and f1 score:  0.9032258064516129\n",
      "random state : 59  and f1 score:  0.9130434782608695\n",
      "random state : 60  and f1 score:  0.8857142857142858\n",
      "random state : 61  and f1 score:  0.9300699300699301\n",
      "random state : 62  and f1 score:  0.9252669039145908\n",
      "random state : 63  and f1 score:  0.9208633093525179\n",
      "random state : 64  and f1 score:  0.9090909090909091\n",
      "random state : 65  and f1 score:  0.9146757679180887\n",
      "random state : 66  and f1 score:  0.9084507042253521\n",
      "random state : 67  and f1 score:  0.9142857142857144\n",
      "random state : 68  and f1 score:  0.8953068592057761\n",
      "random state : 69  and f1 score:  0.9090909090909091\n",
      "random state : 70  and f1 score:  0.9169675090252708\n",
      "random state : 71  and f1 score:  0.9078014184397163\n",
      "random state : 72  and f1 score:  0.8985507246376813\n",
      "random state : 73  and f1 score:  0.9166666666666666\n",
      "random state : 74  and f1 score:  0.9\n",
      "random state : 75  and f1 score:  0.9052631578947369\n",
      "random state : 76  and f1 score:  0.8985507246376813\n",
      "random state : 77  and f1 score:  0.8996282527881041\n",
      "random state : 78  and f1 score:  0.9154929577464789\n",
      "random state : 79  and f1 score:  0.9078014184397163\n",
      "random state : 80  and f1 score:  0.8945454545454546\n",
      "random state : 81  and f1 score:  0.912280701754386\n",
      "random state : 82  and f1 score:  0.9032258064516129\n",
      "random state : 83  and f1 score:  0.888086642599278\n",
      "random state : 84  and f1 score:  0.8896551724137931\n",
      "random state : 85  and f1 score:  0.9181494661921707\n",
      "random state : 86  and f1 score:  0.8864468864468864\n",
      "random state : 87  and f1 score:  0.9\n",
      "random state : 88  and f1 score:  0.8936170212765957\n",
      "random state : 89  and f1 score:  0.9154929577464789\n",
      "random state : 90  and f1 score:  0.912280701754386\n",
      "random state : 91  and f1 score:  0.900369003690037\n",
      "random state : 92  and f1 score:  0.9071428571428571\n",
      "random state : 93  and f1 score:  0.9044117647058824\n",
      "random state : 94  and f1 score:  0.8842105263157894\n",
      "random state : 95  and f1 score:  0.9116607773851589\n",
      "random state : 96  and f1 score:  0.89198606271777\n",
      "random state : 97  and f1 score:  0.9130434782608695\n",
      "random state : 98  and f1 score:  0.9175627240143368\n",
      "random state : 99  and f1 score:  0.9014084507042254\n",
      "maximum f1_score is at random state : 61  and it is : 0.9300699300699301\n"
     ]
    }
   ],
   "source": [
    "rfc_clf=RandomForestClassifier(n_estimators=500)\n",
    "maxf1_score(rfc_clf,x,y)"
   ]
  },
  {
   "cell_type": "code",
   "execution_count": 23,
   "metadata": {},
   "outputs": [
    {
     "name": "stdout",
     "output_type": "stream",
     "text": [
      "Mean f1 score for random forest classifier:  0.9002773355676581\n",
      "standard deviation in f1 score for random forest classifier:  0.022168683657282962\n",
      "[0.91039427 0.91428571 0.85512367 0.88888889 0.91970803]\n"
     ]
    }
   ],
   "source": [
    "#lets again use cross val score\n",
    "print(\"Mean f1 score for random forest classifier: \",cross_val_score(rfc_clf,x,y,cv=5,scoring=\"f1\").mean())\n",
    "print(\"standard deviation in f1 score for random forest classifier: \",cross_val_score(rfc_clf,x,y,cv=5,scoring=\"f1\").std())\n",
    "print(cross_val_score(rfc_clf,x,y,cv=5,scoring=\"f1\"))"
   ]
  },
  {
   "cell_type": "markdown",
   "metadata": {},
   "source": [
    "# 5. GaussianNB"
   ]
  },
  {
   "cell_type": "code",
   "execution_count": 24,
   "metadata": {},
   "outputs": [
    {
     "name": "stdout",
     "output_type": "stream",
     "text": [
      "random state : 42  and f1 score:  0.8832116788321168\n",
      "random state : 43  and f1 score:  0.8840579710144929\n",
      "random state : 44  and f1 score:  0.8620689655172412\n",
      "random state : 45  and f1 score:  0.8817204301075269\n",
      "random state : 46  and f1 score:  0.8953068592057761\n",
      "random state : 47  and f1 score:  0.8654545454545455\n",
      "random state : 48  and f1 score:  0.8542372881355933\n",
      "random state : 49  and f1 score:  0.8982456140350877\n",
      "random state : 50  and f1 score:  0.8602150537634409\n",
      "random state : 51  and f1 score:  0.8776978417266187\n",
      "random state : 52  and f1 score:  0.8819444444444444\n",
      "random state : 53  and f1 score:  0.8692579505300354\n",
      "random state : 54  and f1 score:  0.9045936395759717\n",
      "random state : 55  and f1 score:  0.8785714285714286\n",
      "random state : 56  and f1 score:  0.8848920863309353\n",
      "random state : 57  and f1 score:  0.8825622775800712\n",
      "random state : 58  and f1 score:  0.9057971014492754\n",
      "random state : 59  and f1 score:  0.9\n",
      "random state : 60  and f1 score:  0.8673835125448028\n",
      "random state : 61  and f1 score:  0.8934707903780069\n",
      "random state : 62  and f1 score:  0.8652482269503546\n",
      "random state : 63  and f1 score:  0.8904593639575973\n",
      "random state : 64  and f1 score:  0.900709219858156\n",
      "random state : 65  and f1 score:  0.9166666666666666\n",
      "random state : 66  and f1 score:  0.881118881118881\n",
      "random state : 67  and f1 score:  0.8714285714285713\n",
      "random state : 68  and f1 score:  0.8664259927797834\n",
      "random state : 69  and f1 score:  0.8823529411764706\n",
      "random state : 70  and f1 score:  0.8992805755395683\n",
      "random state : 71  and f1 score:  0.8819444444444444\n",
      "random state : 72  and f1 score:  0.8992805755395683\n",
      "random state : 73  and f1 score:  0.9014084507042254\n",
      "random state : 74  and f1 score:  0.8745519713261649\n",
      "random state : 75  and f1 score:  0.8850174216027875\n",
      "random state : 76  and f1 score:  0.9071428571428571\n",
      "random state : 77  and f1 score:  0.8614232209737828\n",
      "random state : 78  and f1 score:  0.8732394366197184\n",
      "random state : 79  and f1 score:  0.9090909090909091\n",
      "random state : 80  and f1 score:  0.8782287822878229\n",
      "random state : 81  and f1 score:  0.881118881118881\n",
      "random state : 82  and f1 score:  0.8759124087591241\n",
      "random state : 83  and f1 score:  0.8904593639575973\n",
      "random state : 84  and f1 score:  0.8456375838926175\n",
      "random state : 85  and f1 score:  0.9090909090909091\n",
      "random state : 86  and f1 score:  0.8764044943820225\n",
      "random state : 87  and f1 score:  0.8644688644688645\n",
      "random state : 88  and f1 score:  0.8723404255319149\n",
      "random state : 89  and f1 score:  0.9071428571428571\n",
      "random state : 90  and f1 score:  0.8850174216027875\n",
      "random state : 91  and f1 score:  0.8708487084870848\n",
      "random state : 92  and f1 score:  0.9032258064516129\n",
      "random state : 93  and f1 score:  0.9057971014492754\n",
      "random state : 94  and f1 score:  0.8896551724137931\n",
      "random state : 95  and f1 score:  0.9187279151943464\n",
      "random state : 96  and f1 score:  0.8591549295774649\n",
      "random state : 97  and f1 score:  0.9130434782608695\n",
      "random state : 98  and f1 score:  0.8754448398576512\n",
      "random state : 99  and f1 score:  0.888888888888889\n",
      "maximum f1_score is at random state : 95  and it is : 0.9187279151943464\n"
     ]
    }
   ],
   "source": [
    "# Lets check naive bayes\n",
    "from sklearn.naive_bayes import GaussianNB\n",
    "gnb=GaussianNB()\n",
    "maxf1_score(gnb,x,y)"
   ]
  },
  {
   "cell_type": "code",
   "execution_count": 25,
   "metadata": {},
   "outputs": [
    {
     "name": "stdout",
     "output_type": "stream",
     "text": [
      "Mean f1 score for GaussianNB:  0.8817722269081567\n",
      "standard deviation in f1 score for GaussianNB:  0.028124342822165176\n",
      "[0.90181818 0.91872792 0.87455197 0.83571429 0.87804878]\n"
     ]
    }
   ],
   "source": [
    "#lets again use cross val score\n",
    "print(\"Mean f1 score for GaussianNB: \",cross_val_score(gnb,x,y,cv=5,scoring=\"f1\").mean())\n",
    "print(\"standard deviation in f1 score for GaussianNB: \",cross_val_score(gnb,x,y,cv=5,scoring=\"f1\").std())\n",
    "print(cross_val_score(gnb,x,y,cv=5,scoring=\"f1\"))"
   ]
  },
  {
   "cell_type": "markdown",
   "metadata": {},
   "source": [
    "# 6. SVM"
   ]
  },
  {
   "cell_type": "code",
   "execution_count": 26,
   "metadata": {},
   "outputs": [
    {
     "data": {
      "text/plain": [
       "{'C': 1, 'kernel': 'rbf'}"
      ]
     },
     "execution_count": 26,
     "metadata": {},
     "output_type": "execute_result"
    }
   ],
   "source": [
    "#Lets use SVM\n",
    "from sklearn.svm import SVC\n",
    "svc=SVC()\n",
    "parameters={\"kernel\":[\"linear\", \"poly\", \"rbf\"],\"C\":[0.001,0.01,0.1,1,10]}\n",
    "clf = GridSearchCV(svc, parameters, cv=5,scoring=\"f1\")\n",
    "clf.fit(x,y)\n",
    "clf.best_params_"
   ]
  },
  {
   "cell_type": "code",
   "execution_count": 27,
   "metadata": {},
   "outputs": [
    {
     "name": "stdout",
     "output_type": "stream",
     "text": [
      "random state : 42  and f1 score:  0.9314079422382672\n",
      "random state : 43  and f1 score:  0.8794326241134752\n",
      "random state : 44  and f1 score:  0.9014084507042254\n",
      "random state : 45  and f1 score:  0.9124087591240877\n",
      "random state : 46  and f1 score:  0.9103942652329748\n",
      "random state : 47  and f1 score:  0.8978102189781022\n",
      "random state : 48  and f1 score:  0.88339222614841\n",
      "random state : 49  and f1 score:  0.8982456140350877\n",
      "random state : 50  and f1 score:  0.888086642599278\n",
      "random state : 51  and f1 score:  0.9181494661921707\n",
      "random state : 52  and f1 score:  0.9134948096885813\n",
      "random state : 53  and f1 score:  0.8985507246376813\n",
      "random state : 54  and f1 score:  0.9154929577464789\n",
      "random state : 55  and f1 score:  0.888086642599278\n",
      "random state : 56  and f1 score:  0.9103942652329748\n",
      "random state : 57  and f1 score:  0.9065743944636678\n",
      "random state : 58  and f1 score:  0.9071428571428571\n",
      "random state : 59  and f1 score:  0.8953068592057761\n",
      "random state : 60  and f1 score:  0.8967971530249109\n",
      "random state : 61  and f1 score:  0.9328621908127208\n",
      "random state : 62  and f1 score:  0.924731182795699\n",
      "random state : 63  and f1 score:  0.9142857142857144\n",
      "random state : 64  and f1 score:  0.9192982456140351\n",
      "random state : 65  and f1 score:  0.9305555555555557\n",
      "random state : 66  and f1 score:  0.9103942652329748\n",
      "random state : 67  and f1 score:  0.9018181818181819\n",
      "random state : 68  and f1 score:  0.888888888888889\n",
      "random state : 69  and f1 score:  0.9057971014492754\n",
      "random state : 70  and f1 score:  0.9124087591240877\n",
      "random state : 71  and f1 score:  0.9071428571428571\n",
      "random state : 72  and f1 score:  0.8832116788321168\n",
      "random state : 73  and f1 score:  0.9090909090909091\n",
      "random state : 74  and f1 score:  0.9236363636363636\n",
      "random state : 75  and f1 score:  0.9078014184397163\n",
      "random state : 76  and f1 score:  0.9175627240143368\n",
      "random state : 77  and f1 score:  0.9022556390977444\n",
      "random state : 78  and f1 score:  0.9084507042253521\n",
      "random state : 79  and f1 score:  0.926829268292683\n",
      "random state : 80  and f1 score:  0.88\n",
      "random state : 81  and f1 score:  0.9160839160839161\n",
      "random state : 82  and f1 score:  0.9142857142857144\n",
      "random state : 83  and f1 score:  0.911032028469751\n",
      "random state : 84  and f1 score:  0.8819444444444444\n",
      "random state : 85  and f1 score:  0.9295774647887325\n",
      "random state : 86  and f1 score:  0.9057971014492754\n",
      "random state : 87  and f1 score:  0.8832116788321168\n",
      "random state : 88  and f1 score:  0.9103942652329748\n",
      "random state : 89  and f1 score:  0.9295774647887325\n",
      "random state : 90  and f1 score:  0.8958333333333333\n",
      "random state : 91  and f1 score:  0.9025270758122743\n",
      "random state : 92  and f1 score:  0.9071428571428571\n",
      "random state : 93  and f1 score:  0.9084249084249085\n",
      "random state : 94  and f1 score:  0.9027777777777778\n",
      "random state : 95  and f1 score:  0.9280575539568345\n",
      "random state : 96  and f1 score:  0.8958333333333333\n",
      "random state : 97  and f1 score:  0.9116607773851589\n",
      "random state : 98  and f1 score:  0.8978102189781022\n",
      "random state : 99  and f1 score:  0.912280701754386\n",
      "maximum f1_score is at random state : 61  and it is : 0.9328621908127208\n"
     ]
    }
   ],
   "source": [
    "svc=SVC(kernel=\"rbf\",C=1)\n",
    "maxf1_score(svc,x,y)"
   ]
  },
  {
   "cell_type": "code",
   "execution_count": 28,
   "metadata": {},
   "outputs": [
    {
     "name": "stdout",
     "output_type": "stream",
     "text": [
      "Mean f1 score for SVM classifier:  0.9056298620226222\n",
      "standard deviation in f1 score for SVM classifier:  0.02505178340186331\n",
      "[0.91489362 0.9252669  0.85614035 0.91756272 0.91428571]\n"
     ]
    }
   ],
   "source": [
    "#lets again use cross val score\n",
    "print(\"Mean f1 score for SVM classifier: \",cross_val_score(svc,x,y,cv=5,scoring=\"f1\").mean())\n",
    "print(\"standard deviation in f1 score for SVM classifier: \",cross_val_score(svc,x,y,cv=5,scoring=\"f1\").std())\n",
    "print(cross_val_score(svc,x,y,cv=5,scoring=\"f1\"))"
   ]
  },
  {
   "cell_type": "markdown",
   "metadata": {},
   "source": [
    "# 7. AdaBoostClassifier"
   ]
  },
  {
   "cell_type": "code",
   "execution_count": 29,
   "metadata": {},
   "outputs": [
    {
     "name": "stdout",
     "output_type": "stream",
     "text": [
      "random state : 42  and f1 score:  0.9071428571428571\n",
      "random state : 43  and f1 score:  0.8951048951048951\n",
      "random state : 44  and f1 score:  0.8775510204081632\n",
      "random state : 45  and f1 score:  0.8989547038327526\n",
      "random state : 46  and f1 score:  0.9\n",
      "random state : 47  and f1 score:  0.9\n",
      "random state : 48  and f1 score:  0.8733333333333334\n",
      "random state : 49  and f1 score:  0.9204152249134949\n",
      "random state : 50  and f1 score:  0.8794326241134752\n",
      "random state : 51  and f1 score:  0.8951048951048951\n",
      "random state : 52  and f1 score:  0.8904109589041096\n",
      "random state : 53  and f1 score:  0.8989547038327526\n",
      "random state : 54  and f1 score:  0.9172413793103449\n",
      "random state : 55  and f1 score:  0.8896797153024911\n",
      "random state : 56  and f1 score:  0.8936170212765957\n",
      "random state : 57  and f1 score:  0.8881355932203389\n",
      "random state : 58  and f1 score:  0.900709219858156\n",
      "random state : 59  and f1 score:  0.9090909090909091\n",
      "random state : 60  and f1 score:  0.8989547038327526\n",
      "random state : 61  and f1 score:  0.9034482758620689\n",
      "random state : 62  and f1 score:  0.8865248226950354\n",
      "random state : 63  and f1 score:  0.9097222222222222\n",
      "random state : 64  and f1 score:  0.9097222222222222\n",
      "random state : 65  and f1 score:  0.9047619047619048\n",
      "random state : 66  and f1 score:  0.9027777777777778\n",
      "random state : 67  and f1 score:  0.8819444444444444\n",
      "random state : 68  and f1 score:  0.888888888888889\n",
      "random state : 69  and f1 score:  0.9078014184397163\n",
      "random state : 70  and f1 score:  0.9078014184397163\n",
      "random state : 71  and f1 score:  0.8934707903780069\n",
      "random state : 72  and f1 score:  0.9032258064516129\n",
      "random state : 73  and f1 score:  0.9034482758620689\n",
      "random state : 74  and f1 score:  0.888086642599278\n",
      "random state : 75  and f1 score:  0.8904109589041096\n",
      "random state : 76  and f1 score:  0.9154929577464789\n",
      "random state : 77  and f1 score:  0.8945454545454546\n",
      "random state : 78  and f1 score:  0.8865979381443299\n",
      "random state : 79  and f1 score:  0.9041095890410958\n",
      "random state : 80  and f1 score:  0.888888888888889\n",
      "random state : 81  and f1 score:  0.8888888888888887\n",
      "random state : 82  and f1 score:  0.8825622775800712\n",
      "random state : 83  and f1 score:  0.8972602739726028\n",
      "random state : 84  and f1 score:  0.8619528619528619\n",
      "random state : 85  and f1 score:  0.9198606271777002\n",
      "random state : 86  and f1 score:  0.8794326241134752\n",
      "random state : 87  and f1 score:  0.888888888888889\n",
      "random state : 88  and f1 score:  0.9020979020979021\n",
      "random state : 89  and f1 score:  0.9198606271777002\n",
      "random state : 90  and f1 score:  0.9072164948453608\n",
      "random state : 91  and f1 score:  0.8664259927797834\n",
      "random state : 92  and f1 score:  0.9071428571428571\n",
      "random state : 93  and f1 score:  0.9103942652329748\n",
      "random state : 94  and f1 score:  0.8972602739726028\n",
      "random state : 95  and f1 score:  0.9134948096885813\n",
      "random state : 96  and f1 score:  0.8951048951048951\n",
      "random state : 97  and f1 score:  0.9187279151943464\n",
      "random state : 98  and f1 score:  0.8943661971830986\n",
      "random state : 99  and f1 score:  0.896551724137931\n",
      "maximum f1_score is at random state : 49  and it is : 0.9204152249134949\n"
     ]
    }
   ],
   "source": [
    "#Lets use ada boosting using svm as an estimator\n",
    "from sklearn.ensemble import AdaBoostClassifier\n",
    "#parameters={\"base_estimator\":[dc,lg_clf,svc],\"learning_rate\":[0.001,0.01,0.1,1],\"n_estimators\":[10,100,500,1000]}\n",
    "ada=AdaBoostClassifier(base_estimator=lg_clf,algorithm='SAMME') # i have used logistic regression as base estimator\n",
    "maxf1_score(ada,x,y)"
   ]
  },
  {
   "cell_type": "code",
   "execution_count": 30,
   "metadata": {},
   "outputs": [
    {
     "name": "stdout",
     "output_type": "stream",
     "text": [
      "Mean auc roc score for AdaBoostClassifier:  0.890682076652967\n",
      "standard deviation in f1 score for AdaBoostClassifier:  0.015307904807278339\n",
      "[0.9084507  0.90391459 0.87197232 0.87323944 0.89583333]\n"
     ]
    }
   ],
   "source": [
    "print(\"Mean auc roc score for AdaBoostClassifier: \",cross_val_score(ada,x,y,cv=5,scoring=\"f1\").mean())\n",
    "print(\"standard deviation in f1 score for AdaBoostClassifier: \",cross_val_score(ada,x,y,cv=5,scoring=\"f1\").std())\n",
    "print(cross_val_score(ada,x,y,cv=5,scoring=\"f1\"))"
   ]
  },
  {
   "cell_type": "markdown",
   "metadata": {},
   "source": [
    "# 8. GradientBoostingClassifier"
   ]
  },
  {
   "cell_type": "code",
   "execution_count": 31,
   "metadata": {},
   "outputs": [
    {
     "data": {
      "text/plain": [
       "{'learning_rate': 0.1, 'n_estimators': 500}"
      ]
     },
     "execution_count": 31,
     "metadata": {},
     "output_type": "execute_result"
    }
   ],
   "source": [
    "#Lets use Gradient boosting classifier\n",
    "from sklearn.model_selection import GridSearchCV\n",
    "from sklearn.ensemble import GradientBoostingClassifier\n",
    "parameters={\"learning_rate\":[0.001,0.01,0.1,1],\"n_estimators\":[10,100,500,1000]}\n",
    "gb_clf=GradientBoostingClassifier()\n",
    "clf = GridSearchCV(gb_clf, parameters, cv=5,scoring=\"f1\")\n",
    "clf.fit(x,y)\n",
    "clf.best_params_"
   ]
  },
  {
   "cell_type": "code",
   "execution_count": 32,
   "metadata": {},
   "outputs": [
    {
     "name": "stdout",
     "output_type": "stream",
     "text": [
      "random state : 42  and f1 score:  0.9136690647482014\n",
      "random state : 43  and f1 score:  0.8732394366197184\n",
      "random state : 44  and f1 score:  0.882758620689655\n",
      "random state : 45  and f1 score:  0.9097472924187726\n",
      "random state : 46  and f1 score:  0.9136690647482014\n",
      "random state : 47  and f1 score:  0.9197080291970802\n",
      "random state : 48  and f1 score:  0.8780487804878048\n",
      "random state : 49  and f1 score:  0.896551724137931\n",
      "random state : 50  and f1 score:  0.9154929577464789\n",
      "random state : 51  and f1 score:  0.8865979381443299\n",
      "random state : 52  and f1 score:  0.8873239436619719\n",
      "random state : 53  and f1 score:  0.924731182795699\n",
      "random state : 54  and f1 score:  0.911032028469751\n",
      "random state : 55  and f1 score:  0.8960573476702509\n",
      "random state : 56  and f1 score:  0.900709219858156\n",
      "random state : 57  and f1 score:  0.9041095890410958\n",
      "random state : 58  and f1 score:  0.8791208791208791\n",
      "random state : 59  and f1 score:  0.9124087591240877\n",
      "random state : 60  and f1 score:  0.8794326241134752\n",
      "random state : 61  and f1 score:  0.9027777777777778\n",
      "random state : 62  and f1 score:  0.9047619047619048\n",
      "random state : 63  and f1 score:  0.924731182795699\n",
      "random state : 64  and f1 score:  0.911032028469751\n",
      "random state : 65  and f1 score:  0.9236111111111112\n",
      "random state : 66  and f1 score:  0.9154929577464789\n",
      "random state : 67  and f1 score:  0.8920863309352517\n",
      "random state : 68  and f1 score:  0.888888888888889\n",
      "random state : 69  and f1 score:  0.9169675090252708\n",
      "random state : 70  and f1 score:  0.9202898550724639\n",
      "random state : 71  and f1 score:  0.9103942652329748\n",
      "random state : 72  and f1 score:  0.900709219858156\n",
      "random state : 73  and f1 score:  0.9152542372881356\n",
      "random state : 74  and f1 score:  0.9020979020979021\n",
      "random state : 75  and f1 score:  0.9154929577464789\n",
      "random state : 76  and f1 score:  0.900709219858156\n",
      "random state : 77  and f1 score:  0.9117647058823528\n",
      "random state : 78  and f1 score:  0.9146757679180887\n",
      "random state : 79  and f1 score:  0.9020979020979021\n",
      "random state : 80  and f1 score:  0.891304347826087\n",
      "random state : 81  and f1 score:  0.8881118881118881\n",
      "random state : 82  and f1 score:  0.9097472924187726\n",
      "random state : 83  and f1 score:  0.9059233449477352\n",
      "random state : 84  and f1 score:  0.862876254180602\n",
      "random state : 85  and f1 score:  0.9295774647887325\n",
      "random state : 86  and f1 score:  0.9187279151943464\n",
      "random state : 87  and f1 score:  0.9154929577464789\n",
      "random state : 88  and f1 score:  0.8967971530249109\n",
      "random state : 89  and f1 score:  0.9160839160839161\n",
      "random state : 90  and f1 score:  0.9059233449477352\n",
      "random state : 91  and f1 score:  0.9064748201438848\n",
      "random state : 92  and f1 score:  0.9027777777777778\n",
      "random state : 93  and f1 score:  0.9077490774907749\n",
      "random state : 94  and f1 score:  0.9014084507042254\n",
      "random state : 95  and f1 score:  0.9181494661921707\n",
      "random state : 96  and f1 score:  0.8958333333333333\n",
      "random state : 97  and f1 score:  0.9071428571428571\n",
      "random state : 98  and f1 score:  0.8936170212765957\n",
      "random state : 99  and f1 score:  0.9263157894736843\n",
      "maximum f1_score is at random state : 85  and it is : 0.9295774647887325\n"
     ]
    }
   ],
   "source": [
    "gb_clf=GradientBoostingClassifier(learning_rate=0.1,n_estimators=500)\n",
    "maxf1_score(gb_clf,x,y)"
   ]
  },
  {
   "cell_type": "code",
   "execution_count": 33,
   "metadata": {},
   "outputs": [
    {
     "name": "stdout",
     "output_type": "stream",
     "text": [
      "Mean f1 score for GradientBoostingClassifier:  0.9013460126930584\n",
      "standard deviation in f1 score for GradientBoostingClassifier:  0.01978072897124316\n",
      "[0.90780142 0.91366906 0.87412587 0.88256228 0.92857143]\n"
     ]
    }
   ],
   "source": [
    "#Lets use cross_val_score and evaluate the model\n",
    "from sklearn.model_selection import cross_val_score\n",
    "print(\"Mean f1 score for GradientBoostingClassifier: \",cross_val_score(gb_clf,x,y,cv=5,scoring=\"f1\").mean())\n",
    "print(\"standard deviation in f1 score for GradientBoostingClassifier: \",cross_val_score(gb_clf,x,y,cv=5,scoring=\"f1\").std())\n",
    "print(cross_val_score(gb_clf,x,y,cv=5,scoring=\"f1\"))"
   ]
  },
  {
   "cell_type": "markdown",
   "metadata": {},
   "source": [
    "# 9. XGBClassifier"
   ]
  },
  {
   "cell_type": "code",
   "execution_count": 34,
   "metadata": {},
   "outputs": [
    {
     "name": "stdout",
     "output_type": "stream",
     "text": [
      "random state : 42  and f1 score:  0.9219858156028369\n",
      "random state : 43  and f1 score:  0.89198606271777\n",
      "random state : 44  and f1 score:  0.8710801393728222\n",
      "random state : 45  and f1 score:  0.9130434782608695\n",
      "random state : 46  and f1 score:  0.9025270758122743\n",
      "random state : 47  and f1 score:  0.900369003690037\n",
      "random state : 48  and f1 score:  0.8758620689655171\n",
      "random state : 49  and f1 score:  0.8819444444444444\n",
      "random state : 50  and f1 score:  0.8960573476702509\n",
      "random state : 51  and f1 score:  0.8936170212765957\n",
      "random state : 52  and f1 score:  0.9014084507042254\n",
      "random state : 53  and f1 score:  0.8953068592057761\n",
      "random state : 54  and f1 score:  0.9090909090909091\n",
      "random state : 55  and f1 score:  0.8945454545454546\n",
      "random state : 56  and f1 score:  0.9027777777777778\n",
      "random state : 57  and f1 score:  0.9003436426116839\n",
      "random state : 58  and f1 score:  0.9045936395759717\n",
      "random state : 59  and f1 score:  0.9097472924187726\n",
      "random state : 60  and f1 score:  0.9078014184397163\n",
      "random state : 61  and f1 score:  0.9236111111111112\n",
      "random state : 62  and f1 score:  0.9052631578947369\n",
      "random state : 63  and f1 score:  0.9130434782608695\n",
      "random state : 64  and f1 score:  0.9103942652329748\n",
      "random state : 65  and f1 score:  0.9146757679180887\n",
      "random state : 66  and f1 score:  0.9020979020979021\n",
      "random state : 67  and f1 score:  0.8982456140350877\n",
      "random state : 68  and f1 score:  0.900709219858156\n",
      "random state : 69  and f1 score:  0.8953068592057761\n",
      "random state : 70  and f1 score:  0.9252669039145908\n",
      "random state : 71  and f1 score:  0.8953068592057761\n",
      "random state : 72  and f1 score:  0.9014084507042254\n",
      "random state : 73  and f1 score:  0.9115646258503401\n",
      "random state : 74  and f1 score:  0.8951048951048951\n",
      "random state : 75  and f1 score:  0.8912280701754387\n",
      "random state : 76  and f1 score:  0.9039145907473309\n",
      "random state : 77  and f1 score:  0.9163636363636364\n",
      "random state : 78  and f1 score:  0.9065743944636678\n",
      "random state : 79  and f1 score:  0.9172413793103449\n",
      "random state : 80  and f1 score:  0.9142857142857144\n",
      "random state : 81  and f1 score:  0.9014084507042254\n",
      "random state : 82  and f1 score:  0.8873239436619719\n",
      "random state : 83  and f1 score:  0.8794326241134752\n",
      "random state : 84  and f1 score:  0.8698630136986301\n",
      "random state : 85  and f1 score:  0.9257950530035336\n",
      "random state : 86  and f1 score:  0.912280701754386\n",
      "random state : 87  and f1 score:  0.9027777777777778\n",
      "random state : 88  and f1 score:  0.9014084507042254\n",
      "random state : 89  and f1 score:  0.9045936395759717\n",
      "random state : 90  and f1 score:  0.9198606271777002\n",
      "random state : 91  and f1 score:  0.8896797153024911\n",
      "random state : 92  and f1 score:  0.9027777777777778\n",
      "random state : 93  and f1 score:  0.900369003690037\n",
      "random state : 94  and f1 score:  0.8858131487889273\n",
      "random state : 95  and f1 score:  0.912280701754386\n",
      "random state : 96  and f1 score:  0.896551724137931\n",
      "random state : 97  and f1 score:  0.9214285714285715\n",
      "random state : 98  and f1 score:  0.8888888888888887\n",
      "random state : 99  and f1 score:  0.8982456140350877\n",
      "maximum f1_score is at random state : 85  and it is : 0.9257950530035336\n"
     ]
    }
   ],
   "source": [
    "from xgboost import XGBClassifier\n",
    "xgb_clf = XGBClassifier()\n",
    "maxf1_score(xgb_clf,x,y)"
   ]
  },
  {
   "cell_type": "code",
   "execution_count": 35,
   "metadata": {},
   "outputs": [
    {
     "name": "stdout",
     "output_type": "stream",
     "text": [
      "Mean f1 score for XGBClassifier:  0.8965725702026239\n",
      "standard deviation in f1 score for XGBClassifier:  0.025190044633294044\n",
      "[0.90034364 0.92142857 0.85211268 0.88967972 0.91929825]\n"
     ]
    }
   ],
   "source": [
    "#Lets use cross_val_score and evaluate the model\n",
    "from sklearn.model_selection import cross_val_score\n",
    "print(\"Mean f1 score for XGBClassifier: \",cross_val_score(xgb_clf,x,y,cv=5,scoring=\"f1\").mean())\n",
    "print(\"standard deviation in f1 score for XGBClassifier: \",cross_val_score(xgb_clf,x,y,cv=5,scoring=\"f1\").std())\n",
    "print(cross_val_score(xgb_clf,x,y,cv=5,scoring=\"f1\"))"
   ]
  },
  {
   "cell_type": "code",
   "execution_count": 36,
   "metadata": {},
   "outputs": [],
   "source": [
    "#comparitively KNeighborsClassifier is performing better so lets use same\n",
    "#random state 54\n",
    "kc=KNeighborsClassifier(n_neighbors=5)\n",
    "x_train,x_test,y_train,y_test=train_test_split(x, y,random_state = 54,test_size=0.20,stratify=y)\n",
    "kc.fit(x_train,y_train)\n",
    "y_pred=kc.predict(x_test)"
   ]
  },
  {
   "cell_type": "code",
   "execution_count": 37,
   "metadata": {},
   "outputs": [
    {
     "name": "stdout",
     "output_type": "stream",
     "text": [
      "Confusion matrix \n",
      " [[121  12]\n",
      " [  5 136]]\n",
      "f1 score is :  0.9411764705882353\n",
      "classification report \n",
      "               precision    recall  f1-score   support\n",
      "\n",
      "           0       0.96      0.91      0.93       133\n",
      "           1       0.92      0.96      0.94       141\n",
      "\n",
      "    accuracy                           0.94       274\n",
      "   macro avg       0.94      0.94      0.94       274\n",
      "weighted avg       0.94      0.94      0.94       274\n",
      "\n",
      "AUC ROC Score:  0.9371567215912121\n"
     ]
    }
   ],
   "source": [
    "from sklearn.metrics import confusion_matrix\n",
    "from sklearn.metrics import classification_report\n",
    "from sklearn.metrics import f1_score\n",
    "from sklearn.metrics import roc_auc_score\n",
    "print(\"Confusion matrix \\n\",confusion_matrix(y_test,y_pred))\n",
    "print(\"f1 score is : \",f1_score(y_test,y_pred))\n",
    "print(\"classification report \\n\",classification_report(y_test,y_pred))\n",
    "print(\"AUC ROC Score: \",roc_auc_score(y_test,y_pred))"
   ]
  }
 ],
 "metadata": {
  "kernelspec": {
   "display_name": "Python 3",
   "language": "python",
   "name": "python3"
  },
  "language_info": {
   "codemirror_mode": {
    "name": "ipython",
    "version": 3
   },
   "file_extension": ".py",
   "mimetype": "text/x-python",
   "name": "python",
   "nbconvert_exporter": "python",
   "pygments_lexer": "ipython3",
   "version": "3.7.6"
  }
 },
 "nbformat": 4,
 "nbformat_minor": 4
}
