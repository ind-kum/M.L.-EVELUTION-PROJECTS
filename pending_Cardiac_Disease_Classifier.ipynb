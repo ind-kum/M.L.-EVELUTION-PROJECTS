{
  "nbformat": 4,
  "nbformat_minor": 0,
  "metadata": {
    "colab": {
      "name": "pending Cardiac_Disease_Classifier.ipynb",
      "provenance": [],
      "collapsed_sections": [],
      "authorship_tag": "ABX9TyPpBcRD6FRVoFXuks7R8qBL",
      "include_colab_link": true
    },
    "kernelspec": {
      "display_name": "Python 3",
      "name": "python3"
    },
    "language_info": {
      "name": "python"
    }
  },
  "cells": [
    {
      "cell_type": "markdown",
      "metadata": {
        "id": "view-in-github",
        "colab_type": "text"
      },
      "source": [
        "<a href=\"https://colab.research.google.com/github/ind-kum/M.L.-EVELUTION-PROJECTS/blob/master/pending_Cardiac_Disease_Classifier.ipynb\" target=\"_parent\"><img src=\"https://colab.research.google.com/assets/colab-badge.svg\" alt=\"Open In Colab\"/></a>"
      ]
    },
    {
      "cell_type": "code",
      "metadata": {
        "colab": {
          "base_uri": "https://localhost:8080/",
          "height": 419
        },
        "id": "DWKLUkbKhevy",
        "outputId": "2404262e-3d41-4570-cb93-8e49c63f3200"
      },
      "source": [
        "import pandas as pd\n",
        "import numpy as np\n",
        "df=pd.read_csv(\"https://raw.githubusercontent.com/ind-kum/Datasets/master/cardio_train.csv\", sep=';')\n",
        "df"
      ],
      "execution_count": null,
      "outputs": [
        {
          "output_type": "execute_result",
          "data": {
            "text/html": [
              "<div>\n",
              "<style scoped>\n",
              "    .dataframe tbody tr th:only-of-type {\n",
              "        vertical-align: middle;\n",
              "    }\n",
              "\n",
              "    .dataframe tbody tr th {\n",
              "        vertical-align: top;\n",
              "    }\n",
              "\n",
              "    .dataframe thead th {\n",
              "        text-align: right;\n",
              "    }\n",
              "</style>\n",
              "<table border=\"1\" class=\"dataframe\">\n",
              "  <thead>\n",
              "    <tr style=\"text-align: right;\">\n",
              "      <th></th>\n",
              "      <th>id</th>\n",
              "      <th>age</th>\n",
              "      <th>gender</th>\n",
              "      <th>height</th>\n",
              "      <th>weight</th>\n",
              "      <th>ap_hi</th>\n",
              "      <th>ap_lo</th>\n",
              "      <th>cholesterol</th>\n",
              "      <th>gluc</th>\n",
              "      <th>smoke</th>\n",
              "      <th>alco</th>\n",
              "      <th>active</th>\n",
              "      <th>cardio</th>\n",
              "    </tr>\n",
              "  </thead>\n",
              "  <tbody>\n",
              "    <tr>\n",
              "      <th>0</th>\n",
              "      <td>988</td>\n",
              "      <td>22469</td>\n",
              "      <td>1</td>\n",
              "      <td>155</td>\n",
              "      <td>69.0</td>\n",
              "      <td>130</td>\n",
              "      <td>80</td>\n",
              "      <td>2</td>\n",
              "      <td>2</td>\n",
              "      <td>0</td>\n",
              "      <td>0</td>\n",
              "      <td>1</td>\n",
              "      <td>0</td>\n",
              "    </tr>\n",
              "    <tr>\n",
              "      <th>1</th>\n",
              "      <td>989</td>\n",
              "      <td>14648</td>\n",
              "      <td>1</td>\n",
              "      <td>163</td>\n",
              "      <td>71.0</td>\n",
              "      <td>110</td>\n",
              "      <td>70</td>\n",
              "      <td>1</td>\n",
              "      <td>1</td>\n",
              "      <td>0</td>\n",
              "      <td>0</td>\n",
              "      <td>1</td>\n",
              "      <td>1</td>\n",
              "    </tr>\n",
              "    <tr>\n",
              "      <th>2</th>\n",
              "      <td>990</td>\n",
              "      <td>21901</td>\n",
              "      <td>1</td>\n",
              "      <td>165</td>\n",
              "      <td>70.0</td>\n",
              "      <td>120</td>\n",
              "      <td>80</td>\n",
              "      <td>1</td>\n",
              "      <td>1</td>\n",
              "      <td>0</td>\n",
              "      <td>0</td>\n",
              "      <td>1</td>\n",
              "      <td>0</td>\n",
              "    </tr>\n",
              "    <tr>\n",
              "      <th>3</th>\n",
              "      <td>991</td>\n",
              "      <td>14549</td>\n",
              "      <td>2</td>\n",
              "      <td>165</td>\n",
              "      <td>85.0</td>\n",
              "      <td>120</td>\n",
              "      <td>80</td>\n",
              "      <td>1</td>\n",
              "      <td>1</td>\n",
              "      <td>1</td>\n",
              "      <td>1</td>\n",
              "      <td>1</td>\n",
              "      <td>0</td>\n",
              "    </tr>\n",
              "    <tr>\n",
              "      <th>4</th>\n",
              "      <td>992</td>\n",
              "      <td>23393</td>\n",
              "      <td>1</td>\n",
              "      <td>155</td>\n",
              "      <td>62.0</td>\n",
              "      <td>120</td>\n",
              "      <td>80</td>\n",
              "      <td>1</td>\n",
              "      <td>1</td>\n",
              "      <td>0</td>\n",
              "      <td>0</td>\n",
              "      <td>1</td>\n",
              "      <td>0</td>\n",
              "    </tr>\n",
              "    <tr>\n",
              "      <th>...</th>\n",
              "      <td>...</td>\n",
              "      <td>...</td>\n",
              "      <td>...</td>\n",
              "      <td>...</td>\n",
              "      <td>...</td>\n",
              "      <td>...</td>\n",
              "      <td>...</td>\n",
              "      <td>...</td>\n",
              "      <td>...</td>\n",
              "      <td>...</td>\n",
              "      <td>...</td>\n",
              "      <td>...</td>\n",
              "      <td>...</td>\n",
              "    </tr>\n",
              "    <tr>\n",
              "      <th>69296</th>\n",
              "      <td>99993</td>\n",
              "      <td>19240</td>\n",
              "      <td>2</td>\n",
              "      <td>168</td>\n",
              "      <td>76.0</td>\n",
              "      <td>120</td>\n",
              "      <td>80</td>\n",
              "      <td>1</td>\n",
              "      <td>1</td>\n",
              "      <td>1</td>\n",
              "      <td>0</td>\n",
              "      <td>1</td>\n",
              "      <td>0</td>\n",
              "    </tr>\n",
              "    <tr>\n",
              "      <th>69297</th>\n",
              "      <td>99995</td>\n",
              "      <td>22601</td>\n",
              "      <td>1</td>\n",
              "      <td>158</td>\n",
              "      <td>126.0</td>\n",
              "      <td>140</td>\n",
              "      <td>90</td>\n",
              "      <td>2</td>\n",
              "      <td>2</td>\n",
              "      <td>0</td>\n",
              "      <td>0</td>\n",
              "      <td>1</td>\n",
              "      <td>1</td>\n",
              "    </tr>\n",
              "    <tr>\n",
              "      <th>69298</th>\n",
              "      <td>99996</td>\n",
              "      <td>19066</td>\n",
              "      <td>2</td>\n",
              "      <td>183</td>\n",
              "      <td>105.0</td>\n",
              "      <td>180</td>\n",
              "      <td>90</td>\n",
              "      <td>3</td>\n",
              "      <td>1</td>\n",
              "      <td>0</td>\n",
              "      <td>1</td>\n",
              "      <td>0</td>\n",
              "      <td>1</td>\n",
              "    </tr>\n",
              "    <tr>\n",
              "      <th>69299</th>\n",
              "      <td>99998</td>\n",
              "      <td>22431</td>\n",
              "      <td>1</td>\n",
              "      <td>163</td>\n",
              "      <td>72.0</td>\n",
              "      <td>135</td>\n",
              "      <td>80</td>\n",
              "      <td>1</td>\n",
              "      <td>2</td>\n",
              "      <td>0</td>\n",
              "      <td>0</td>\n",
              "      <td>0</td>\n",
              "      <td>1</td>\n",
              "    </tr>\n",
              "    <tr>\n",
              "      <th>69300</th>\n",
              "      <td>99999</td>\n",
              "      <td>20540</td>\n",
              "      <td>1</td>\n",
              "      <td>170</td>\n",
              "      <td>72.0</td>\n",
              "      <td>120</td>\n",
              "      <td>80</td>\n",
              "      <td>2</td>\n",
              "      <td>1</td>\n",
              "      <td>0</td>\n",
              "      <td>0</td>\n",
              "      <td>1</td>\n",
              "      <td>0</td>\n",
              "    </tr>\n",
              "  </tbody>\n",
              "</table>\n",
              "<p>69301 rows × 13 columns</p>\n",
              "</div>"
            ],
            "text/plain": [
              "          id    age  gender  height  weight  ...  gluc  smoke  alco  active  cardio\n",
              "0        988  22469       1     155    69.0  ...     2      0     0       1       0\n",
              "1        989  14648       1     163    71.0  ...     1      0     0       1       1\n",
              "2        990  21901       1     165    70.0  ...     1      0     0       1       0\n",
              "3        991  14549       2     165    85.0  ...     1      1     1       1       0\n",
              "4        992  23393       1     155    62.0  ...     1      0     0       1       0\n",
              "...      ...    ...     ...     ...     ...  ...   ...    ...   ...     ...     ...\n",
              "69296  99993  19240       2     168    76.0  ...     1      1     0       1       0\n",
              "69297  99995  22601       1     158   126.0  ...     2      0     0       1       1\n",
              "69298  99996  19066       2     183   105.0  ...     1      0     1       0       1\n",
              "69299  99998  22431       1     163    72.0  ...     2      0     0       0       1\n",
              "69300  99999  20540       1     170    72.0  ...     1      0     0       1       0\n",
              "\n",
              "[69301 rows x 13 columns]"
            ]
          },
          "metadata": {
            "tags": []
          },
          "execution_count": 1
        }
      ]
    },
    {
      "cell_type": "code",
      "metadata": {
        "colab": {
          "base_uri": "https://localhost:8080/"
        },
        "id": "1eIh0bwYh0Rq",
        "outputId": "bfd03003-f6e0-41f9-c945-9620fcdcf3a3"
      },
      "source": [
        "#Lets check the null values \n",
        "print(df.isnull().sum())"
      ],
      "execution_count": null,
      "outputs": [
        {
          "output_type": "stream",
          "text": [
            "id             0\n",
            "age            0\n",
            "gender         0\n",
            "height         0\n",
            "weight         0\n",
            "ap_hi          0\n",
            "ap_lo          0\n",
            "cholesterol    0\n",
            "gluc           0\n",
            "smoke          0\n",
            "alco           0\n",
            "active         0\n",
            "cardio         0\n",
            "dtype: int64\n"
          ],
          "name": "stdout"
        }
      ]
    },
    {
      "cell_type": "code",
      "metadata": {
        "colab": {
          "base_uri": "https://localhost:8080/"
        },
        "id": "zKHqVuS3htkP",
        "outputId": "5bc6902e-1568-428a-afc7-7a091a52d4f3"
      },
      "source": [
        "df.dtypes"
      ],
      "execution_count": null,
      "outputs": [
        {
          "output_type": "execute_result",
          "data": {
            "text/plain": [
              "id               int64\n",
              "age              int64\n",
              "gender           int64\n",
              "height           int64\n",
              "weight         float64\n",
              "ap_hi            int64\n",
              "ap_lo            int64\n",
              "cholesterol      int64\n",
              "gluc             int64\n",
              "smoke            int64\n",
              "alco             int64\n",
              "active           int64\n",
              "cardio           int64\n",
              "dtype: object"
            ]
          },
          "metadata": {
            "tags": []
          },
          "execution_count": 3
        }
      ]
    },
    {
      "cell_type": "code",
      "metadata": {
        "colab": {
          "base_uri": "https://localhost:8080/",
          "height": 452
        },
        "id": "P8emXuWwh8nc",
        "outputId": "3c219f2a-b159-4357-b79f-d7603f17ed2f"
      },
      "source": [
        "df.corr()"
      ],
      "execution_count": null,
      "outputs": [
        {
          "output_type": "execute_result",
          "data": {
            "text/html": [
              "<div>\n",
              "<style scoped>\n",
              "    .dataframe tbody tr th:only-of-type {\n",
              "        vertical-align: middle;\n",
              "    }\n",
              "\n",
              "    .dataframe tbody tr th {\n",
              "        vertical-align: top;\n",
              "    }\n",
              "\n",
              "    .dataframe thead th {\n",
              "        text-align: right;\n",
              "    }\n",
              "</style>\n",
              "<table border=\"1\" class=\"dataframe\">\n",
              "  <thead>\n",
              "    <tr style=\"text-align: right;\">\n",
              "      <th></th>\n",
              "      <th>id</th>\n",
              "      <th>age</th>\n",
              "      <th>gender</th>\n",
              "      <th>height</th>\n",
              "      <th>weight</th>\n",
              "      <th>ap_hi</th>\n",
              "      <th>ap_lo</th>\n",
              "      <th>cholesterol</th>\n",
              "      <th>gluc</th>\n",
              "      <th>smoke</th>\n",
              "      <th>alco</th>\n",
              "      <th>active</th>\n",
              "      <th>cardio</th>\n",
              "    </tr>\n",
              "  </thead>\n",
              "  <tbody>\n",
              "    <tr>\n",
              "      <th>id</th>\n",
              "      <td>1.000000</td>\n",
              "      <td>0.003587</td>\n",
              "      <td>0.003773</td>\n",
              "      <td>-0.003735</td>\n",
              "      <td>-0.001549</td>\n",
              "      <td>0.003268</td>\n",
              "      <td>-0.002757</td>\n",
              "      <td>0.006400</td>\n",
              "      <td>0.002543</td>\n",
              "      <td>-0.003294</td>\n",
              "      <td>0.000384</td>\n",
              "      <td>0.002700</td>\n",
              "      <td>0.004269</td>\n",
              "    </tr>\n",
              "    <tr>\n",
              "      <th>age</th>\n",
              "      <td>0.003587</td>\n",
              "      <td>1.000000</td>\n",
              "      <td>-0.023150</td>\n",
              "      <td>-0.081304</td>\n",
              "      <td>0.054409</td>\n",
              "      <td>0.020663</td>\n",
              "      <td>0.017717</td>\n",
              "      <td>0.154343</td>\n",
              "      <td>0.099095</td>\n",
              "      <td>-0.047680</td>\n",
              "      <td>-0.029435</td>\n",
              "      <td>-0.009926</td>\n",
              "      <td>0.238095</td>\n",
              "    </tr>\n",
              "    <tr>\n",
              "      <th>gender</th>\n",
              "      <td>0.003773</td>\n",
              "      <td>-0.023150</td>\n",
              "      <td>1.000000</td>\n",
              "      <td>0.499373</td>\n",
              "      <td>0.155649</td>\n",
              "      <td>0.005980</td>\n",
              "      <td>0.015396</td>\n",
              "      <td>-0.036335</td>\n",
              "      <td>-0.021154</td>\n",
              "      <td>0.337608</td>\n",
              "      <td>0.171015</td>\n",
              "      <td>0.006241</td>\n",
              "      <td>0.008592</td>\n",
              "    </tr>\n",
              "    <tr>\n",
              "      <th>height</th>\n",
              "      <td>-0.003735</td>\n",
              "      <td>-0.081304</td>\n",
              "      <td>0.499373</td>\n",
              "      <td>1.000000</td>\n",
              "      <td>0.290333</td>\n",
              "      <td>0.005492</td>\n",
              "      <td>0.006215</td>\n",
              "      <td>-0.050632</td>\n",
              "      <td>-0.018929</td>\n",
              "      <td>0.187899</td>\n",
              "      <td>0.094164</td>\n",
              "      <td>-0.005974</td>\n",
              "      <td>-0.011015</td>\n",
              "    </tr>\n",
              "    <tr>\n",
              "      <th>weight</th>\n",
              "      <td>-0.001549</td>\n",
              "      <td>0.054409</td>\n",
              "      <td>0.155649</td>\n",
              "      <td>0.290333</td>\n",
              "      <td>1.000000</td>\n",
              "      <td>0.030665</td>\n",
              "      <td>0.043652</td>\n",
              "      <td>0.141901</td>\n",
              "      <td>0.107255</td>\n",
              "      <td>0.068304</td>\n",
              "      <td>0.067259</td>\n",
              "      <td>-0.016514</td>\n",
              "      <td>0.182094</td>\n",
              "    </tr>\n",
              "    <tr>\n",
              "      <th>ap_hi</th>\n",
              "      <td>0.003268</td>\n",
              "      <td>0.020663</td>\n",
              "      <td>0.005980</td>\n",
              "      <td>0.005492</td>\n",
              "      <td>0.030665</td>\n",
              "      <td>1.000000</td>\n",
              "      <td>0.015919</td>\n",
              "      <td>0.023573</td>\n",
              "      <td>0.011821</td>\n",
              "      <td>-0.000933</td>\n",
              "      <td>0.001385</td>\n",
              "      <td>0.000032</td>\n",
              "      <td>0.054211</td>\n",
              "    </tr>\n",
              "    <tr>\n",
              "      <th>ap_lo</th>\n",
              "      <td>-0.002757</td>\n",
              "      <td>0.017717</td>\n",
              "      <td>0.015396</td>\n",
              "      <td>0.006215</td>\n",
              "      <td>0.043652</td>\n",
              "      <td>0.015919</td>\n",
              "      <td>1.000000</td>\n",
              "      <td>0.024023</td>\n",
              "      <td>0.010895</td>\n",
              "      <td>0.004948</td>\n",
              "      <td>0.010764</td>\n",
              "      <td>0.004962</td>\n",
              "      <td>0.065290</td>\n",
              "    </tr>\n",
              "    <tr>\n",
              "      <th>cholesterol</th>\n",
              "      <td>0.006400</td>\n",
              "      <td>0.154343</td>\n",
              "      <td>-0.036335</td>\n",
              "      <td>-0.050632</td>\n",
              "      <td>0.141901</td>\n",
              "      <td>0.023573</td>\n",
              "      <td>0.024023</td>\n",
              "      <td>1.000000</td>\n",
              "      <td>0.451741</td>\n",
              "      <td>0.010237</td>\n",
              "      <td>0.036015</td>\n",
              "      <td>0.009708</td>\n",
              "      <td>0.220752</td>\n",
              "    </tr>\n",
              "    <tr>\n",
              "      <th>gluc</th>\n",
              "      <td>0.002543</td>\n",
              "      <td>0.099095</td>\n",
              "      <td>-0.021154</td>\n",
              "      <td>-0.018929</td>\n",
              "      <td>0.107255</td>\n",
              "      <td>0.011821</td>\n",
              "      <td>0.010895</td>\n",
              "      <td>0.451741</td>\n",
              "      <td>1.000000</td>\n",
              "      <td>-0.004608</td>\n",
              "      <td>0.011442</td>\n",
              "      <td>-0.007301</td>\n",
              "      <td>0.089062</td>\n",
              "    </tr>\n",
              "    <tr>\n",
              "      <th>smoke</th>\n",
              "      <td>-0.003294</td>\n",
              "      <td>-0.047680</td>\n",
              "      <td>0.337608</td>\n",
              "      <td>0.187899</td>\n",
              "      <td>0.068304</td>\n",
              "      <td>-0.000933</td>\n",
              "      <td>0.004948</td>\n",
              "      <td>0.010237</td>\n",
              "      <td>-0.004608</td>\n",
              "      <td>1.000000</td>\n",
              "      <td>0.339709</td>\n",
              "      <td>0.025794</td>\n",
              "      <td>-0.015225</td>\n",
              "    </tr>\n",
              "    <tr>\n",
              "      <th>alco</th>\n",
              "      <td>0.000384</td>\n",
              "      <td>-0.029435</td>\n",
              "      <td>0.171015</td>\n",
              "      <td>0.094164</td>\n",
              "      <td>0.067259</td>\n",
              "      <td>0.001385</td>\n",
              "      <td>0.010764</td>\n",
              "      <td>0.036015</td>\n",
              "      <td>0.011442</td>\n",
              "      <td>0.339709</td>\n",
              "      <td>1.000000</td>\n",
              "      <td>0.025745</td>\n",
              "      <td>-0.007217</td>\n",
              "    </tr>\n",
              "    <tr>\n",
              "      <th>active</th>\n",
              "      <td>0.002700</td>\n",
              "      <td>-0.009926</td>\n",
              "      <td>0.006241</td>\n",
              "      <td>-0.005974</td>\n",
              "      <td>-0.016514</td>\n",
              "      <td>0.000032</td>\n",
              "      <td>0.004962</td>\n",
              "      <td>0.009708</td>\n",
              "      <td>-0.007301</td>\n",
              "      <td>0.025794</td>\n",
              "      <td>0.025745</td>\n",
              "      <td>1.000000</td>\n",
              "      <td>-0.035592</td>\n",
              "    </tr>\n",
              "    <tr>\n",
              "      <th>cardio</th>\n",
              "      <td>0.004269</td>\n",
              "      <td>0.238095</td>\n",
              "      <td>0.008592</td>\n",
              "      <td>-0.011015</td>\n",
              "      <td>0.182094</td>\n",
              "      <td>0.054211</td>\n",
              "      <td>0.065290</td>\n",
              "      <td>0.220752</td>\n",
              "      <td>0.089062</td>\n",
              "      <td>-0.015225</td>\n",
              "      <td>-0.007217</td>\n",
              "      <td>-0.035592</td>\n",
              "      <td>1.000000</td>\n",
              "    </tr>\n",
              "  </tbody>\n",
              "</table>\n",
              "</div>"
            ],
            "text/plain": [
              "                   id       age    gender  ...      alco    active    cardio\n",
              "id           1.000000  0.003587  0.003773  ...  0.000384  0.002700  0.004269\n",
              "age          0.003587  1.000000 -0.023150  ... -0.029435 -0.009926  0.238095\n",
              "gender       0.003773 -0.023150  1.000000  ...  0.171015  0.006241  0.008592\n",
              "height      -0.003735 -0.081304  0.499373  ...  0.094164 -0.005974 -0.011015\n",
              "weight      -0.001549  0.054409  0.155649  ...  0.067259 -0.016514  0.182094\n",
              "ap_hi        0.003268  0.020663  0.005980  ...  0.001385  0.000032  0.054211\n",
              "ap_lo       -0.002757  0.017717  0.015396  ...  0.010764  0.004962  0.065290\n",
              "cholesterol  0.006400  0.154343 -0.036335  ...  0.036015  0.009708  0.220752\n",
              "gluc         0.002543  0.099095 -0.021154  ...  0.011442 -0.007301  0.089062\n",
              "smoke       -0.003294 -0.047680  0.337608  ...  0.339709  0.025794 -0.015225\n",
              "alco         0.000384 -0.029435  0.171015  ...  1.000000  0.025745 -0.007217\n",
              "active       0.002700 -0.009926  0.006241  ...  0.025745  1.000000 -0.035592\n",
              "cardio       0.004269  0.238095  0.008592  ... -0.007217 -0.035592  1.000000\n",
              "\n",
              "[13 rows x 13 columns]"
            ]
          },
          "metadata": {
            "tags": []
          },
          "execution_count": 4
        }
      ]
    },
    {
      "cell_type": "code",
      "metadata": {
        "colab": {
          "base_uri": "https://localhost:8080/",
          "height": 317
        },
        "id": "dggRTxNLh-s0",
        "outputId": "d2a87fbb-2d0f-417d-8d9c-a61a5acddc74"
      },
      "source": [
        "df.describe()"
      ],
      "execution_count": null,
      "outputs": [
        {
          "output_type": "execute_result",
          "data": {
            "text/html": [
              "<div>\n",
              "<style scoped>\n",
              "    .dataframe tbody tr th:only-of-type {\n",
              "        vertical-align: middle;\n",
              "    }\n",
              "\n",
              "    .dataframe tbody tr th {\n",
              "        vertical-align: top;\n",
              "    }\n",
              "\n",
              "    .dataframe thead th {\n",
              "        text-align: right;\n",
              "    }\n",
              "</style>\n",
              "<table border=\"1\" class=\"dataframe\">\n",
              "  <thead>\n",
              "    <tr style=\"text-align: right;\">\n",
              "      <th></th>\n",
              "      <th>id</th>\n",
              "      <th>age</th>\n",
              "      <th>gender</th>\n",
              "      <th>height</th>\n",
              "      <th>weight</th>\n",
              "      <th>ap_hi</th>\n",
              "      <th>ap_lo</th>\n",
              "      <th>cholesterol</th>\n",
              "      <th>gluc</th>\n",
              "      <th>smoke</th>\n",
              "      <th>alco</th>\n",
              "      <th>active</th>\n",
              "      <th>cardio</th>\n",
              "    </tr>\n",
              "  </thead>\n",
              "  <tbody>\n",
              "    <tr>\n",
              "      <th>count</th>\n",
              "      <td>69301.000000</td>\n",
              "      <td>69301.000000</td>\n",
              "      <td>69301.000000</td>\n",
              "      <td>69301.000000</td>\n",
              "      <td>69301.000000</td>\n",
              "      <td>69301.000000</td>\n",
              "      <td>69301.000000</td>\n",
              "      <td>69301.000000</td>\n",
              "      <td>69301.000000</td>\n",
              "      <td>69301.000000</td>\n",
              "      <td>69301.000000</td>\n",
              "      <td>69301.000000</td>\n",
              "      <td>69301.000000</td>\n",
              "    </tr>\n",
              "    <tr>\n",
              "      <th>mean</th>\n",
              "      <td>50471.480397</td>\n",
              "      <td>19468.786280</td>\n",
              "      <td>1.349519</td>\n",
              "      <td>164.362217</td>\n",
              "      <td>74.203027</td>\n",
              "      <td>128.829584</td>\n",
              "      <td>96.650092</td>\n",
              "      <td>1.366806</td>\n",
              "      <td>1.226447</td>\n",
              "      <td>0.088051</td>\n",
              "      <td>0.053881</td>\n",
              "      <td>0.803986</td>\n",
              "      <td>0.499589</td>\n",
              "    </tr>\n",
              "    <tr>\n",
              "      <th>std</th>\n",
              "      <td>28563.100347</td>\n",
              "      <td>2467.261818</td>\n",
              "      <td>0.476821</td>\n",
              "      <td>8.205337</td>\n",
              "      <td>14.383469</td>\n",
              "      <td>154.775805</td>\n",
              "      <td>189.096240</td>\n",
              "      <td>0.680270</td>\n",
              "      <td>0.572246</td>\n",
              "      <td>0.283371</td>\n",
              "      <td>0.225784</td>\n",
              "      <td>0.396982</td>\n",
              "      <td>0.500003</td>\n",
              "    </tr>\n",
              "    <tr>\n",
              "      <th>min</th>\n",
              "      <td>988.000000</td>\n",
              "      <td>10798.000000</td>\n",
              "      <td>1.000000</td>\n",
              "      <td>55.000000</td>\n",
              "      <td>10.000000</td>\n",
              "      <td>-150.000000</td>\n",
              "      <td>-70.000000</td>\n",
              "      <td>1.000000</td>\n",
              "      <td>1.000000</td>\n",
              "      <td>0.000000</td>\n",
              "      <td>0.000000</td>\n",
              "      <td>0.000000</td>\n",
              "      <td>0.000000</td>\n",
              "    </tr>\n",
              "    <tr>\n",
              "      <th>25%</th>\n",
              "      <td>25745.000000</td>\n",
              "      <td>17664.000000</td>\n",
              "      <td>1.000000</td>\n",
              "      <td>159.000000</td>\n",
              "      <td>65.000000</td>\n",
              "      <td>120.000000</td>\n",
              "      <td>80.000000</td>\n",
              "      <td>1.000000</td>\n",
              "      <td>1.000000</td>\n",
              "      <td>0.000000</td>\n",
              "      <td>0.000000</td>\n",
              "      <td>1.000000</td>\n",
              "      <td>0.000000</td>\n",
              "    </tr>\n",
              "    <tr>\n",
              "      <th>50%</th>\n",
              "      <td>50494.000000</td>\n",
              "      <td>19704.000000</td>\n",
              "      <td>1.000000</td>\n",
              "      <td>165.000000</td>\n",
              "      <td>72.000000</td>\n",
              "      <td>120.000000</td>\n",
              "      <td>80.000000</td>\n",
              "      <td>1.000000</td>\n",
              "      <td>1.000000</td>\n",
              "      <td>0.000000</td>\n",
              "      <td>0.000000</td>\n",
              "      <td>1.000000</td>\n",
              "      <td>0.000000</td>\n",
              "    </tr>\n",
              "    <tr>\n",
              "      <th>75%</th>\n",
              "      <td>75150.000000</td>\n",
              "      <td>21326.000000</td>\n",
              "      <td>2.000000</td>\n",
              "      <td>170.000000</td>\n",
              "      <td>82.000000</td>\n",
              "      <td>140.000000</td>\n",
              "      <td>90.000000</td>\n",
              "      <td>2.000000</td>\n",
              "      <td>1.000000</td>\n",
              "      <td>0.000000</td>\n",
              "      <td>0.000000</td>\n",
              "      <td>1.000000</td>\n",
              "      <td>1.000000</td>\n",
              "    </tr>\n",
              "    <tr>\n",
              "      <th>max</th>\n",
              "      <td>99999.000000</td>\n",
              "      <td>23713.000000</td>\n",
              "      <td>2.000000</td>\n",
              "      <td>250.000000</td>\n",
              "      <td>200.000000</td>\n",
              "      <td>16020.000000</td>\n",
              "      <td>11000.000000</td>\n",
              "      <td>3.000000</td>\n",
              "      <td>3.000000</td>\n",
              "      <td>1.000000</td>\n",
              "      <td>1.000000</td>\n",
              "      <td>1.000000</td>\n",
              "      <td>1.000000</td>\n",
              "    </tr>\n",
              "  </tbody>\n",
              "</table>\n",
              "</div>"
            ],
            "text/plain": [
              "                 id           age  ...        active        cardio\n",
              "count  69301.000000  69301.000000  ...  69301.000000  69301.000000\n",
              "mean   50471.480397  19468.786280  ...      0.803986      0.499589\n",
              "std    28563.100347   2467.261818  ...      0.396982      0.500003\n",
              "min      988.000000  10798.000000  ...      0.000000      0.000000\n",
              "25%    25745.000000  17664.000000  ...      1.000000      0.000000\n",
              "50%    50494.000000  19704.000000  ...      1.000000      0.000000\n",
              "75%    75150.000000  21326.000000  ...      1.000000      1.000000\n",
              "max    99999.000000  23713.000000  ...      1.000000      1.000000\n",
              "\n",
              "[8 rows x 13 columns]"
            ]
          },
          "metadata": {
            "tags": []
          },
          "execution_count": 5
        }
      ]
    },
    {
      "cell_type": "code",
      "metadata": {
        "colab": {
          "base_uri": "https://localhost:8080/",
          "height": 281
        },
        "id": "IW4rosF8iA9A",
        "outputId": "bfa08a5e-9efb-48c9-9966-d20eabd2957a"
      },
      "source": [
        "import seaborn as sns\n",
        "import matplotlib.pyplot as plt\n",
        "sns.barplot(x=\"cardio\",y=\"weight\",data=df)\n",
        "plt.show()"
      ],
      "execution_count": null,
      "outputs": [
        {
          "output_type": "display_data",
          "data": {
            "image/png": "[encoded data removed]",
            "text/plain": [
              "<Figure size 432x288 with 1 Axes>"
            ]
          },
          "metadata": {
            "tags": [],
            "needs_background": "light"
          }
        }
      ]
    },
    {
      "cell_type": "code",
      "metadata": {
        "colab": {
          "base_uri": "https://localhost:8080/",
          "height": 279
        },
        "id": "SpbLtek0iD3Y",
        "outputId": "8a08a3ab-9d1d-4bc0-ccd8-b493d95250d6"
      },
      "source": [
        "sns.countplot(x=\"cardio\",data=df)\n",
        "plt.show()"
      ],
      "execution_count": null,
      "outputs": [
        {
          "output_type": "display_data",
          "data": {
            "image/png": "[encoded data removed]",
            "text/plain": [
              "<Figure size 432x288 with 1 Axes>"
            ]
          },
          "metadata": {
            "tags": [],
            "needs_background": "light"
          }
        }
      ]
    },
    {
      "cell_type": "code",
      "metadata": {
        "id": "kc1iawxPiGc9"
      },
      "source": [
        "import numpy as np\n",
        "df_x=df.drop(columns=[\"cardio\",\"id\"])\n",
        "y=df[[\"cardio\"]]"
      ],
      "execution_count": null,
      "outputs": []
    },
    {
      "cell_type": "code",
      "metadata": {
        "colab": {
          "base_uri": "https://localhost:8080/",
          "height": 419
        },
        "id": "r_1EVDpFiIul",
        "outputId": "4bfe4367-141a-43eb-c43c-fbc3885169de"
      },
      "source": [
        "#Lets bring input dataset features to same scale\n",
        "from sklearn.preprocessing import StandardScaler\n",
        "sc = StandardScaler()\n",
        "x = sc.fit_transform(df_x)\n",
        "x=pd.DataFrame(x,columns=df_x.columns)\n",
        "x"
      ],
      "execution_count": null,
      "outputs": [
        {
          "output_type": "execute_result",
          "data": {
            "text/html": [
              "<div>\n",
              "<style scoped>\n",
              "    .dataframe tbody tr th:only-of-type {\n",
              "        vertical-align: middle;\n",
              "    }\n",
              "\n",
              "    .dataframe tbody tr th {\n",
              "        vertical-align: top;\n",
              "    }\n",
              "\n",
              "    .dataframe thead th {\n",
              "        text-align: right;\n",
              "    }\n",
              "</style>\n",
              "<table border=\"1\" class=\"dataframe\">\n",
              "  <thead>\n",
              "    <tr style=\"text-align: right;\">\n",
              "      <th></th>\n",
              "      <th>age</th>\n",
              "      <th>gender</th>\n",
              "      <th>height</th>\n",
              "      <th>weight</th>\n",
              "      <th>ap_hi</th>\n",
              "      <th>ap_lo</th>\n",
              "      <th>cholesterol</th>\n",
              "      <th>gluc</th>\n",
              "      <th>smoke</th>\n",
              "      <th>alco</th>\n",
              "      <th>active</th>\n",
              "    </tr>\n",
              "  </thead>\n",
              "  <tbody>\n",
              "    <tr>\n",
              "      <th>0</th>\n",
              "      <td>1.216018</td>\n",
              "      <td>-0.733023</td>\n",
              "      <td>-1.140999</td>\n",
              "      <td>-0.361739</td>\n",
              "      <td>0.007562</td>\n",
              "      <td>-0.088052</td>\n",
              "      <td>0.930805</td>\n",
              "      <td>1.351794</td>\n",
              "      <td>-0.310728</td>\n",
              "      <td>-0.238641</td>\n",
              "      <td>0.493765</td>\n",
              "    </tr>\n",
              "    <tr>\n",
              "      <th>1</th>\n",
              "      <td>-1.953915</td>\n",
              "      <td>-0.733023</td>\n",
              "      <td>-0.166017</td>\n",
              "      <td>-0.222690</td>\n",
              "      <td>-0.121658</td>\n",
              "      <td>-0.140935</td>\n",
              "      <td>-0.539210</td>\n",
              "      <td>-0.395719</td>\n",
              "      <td>-0.310728</td>\n",
              "      <td>-0.238641</td>\n",
              "      <td>0.493765</td>\n",
              "    </tr>\n",
              "    <tr>\n",
              "      <th>2</th>\n",
              "      <td>0.985802</td>\n",
              "      <td>-0.733023</td>\n",
              "      <td>0.077728</td>\n",
              "      <td>-0.292214</td>\n",
              "      <td>-0.057048</td>\n",
              "      <td>-0.088052</td>\n",
              "      <td>-0.539210</td>\n",
              "      <td>-0.395719</td>\n",
              "      <td>-0.310728</td>\n",
              "      <td>-0.238641</td>\n",
              "      <td>0.493765</td>\n",
              "    </tr>\n",
              "    <tr>\n",
              "      <th>3</th>\n",
              "      <td>-1.994041</td>\n",
              "      <td>1.364213</td>\n",
              "      <td>0.077728</td>\n",
              "      <td>0.750657</td>\n",
              "      <td>-0.057048</td>\n",
              "      <td>-0.088052</td>\n",
              "      <td>-0.539210</td>\n",
              "      <td>-0.395719</td>\n",
              "      <td>3.218244</td>\n",
              "      <td>4.190400</td>\n",
              "      <td>0.493765</td>\n",
              "    </tr>\n",
              "    <tr>\n",
              "      <th>4</th>\n",
              "      <td>1.590525</td>\n",
              "      <td>-0.733023</td>\n",
              "      <td>-1.140999</td>\n",
              "      <td>-0.848413</td>\n",
              "      <td>-0.057048</td>\n",
              "      <td>-0.088052</td>\n",
              "      <td>-0.539210</td>\n",
              "      <td>-0.395719</td>\n",
              "      <td>-0.310728</td>\n",
              "      <td>-0.238641</td>\n",
              "      <td>0.493765</td>\n",
              "    </tr>\n",
              "    <tr>\n",
              "      <th>...</th>\n",
              "      <td>...</td>\n",
              "      <td>...</td>\n",
              "      <td>...</td>\n",
              "      <td>...</td>\n",
              "      <td>...</td>\n",
              "      <td>...</td>\n",
              "      <td>...</td>\n",
              "      <td>...</td>\n",
              "      <td>...</td>\n",
              "      <td>...</td>\n",
              "      <td>...</td>\n",
              "    </tr>\n",
              "    <tr>\n",
              "      <th>69296</th>\n",
              "      <td>-0.092729</td>\n",
              "      <td>1.364213</td>\n",
              "      <td>0.443347</td>\n",
              "      <td>0.124934</td>\n",
              "      <td>-0.057048</td>\n",
              "      <td>-0.088052</td>\n",
              "      <td>-0.539210</td>\n",
              "      <td>-0.395719</td>\n",
              "      <td>3.218244</td>\n",
              "      <td>-0.238641</td>\n",
              "      <td>0.493765</td>\n",
              "    </tr>\n",
              "    <tr>\n",
              "      <th>69297</th>\n",
              "      <td>1.269519</td>\n",
              "      <td>-0.733023</td>\n",
              "      <td>-0.775381</td>\n",
              "      <td>3.601172</td>\n",
              "      <td>0.072172</td>\n",
              "      <td>-0.035168</td>\n",
              "      <td>0.930805</td>\n",
              "      <td>1.351794</td>\n",
              "      <td>-0.310728</td>\n",
              "      <td>-0.238641</td>\n",
              "      <td>0.493765</td>\n",
              "    </tr>\n",
              "    <tr>\n",
              "      <th>69298</th>\n",
              "      <td>-0.163254</td>\n",
              "      <td>1.364213</td>\n",
              "      <td>2.271438</td>\n",
              "      <td>2.141152</td>\n",
              "      <td>0.330612</td>\n",
              "      <td>-0.035168</td>\n",
              "      <td>2.400819</td>\n",
              "      <td>-0.395719</td>\n",
              "      <td>-0.310728</td>\n",
              "      <td>4.190400</td>\n",
              "      <td>-2.025256</td>\n",
              "    </tr>\n",
              "    <tr>\n",
              "      <th>69299</th>\n",
              "      <td>1.200616</td>\n",
              "      <td>-0.733023</td>\n",
              "      <td>-0.166017</td>\n",
              "      <td>-0.153165</td>\n",
              "      <td>0.039867</td>\n",
              "      <td>-0.088052</td>\n",
              "      <td>-0.539210</td>\n",
              "      <td>1.351794</td>\n",
              "      <td>-0.310728</td>\n",
              "      <td>-0.238641</td>\n",
              "      <td>-2.025256</td>\n",
              "    </tr>\n",
              "    <tr>\n",
              "      <th>69300</th>\n",
              "      <td>0.434174</td>\n",
              "      <td>-0.733023</td>\n",
              "      <td>0.687092</td>\n",
              "      <td>-0.153165</td>\n",
              "      <td>-0.057048</td>\n",
              "      <td>-0.088052</td>\n",
              "      <td>0.930805</td>\n",
              "      <td>-0.395719</td>\n",
              "      <td>-0.310728</td>\n",
              "      <td>-0.238641</td>\n",
              "      <td>0.493765</td>\n",
              "    </tr>\n",
              "  </tbody>\n",
              "</table>\n",
              "<p>69301 rows × 11 columns</p>\n",
              "</div>"
            ],
            "text/plain": [
              "            age    gender    height  ...     smoke      alco    active\n",
              "0      1.216018 -0.733023 -1.140999  ... -0.310728 -0.238641  0.493765\n",
              "1     -1.953915 -0.733023 -0.166017  ... -0.310728 -0.238641  0.493765\n",
              "2      0.985802 -0.733023  0.077728  ... -0.310728 -0.238641  0.493765\n",
              "3     -1.994041  1.364213  0.077728  ...  3.218244  4.190400  0.493765\n",
              "4      1.590525 -0.733023 -1.140999  ... -0.310728 -0.238641  0.493765\n",
              "...         ...       ...       ...  ...       ...       ...       ...\n",
              "69296 -0.092729  1.364213  0.443347  ...  3.218244 -0.238641  0.493765\n",
              "69297  1.269519 -0.733023 -0.775381  ... -0.310728 -0.238641  0.493765\n",
              "69298 -0.163254  1.364213  2.271438  ... -0.310728  4.190400 -2.025256\n",
              "69299  1.200616 -0.733023 -0.166017  ... -0.310728 -0.238641 -2.025256\n",
              "69300  0.434174 -0.733023  0.687092  ... -0.310728 -0.238641  0.493765\n",
              "\n",
              "[69301 rows x 11 columns]"
            ]
          },
          "metadata": {
            "tags": []
          },
          "execution_count": 9
        }
      ]
    },
    {
      "cell_type": "code",
      "metadata": {
        "id": "7C0IZIzEjiUw"
      },
      "source": [
        "#We will use f1 score as the metrics as it is balanced dataset problem\n",
        "#Maximum f1 score in between random states 42 to 100\n",
        "from sklearn.metrics import f1_score\n",
        "from sklearn.model_selection import train_test_split\n",
        "from sklearn.model_selection import GridSearchCV\n",
        "def maxf1_score(clf,x,y):\n",
        "    maxf=0\n",
        "    rs=0\n",
        "    for r_state in range(42,100):\n",
        "        x_train,x_test,y_train,y_test=train_test_split(x, y,random_state = r_state,test_size=0.25,stratify=y)\n",
        "        clf.fit(x_train,y_train)\n",
        "        y_pred=clf.predict(x_test)\n",
        "        tmp=f1_score(y_test,y_pred)\n",
        "        print(\"random state :\",r_state,\" and f1 score: \",tmp)\n",
        "        if tmp>maxf:\n",
        "            maxf=tmp\n",
        "            rs=r_state\n",
        "    print(\"maximum f1_score is at random state :\",rs,\" and it is :\",maxf)"
      ],
      "execution_count": null,
      "outputs": []
    },
    {
      "cell_type": "markdown",
      "metadata": {
        "id": "FEKTl3Fvjr-G"
      },
      "source": [
        "# 1. LogisticRegression"
      ]
    },
    {
      "cell_type": "code",
      "metadata": {
        "colab": {
          "base_uri": "https://localhost:8080/"
        },
        "id": "dIpYs9yejwbd",
        "outputId": "5700411b-fde3-4784-badb-305c45e6a2d2"
      },
      "source": [
        "#lets use logistic regression\n",
        "from sklearn.linear_model import LogisticRegression\n",
        "import warnings\n",
        "warnings.filterwarnings(\"ignore\")\n",
        "lg_clf=LogisticRegression()\n",
        "maxf1_score(lg_clf,x,y)"
      ],
      "execution_count": null,
      "outputs": [
        {
          "output_type": "stream",
          "text": [
            "random state : 42  and f1 score:  0.7003792667509482\n",
            "random state : 43  and f1 score:  0.7069722673404318\n",
            "random state : 44  and f1 score:  0.7018524142119648\n",
            "random state : 45  and f1 score:  0.7159383803872206\n",
            "random state : 46  and f1 score:  0.7072834999102281\n",
            "random state : 47  and f1 score:  0.7090010844680082\n",
            "random state : 48  and f1 score:  0.704664459825459\n",
            "random state : 49  and f1 score:  0.7066780404582014\n",
            "random state : 50  and f1 score:  0.7101966717095309\n",
            "random state : 51  and f1 score:  0.703420910238682\n",
            "random state : 52  and f1 score:  0.7049655672345053\n",
            "random state : 53  and f1 score:  0.7035438575162604\n",
            "random state : 54  and f1 score:  0.6994853163790492\n",
            "random state : 55  and f1 score:  0.7062095652699679\n",
            "random state : 56  and f1 score:  0.7122397400409195\n",
            "random state : 57  and f1 score:  0.7064838205220738\n",
            "random state : 58  and f1 score:  0.7052189562087583\n",
            "random state : 59  and f1 score:  0.7019562715765247\n",
            "random state : 60  and f1 score:  0.7110685194058456\n",
            "random state : 61  and f1 score:  0.7109295199182839\n",
            "random state : 62  and f1 score:  0.7036813518406759\n",
            "random state : 63  and f1 score:  0.707619966240656\n",
            "random state : 64  and f1 score:  0.7078427821046913\n",
            "random state : 65  and f1 score:  0.7129534925696408\n",
            "random state : 66  and f1 score:  0.7080423790031302\n",
            "random state : 67  and f1 score:  0.7121093514782922\n",
            "random state : 68  and f1 score:  0.7036790108491424\n",
            "random state : 69  and f1 score:  0.7085369532428357\n",
            "random state : 70  and f1 score:  0.6999395770392749\n",
            "random state : 71  and f1 score:  0.7097904209699826\n",
            "random state : 72  and f1 score:  0.7051605918440996\n",
            "random state : 73  and f1 score:  0.7097789887980624\n",
            "random state : 74  and f1 score:  0.7078909266409267\n",
            "random state : 75  and f1 score:  0.7085152838427948\n",
            "random state : 76  and f1 score:  0.7121039707731928\n",
            "random state : 77  and f1 score:  0.7028007984997883\n",
            "random state : 78  and f1 score:  0.7066916068303869\n",
            "random state : 79  and f1 score:  0.7064442026357152\n",
            "random state : 80  and f1 score:  0.7044783316255802\n",
            "random state : 81  and f1 score:  0.7105437466128741\n",
            "random state : 82  and f1 score:  0.704684317718941\n",
            "random state : 83  and f1 score:  0.70510191774213\n",
            "random state : 84  and f1 score:  0.7018284955645405\n",
            "random state : 85  and f1 score:  0.7100941801497223\n",
            "random state : 86  and f1 score:  0.7076811506617513\n",
            "random state : 87  and f1 score:  0.701820160851424\n",
            "random state : 88  and f1 score:  0.7089561162262347\n",
            "random state : 89  and f1 score:  0.7072658546829064\n",
            "random state : 90  and f1 score:  0.7122414622414622\n",
            "random state : 91  and f1 score:  0.7080094015548725\n",
            "random state : 92  and f1 score:  0.7065969090143726\n",
            "random state : 93  and f1 score:  0.7087454294791103\n",
            "random state : 94  and f1 score:  0.7136009586578789\n",
            "random state : 95  and f1 score:  0.7064894069082742\n",
            "random state : 96  and f1 score:  0.7051869722557298\n",
            "random state : 97  and f1 score:  0.7029535864978903\n",
            "random state : 98  and f1 score:  0.7098298104294107\n",
            "random state : 99  and f1 score:  0.7089036947304664\n",
            "maximum f1_score is at random state : 45  and it is : 0.7159383803872206\n"
          ],
          "name": "stdout"
        }
      ]
    },
    {
      "cell_type": "code",
      "metadata": {
        "colab": {
          "base_uri": "https://localhost:8080/"
        },
        "id": "G-b6xN93jypa",
        "outputId": "01f073b6-97d2-42a9-b863-6392e12e8f5e"
      },
      "source": [
        "#Lets use cross_val_score and evaluate the logistic regression model\n",
        "from sklearn.model_selection import cross_val_score\n",
        "print(\"Mean f1 score for logistic classifier: \",cross_val_score(lg_clf,x,y,cv=5,scoring=\"f1\").mean())\n",
        "print(\"Standard deviation in f1 score for logistic classifier: \",cross_val_score(lg_clf,x,y,cv=5,scoring=\"f1\").std())\n",
        "print(cross_val_score(lg_clf,x,y,cv=5,scoring=\"f1\"))"
      ],
      "execution_count": null,
      "outputs": [
        {
          "output_type": "stream",
          "text": [
            "Mean f1 score for logistic classifier:  0.7073847683571441\n",
            "Standard deviation in f1 score for logistic classifier:  0.006282594720711762\n",
            "[0.69754397 0.71374736 0.70551181 0.71465413 0.70546658]\n"
          ],
          "name": "stdout"
        }
      ]
    },
    {
      "cell_type": "markdown",
      "metadata": {
        "id": "jyGC0ZhUk-qZ"
      },
      "source": [
        "## 4. SVM"
      ]
    },
    {
      "cell_type": "code",
      "metadata": {
        "colab": {
          "base_uri": "https://localhost:8080/"
        },
        "id": "5lNG0RIMlIHm",
        "outputId": "5fb28a58-056e-4d61-b176-dd70d07dac8c"
      },
      "source": [
        "#Lets use SVM\n",
        "from sklearn.svm import SVC\n",
        "svc=SVC()\n",
        "parameters={\"kernel\":[\"linear\", \"poly\", \"rbf\"],\"C\":[0.001,0.01,0.1,1,10]}\n",
        "clf = GridSearchCV(svc, parameters, cv=5,scoring=\"f1\")\n",
        "clf.fit(x,y)\n",
        "clf.best_params_"
      ],
      "execution_count": null,
      "outputs": [
        {
          "output_type": "execute_result",
          "data": {
            "text/plain": [
              "{'C': 10, 'kernel': 'rbf'}"
            ]
          },
          "metadata": {
            "tags": []
          },
          "execution_count": 13
        }
      ]
    },
    {
      "cell_type": "code",
      "metadata": {
        "id": "oe5GzQR1k1jK",
        "colab": {
          "base_uri": "https://localhost:8080/"
        },
        "outputId": "bccd9424-744c-41fc-f71d-33fee1bb8533"
      },
      "source": [
        "svc=SVC(kernel=\"rbf\",C=10)\n",
        "maxf1_score(svc,x,y)"
      ],
      "execution_count": null,
      "outputs": [
        {
          "output_type": "stream",
          "text": [
            "random state : 42  and f1 score:  0.7150444590320463\n",
            "random state : 43  and f1 score:  0.7233537200878808\n",
            "random state : 44  and f1 score:  0.7191764424227914\n",
            "random state : 45  and f1 score:  0.7285849503076195\n",
            "random state : 46  and f1 score:  0.7218738909262982\n",
            "random state : 47  and f1 score:  0.7195136488258432\n",
            "random state : 48  and f1 score:  0.7212257987884547\n",
            "random state : 49  and f1 score:  0.7183317399617593\n",
            "random state : 50  and f1 score:  0.724577031147247\n",
            "random state : 51  and f1 score:  0.718831631441463\n",
            "random state : 52  and f1 score:  0.7221725924602466\n",
            "random state : 53  and f1 score:  0.717100928421683\n",
            "random state : 54  and f1 score:  0.716983387116051\n",
            "random state : 55  and f1 score:  0.7232472324723246\n",
            "random state : 56  and f1 score:  0.723853591979593\n",
            "random state : 57  and f1 score:  0.7212218458429904\n",
            "random state : 58  and f1 score:  0.7198909435751542\n",
            "random state : 59  and f1 score:  0.7156083865957829\n",
            "random state : 60  and f1 score:  0.729336644200071\n",
            "random state : 61  and f1 score:  0.7232323232323232\n",
            "random state : 62  and f1 score:  0.7187555661105502\n",
            "random state : 63  and f1 score:  0.7236849925705795\n",
            "random state : 64  and f1 score:  0.7200381793235102\n",
            "random state : 65  and f1 score:  0.7273051330798479\n",
            "random state : 66  and f1 score:  0.7211970664774071\n",
            "random state : 67  and f1 score:  0.7231591448931117\n",
            "random state : 68  and f1 score:  0.7216409036860879\n",
            "random state : 69  and f1 score:  0.722059263693505\n",
            "random state : 70  and f1 score:  0.7148198706154666\n",
            "random state : 71  and f1 score:  0.7259268032689803\n",
            "random state : 72  and f1 score:  0.7221398493565032\n",
            "random state : 73  and f1 score:  0.7214502951875486\n",
            "random state : 74  and f1 score:  0.7199043634190078\n",
            "random state : 75  and f1 score:  0.7210664753706361\n",
            "random state : 76  and f1 score:  0.7251221091037485\n",
            "random state : 77  and f1 score:  0.7216235632183908\n",
            "random state : 78  and f1 score:  0.7205864822982477\n",
            "random state : 79  and f1 score:  0.7221924974733963\n",
            "random state : 80  and f1 score:  0.7202239161505479\n",
            "random state : 81  and f1 score:  0.7239329449530377\n",
            "random state : 82  and f1 score:  0.720108695652174\n",
            "random state : 83  and f1 score:  0.722404436758304\n",
            "random state : 84  and f1 score:  0.7176758921633093\n",
            "random state : 85  and f1 score:  0.7222321163550014\n",
            "random state : 86  and f1 score:  0.7198237360805096\n",
            "random state : 87  and f1 score:  0.7214132251133922\n",
            "random state : 88  and f1 score:  0.7247131196025078\n",
            "random state : 89  and f1 score:  0.7267331433998101\n",
            "random state : 90  and f1 score:  0.7226701446525966\n",
            "random state : 91  and f1 score:  0.7232652091254753\n",
            "random state : 92  and f1 score:  0.7191265958716143\n",
            "random state : 93  and f1 score:  0.721493320610687\n",
            "random state : 94  and f1 score:  0.7274344680346341\n",
            "random state : 95  and f1 score:  0.7187742204733797\n",
            "random state : 96  and f1 score:  0.7205206280972\n",
            "random state : 97  and f1 score:  0.7193003191112162\n",
            "random state : 98  and f1 score:  0.7234194546969878\n",
            "random state : 99  and f1 score:  0.7226347305389222\n",
            "maximum f1_score is at random state : 60  and it is : 0.729336644200071\n"
          ],
          "name": "stdout"
        }
      ]
    },
    {
      "cell_type": "code",
      "metadata": {
        "id": "gmWzwseWk1mQ",
        "colab": {
          "base_uri": "https://localhost:8080/"
        },
        "outputId": "1e63bff8-f87f-4e16-aa53-10195b64a07d"
      },
      "source": [
        "#lets again use cross val score\n",
        "print(\"Mean f1 score for SVM classifier: \",cross_val_score(svc,x,y,cv=5,scoring=\"f1\").mean())\n",
        "print(\"standard deviation in f1 score for SVM classifier: \",cross_val_score(svc,x,y,cv=5,scoring=\"f1\").std())\n",
        "print(cross_val_score(svc,x,y,cv=5,scoring=\"f1\"))"
      ],
      "execution_count": 16,
      "outputs": [
        {
          "output_type": "stream",
          "text": [
            "Mean f1 score for SVM classifier:  0.72330531868043\n",
            "standard deviation in f1 score for SVM classifier:  0.0034249438762179933\n",
            "[0.71885173 0.72941527 0.72313865 0.72214344 0.72297749]\n"
          ],
          "name": "stdout"
        }
      ]
    },
    {
      "cell_type": "markdown",
      "metadata": {
        "id": "VYuNswvZlTLU"
      },
      "source": [
        "## 6. AdaBoostClassifier"
      ]
    },
    {
      "cell_type": "code",
      "metadata": {
        "id": "VdXdQHSUlXdT"
      },
      "source": [
        "#Lets use ada boosting using svm as an estimator\n",
        "from sklearn.ensemble import AdaBoostClassifier\n",
        "from sklearn.tree import DecisionTreeClassifier\n",
        "ada=AdaBoostClassifier()\n",
        "parameters={\"learning_rate\":[0.001,0.01,0.1,1],\"n_estimators\":[10,100,500,1000],\"base_estimator\":[lg_clf,svc,DecisionTreeClassifier()]}\n",
        "clf = GridSearchCV(ada, parameters, cv=5)\n",
        "clf.fit(x,y)\n",
        "clf.best_params_"
      ],
      "execution_count": null,
      "outputs": []
    },
    {
      "cell_type": "code",
      "metadata": {
        "id": "yxuTdwguk1pk"
      },
      "source": [
        "ada=AdaBoostClassifier(base_estimator=lg_clf,algorithm='SAMME')\n",
        "maxf1_score(ada,x,y)"
      ],
      "execution_count": null,
      "outputs": []
    },
    {
      "cell_type": "code",
      "metadata": {
        "id": "te_u8zxYk1tL"
      },
      "source": [
        "print(\"Mean auc roc score for AdaBoostClassifier: \",cross_val_score(ada,x,y,cv=5,scoring=\"f1\").mean())\n",
        "print(\"standard deviation in f1 score for AdaBoostClassifier: \",cross_val_score(ada,x,y,cv=5,scoring=\"f1\").std())\n",
        "print(cross_val_score(ada,x,y,cv=5,scoring=\"f1\"))"
      ],
      "execution_count": null,
      "outputs": []
    },
    {
      "cell_type": "markdown",
      "metadata": {
        "id": "Ub5xtp1XlivT"
      },
      "source": [
        "## 7. GradientBoostingClassifier"
      ]
    },
    {
      "cell_type": "code",
      "metadata": {
        "id": "9rGcqsN3lmDO"
      },
      "source": [
        "#Lets use Gradient boosting classifier\n",
        "from sklearn.model_selection import GridSearchCV\n",
        "from sklearn.ensemble import GradientBoostingClassifier\n",
        "parameters={\"learning_rate\":[0.001,0.01,0.1,1],\"n_estimators\":[10,100,500,1000]}\n",
        "gb_clf=GradientBoostingClassifier()\n",
        "clf = GridSearchCV(gb_clf, parameters, cv=5,scoring=\"f1\")\n",
        "clf.fit(x,y)\n",
        "clf.best_params_"
      ],
      "execution_count": null,
      "outputs": []
    },
    {
      "cell_type": "code",
      "metadata": {
        "id": "Qq6bTKbOk1yt"
      },
      "source": [
        "gb_clf=GradientBoostingClassifier(learning_rate=0.1,n_estimators=500)\n",
        "maxf1_score(gb_clf,x,y)"
      ],
      "execution_count": null,
      "outputs": []
    },
    {
      "cell_type": "code",
      "metadata": {
        "id": "vxMCXT_0k12R"
      },
      "source": [
        "#Lets use cross_val_score and evaluate the model\n",
        "from sklearn.model_selection import cross_val_score\n",
        "print(\"Mean f1 score for GradientBoostingClassifier: \",cross_val_score(gb_clf,x,y,cv=5,scoring=\"f1\").mean())\n",
        "print(\"standard deviation in f1 score for GradientBoostingClassifier: \",cross_val_score(gb_clf,x,y,cv=5,scoring=\"f1\").std())\n",
        "print(cross_val_score(gb_clf,x,y,cv=5,scoring=\"f1\"))"
      ],
      "execution_count": null,
      "outputs": []
    },
    {
      "cell_type": "markdown",
      "metadata": {
        "id": "vLz1CiZElu9O"
      },
      "source": [
        "# 8. XGBClassifier"
      ]
    },
    {
      "cell_type": "code",
      "metadata": {
        "id": "c6qBs2aElzNV"
      },
      "source": [
        "from xgboost import XGBClassifier\n",
        "xgb_clf = XGBClassifier()\n",
        "maxf1_score(xgb_clf,x,y)"
      ],
      "execution_count": null,
      "outputs": []
    },
    {
      "cell_type": "code",
      "metadata": {
        "id": "PoZHVWOhk160"
      },
      "source": [
        "#Lets use cross_val_score and evaluate the model\n",
        "from sklearn.model_selection import cross_val_score\n",
        "print(\"Mean f1 score for XGBClassifier: \",cross_val_score(xgb_clf,x,y,cv=5,scoring=\"f1\").mean())\n",
        "print(\"standard deviation in f1 score for XGBClassifier: \",cross_val_score(xgb_clf,x,y,cv=5,scoring=\"f1\").std())\n",
        "print(cross_val_score(xgb_clf,x,y,cv=5,scoring=\"f1\"))"
      ],
      "execution_count": null,
      "outputs": []
    },
    {
      "cell_type": "code",
      "metadata": {
        "id": "9ZRHp6DZwB6w"
      },
      "source": [
        ""
      ],
      "execution_count": null,
      "outputs": []
    },
    {
      "cell_type": "code",
      "metadata": {
        "id": "nzFhwWBXk1-V"
      },
      "source": [
        "#lets use ensemble calssifier such as random forest\n",
        "from sklearn.ensemble import RandomForestClassifier\n",
        "from sklearn.model_selection import GridSearchCV\n",
        "parameters={\"n_estimators\":[10,100,500,1000]}\n",
        "rfc=RandomForestClassifier()\n",
        "clf = GridSearchCV(rfc, parameters, cv=5,scoring=\"f1\")\n",
        "clf.fit(x,y)\n",
        "clf.best_params_"
      ],
      "execution_count": null,
      "outputs": []
    },
    {
      "cell_type": "code",
      "metadata": {
        "id": "__JcFh0AwE_Q"
      },
      "source": [
        "rfc=RandomForestClassifier(n_estimators=1000)\n",
        "maxf1_score(rfc,x,y)"
      ],
      "execution_count": null,
      "outputs": []
    },
    {
      "cell_type": "code",
      "metadata": {
        "id": "3umAahXCwFDE"
      },
      "source": [
        "#lets again use cross val score\n",
        "print(\"Mean f1 score for random forest classifier: \",cross_val_score(rfc,x,y,cv=5,scoring=\"f1\").mean())\n",
        "print(\"standard deviation in f1 score for random forest classifier: \",cross_val_score(rfc,x,y,cv=5,scoring=\"f1\").std())\n",
        "print(cross_val_score(rfc,x,y,cv=5,scoring=\"f1\"))"
      ],
      "execution_count": null,
      "outputs": []
    }
  ]
}