{
  "nbformat": 4,
  "nbformat_minor": 0,
  "metadata": {
    "colab": {
      "name": "Project_37_Titanic_Dataset.ipynb",
      "provenance": [],
      "collapsed_sections": [],
      "authorship_tag": "ABX9TyPOFcxO8x6Lhm4AxRclU700",
      "include_colab_link": true
    },
    "kernelspec": {
      "display_name": "Python 3",
      "name": "python3"
    },
    "language_info": {
      "name": "python"
    }
  },
  "cells": [
    {
      "cell_type": "markdown",
      "metadata": {
        "id": "view-in-github",
        "colab_type": "text"
      },
      "source": [
        "<a href=\"https://colab.research.google.com/github/ind-kum/M.L.-EVELUTION-PROJECTS/blob/master/Project_37_Titanic_Dataset.ipynb\" target=\"_parent\"><img src=\"https://colab.research.google.com/assets/colab-badge.svg\" alt=\"Open In Colab\"/></a>"
      ]
    },
    {
      "cell_type": "code",
      "metadata": {
        "colab": {
          "base_uri": "https://localhost:8080/",
          "height": 419
        },
        "id": "KRzd7ci-R29y",
        "outputId": "1367c570-a307-4c9d-99b0-b86cc5062dc6"
      },
      "source": [
        "import pandas as pd\n",
        "df_titanic=pd.read_csv(\"https://raw.githubusercontent.com/dsrscientist/dataset1/master/titanic_train.csv\")\n",
        "df_titanic"
      ],
      "execution_count": 1,
      "outputs": [
        {
          "output_type": "execute_result",
          "data": {
            "text/html": [
              "<div>\n",
              "<style scoped>\n",
              "    .dataframe tbody tr th:only-of-type {\n",
              "        vertical-align: middle;\n",
              "    }\n",
              "\n",
              "    .dataframe tbody tr th {\n",
              "        vertical-align: top;\n",
              "    }\n",
              "\n",
              "    .dataframe thead th {\n",
              "        text-align: right;\n",
              "    }\n",
              "</style>\n",
              "<table border=\"1\" class=\"dataframe\">\n",
              "  <thead>\n",
              "    <tr style=\"text-align: right;\">\n",
              "      <th></th>\n",
              "      <th>PassengerId</th>\n",
              "      <th>Survived</th>\n",
              "      <th>Pclass</th>\n",
              "      <th>Name</th>\n",
              "      <th>Sex</th>\n",
              "      <th>Age</th>\n",
              "      <th>SibSp</th>\n",
              "      <th>Parch</th>\n",
              "      <th>Ticket</th>\n",
              "      <th>Fare</th>\n",
              "      <th>Cabin</th>\n",
              "      <th>Embarked</th>\n",
              "    </tr>\n",
              "  </thead>\n",
              "  <tbody>\n",
              "    <tr>\n",
              "      <th>0</th>\n",
              "      <td>1</td>\n",
              "      <td>0</td>\n",
              "      <td>3</td>\n",
              "      <td>Braund, Mr. Owen Harris</td>\n",
              "      <td>male</td>\n",
              "      <td>22.0</td>\n",
              "      <td>1</td>\n",
              "      <td>0</td>\n",
              "      <td>A/5 21171</td>\n",
              "      <td>7.2500</td>\n",
              "      <td>NaN</td>\n",
              "      <td>S</td>\n",
              "    </tr>\n",
              "    <tr>\n",
              "      <th>1</th>\n",
              "      <td>2</td>\n",
              "      <td>1</td>\n",
              "      <td>1</td>\n",
              "      <td>Cumings, Mrs. John Bradley (Florence Briggs Th...</td>\n",
              "      <td>female</td>\n",
              "      <td>38.0</td>\n",
              "      <td>1</td>\n",
              "      <td>0</td>\n",
              "      <td>PC 17599</td>\n",
              "      <td>71.2833</td>\n",
              "      <td>C85</td>\n",
              "      <td>C</td>\n",
              "    </tr>\n",
              "    <tr>\n",
              "      <th>2</th>\n",
              "      <td>3</td>\n",
              "      <td>1</td>\n",
              "      <td>3</td>\n",
              "      <td>Heikkinen, Miss. Laina</td>\n",
              "      <td>female</td>\n",
              "      <td>26.0</td>\n",
              "      <td>0</td>\n",
              "      <td>0</td>\n",
              "      <td>STON/O2. 3101282</td>\n",
              "      <td>7.9250</td>\n",
              "      <td>NaN</td>\n",
              "      <td>S</td>\n",
              "    </tr>\n",
              "    <tr>\n",
              "      <th>3</th>\n",
              "      <td>4</td>\n",
              "      <td>1</td>\n",
              "      <td>1</td>\n",
              "      <td>Futrelle, Mrs. Jacques Heath (Lily May Peel)</td>\n",
              "      <td>female</td>\n",
              "      <td>35.0</td>\n",
              "      <td>1</td>\n",
              "      <td>0</td>\n",
              "      <td>113803</td>\n",
              "      <td>53.1000</td>\n",
              "      <td>C123</td>\n",
              "      <td>S</td>\n",
              "    </tr>\n",
              "    <tr>\n",
              "      <th>4</th>\n",
              "      <td>5</td>\n",
              "      <td>0</td>\n",
              "      <td>3</td>\n",
              "      <td>Allen, Mr. William Henry</td>\n",
              "      <td>male</td>\n",
              "      <td>35.0</td>\n",
              "      <td>0</td>\n",
              "      <td>0</td>\n",
              "      <td>373450</td>\n",
              "      <td>8.0500</td>\n",
              "      <td>NaN</td>\n",
              "      <td>S</td>\n",
              "    </tr>\n",
              "    <tr>\n",
              "      <th>...</th>\n",
              "      <td>...</td>\n",
              "      <td>...</td>\n",
              "      <td>...</td>\n",
              "      <td>...</td>\n",
              "      <td>...</td>\n",
              "      <td>...</td>\n",
              "      <td>...</td>\n",
              "      <td>...</td>\n",
              "      <td>...</td>\n",
              "      <td>...</td>\n",
              "      <td>...</td>\n",
              "      <td>...</td>\n",
              "    </tr>\n",
              "    <tr>\n",
              "      <th>886</th>\n",
              "      <td>887</td>\n",
              "      <td>0</td>\n",
              "      <td>2</td>\n",
              "      <td>Montvila, Rev. Juozas</td>\n",
              "      <td>male</td>\n",
              "      <td>27.0</td>\n",
              "      <td>0</td>\n",
              "      <td>0</td>\n",
              "      <td>211536</td>\n",
              "      <td>13.0000</td>\n",
              "      <td>NaN</td>\n",
              "      <td>S</td>\n",
              "    </tr>\n",
              "    <tr>\n",
              "      <th>887</th>\n",
              "      <td>888</td>\n",
              "      <td>1</td>\n",
              "      <td>1</td>\n",
              "      <td>Graham, Miss. Margaret Edith</td>\n",
              "      <td>female</td>\n",
              "      <td>19.0</td>\n",
              "      <td>0</td>\n",
              "      <td>0</td>\n",
              "      <td>112053</td>\n",
              "      <td>30.0000</td>\n",
              "      <td>B42</td>\n",
              "      <td>S</td>\n",
              "    </tr>\n",
              "    <tr>\n",
              "      <th>888</th>\n",
              "      <td>889</td>\n",
              "      <td>0</td>\n",
              "      <td>3</td>\n",
              "      <td>Johnston, Miss. Catherine Helen \"Carrie\"</td>\n",
              "      <td>female</td>\n",
              "      <td>NaN</td>\n",
              "      <td>1</td>\n",
              "      <td>2</td>\n",
              "      <td>W./C. 6607</td>\n",
              "      <td>23.4500</td>\n",
              "      <td>NaN</td>\n",
              "      <td>S</td>\n",
              "    </tr>\n",
              "    <tr>\n",
              "      <th>889</th>\n",
              "      <td>890</td>\n",
              "      <td>1</td>\n",
              "      <td>1</td>\n",
              "      <td>Behr, Mr. Karl Howell</td>\n",
              "      <td>male</td>\n",
              "      <td>26.0</td>\n",
              "      <td>0</td>\n",
              "      <td>0</td>\n",
              "      <td>111369</td>\n",
              "      <td>30.0000</td>\n",
              "      <td>C148</td>\n",
              "      <td>C</td>\n",
              "    </tr>\n",
              "    <tr>\n",
              "      <th>890</th>\n",
              "      <td>891</td>\n",
              "      <td>0</td>\n",
              "      <td>3</td>\n",
              "      <td>Dooley, Mr. Patrick</td>\n",
              "      <td>male</td>\n",
              "      <td>32.0</td>\n",
              "      <td>0</td>\n",
              "      <td>0</td>\n",
              "      <td>370376</td>\n",
              "      <td>7.7500</td>\n",
              "      <td>NaN</td>\n",
              "      <td>Q</td>\n",
              "    </tr>\n",
              "  </tbody>\n",
              "</table>\n",
              "<p>891 rows × 12 columns</p>\n",
              "</div>"
            ],
            "text/plain": [
              "     PassengerId  Survived  Pclass  ...     Fare Cabin  Embarked\n",
              "0              1         0       3  ...   7.2500   NaN         S\n",
              "1              2         1       1  ...  71.2833   C85         C\n",
              "2              3         1       3  ...   7.9250   NaN         S\n",
              "3              4         1       1  ...  53.1000  C123         S\n",
              "4              5         0       3  ...   8.0500   NaN         S\n",
              "..           ...       ...     ...  ...      ...   ...       ...\n",
              "886          887         0       2  ...  13.0000   NaN         S\n",
              "887          888         1       1  ...  30.0000   B42         S\n",
              "888          889         0       3  ...  23.4500   NaN         S\n",
              "889          890         1       1  ...  30.0000  C148         C\n",
              "890          891         0       3  ...   7.7500   NaN         Q\n",
              "\n",
              "[891 rows x 12 columns]"
            ]
          },
          "metadata": {
            "tags": []
          },
          "execution_count": 1
        }
      ]
    },
    {
      "cell_type": "code",
      "metadata": {
        "colab": {
          "base_uri": "https://localhost:8080/"
        },
        "id": "wOzdCrcdTuPk",
        "outputId": "7857d26e-2bf1-4d26-c36d-17a19493e7c8"
      },
      "source": [
        "# Lets check the presence of null values\n",
        "df_titanic.isnull().sum()"
      ],
      "execution_count": 2,
      "outputs": [
        {
          "output_type": "execute_result",
          "data": {
            "text/plain": [
              "PassengerId      0\n",
              "Survived         0\n",
              "Pclass           0\n",
              "Name             0\n",
              "Sex              0\n",
              "Age            177\n",
              "SibSp            0\n",
              "Parch            0\n",
              "Ticket           0\n",
              "Fare             0\n",
              "Cabin          687\n",
              "Embarked         2\n",
              "dtype: int64"
            ]
          },
          "metadata": {
            "tags": []
          },
          "execution_count": 2
        }
      ]
    },
    {
      "cell_type": "code",
      "metadata": {
        "colab": {
          "base_uri": "https://localhost:8080/"
        },
        "id": "X8623SeHTwuA",
        "outputId": "e2809d8f-7af6-4534-ff3b-7dfd79cb90fc"
      },
      "source": [
        "df_titanic.dtypes"
      ],
      "execution_count": 3,
      "outputs": [
        {
          "output_type": "execute_result",
          "data": {
            "text/plain": [
              "PassengerId      int64\n",
              "Survived         int64\n",
              "Pclass           int64\n",
              "Name            object\n",
              "Sex             object\n",
              "Age            float64\n",
              "SibSp            int64\n",
              "Parch            int64\n",
              "Ticket          object\n",
              "Fare           float64\n",
              "Cabin           object\n",
              "Embarked        object\n",
              "dtype: object"
            ]
          },
          "metadata": {
            "tags": []
          },
          "execution_count": 3
        }
      ]
    },
    {
      "cell_type": "code",
      "metadata": {
        "colab": {
          "base_uri": "https://localhost:8080/",
          "height": 297
        },
        "id": "XXEPYg5ZTyv4",
        "outputId": "1fc6a6a1-4f1a-452b-b4d4-9c0c666ceb8f"
      },
      "source": [
        "df_titanic.describe()"
      ],
      "execution_count": 4,
      "outputs": [
        {
          "output_type": "execute_result",
          "data": {
            "text/html": [
              "<div>\n",
              "<style scoped>\n",
              "    .dataframe tbody tr th:only-of-type {\n",
              "        vertical-align: middle;\n",
              "    }\n",
              "\n",
              "    .dataframe tbody tr th {\n",
              "        vertical-align: top;\n",
              "    }\n",
              "\n",
              "    .dataframe thead th {\n",
              "        text-align: right;\n",
              "    }\n",
              "</style>\n",
              "<table border=\"1\" class=\"dataframe\">\n",
              "  <thead>\n",
              "    <tr style=\"text-align: right;\">\n",
              "      <th></th>\n",
              "      <th>PassengerId</th>\n",
              "      <th>Survived</th>\n",
              "      <th>Pclass</th>\n",
              "      <th>Age</th>\n",
              "      <th>SibSp</th>\n",
              "      <th>Parch</th>\n",
              "      <th>Fare</th>\n",
              "    </tr>\n",
              "  </thead>\n",
              "  <tbody>\n",
              "    <tr>\n",
              "      <th>count</th>\n",
              "      <td>891.000000</td>\n",
              "      <td>891.000000</td>\n",
              "      <td>891.000000</td>\n",
              "      <td>714.000000</td>\n",
              "      <td>891.000000</td>\n",
              "      <td>891.000000</td>\n",
              "      <td>891.000000</td>\n",
              "    </tr>\n",
              "    <tr>\n",
              "      <th>mean</th>\n",
              "      <td>446.000000</td>\n",
              "      <td>0.383838</td>\n",
              "      <td>2.308642</td>\n",
              "      <td>29.699118</td>\n",
              "      <td>0.523008</td>\n",
              "      <td>0.381594</td>\n",
              "      <td>32.204208</td>\n",
              "    </tr>\n",
              "    <tr>\n",
              "      <th>std</th>\n",
              "      <td>257.353842</td>\n",
              "      <td>0.486592</td>\n",
              "      <td>0.836071</td>\n",
              "      <td>14.526497</td>\n",
              "      <td>1.102743</td>\n",
              "      <td>0.806057</td>\n",
              "      <td>49.693429</td>\n",
              "    </tr>\n",
              "    <tr>\n",
              "      <th>min</th>\n",
              "      <td>1.000000</td>\n",
              "      <td>0.000000</td>\n",
              "      <td>1.000000</td>\n",
              "      <td>0.420000</td>\n",
              "      <td>0.000000</td>\n",
              "      <td>0.000000</td>\n",
              "      <td>0.000000</td>\n",
              "    </tr>\n",
              "    <tr>\n",
              "      <th>25%</th>\n",
              "      <td>223.500000</td>\n",
              "      <td>0.000000</td>\n",
              "      <td>2.000000</td>\n",
              "      <td>20.125000</td>\n",
              "      <td>0.000000</td>\n",
              "      <td>0.000000</td>\n",
              "      <td>7.910400</td>\n",
              "    </tr>\n",
              "    <tr>\n",
              "      <th>50%</th>\n",
              "      <td>446.000000</td>\n",
              "      <td>0.000000</td>\n",
              "      <td>3.000000</td>\n",
              "      <td>28.000000</td>\n",
              "      <td>0.000000</td>\n",
              "      <td>0.000000</td>\n",
              "      <td>14.454200</td>\n",
              "    </tr>\n",
              "    <tr>\n",
              "      <th>75%</th>\n",
              "      <td>668.500000</td>\n",
              "      <td>1.000000</td>\n",
              "      <td>3.000000</td>\n",
              "      <td>38.000000</td>\n",
              "      <td>1.000000</td>\n",
              "      <td>0.000000</td>\n",
              "      <td>31.000000</td>\n",
              "    </tr>\n",
              "    <tr>\n",
              "      <th>max</th>\n",
              "      <td>891.000000</td>\n",
              "      <td>1.000000</td>\n",
              "      <td>3.000000</td>\n",
              "      <td>80.000000</td>\n",
              "      <td>8.000000</td>\n",
              "      <td>6.000000</td>\n",
              "      <td>512.329200</td>\n",
              "    </tr>\n",
              "  </tbody>\n",
              "</table>\n",
              "</div>"
            ],
            "text/plain": [
              "       PassengerId    Survived      Pclass  ...       SibSp       Parch        Fare\n",
              "count   891.000000  891.000000  891.000000  ...  891.000000  891.000000  891.000000\n",
              "mean    446.000000    0.383838    2.308642  ...    0.523008    0.381594   32.204208\n",
              "std     257.353842    0.486592    0.836071  ...    1.102743    0.806057   49.693429\n",
              "min       1.000000    0.000000    1.000000  ...    0.000000    0.000000    0.000000\n",
              "25%     223.500000    0.000000    2.000000  ...    0.000000    0.000000    7.910400\n",
              "50%     446.000000    0.000000    3.000000  ...    0.000000    0.000000   14.454200\n",
              "75%     668.500000    1.000000    3.000000  ...    1.000000    0.000000   31.000000\n",
              "max     891.000000    1.000000    3.000000  ...    8.000000    6.000000  512.329200\n",
              "\n",
              "[8 rows x 7 columns]"
            ]
          },
          "metadata": {
            "tags": []
          },
          "execution_count": 4
        }
      ]
    },
    {
      "cell_type": "code",
      "metadata": {
        "colab": {
          "base_uri": "https://localhost:8080/",
          "height": 279
        },
        "id": "YfF750WUT1wT",
        "outputId": "149a75ce-e4c8-4faf-dd0d-3a88b07e391b"
      },
      "source": [
        "# Lets check the count of each type of titanic graphically\n",
        "import seaborn as sns\n",
        "import matplotlib.pyplot as plt\n",
        "sns.countplot(x=\"Survived\",data=df_titanic)\n",
        "plt.show()"
      ],
      "execution_count": 5,
      "outputs": [
        {
          "output_type": "display_data",
          "data": {
            "image/png": "[encoded data removed]",
            "text/plain": [
              "<Figure size 432x288 with 1 Axes>"
            ]
          },
          "metadata": {
            "tags": [],
            "needs_background": "light"
          }
        }
      ]
    },
    {
      "cell_type": "code",
      "metadata": {
        "colab": {
          "base_uri": "https://localhost:8080/",
          "height": 282
        },
        "id": "2LBTNJElWNi8",
        "outputId": "9520b2a5-b7e5-48a6-9664-0b737038b0be"
      },
      "source": [
        "df_titanic[\"Age\"].plot.hist()"
      ],
      "execution_count": 6,
      "outputs": [
        {
          "output_type": "execute_result",
          "data": {
            "text/plain": [
              "<matplotlib.axes._subplots.AxesSubplot at 0x7f0f37297a90>"
            ]
          },
          "metadata": {
            "tags": []
          },
          "execution_count": 6
        },
        {
          "output_type": "display_data",
          "data": {
            "image/png": "[encoded data removed]",
            "text/plain": [
              "<Figure size 432x288 with 1 Axes>"
            ]
          },
          "metadata": {
            "tags": [],
            "needs_background": "light"
          }
        }
      ]
    },
    {
      "cell_type": "code",
      "metadata": {
        "colab": {
          "base_uri": "https://localhost:8080/",
          "height": 282
        },
        "id": "QSQOSPTvWYyh",
        "outputId": "66587f96-ae43-46e1-f373-4500470fa119"
      },
      "source": [
        "df_titanic[\"Fare\"].plot.hist()"
      ],
      "execution_count": 7,
      "outputs": [
        {
          "output_type": "execute_result",
          "data": {
            "text/plain": [
              "<matplotlib.axes._subplots.AxesSubplot at 0x7f0f371d4d50>"
            ]
          },
          "metadata": {
            "tags": []
          },
          "execution_count": 7
        },
        {
          "output_type": "display_data",
          "data": {
            "image/png": "[encoded data removed]",
            "text/plain": [
              "<Figure size 432x288 with 1 Axes>"
            ]
          },
          "metadata": {
            "tags": [],
            "needs_background": "light"
          }
        }
      ]
    },
    {
      "cell_type": "code",
      "metadata": {
        "colab": {
          "base_uri": "https://localhost:8080/",
          "height": 296
        },
        "id": "P001vl4nVsev",
        "outputId": "32a69c30-d806-4741-ed46-fdec79bc547d"
      },
      "source": [
        "sns.countplot(x=\"Survived\", hue=\"Sex\", data=df_titanic)"
      ],
      "execution_count": 8,
      "outputs": [
        {
          "output_type": "execute_result",
          "data": {
            "text/plain": [
              "<matplotlib.axes._subplots.AxesSubplot at 0x7f0f3725d210>"
            ]
          },
          "metadata": {
            "tags": []
          },
          "execution_count": 8
        },
        {
          "output_type": "display_data",
          "data": {
            "image/png": "[encoded data removed]",
            "text/plain": [
              "<Figure size 432x288 with 1 Axes>"
            ]
          },
          "metadata": {
            "tags": [],
            "needs_background": "light"
          }
        }
      ]
    },
    {
      "cell_type": "code",
      "metadata": {
        "colab": {
          "base_uri": "https://localhost:8080/",
          "height": 279
        },
        "id": "F4TAI56ST4Ow",
        "outputId": "c845a1bd-a88f-4743-f0dc-7eb3539761d9"
      },
      "source": [
        "# Lets check whether the count basis of cap shape\n",
        "sns.countplot(x=\"Pclass\",hue=\"Survived\",data=df_titanic)\n",
        "plt.show()"
      ],
      "execution_count": 9,
      "outputs": [
        {
          "output_type": "display_data",
          "data": {
            "image/png": "[encoded data removed]",
            "text/plain": [
              "<Figure size 432x288 with 1 Axes>"
            ]
          },
          "metadata": {
            "tags": [],
            "needs_background": "light"
          }
        }
      ]
    },
    {
      "cell_type": "code",
      "metadata": {
        "colab": {
          "base_uri": "https://localhost:8080/",
          "height": 279
        },
        "id": "KdON33V9T-bY",
        "outputId": "741fef2b-5715-42c0-ce5f-e7e5f91a4563"
      },
      "source": [
        "# Lets check the count on the basis of sex\n",
        "sns.countplot(x=\"Sex\",hue=\"Survived\",data=df_titanic)\n",
        "plt.show()"
      ],
      "execution_count": 10,
      "outputs": [
        {
          "output_type": "display_data",
          "data": {
            "image/png": "[encoded data removed]",
            "text/plain": [
              "<Figure size 432x288 with 1 Axes>"
            ]
          },
          "metadata": {
            "tags": [],
            "needs_background": "light"
          }
        }
      ]
    },
    {
      "cell_type": "code",
      "metadata": {
        "colab": {
          "base_uri": "https://localhost:8080/",
          "height": 279
        },
        "id": "UXYjSjJlUAfX",
        "outputId": "0ae0d64c-6859-430c-cc8d-70f985269f2a"
      },
      "source": [
        "# Lets check the count on the basis of \"SibSp\"\n",
        "sns.countplot(x=\"SibSp\",hue=\"Survived\",data=df_titanic)\n",
        "plt.show()"
      ],
      "execution_count": 11,
      "outputs": [
        {
          "output_type": "display_data",
          "data": {
            "image/png": "[encoded data removed]",
            "text/plain": [
              "<Figure size 432x288 with 1 Axes>"
            ]
          },
          "metadata": {
            "tags": [],
            "needs_background": "light"
          }
        }
      ]
    },
    {
      "cell_type": "code",
      "metadata": {
        "colab": {
          "base_uri": "https://localhost:8080/",
          "height": 279
        },
        "id": "8ev_9rI4UCuH",
        "outputId": "cac176e1-8cbf-4096-d15f-f21de2008d91"
      },
      "source": [
        "# Lets check the count on basis of Parch\n",
        "sns.countplot(x=\"Parch\",hue=\"Survived\",data=df_titanic)\n",
        "plt.show()"
      ],
      "execution_count": 12,
      "outputs": [
        {
          "output_type": "display_data",
          "data": {
            "image/png": "[encoded data removed]",
            "text/plain": [
              "<Figure size 432x288 with 1 Axes>"
            ]
          },
          "metadata": {
            "tags": [],
            "needs_background": "light"
          }
        }
      ]
    },
    {
      "cell_type": "code",
      "metadata": {
        "colab": {
          "base_uri": "https://localhost:8080/",
          "height": 279
        },
        "id": "6Xf2x3jmUE8R",
        "outputId": "c4b4d8a9-8b53-4bba-b22d-d7bbbe756c65"
      },
      "source": [
        "# Lets check the count on basis of Embarked\n",
        "sns.countplot(x=\"Embarked\",hue=\"Survived\",data=df_titanic)\n",
        "plt.show()"
      ],
      "execution_count": 13,
      "outputs": [
        {
          "output_type": "display_data",
          "data": {
            "image/png": "[encoded data removed]",
            "text/plain": [
              "<Figure size 432x288 with 1 Axes>"
            ]
          },
          "metadata": {
            "tags": [],
            "needs_background": "light"
          }
        }
      ]
    },
    {
      "cell_type": "code",
      "metadata": {
        "colab": {
          "base_uri": "https://localhost:8080/"
        },
        "id": "M57o4WeaUYaz",
        "outputId": "07dc1c5f-7be0-476c-9df9-eaaa35bb86f2"
      },
      "source": [
        "df_titanic.isnull().sum()"
      ],
      "execution_count": 14,
      "outputs": [
        {
          "output_type": "execute_result",
          "data": {
            "text/plain": [
              "PassengerId      0\n",
              "Survived         0\n",
              "Pclass           0\n",
              "Name             0\n",
              "Sex              0\n",
              "Age            177\n",
              "SibSp            0\n",
              "Parch            0\n",
              "Ticket           0\n",
              "Fare             0\n",
              "Cabin          687\n",
              "Embarked         2\n",
              "dtype: int64"
            ]
          },
          "metadata": {
            "tags": []
          },
          "execution_count": 14
        }
      ]
    },
    {
      "cell_type": "code",
      "metadata": {
        "colab": {
          "base_uri": "https://localhost:8080/",
          "height": 204
        },
        "id": "jM5rHWGeUe_Q",
        "outputId": "ddffa407-3259-4d85-c612-914d19f6b600"
      },
      "source": [
        "sex = pd.get_dummies(df_titanic['Sex'],drop_first=True)\n",
        "sex.head(5)"
      ],
      "execution_count": 15,
      "outputs": [
        {
          "output_type": "execute_result",
          "data": {
            "text/html": [
              "<div>\n",
              "<style scoped>\n",
              "    .dataframe tbody tr th:only-of-type {\n",
              "        vertical-align: middle;\n",
              "    }\n",
              "\n",
              "    .dataframe tbody tr th {\n",
              "        vertical-align: top;\n",
              "    }\n",
              "\n",
              "    .dataframe thead th {\n",
              "        text-align: right;\n",
              "    }\n",
              "</style>\n",
              "<table border=\"1\" class=\"dataframe\">\n",
              "  <thead>\n",
              "    <tr style=\"text-align: right;\">\n",
              "      <th></th>\n",
              "      <th>male</th>\n",
              "    </tr>\n",
              "  </thead>\n",
              "  <tbody>\n",
              "    <tr>\n",
              "      <th>0</th>\n",
              "      <td>1</td>\n",
              "    </tr>\n",
              "    <tr>\n",
              "      <th>1</th>\n",
              "      <td>0</td>\n",
              "    </tr>\n",
              "    <tr>\n",
              "      <th>2</th>\n",
              "      <td>0</td>\n",
              "    </tr>\n",
              "    <tr>\n",
              "      <th>3</th>\n",
              "      <td>0</td>\n",
              "    </tr>\n",
              "    <tr>\n",
              "      <th>4</th>\n",
              "      <td>1</td>\n",
              "    </tr>\n",
              "  </tbody>\n",
              "</table>\n",
              "</div>"
            ],
            "text/plain": [
              "   male\n",
              "0     1\n",
              "1     0\n",
              "2     0\n",
              "3     0\n",
              "4     1"
            ]
          },
          "metadata": {
            "tags": []
          },
          "execution_count": 15
        }
      ]
    },
    {
      "cell_type": "code",
      "metadata": {
        "colab": {
          "base_uri": "https://localhost:8080/",
          "height": 204
        },
        "id": "tIPBEP3tX8Aq",
        "outputId": "02b149c5-19b0-4452-a428-d3cec727d69f"
      },
      "source": [
        "embark=pd.get_dummies(df_titanic[\"Embarked\"],drop_first=True)\n",
        "embark.head(5)"
      ],
      "execution_count": 16,
      "outputs": [
        {
          "output_type": "execute_result",
          "data": {
            "text/html": [
              "<div>\n",
              "<style scoped>\n",
              "    .dataframe tbody tr th:only-of-type {\n",
              "        vertical-align: middle;\n",
              "    }\n",
              "\n",
              "    .dataframe tbody tr th {\n",
              "        vertical-align: top;\n",
              "    }\n",
              "\n",
              "    .dataframe thead th {\n",
              "        text-align: right;\n",
              "    }\n",
              "</style>\n",
              "<table border=\"1\" class=\"dataframe\">\n",
              "  <thead>\n",
              "    <tr style=\"text-align: right;\">\n",
              "      <th></th>\n",
              "      <th>Q</th>\n",
              "      <th>S</th>\n",
              "    </tr>\n",
              "  </thead>\n",
              "  <tbody>\n",
              "    <tr>\n",
              "      <th>0</th>\n",
              "      <td>0</td>\n",
              "      <td>1</td>\n",
              "    </tr>\n",
              "    <tr>\n",
              "      <th>1</th>\n",
              "      <td>0</td>\n",
              "      <td>0</td>\n",
              "    </tr>\n",
              "    <tr>\n",
              "      <th>2</th>\n",
              "      <td>0</td>\n",
              "      <td>1</td>\n",
              "    </tr>\n",
              "    <tr>\n",
              "      <th>3</th>\n",
              "      <td>0</td>\n",
              "      <td>1</td>\n",
              "    </tr>\n",
              "    <tr>\n",
              "      <th>4</th>\n",
              "      <td>0</td>\n",
              "      <td>1</td>\n",
              "    </tr>\n",
              "  </tbody>\n",
              "</table>\n",
              "</div>"
            ],
            "text/plain": [
              "   Q  S\n",
              "0  0  1\n",
              "1  0  0\n",
              "2  0  1\n",
              "3  0  1\n",
              "4  0  1"
            ]
          },
          "metadata": {
            "tags": []
          },
          "execution_count": 16
        }
      ]
    },
    {
      "cell_type": "code",
      "metadata": {
        "colab": {
          "base_uri": "https://localhost:8080/",
          "height": 204
        },
        "id": "CJ1SEBuoYWKL",
        "outputId": "288019c3-da2e-4a3a-fb3b-35e9e5af5e19"
      },
      "source": [
        "Pcl = pd.get_dummies(df_titanic[\"Pclass\"],drop_first=True)\n",
        "Pcl.head(5)"
      ],
      "execution_count": 17,
      "outputs": [
        {
          "output_type": "execute_result",
          "data": {
            "text/html": [
              "<div>\n",
              "<style scoped>\n",
              "    .dataframe tbody tr th:only-of-type {\n",
              "        vertical-align: middle;\n",
              "    }\n",
              "\n",
              "    .dataframe tbody tr th {\n",
              "        vertical-align: top;\n",
              "    }\n",
              "\n",
              "    .dataframe thead th {\n",
              "        text-align: right;\n",
              "    }\n",
              "</style>\n",
              "<table border=\"1\" class=\"dataframe\">\n",
              "  <thead>\n",
              "    <tr style=\"text-align: right;\">\n",
              "      <th></th>\n",
              "      <th>2</th>\n",
              "      <th>3</th>\n",
              "    </tr>\n",
              "  </thead>\n",
              "  <tbody>\n",
              "    <tr>\n",
              "      <th>0</th>\n",
              "      <td>0</td>\n",
              "      <td>1</td>\n",
              "    </tr>\n",
              "    <tr>\n",
              "      <th>1</th>\n",
              "      <td>0</td>\n",
              "      <td>0</td>\n",
              "    </tr>\n",
              "    <tr>\n",
              "      <th>2</th>\n",
              "      <td>0</td>\n",
              "      <td>1</td>\n",
              "    </tr>\n",
              "    <tr>\n",
              "      <th>3</th>\n",
              "      <td>0</td>\n",
              "      <td>0</td>\n",
              "    </tr>\n",
              "    <tr>\n",
              "      <th>4</th>\n",
              "      <td>0</td>\n",
              "      <td>1</td>\n",
              "    </tr>\n",
              "  </tbody>\n",
              "</table>\n",
              "</div>"
            ],
            "text/plain": [
              "   2  3\n",
              "0  0  1\n",
              "1  0  0\n",
              "2  0  1\n",
              "3  0  0\n",
              "4  0  1"
            ]
          },
          "metadata": {
            "tags": []
          },
          "execution_count": 17
        }
      ]
    },
    {
      "cell_type": "code",
      "metadata": {
        "colab": {
          "base_uri": "https://localhost:8080/",
          "height": 487
        },
        "id": "C06Ve2t0YkXK",
        "outputId": "3a56b4eb-2ff7-406d-cc60-e4aa1b659ab2"
      },
      "source": [
        "df_titanic=pd.concat([df_titanic,sex,embark,Pcl],axis=1)\n",
        "df_titanic"
      ],
      "execution_count": 18,
      "outputs": [
        {
          "output_type": "execute_result",
          "data": {
            "text/html": [
              "<div>\n",
              "<style scoped>\n",
              "    .dataframe tbody tr th:only-of-type {\n",
              "        vertical-align: middle;\n",
              "    }\n",
              "\n",
              "    .dataframe tbody tr th {\n",
              "        vertical-align: top;\n",
              "    }\n",
              "\n",
              "    .dataframe thead th {\n",
              "        text-align: right;\n",
              "    }\n",
              "</style>\n",
              "<table border=\"1\" class=\"dataframe\">\n",
              "  <thead>\n",
              "    <tr style=\"text-align: right;\">\n",
              "      <th></th>\n",
              "      <th>PassengerId</th>\n",
              "      <th>Survived</th>\n",
              "      <th>Pclass</th>\n",
              "      <th>Name</th>\n",
              "      <th>Sex</th>\n",
              "      <th>Age</th>\n",
              "      <th>SibSp</th>\n",
              "      <th>Parch</th>\n",
              "      <th>Ticket</th>\n",
              "      <th>Fare</th>\n",
              "      <th>Cabin</th>\n",
              "      <th>Embarked</th>\n",
              "      <th>male</th>\n",
              "      <th>Q</th>\n",
              "      <th>S</th>\n",
              "      <th>2</th>\n",
              "      <th>3</th>\n",
              "    </tr>\n",
              "  </thead>\n",
              "  <tbody>\n",
              "    <tr>\n",
              "      <th>0</th>\n",
              "      <td>1</td>\n",
              "      <td>0</td>\n",
              "      <td>3</td>\n",
              "      <td>Braund, Mr. Owen Harris</td>\n",
              "      <td>male</td>\n",
              "      <td>22.0</td>\n",
              "      <td>1</td>\n",
              "      <td>0</td>\n",
              "      <td>A/5 21171</td>\n",
              "      <td>7.2500</td>\n",
              "      <td>NaN</td>\n",
              "      <td>S</td>\n",
              "      <td>1</td>\n",
              "      <td>0</td>\n",
              "      <td>1</td>\n",
              "      <td>0</td>\n",
              "      <td>1</td>\n",
              "    </tr>\n",
              "    <tr>\n",
              "      <th>1</th>\n",
              "      <td>2</td>\n",
              "      <td>1</td>\n",
              "      <td>1</td>\n",
              "      <td>Cumings, Mrs. John Bradley (Florence Briggs Th...</td>\n",
              "      <td>female</td>\n",
              "      <td>38.0</td>\n",
              "      <td>1</td>\n",
              "      <td>0</td>\n",
              "      <td>PC 17599</td>\n",
              "      <td>71.2833</td>\n",
              "      <td>C85</td>\n",
              "      <td>C</td>\n",
              "      <td>0</td>\n",
              "      <td>0</td>\n",
              "      <td>0</td>\n",
              "      <td>0</td>\n",
              "      <td>0</td>\n",
              "    </tr>\n",
              "    <tr>\n",
              "      <th>2</th>\n",
              "      <td>3</td>\n",
              "      <td>1</td>\n",
              "      <td>3</td>\n",
              "      <td>Heikkinen, Miss. Laina</td>\n",
              "      <td>female</td>\n",
              "      <td>26.0</td>\n",
              "      <td>0</td>\n",
              "      <td>0</td>\n",
              "      <td>STON/O2. 3101282</td>\n",
              "      <td>7.9250</td>\n",
              "      <td>NaN</td>\n",
              "      <td>S</td>\n",
              "      <td>0</td>\n",
              "      <td>0</td>\n",
              "      <td>1</td>\n",
              "      <td>0</td>\n",
              "      <td>1</td>\n",
              "    </tr>\n",
              "    <tr>\n",
              "      <th>3</th>\n",
              "      <td>4</td>\n",
              "      <td>1</td>\n",
              "      <td>1</td>\n",
              "      <td>Futrelle, Mrs. Jacques Heath (Lily May Peel)</td>\n",
              "      <td>female</td>\n",
              "      <td>35.0</td>\n",
              "      <td>1</td>\n",
              "      <td>0</td>\n",
              "      <td>113803</td>\n",
              "      <td>53.1000</td>\n",
              "      <td>C123</td>\n",
              "      <td>S</td>\n",
              "      <td>0</td>\n",
              "      <td>0</td>\n",
              "      <td>1</td>\n",
              "      <td>0</td>\n",
              "      <td>0</td>\n",
              "    </tr>\n",
              "    <tr>\n",
              "      <th>4</th>\n",
              "      <td>5</td>\n",
              "      <td>0</td>\n",
              "      <td>3</td>\n",
              "      <td>Allen, Mr. William Henry</td>\n",
              "      <td>male</td>\n",
              "      <td>35.0</td>\n",
              "      <td>0</td>\n",
              "      <td>0</td>\n",
              "      <td>373450</td>\n",
              "      <td>8.0500</td>\n",
              "      <td>NaN</td>\n",
              "      <td>S</td>\n",
              "      <td>1</td>\n",
              "      <td>0</td>\n",
              "      <td>1</td>\n",
              "      <td>0</td>\n",
              "      <td>1</td>\n",
              "    </tr>\n",
              "    <tr>\n",
              "      <th>...</th>\n",
              "      <td>...</td>\n",
              "      <td>...</td>\n",
              "      <td>...</td>\n",
              "      <td>...</td>\n",
              "      <td>...</td>\n",
              "      <td>...</td>\n",
              "      <td>...</td>\n",
              "      <td>...</td>\n",
              "      <td>...</td>\n",
              "      <td>...</td>\n",
              "      <td>...</td>\n",
              "      <td>...</td>\n",
              "      <td>...</td>\n",
              "      <td>...</td>\n",
              "      <td>...</td>\n",
              "      <td>...</td>\n",
              "      <td>...</td>\n",
              "    </tr>\n",
              "    <tr>\n",
              "      <th>886</th>\n",
              "      <td>887</td>\n",
              "      <td>0</td>\n",
              "      <td>2</td>\n",
              "      <td>Montvila, Rev. Juozas</td>\n",
              "      <td>male</td>\n",
              "      <td>27.0</td>\n",
              "      <td>0</td>\n",
              "      <td>0</td>\n",
              "      <td>211536</td>\n",
              "      <td>13.0000</td>\n",
              "      <td>NaN</td>\n",
              "      <td>S</td>\n",
              "      <td>1</td>\n",
              "      <td>0</td>\n",
              "      <td>1</td>\n",
              "      <td>1</td>\n",
              "      <td>0</td>\n",
              "    </tr>\n",
              "    <tr>\n",
              "      <th>887</th>\n",
              "      <td>888</td>\n",
              "      <td>1</td>\n",
              "      <td>1</td>\n",
              "      <td>Graham, Miss. Margaret Edith</td>\n",
              "      <td>female</td>\n",
              "      <td>19.0</td>\n",
              "      <td>0</td>\n",
              "      <td>0</td>\n",
              "      <td>112053</td>\n",
              "      <td>30.0000</td>\n",
              "      <td>B42</td>\n",
              "      <td>S</td>\n",
              "      <td>0</td>\n",
              "      <td>0</td>\n",
              "      <td>1</td>\n",
              "      <td>0</td>\n",
              "      <td>0</td>\n",
              "    </tr>\n",
              "    <tr>\n",
              "      <th>888</th>\n",
              "      <td>889</td>\n",
              "      <td>0</td>\n",
              "      <td>3</td>\n",
              "      <td>Johnston, Miss. Catherine Helen \"Carrie\"</td>\n",
              "      <td>female</td>\n",
              "      <td>NaN</td>\n",
              "      <td>1</td>\n",
              "      <td>2</td>\n",
              "      <td>W./C. 6607</td>\n",
              "      <td>23.4500</td>\n",
              "      <td>NaN</td>\n",
              "      <td>S</td>\n",
              "      <td>0</td>\n",
              "      <td>0</td>\n",
              "      <td>1</td>\n",
              "      <td>0</td>\n",
              "      <td>1</td>\n",
              "    </tr>\n",
              "    <tr>\n",
              "      <th>889</th>\n",
              "      <td>890</td>\n",
              "      <td>1</td>\n",
              "      <td>1</td>\n",
              "      <td>Behr, Mr. Karl Howell</td>\n",
              "      <td>male</td>\n",
              "      <td>26.0</td>\n",
              "      <td>0</td>\n",
              "      <td>0</td>\n",
              "      <td>111369</td>\n",
              "      <td>30.0000</td>\n",
              "      <td>C148</td>\n",
              "      <td>C</td>\n",
              "      <td>1</td>\n",
              "      <td>0</td>\n",
              "      <td>0</td>\n",
              "      <td>0</td>\n",
              "      <td>0</td>\n",
              "    </tr>\n",
              "    <tr>\n",
              "      <th>890</th>\n",
              "      <td>891</td>\n",
              "      <td>0</td>\n",
              "      <td>3</td>\n",
              "      <td>Dooley, Mr. Patrick</td>\n",
              "      <td>male</td>\n",
              "      <td>32.0</td>\n",
              "      <td>0</td>\n",
              "      <td>0</td>\n",
              "      <td>370376</td>\n",
              "      <td>7.7500</td>\n",
              "      <td>NaN</td>\n",
              "      <td>Q</td>\n",
              "      <td>1</td>\n",
              "      <td>1</td>\n",
              "      <td>0</td>\n",
              "      <td>0</td>\n",
              "      <td>1</td>\n",
              "    </tr>\n",
              "  </tbody>\n",
              "</table>\n",
              "<p>891 rows × 17 columns</p>\n",
              "</div>"
            ],
            "text/plain": [
              "     PassengerId  Survived  Pclass  ...  S  2  3\n",
              "0              1         0       3  ...  1  0  1\n",
              "1              2         1       1  ...  0  0  0\n",
              "2              3         1       3  ...  1  0  1\n",
              "3              4         1       1  ...  1  0  0\n",
              "4              5         0       3  ...  1  0  1\n",
              "..           ...       ...     ...  ... .. .. ..\n",
              "886          887         0       2  ...  1  1  0\n",
              "887          888         1       1  ...  1  0  0\n",
              "888          889         0       3  ...  1  0  1\n",
              "889          890         1       1  ...  0  0  0\n",
              "890          891         0       3  ...  0  0  1\n",
              "\n",
              "[891 rows x 17 columns]"
            ]
          },
          "metadata": {
            "tags": []
          },
          "execution_count": 18
        }
      ]
    },
    {
      "cell_type": "code",
      "metadata": {
        "colab": {
          "base_uri": "https://localhost:8080/",
          "height": 419
        },
        "id": "1Z7XeC25Y5sk",
        "outputId": "3ee0edfa-1eb2-4f12-9b42-a7c487cd9119"
      },
      "source": [
        "df_titanic.drop(['Pclass','Sex','Embarked','PassengerId','Name','Ticket','Cabin'],axis=1,inplace=True)\n",
        "df_titanic"
      ],
      "execution_count": 19,
      "outputs": [
        {
          "output_type": "execute_result",
          "data": {
            "text/html": [
              "<div>\n",
              "<style scoped>\n",
              "    .dataframe tbody tr th:only-of-type {\n",
              "        vertical-align: middle;\n",
              "    }\n",
              "\n",
              "    .dataframe tbody tr th {\n",
              "        vertical-align: top;\n",
              "    }\n",
              "\n",
              "    .dataframe thead th {\n",
              "        text-align: right;\n",
              "    }\n",
              "</style>\n",
              "<table border=\"1\" class=\"dataframe\">\n",
              "  <thead>\n",
              "    <tr style=\"text-align: right;\">\n",
              "      <th></th>\n",
              "      <th>Survived</th>\n",
              "      <th>Age</th>\n",
              "      <th>SibSp</th>\n",
              "      <th>Parch</th>\n",
              "      <th>Fare</th>\n",
              "      <th>male</th>\n",
              "      <th>Q</th>\n",
              "      <th>S</th>\n",
              "      <th>2</th>\n",
              "      <th>3</th>\n",
              "    </tr>\n",
              "  </thead>\n",
              "  <tbody>\n",
              "    <tr>\n",
              "      <th>0</th>\n",
              "      <td>0</td>\n",
              "      <td>22.0</td>\n",
              "      <td>1</td>\n",
              "      <td>0</td>\n",
              "      <td>7.2500</td>\n",
              "      <td>1</td>\n",
              "      <td>0</td>\n",
              "      <td>1</td>\n",
              "      <td>0</td>\n",
              "      <td>1</td>\n",
              "    </tr>\n",
              "    <tr>\n",
              "      <th>1</th>\n",
              "      <td>1</td>\n",
              "      <td>38.0</td>\n",
              "      <td>1</td>\n",
              "      <td>0</td>\n",
              "      <td>71.2833</td>\n",
              "      <td>0</td>\n",
              "      <td>0</td>\n",
              "      <td>0</td>\n",
              "      <td>0</td>\n",
              "      <td>0</td>\n",
              "    </tr>\n",
              "    <tr>\n",
              "      <th>2</th>\n",
              "      <td>1</td>\n",
              "      <td>26.0</td>\n",
              "      <td>0</td>\n",
              "      <td>0</td>\n",
              "      <td>7.9250</td>\n",
              "      <td>0</td>\n",
              "      <td>0</td>\n",
              "      <td>1</td>\n",
              "      <td>0</td>\n",
              "      <td>1</td>\n",
              "    </tr>\n",
              "    <tr>\n",
              "      <th>3</th>\n",
              "      <td>1</td>\n",
              "      <td>35.0</td>\n",
              "      <td>1</td>\n",
              "      <td>0</td>\n",
              "      <td>53.1000</td>\n",
              "      <td>0</td>\n",
              "      <td>0</td>\n",
              "      <td>1</td>\n",
              "      <td>0</td>\n",
              "      <td>0</td>\n",
              "    </tr>\n",
              "    <tr>\n",
              "      <th>4</th>\n",
              "      <td>0</td>\n",
              "      <td>35.0</td>\n",
              "      <td>0</td>\n",
              "      <td>0</td>\n",
              "      <td>8.0500</td>\n",
              "      <td>1</td>\n",
              "      <td>0</td>\n",
              "      <td>1</td>\n",
              "      <td>0</td>\n",
              "      <td>1</td>\n",
              "    </tr>\n",
              "    <tr>\n",
              "      <th>...</th>\n",
              "      <td>...</td>\n",
              "      <td>...</td>\n",
              "      <td>...</td>\n",
              "      <td>...</td>\n",
              "      <td>...</td>\n",
              "      <td>...</td>\n",
              "      <td>...</td>\n",
              "      <td>...</td>\n",
              "      <td>...</td>\n",
              "      <td>...</td>\n",
              "    </tr>\n",
              "    <tr>\n",
              "      <th>886</th>\n",
              "      <td>0</td>\n",
              "      <td>27.0</td>\n",
              "      <td>0</td>\n",
              "      <td>0</td>\n",
              "      <td>13.0000</td>\n",
              "      <td>1</td>\n",
              "      <td>0</td>\n",
              "      <td>1</td>\n",
              "      <td>1</td>\n",
              "      <td>0</td>\n",
              "    </tr>\n",
              "    <tr>\n",
              "      <th>887</th>\n",
              "      <td>1</td>\n",
              "      <td>19.0</td>\n",
              "      <td>0</td>\n",
              "      <td>0</td>\n",
              "      <td>30.0000</td>\n",
              "      <td>0</td>\n",
              "      <td>0</td>\n",
              "      <td>1</td>\n",
              "      <td>0</td>\n",
              "      <td>0</td>\n",
              "    </tr>\n",
              "    <tr>\n",
              "      <th>888</th>\n",
              "      <td>0</td>\n",
              "      <td>NaN</td>\n",
              "      <td>1</td>\n",
              "      <td>2</td>\n",
              "      <td>23.4500</td>\n",
              "      <td>0</td>\n",
              "      <td>0</td>\n",
              "      <td>1</td>\n",
              "      <td>0</td>\n",
              "      <td>1</td>\n",
              "    </tr>\n",
              "    <tr>\n",
              "      <th>889</th>\n",
              "      <td>1</td>\n",
              "      <td>26.0</td>\n",
              "      <td>0</td>\n",
              "      <td>0</td>\n",
              "      <td>30.0000</td>\n",
              "      <td>1</td>\n",
              "      <td>0</td>\n",
              "      <td>0</td>\n",
              "      <td>0</td>\n",
              "      <td>0</td>\n",
              "    </tr>\n",
              "    <tr>\n",
              "      <th>890</th>\n",
              "      <td>0</td>\n",
              "      <td>32.0</td>\n",
              "      <td>0</td>\n",
              "      <td>0</td>\n",
              "      <td>7.7500</td>\n",
              "      <td>1</td>\n",
              "      <td>1</td>\n",
              "      <td>0</td>\n",
              "      <td>0</td>\n",
              "      <td>1</td>\n",
              "    </tr>\n",
              "  </tbody>\n",
              "</table>\n",
              "<p>891 rows × 10 columns</p>\n",
              "</div>"
            ],
            "text/plain": [
              "     Survived   Age  SibSp  Parch     Fare  male  Q  S  2  3\n",
              "0           0  22.0      1      0   7.2500     1  0  1  0  1\n",
              "1           1  38.0      1      0  71.2833     0  0  0  0  0\n",
              "2           1  26.0      0      0   7.9250     0  0  1  0  1\n",
              "3           1  35.0      1      0  53.1000     0  0  1  0  0\n",
              "4           0  35.0      0      0   8.0500     1  0  1  0  1\n",
              "..        ...   ...    ...    ...      ...   ... .. .. .. ..\n",
              "886         0  27.0      0      0  13.0000     1  0  1  1  0\n",
              "887         1  19.0      0      0  30.0000     0  0  1  0  0\n",
              "888         0   NaN      1      2  23.4500     0  0  1  0  1\n",
              "889         1  26.0      0      0  30.0000     1  0  0  0  0\n",
              "890         0  32.0      0      0   7.7500     1  1  0  0  1\n",
              "\n",
              "[891 rows x 10 columns]"
            ]
          },
          "metadata": {
            "tags": []
          },
          "execution_count": 19
        }
      ]
    },
    {
      "cell_type": "code",
      "metadata": {
        "colab": {
          "base_uri": "https://localhost:8080/"
        },
        "id": "n6aG0p4lgJSl",
        "outputId": "40fc2dc9-f2da-4530-8e19-3b783d8943c1"
      },
      "source": [
        "# Lets check the presence of null values\n",
        "df_titanic.isnull().sum()"
      ],
      "execution_count": 20,
      "outputs": [
        {
          "output_type": "execute_result",
          "data": {
            "text/plain": [
              "Survived      0\n",
              "Age         177\n",
              "SibSp         0\n",
              "Parch         0\n",
              "Fare          0\n",
              "male          0\n",
              "Q             0\n",
              "S             0\n",
              "2             0\n",
              "3             0\n",
              "dtype: int64"
            ]
          },
          "metadata": {
            "tags": []
          },
          "execution_count": 20
        }
      ]
    },
    {
      "cell_type": "code",
      "metadata": {
        "colab": {
          "base_uri": "https://localhost:8080/",
          "height": 419
        },
        "id": "KdZ78hn9ghOm",
        "outputId": "a7954b4e-84bf-4293-d302-c8102e544abd"
      },
      "source": [
        "df_titanic.dropna(inplace=True)\n",
        "df_titanic"
      ],
      "execution_count": 21,
      "outputs": [
        {
          "output_type": "execute_result",
          "data": {
            "text/html": [
              "<div>\n",
              "<style scoped>\n",
              "    .dataframe tbody tr th:only-of-type {\n",
              "        vertical-align: middle;\n",
              "    }\n",
              "\n",
              "    .dataframe tbody tr th {\n",
              "        vertical-align: top;\n",
              "    }\n",
              "\n",
              "    .dataframe thead th {\n",
              "        text-align: right;\n",
              "    }\n",
              "</style>\n",
              "<table border=\"1\" class=\"dataframe\">\n",
              "  <thead>\n",
              "    <tr style=\"text-align: right;\">\n",
              "      <th></th>\n",
              "      <th>Survived</th>\n",
              "      <th>Age</th>\n",
              "      <th>SibSp</th>\n",
              "      <th>Parch</th>\n",
              "      <th>Fare</th>\n",
              "      <th>male</th>\n",
              "      <th>Q</th>\n",
              "      <th>S</th>\n",
              "      <th>2</th>\n",
              "      <th>3</th>\n",
              "    </tr>\n",
              "  </thead>\n",
              "  <tbody>\n",
              "    <tr>\n",
              "      <th>0</th>\n",
              "      <td>0</td>\n",
              "      <td>22.0</td>\n",
              "      <td>1</td>\n",
              "      <td>0</td>\n",
              "      <td>7.2500</td>\n",
              "      <td>1</td>\n",
              "      <td>0</td>\n",
              "      <td>1</td>\n",
              "      <td>0</td>\n",
              "      <td>1</td>\n",
              "    </tr>\n",
              "    <tr>\n",
              "      <th>1</th>\n",
              "      <td>1</td>\n",
              "      <td>38.0</td>\n",
              "      <td>1</td>\n",
              "      <td>0</td>\n",
              "      <td>71.2833</td>\n",
              "      <td>0</td>\n",
              "      <td>0</td>\n",
              "      <td>0</td>\n",
              "      <td>0</td>\n",
              "      <td>0</td>\n",
              "    </tr>\n",
              "    <tr>\n",
              "      <th>2</th>\n",
              "      <td>1</td>\n",
              "      <td>26.0</td>\n",
              "      <td>0</td>\n",
              "      <td>0</td>\n",
              "      <td>7.9250</td>\n",
              "      <td>0</td>\n",
              "      <td>0</td>\n",
              "      <td>1</td>\n",
              "      <td>0</td>\n",
              "      <td>1</td>\n",
              "    </tr>\n",
              "    <tr>\n",
              "      <th>3</th>\n",
              "      <td>1</td>\n",
              "      <td>35.0</td>\n",
              "      <td>1</td>\n",
              "      <td>0</td>\n",
              "      <td>53.1000</td>\n",
              "      <td>0</td>\n",
              "      <td>0</td>\n",
              "      <td>1</td>\n",
              "      <td>0</td>\n",
              "      <td>0</td>\n",
              "    </tr>\n",
              "    <tr>\n",
              "      <th>4</th>\n",
              "      <td>0</td>\n",
              "      <td>35.0</td>\n",
              "      <td>0</td>\n",
              "      <td>0</td>\n",
              "      <td>8.0500</td>\n",
              "      <td>1</td>\n",
              "      <td>0</td>\n",
              "      <td>1</td>\n",
              "      <td>0</td>\n",
              "      <td>1</td>\n",
              "    </tr>\n",
              "    <tr>\n",
              "      <th>...</th>\n",
              "      <td>...</td>\n",
              "      <td>...</td>\n",
              "      <td>...</td>\n",
              "      <td>...</td>\n",
              "      <td>...</td>\n",
              "      <td>...</td>\n",
              "      <td>...</td>\n",
              "      <td>...</td>\n",
              "      <td>...</td>\n",
              "      <td>...</td>\n",
              "    </tr>\n",
              "    <tr>\n",
              "      <th>885</th>\n",
              "      <td>0</td>\n",
              "      <td>39.0</td>\n",
              "      <td>0</td>\n",
              "      <td>5</td>\n",
              "      <td>29.1250</td>\n",
              "      <td>0</td>\n",
              "      <td>1</td>\n",
              "      <td>0</td>\n",
              "      <td>0</td>\n",
              "      <td>1</td>\n",
              "    </tr>\n",
              "    <tr>\n",
              "      <th>886</th>\n",
              "      <td>0</td>\n",
              "      <td>27.0</td>\n",
              "      <td>0</td>\n",
              "      <td>0</td>\n",
              "      <td>13.0000</td>\n",
              "      <td>1</td>\n",
              "      <td>0</td>\n",
              "      <td>1</td>\n",
              "      <td>1</td>\n",
              "      <td>0</td>\n",
              "    </tr>\n",
              "    <tr>\n",
              "      <th>887</th>\n",
              "      <td>1</td>\n",
              "      <td>19.0</td>\n",
              "      <td>0</td>\n",
              "      <td>0</td>\n",
              "      <td>30.0000</td>\n",
              "      <td>0</td>\n",
              "      <td>0</td>\n",
              "      <td>1</td>\n",
              "      <td>0</td>\n",
              "      <td>0</td>\n",
              "    </tr>\n",
              "    <tr>\n",
              "      <th>889</th>\n",
              "      <td>1</td>\n",
              "      <td>26.0</td>\n",
              "      <td>0</td>\n",
              "      <td>0</td>\n",
              "      <td>30.0000</td>\n",
              "      <td>1</td>\n",
              "      <td>0</td>\n",
              "      <td>0</td>\n",
              "      <td>0</td>\n",
              "      <td>0</td>\n",
              "    </tr>\n",
              "    <tr>\n",
              "      <th>890</th>\n",
              "      <td>0</td>\n",
              "      <td>32.0</td>\n",
              "      <td>0</td>\n",
              "      <td>0</td>\n",
              "      <td>7.7500</td>\n",
              "      <td>1</td>\n",
              "      <td>1</td>\n",
              "      <td>0</td>\n",
              "      <td>0</td>\n",
              "      <td>1</td>\n",
              "    </tr>\n",
              "  </tbody>\n",
              "</table>\n",
              "<p>714 rows × 10 columns</p>\n",
              "</div>"
            ],
            "text/plain": [
              "     Survived   Age  SibSp  Parch     Fare  male  Q  S  2  3\n",
              "0           0  22.0      1      0   7.2500     1  0  1  0  1\n",
              "1           1  38.0      1      0  71.2833     0  0  0  0  0\n",
              "2           1  26.0      0      0   7.9250     0  0  1  0  1\n",
              "3           1  35.0      1      0  53.1000     0  0  1  0  0\n",
              "4           0  35.0      0      0   8.0500     1  0  1  0  1\n",
              "..        ...   ...    ...    ...      ...   ... .. .. .. ..\n",
              "885         0  39.0      0      5  29.1250     0  1  0  0  1\n",
              "886         0  27.0      0      0  13.0000     1  0  1  1  0\n",
              "887         1  19.0      0      0  30.0000     0  0  1  0  0\n",
              "889         1  26.0      0      0  30.0000     1  0  0  0  0\n",
              "890         0  32.0      0      0   7.7500     1  1  0  0  1\n",
              "\n",
              "[714 rows x 10 columns]"
            ]
          },
          "metadata": {
            "tags": []
          },
          "execution_count": 21
        }
      ]
    },
    {
      "cell_type": "code",
      "metadata": {
        "id": "L2-6wlFiaSIA"
      },
      "source": [
        "x = df_titanic.drop(\"Survived\",axis=1)\n",
        "y = df_titanic[\"Survived\"]"
      ],
      "execution_count": 22,
      "outputs": []
    },
    {
      "cell_type": "code",
      "metadata": {
        "id": "bfv5ZcohoU67"
      },
      "source": [
        "#We will use f1 score as the metrics as it is balanced dataset problem\n",
        "#Maximum f1 score in between random states 42 to 100\n",
        "from sklearn.metrics import f1_score\n",
        "from sklearn.model_selection import train_test_split\n",
        "def maxf1_score(clf,x,y):\n",
        "    maxf=0\n",
        "    rs=0\n",
        "    for r_state in range(42,100):\n",
        "        x_train,x_test,y_train,y_test=train_test_split(x, y,random_state = r_state,test_size=0.20,stratify=y)\n",
        "        clf.fit(x_train,y_train)\n",
        "        y_pred=clf.predict(x_test)\n",
        "        tmp=f1_score(y_test,y_pred)\n",
        "        print(\"random state :\",r_state,\" and f1 score: \",tmp)\n",
        "        if tmp>maxf:\n",
        "            maxf=tmp\n",
        "            rs=r_state\n",
        "    print(\"maximum f1_score is at random state :\",rs,\" and it is :\",maxf)"
      ],
      "execution_count": 23,
      "outputs": []
    },
    {
      "cell_type": "markdown",
      "metadata": {
        "id": "mFjilil_RHag"
      },
      "source": [
        "1. **LogisticRegression**\n",
        "\n",
        "---\n",
        "\n",
        "\n",
        "\n",
        "---\n",
        "\n"
      ]
    },
    {
      "cell_type": "code",
      "metadata": {
        "colab": {
          "base_uri": "https://localhost:8080/"
        },
        "id": "VhdOoR7mQQyr",
        "outputId": "a838d9ac-2711-4122-dead-717f64b86cf6"
      },
      "source": [
        "#lets use logistic regression\n",
        "from sklearn.linear_model import LogisticRegression\n",
        "import warnings\n",
        "warnings.filterwarnings(\"ignore\")\n",
        "lg_clf=LogisticRegression()\n",
        "maxf1_score(lg_clf,x,y)"
      ],
      "execution_count": 24,
      "outputs": [
        {
          "output_type": "stream",
          "text": [
            "random state : 42  and f1 score:  0.7457627118644068\n",
            "random state : 43  and f1 score:  0.7706422018348623\n",
            "random state : 44  and f1 score:  0.8403361344537814\n",
            "random state : 45  and f1 score:  0.7272727272727274\n",
            "random state : 46  and f1 score:  0.8073394495412843\n",
            "random state : 47  and f1 score:  0.7321428571428572\n",
            "random state : 48  and f1 score:  0.7610619469026548\n",
            "random state : 49  and f1 score:  0.7200000000000001\n",
            "random state : 50  and f1 score:  0.7387387387387387\n",
            "random state : 51  and f1 score:  0.7213114754098361\n",
            "random state : 52  and f1 score:  0.7818181818181817\n",
            "random state : 53  and f1 score:  0.7652173913043477\n",
            "random state : 54  and f1 score:  0.709090909090909\n",
            "random state : 55  and f1 score:  0.7407407407407408\n",
            "random state : 56  and f1 score:  0.7142857142857143\n",
            "random state : 57  and f1 score:  0.6990291262135923\n",
            "random state : 58  and f1 score:  0.7818181818181817\n",
            "random state : 59  and f1 score:  0.709090909090909\n",
            "random state : 60  and f1 score:  0.7857142857142857\n",
            "random state : 61  and f1 score:  0.7563025210084033\n",
            "random state : 62  and f1 score:  0.7037037037037037\n",
            "random state : 63  and f1 score:  0.7207207207207208\n",
            "random state : 64  and f1 score:  0.7543859649122806\n",
            "random state : 65  and f1 score:  0.7307692307692308\n",
            "random state : 66  and f1 score:  0.7964601769911505\n",
            "random state : 67  and f1 score:  0.6915887850467289\n",
            "random state : 68  and f1 score:  0.7476635514018692\n",
            "random state : 69  and f1 score:  0.7747747747747747\n",
            "random state : 70  and f1 score:  0.7394957983193277\n",
            "random state : 71  and f1 score:  0.7663551401869159\n",
            "random state : 72  and f1 score:  0.7339449541284404\n",
            "random state : 73  and f1 score:  0.7652173913043477\n",
            "random state : 74  and f1 score:  0.7547169811320755\n",
            "random state : 75  and f1 score:  0.7666666666666667\n",
            "random state : 76  and f1 score:  0.7722772277227723\n",
            "random state : 77  and f1 score:  0.7017543859649122\n",
            "random state : 78  and f1 score:  0.7155963302752292\n",
            "random state : 79  and f1 score:  0.8073394495412843\n",
            "random state : 80  and f1 score:  0.6666666666666666\n",
            "random state : 81  and f1 score:  0.7678571428571429\n",
            "random state : 82  and f1 score:  0.6037735849056604\n",
            "random state : 83  and f1 score:  0.7256637168141592\n",
            "random state : 84  and f1 score:  0.6728971962616822\n",
            "random state : 85  and f1 score:  0.7428571428571429\n",
            "random state : 86  and f1 score:  0.7777777777777777\n",
            "random state : 87  and f1 score:  0.8275862068965517\n",
            "random state : 88  and f1 score:  0.7543859649122806\n",
            "random state : 89  and f1 score:  0.7636363636363636\n",
            "random state : 90  and f1 score:  0.7222222222222223\n",
            "random state : 91  and f1 score:  0.7457627118644068\n",
            "random state : 92  and f1 score:  0.7037037037037037\n",
            "random state : 93  and f1 score:  0.7543859649122806\n",
            "random state : 94  and f1 score:  0.7272727272727274\n",
            "random state : 95  and f1 score:  0.7927927927927928\n",
            "random state : 96  and f1 score:  0.7017543859649122\n",
            "random state : 97  and f1 score:  0.7207207207207208\n",
            "random state : 98  and f1 score:  0.7339449541284404\n",
            "random state : 99  and f1 score:  0.7289719626168225\n",
            "maximum f1_score is at random state : 44  and it is : 0.8403361344537814\n"
          ],
          "name": "stdout"
        }
      ]
    },
    {
      "cell_type": "code",
      "metadata": {
        "colab": {
          "base_uri": "https://localhost:8080/"
        },
        "id": "PDXp4inzQSNB",
        "outputId": "6e56418c-85f9-492c-bfb5-354b8db13b1f"
      },
      "source": [
        "#Lets use cross_val_score and evaluate the logistic regression model\n",
        "from sklearn.model_selection import cross_val_score\n",
        "print(\"Mean f1 score for logistic classifier: \",cross_val_score(lg_clf,x,y,cv=5,scoring=\"f1\").mean())\n",
        "print(\"Standard deviation in f1 score for logistic classifier: \",cross_val_score(lg_clf,x,y,cv=5,scoring=\"f1\").std())\n",
        "print(cross_val_score(lg_clf,x,y,cv=5,scoring=\"f1\"))"
      ],
      "execution_count": 25,
      "outputs": [
        {
          "output_type": "stream",
          "text": [
            "Mean f1 score for logistic classifier:  0.7310494770929553\n",
            "Standard deviation in f1 score for logistic classifier:  0.0523964430707637\n",
            "[0.7008547  0.77777778 0.71304348 0.66       0.80357143]\n"
          ],
          "name": "stdout"
        }
      ]
    },
    {
      "cell_type": "markdown",
      "metadata": {
        "id": "YxgR9NArQ1-J"
      },
      "source": [
        "2. **KNeighborsClassifier**\n",
        "\n",
        "---\n",
        "\n",
        "\n",
        "\n",
        "---\n",
        "\n"
      ]
    },
    {
      "cell_type": "code",
      "metadata": {
        "colab": {
          "base_uri": "https://localhost:8080/"
        },
        "id": "XTxb6PF2RBnA",
        "outputId": "00eb84d2-13fb-4c34-fba5-1521662d0bfb"
      },
      "source": [
        "#Lets use KNN\n",
        "#For KNN we need to know the best value of k using grid search\n",
        "from sklearn.model_selection import GridSearchCV\n",
        "from sklearn.neighbors import KNeighborsClassifier\n",
        "import warnings\n",
        "warnings.filterwarnings(\"ignore\")\n",
        "kc=KNeighborsClassifier()\n",
        "neighbors={\"n_neighbors\":range(1,30)}\n",
        "clf = GridSearchCV(kc, neighbors, cv=5,scoring=\"f1\")\n",
        "clf.fit(x,y)\n",
        "clf.best_params_"
      ],
      "execution_count": 26,
      "outputs": [
        {
          "output_type": "execute_result",
          "data": {
            "text/plain": [
              "{'n_neighbors': 3}"
            ]
          },
          "metadata": {
            "tags": []
          },
          "execution_count": 26
        }
      ]
    },
    {
      "cell_type": "code",
      "metadata": {
        "colab": {
          "base_uri": "https://localhost:8080/"
        },
        "id": "hR6q8RhjRcIl",
        "outputId": "9f6fcb91-34e7-421e-da4b-9d961f401867"
      },
      "source": [
        "kc=KNeighborsClassifier(n_neighbors=3)\n",
        "maxf1_score(kc,x,y)"
      ],
      "execution_count": 27,
      "outputs": [
        {
          "output_type": "stream",
          "text": [
            "random state : 42  and f1 score:  0.5739130434782609\n",
            "random state : 43  and f1 score:  0.6\n",
            "random state : 44  and f1 score:  0.5811965811965812\n",
            "random state : 45  and f1 score:  0.5932203389830508\n",
            "random state : 46  and f1 score:  0.6386554621848739\n",
            "random state : 47  and f1 score:  0.6491228070175439\n",
            "random state : 48  and f1 score:  0.6355140186915887\n",
            "random state : 49  and f1 score:  0.5576923076923076\n",
            "random state : 50  and f1 score:  0.6181818181818182\n",
            "random state : 51  and f1 score:  0.5811965811965812\n",
            "random state : 52  and f1 score:  0.5631067961165049\n",
            "random state : 53  and f1 score:  0.5504587155963303\n",
            "random state : 54  and f1 score:  0.5423728813559322\n",
            "random state : 55  and f1 score:  0.6724137931034483\n",
            "random state : 56  and f1 score:  0.6126126126126126\n",
            "random state : 57  and f1 score:  0.5789473684210527\n",
            "random state : 58  and f1 score:  0.625\n",
            "random state : 59  and f1 score:  0.5614035087719299\n",
            "random state : 60  and f1 score:  0.5964912280701754\n",
            "random state : 61  and f1 score:  0.6608695652173913\n",
            "random state : 62  and f1 score:  0.6666666666666666\n",
            "random state : 63  and f1 score:  0.5309734513274337\n",
            "random state : 64  and f1 score:  0.5555555555555556\n",
            "random state : 65  and f1 score:  0.5789473684210527\n",
            "random state : 66  and f1 score:  0.5050505050505051\n",
            "random state : 67  and f1 score:  0.6407766990291263\n",
            "random state : 68  and f1 score:  0.5688073394495412\n",
            "random state : 69  and f1 score:  0.603448275862069\n",
            "random state : 70  and f1 score:  0.6181818181818182\n",
            "random state : 71  and f1 score:  0.5686274509803921\n",
            "random state : 72  and f1 score:  0.6666666666666666\n",
            "random state : 73  and f1 score:  0.6260869565217391\n",
            "random state : 74  and f1 score:  0.4901960784313726\n",
            "random state : 75  and f1 score:  0.7358490566037735\n",
            "random state : 76  and f1 score:  0.6168224299065421\n",
            "random state : 77  and f1 score:  0.5535714285714285\n",
            "random state : 78  and f1 score:  0.5945945945945946\n",
            "random state : 79  and f1 score:  0.6545454545454545\n",
            "random state : 80  and f1 score:  0.5185185185185185\n",
            "random state : 81  and f1 score:  0.6315789473684211\n",
            "random state : 82  and f1 score:  0.6393442622950819\n",
            "random state : 83  and f1 score:  0.5142857142857143\n",
            "random state : 84  and f1 score:  0.5210084033613445\n",
            "random state : 85  and f1 score:  0.6666666666666666\n",
            "random state : 86  and f1 score:  0.6274509803921569\n",
            "random state : 87  and f1 score:  0.7\n",
            "random state : 88  and f1 score:  0.6428571428571429\n",
            "random state : 89  and f1 score:  0.6\n",
            "random state : 90  and f1 score:  0.608695652173913\n",
            "random state : 91  and f1 score:  0.6194690265486726\n",
            "random state : 92  and f1 score:  0.5631067961165049\n",
            "random state : 93  and f1 score:  0.6605504587155964\n",
            "random state : 94  and f1 score:  0.5961538461538461\n",
            "random state : 95  and f1 score:  0.5858585858585859\n",
            "random state : 96  and f1 score:  0.509090909090909\n",
            "random state : 97  and f1 score:  0.5405405405405406\n",
            "random state : 98  and f1 score:  0.6296296296296295\n",
            "random state : 99  and f1 score:  0.6542056074766354\n",
            "maximum f1_score is at random state : 75  and it is : 0.7358490566037735\n"
          ],
          "name": "stdout"
        }
      ]
    },
    {
      "cell_type": "code",
      "metadata": {
        "colab": {
          "base_uri": "https://localhost:8080/"
        },
        "id": "_o-wu3_kRg8N",
        "outputId": "4c506fa7-62fa-4d54-b578-7a1fa5c6df93"
      },
      "source": [
        "#Lets use cross_val_score and evaluate the knn model\n",
        "from sklearn.model_selection import cross_val_score\n",
        "print(\"Mean f1 score for knn classifier: \",cross_val_score(kc,x,y,cv=5,scoring=\"f1\").mean())\n",
        "print(\"standard deviation in f1 score for knn classifier: \",cross_val_score(kc,x,y,cv=5,scoring=\"f1\").std())\n",
        "print(cross_val_score(kc,x,y,cv=5,scoring=\"f1\"))"
      ],
      "execution_count": 28,
      "outputs": [
        {
          "output_type": "stream",
          "text": [
            "Mean f1 score for knn classifier:  0.6002281457659031\n",
            "standard deviation in f1 score for knn classifier:  0.07480209428171206\n",
            "[0.46846847 0.60869565 0.61111111 0.61111111 0.70175439]\n"
          ],
          "name": "stdout"
        }
      ]
    },
    {
      "cell_type": "markdown",
      "metadata": {
        "id": "oBcgPmqMRwkw"
      },
      "source": [
        "3. **DecisionTreeClassifier**\n",
        "\n",
        "---\n",
        "\n",
        "\n",
        "\n",
        "---\n",
        "\n"
      ]
    },
    {
      "cell_type": "code",
      "metadata": {
        "colab": {
          "base_uri": "https://localhost:8080/"
        },
        "id": "cpw0nMTdR1hO",
        "outputId": "29f257b0-fa55-4a3b-bfda-6a9174d02f88"
      },
      "source": [
        "#lets use decision tree\n",
        "from sklearn.tree import DecisionTreeClassifier\n",
        "dc=DecisionTreeClassifier()\n",
        "maxf1_score(dc,x,y)"
      ],
      "execution_count": 29,
      "outputs": [
        {
          "output_type": "stream",
          "text": [
            "random state : 42  and f1 score:  0.6829268292682927\n",
            "random state : 43  and f1 score:  0.7272727272727274\n",
            "random state : 44  and f1 score:  0.6976744186046512\n",
            "random state : 45  and f1 score:  0.717948717948718\n",
            "random state : 46  and f1 score:  0.7692307692307694\n",
            "random state : 47  and f1 score:  0.736842105263158\n",
            "random state : 48  and f1 score:  0.7130434782608696\n",
            "random state : 49  and f1 score:  0.606060606060606\n",
            "random state : 50  and f1 score:  0.6949152542372882\n",
            "random state : 51  and f1 score:  0.7175572519083969\n",
            "random state : 52  and f1 score:  0.6782608695652174\n",
            "random state : 53  and f1 score:  0.6890756302521007\n",
            "random state : 54  and f1 score:  0.6612903225806452\n",
            "random state : 55  and f1 score:  0.7304347826086957\n",
            "random state : 56  and f1 score:  0.7286821705426356\n",
            "random state : 57  and f1 score:  0.7079646017699116\n",
            "random state : 58  and f1 score:  0.7543859649122806\n",
            "random state : 59  and f1 score:  0.7387387387387387\n",
            "random state : 60  and f1 score:  0.7241379310344829\n",
            "random state : 61  and f1 score:  0.7999999999999999\n",
            "random state : 62  and f1 score:  0.6776859504132232\n",
            "random state : 63  and f1 score:  0.6949152542372882\n",
            "random state : 64  and f1 score:  0.728813559322034\n",
            "random state : 65  and f1 score:  0.7339449541284404\n",
            "random state : 66  and f1 score:  0.7850467289719627\n",
            "random state : 67  and f1 score:  0.6728971962616822\n",
            "random state : 68  and f1 score:  0.7419354838709677\n",
            "random state : 69  and f1 score:  0.6666666666666666\n",
            "random state : 70  and f1 score:  0.7666666666666667\n",
            "random state : 71  and f1 score:  0.709090909090909\n",
            "random state : 72  and f1 score:  0.7610619469026548\n",
            "random state : 73  and f1 score:  0.7256637168141592\n",
            "random state : 74  and f1 score:  0.7079646017699116\n",
            "random state : 75  and f1 score:  0.7642276422764227\n",
            "random state : 76  and f1 score:  0.7017543859649122\n",
            "random state : 77  and f1 score:  0.6608695652173913\n",
            "random state : 78  and f1 score:  0.6725663716814159\n",
            "random state : 79  and f1 score:  0.6896551724137931\n",
            "random state : 80  and f1 score:  0.6942148760330579\n",
            "random state : 81  and f1 score:  0.7387387387387387\n",
            "random state : 82  and f1 score:  0.6260869565217391\n",
            "random state : 83  and f1 score:  0.6771653543307088\n",
            "random state : 84  and f1 score:  0.6935483870967741\n",
            "random state : 85  and f1 score:  0.7387387387387387\n",
            "random state : 86  and f1 score:  0.7610619469026548\n",
            "random state : 87  and f1 score:  0.736\n",
            "random state : 88  and f1 score:  0.7017543859649122\n",
            "random state : 89  and f1 score:  0.75\n",
            "random state : 90  and f1 score:  0.6724137931034483\n",
            "random state : 91  and f1 score:  0.6942148760330579\n",
            "random state : 92  and f1 score:  0.5913043478260869\n",
            "random state : 93  and f1 score:  0.6776859504132232\n",
            "random state : 94  and f1 score:  0.6551724137931034\n",
            "random state : 95  and f1 score:  0.679245283018868\n",
            "random state : 96  and f1 score:  0.7079646017699116\n",
            "random state : 97  and f1 score:  0.6949152542372882\n",
            "random state : 98  and f1 score:  0.6379310344827587\n",
            "random state : 99  and f1 score:  0.7096774193548386\n",
            "maximum f1_score is at random state : 61  and it is : 0.7999999999999999\n"
          ],
          "name": "stdout"
        }
      ]
    },
    {
      "cell_type": "code",
      "metadata": {
        "colab": {
          "base_uri": "https://localhost:8080/"
        },
        "id": "5VeS2GlaSCnc",
        "outputId": "e07a2f0f-7e9c-49b6-d72b-f87339e713c4"
      },
      "source": [
        "#Lets use cross_val_score and evaluate the dc model\n",
        "from sklearn.model_selection import cross_val_score\n",
        "print(\"Mean f1 score for decision tree classifier: \",cross_val_score(dc,x,y,cv=5,scoring=\"f1\").mean())\n",
        "print(\"standard deviation in f1 score for decision tree classifier: \",cross_val_score(dc,x,y,cv=5,scoring=\"f1\").std())\n",
        "print(cross_val_score(dc,x,y,cv=5,scoring=\"f1\"))"
      ],
      "execution_count": 30,
      "outputs": [
        {
          "output_type": "stream",
          "text": [
            "Mean f1 score for decision tree classifier:  0.7109011467375209\n",
            "standard deviation in f1 score for decision tree classifier:  0.04965129186466936\n",
            "[0.66666667 0.73333333 0.73170732 0.68518519 0.75213675]\n"
          ],
          "name": "stdout"
        }
      ]
    },
    {
      "cell_type": "markdown",
      "metadata": {
        "id": "AX2a23UlSiMg"
      },
      "source": [
        "4. **GaussianNB**\n",
        "\n",
        "---\n",
        "\n",
        "\n",
        "\n",
        "---\n",
        "\n",
        "\n"
      ]
    },
    {
      "cell_type": "code",
      "metadata": {
        "colab": {
          "base_uri": "https://localhost:8080/"
        },
        "id": "ylKHn2hsS8Nf",
        "outputId": "db843611-f01f-48d0-9484-8cb6f7f0c838"
      },
      "source": [
        "# Lets check naive bayes\n",
        "from sklearn.naive_bayes import GaussianNB\n",
        "gnb=GaussianNB()\n",
        "maxf1_score(gnb,x,y)"
      ],
      "execution_count": 31,
      "outputs": [
        {
          "output_type": "stream",
          "text": [
            "random state : 42  and f1 score:  0.6896551724137931\n",
            "random state : 43  and f1 score:  0.7407407407407408\n",
            "random state : 44  and f1 score:  0.7758620689655173\n",
            "random state : 45  and f1 score:  0.7457627118644068\n",
            "random state : 46  and f1 score:  0.7450980392156864\n",
            "random state : 47  and f1 score:  0.6608695652173913\n",
            "random state : 48  and f1 score:  0.7130434782608696\n",
            "random state : 49  and f1 score:  0.6990291262135923\n",
            "random state : 50  and f1 score:  0.7433628318584072\n",
            "random state : 51  and f1 score:  0.6829268292682927\n",
            "random state : 52  and f1 score:  0.7454545454545455\n",
            "random state : 53  and f1 score:  0.75\n",
            "random state : 54  and f1 score:  0.6607142857142857\n",
            "random state : 55  and f1 score:  0.7184466019417477\n",
            "random state : 56  and f1 score:  0.6782608695652174\n",
            "random state : 57  and f1 score:  0.6538461538461539\n",
            "random state : 58  and f1 score:  0.7636363636363636\n",
            "random state : 59  and f1 score:  0.6857142857142856\n",
            "random state : 60  and f1 score:  0.7678571428571429\n",
            "random state : 61  and f1 score:  0.7567567567567567\n",
            "random state : 62  and f1 score:  0.7047619047619048\n",
            "random state : 63  and f1 score:  0.7321428571428572\n",
            "random state : 64  and f1 score:  0.7\n",
            "random state : 65  and f1 score:  0.62\n",
            "random state : 66  and f1 score:  0.7818181818181817\n",
            "random state : 67  and f1 score:  0.6486486486486486\n",
            "random state : 68  and f1 score:  0.709090909090909\n",
            "random state : 69  and f1 score:  0.7692307692307693\n",
            "random state : 70  and f1 score:  0.7478260869565219\n",
            "random state : 71  and f1 score:  0.7304347826086957\n",
            "random state : 72  and f1 score:  0.7476635514018692\n",
            "random state : 73  and f1 score:  0.7758620689655173\n",
            "random state : 74  and f1 score:  0.7387387387387387\n",
            "random state : 75  and f1 score:  0.7478260869565219\n",
            "random state : 76  and f1 score:  0.679245283018868\n",
            "random state : 77  and f1 score:  0.6363636363636364\n",
            "random state : 78  and f1 score:  0.7068965517241379\n",
            "random state : 79  and f1 score:  0.679245283018868\n",
            "random state : 80  and f1 score:  0.7017543859649122\n",
            "random state : 81  and f1 score:  0.7241379310344829\n",
            "random state : 82  and f1 score:  0.6355140186915887\n",
            "random state : 83  and f1 score:  0.6551724137931034\n",
            "random state : 84  and f1 score:  0.6545454545454545\n",
            "random state : 85  and f1 score:  0.7128712871287128\n",
            "random state : 86  and f1 score:  0.7128712871287128\n",
            "random state : 87  and f1 score:  0.7964601769911505\n",
            "random state : 88  and f1 score:  0.7592592592592593\n",
            "random state : 89  and f1 score:  0.6862745098039215\n",
            "random state : 90  and f1 score:  0.7047619047619048\n",
            "random state : 91  and f1 score:  0.717948717948718\n",
            "random state : 92  and f1 score:  0.625\n",
            "random state : 93  and f1 score:  0.736842105263158\n",
            "random state : 94  and f1 score:  0.7387387387387387\n",
            "random state : 95  and f1 score:  0.7857142857142857\n",
            "random state : 96  and f1 score:  0.6607142857142857\n",
            "random state : 97  and f1 score:  0.6551724137931034\n",
            "random state : 98  and f1 score:  0.7321428571428572\n",
            "random state : 99  and f1 score:  0.6915887850467289\n",
            "maximum f1_score is at random state : 87  and it is : 0.7964601769911505\n"
          ],
          "name": "stdout"
        }
      ]
    },
    {
      "cell_type": "code",
      "metadata": {
        "colab": {
          "base_uri": "https://localhost:8080/"
        },
        "id": "jwM0qjmISek7",
        "outputId": "33dd07e0-15cd-4c14-e845-9171064901df"
      },
      "source": [
        "#lets again use cross val score\n",
        "print(\"Mean f1 score for GaussianNB: \",cross_val_score(gnb,x,y,cv=5,scoring=\"f1\").mean())\n",
        "print(\"standard deviation in f1 score for GaussianNB: \",cross_val_score(gnb,x,y,cv=5,scoring=\"f1\").std())\n",
        "print(cross_val_score(gnb,x,y,cv=5,scoring=\"f1\"))"
      ],
      "execution_count": 32,
      "outputs": [
        {
          "output_type": "stream",
          "text": [
            "Mean f1 score for GaussianNB:  0.7184649678297591\n",
            "standard deviation in f1 score for GaussianNB:  0.05155867014114673\n",
            "[0.63157895 0.75862069 0.73504274 0.69230769 0.77477477]\n"
          ],
          "name": "stdout"
        }
      ]
    },
    {
      "cell_type": "markdown",
      "metadata": {
        "id": "2VhufDKDTO_8"
      },
      "source": [
        "5. **SVM**\n",
        "\n",
        "---\n",
        "\n",
        "\n",
        "\n",
        "---\n",
        "\n"
      ]
    },
    {
      "cell_type": "code",
      "metadata": {
        "id": "ZeORpCIeTXrO",
        "colab": {
          "base_uri": "https://localhost:8080/"
        },
        "outputId": "af1bd403-2987-4e18-adba-d2682d5e4255"
      },
      "source": [
        "#Lets use SVM\n",
        "from sklearn.svm import SVC\n",
        "svc=SVC()\n",
        "parameters={\"kernel\":[\"linear\", \"poly\", \"rbf\"],\"C\":[0.001,0.01,0.1,1,10]}\n",
        "clf = GridSearchCV(svc, parameters, cv=5,scoring=\"f1\")\n",
        "clf.fit(x,y)\n",
        "clf.best_params_"
      ],
      "execution_count": 33,
      "outputs": [
        {
          "output_type": "execute_result",
          "data": {
            "text/plain": [
              "{'C': 0.1, 'kernel': 'linear'}"
            ]
          },
          "metadata": {
            "tags": []
          },
          "execution_count": 33
        }
      ]
    },
    {
      "cell_type": "code",
      "metadata": {
        "id": "V2luVNb6Tcyi",
        "colab": {
          "base_uri": "https://localhost:8080/"
        },
        "outputId": "2244f5e5-6b48-4cc5-bbbf-bc72f42d45fc"
      },
      "source": [
        "svc=SVC(kernel=\"linear\",C=0.1)\n",
        "maxf1_score(svc,x,y)"
      ],
      "execution_count": 34,
      "outputs": [
        {
          "output_type": "stream",
          "text": [
            "random state : 42  and f1 score:  0.7256637168141592\n",
            "random state : 43  and f1 score:  0.7678571428571429\n",
            "random state : 44  and f1 score:  0.8034188034188032\n",
            "random state : 45  and f1 score:  0.6964285714285714\n",
            "random state : 46  and f1 score:  0.7777777777777777\n",
            "random state : 47  and f1 score:  0.7454545454545455\n",
            "random state : 48  and f1 score:  0.6846846846846846\n",
            "random state : 49  and f1 score:  0.631578947368421\n",
            "random state : 50  and f1 score:  0.709090909090909\n",
            "random state : 51  and f1 score:  0.7333333333333333\n",
            "random state : 52  and f1 score:  0.7678571428571429\n",
            "random state : 53  and f1 score:  0.7652173913043477\n",
            "random state : 54  and f1 score:  0.6486486486486486\n",
            "random state : 55  and f1 score:  0.7663551401869159\n",
            "random state : 56  and f1 score:  0.6605504587155964\n",
            "random state : 57  and f1 score:  0.7169811320754716\n",
            "random state : 58  and f1 score:  0.709090909090909\n",
            "random state : 59  and f1 score:  0.6972477064220184\n",
            "random state : 60  and f1 score:  0.7610619469026548\n",
            "random state : 61  and f1 score:  0.7304347826086957\n",
            "random state : 62  and f1 score:  0.6972477064220184\n",
            "random state : 63  and f1 score:  0.7256637168141592\n",
            "random state : 64  and f1 score:  0.735042735042735\n",
            "random state : 65  and f1 score:  0.7169811320754716\n",
            "random state : 66  and f1 score:  0.7894736842105263\n",
            "random state : 67  and f1 score:  0.6788990825688075\n",
            "random state : 68  and f1 score:  0.6972477064220184\n",
            "random state : 69  and f1 score:  0.7476635514018692\n",
            "random state : 70  and f1 score:  0.719298245614035\n",
            "random state : 71  and f1 score:  0.7339449541284404\n",
            "random state : 72  and f1 score:  0.6666666666666665\n",
            "random state : 73  and f1 score:  0.7478260869565219\n",
            "random state : 74  and f1 score:  0.7818181818181817\n",
            "random state : 75  and f1 score:  0.7413793103448276\n",
            "random state : 76  and f1 score:  0.7843137254901961\n",
            "random state : 77  and f1 score:  0.6545454545454545\n",
            "random state : 78  and f1 score:  0.6788990825688075\n",
            "random state : 79  and f1 score:  0.780952380952381\n",
            "random state : 80  and f1 score:  0.6909090909090909\n",
            "random state : 81  and f1 score:  0.7826086956521741\n",
            "random state : 82  and f1 score:  0.5471698113207547\n",
            "random state : 83  and f1 score:  0.6842105263157895\n",
            "random state : 84  and f1 score:  0.6605504587155964\n",
            "random state : 85  and f1 score:  0.8141592920353982\n",
            "random state : 86  and f1 score:  0.7777777777777777\n",
            "random state : 87  and f1 score:  0.7927927927927928\n",
            "random state : 88  and f1 score:  0.7387387387387387\n",
            "random state : 89  and f1 score:  0.7678571428571429\n",
            "random state : 90  and f1 score:  0.6728971962616822\n",
            "random state : 91  and f1 score:  0.7317073170731708\n",
            "random state : 92  and f1 score:  0.6481481481481481\n",
            "random state : 93  and f1 score:  0.7027027027027026\n",
            "random state : 94  and f1 score:  0.7272727272727274\n",
            "random state : 95  and f1 score:  0.7567567567567567\n",
            "random state : 96  and f1 score:  0.6964285714285714\n",
            "random state : 97  and f1 score:  0.6846846846846846\n",
            "random state : 98  and f1 score:  0.6909090909090909\n",
            "random state : 99  and f1 score:  0.7222222222222223\n",
            "maximum f1_score is at random state : 85  and it is : 0.8141592920353982\n"
          ],
          "name": "stdout"
        }
      ]
    },
    {
      "cell_type": "code",
      "metadata": {
        "id": "GvC62y-vTyp1",
        "colab": {
          "base_uri": "https://localhost:8080/"
        },
        "outputId": "15d0241d-893f-4a4b-f0c5-27cf165d980f"
      },
      "source": [
        "#lets again use cross val score\n",
        "print(\"Mean f1 score for SVM classifier: \",cross_val_score(svc,x,y,cv=5,scoring=\"f1\").mean())\n",
        "print(\"standard deviation in f1 score for SVM classifier: \",cross_val_score(svc,x,y,cv=5,scoring=\"f1\").std())\n",
        "print(cross_val_score(svc,x,y,cv=5,scoring=\"f1\"))"
      ],
      "execution_count": 35,
      "outputs": [
        {
          "output_type": "stream",
          "text": [
            "Mean f1 score for SVM classifier:  0.7117761826109386\n",
            "standard deviation in f1 score for SVM classifier:  0.052189024663451225\n",
            "[0.72413793 0.76785714 0.71428571 0.61386139 0.73873874]\n"
          ],
          "name": "stdout"
        }
      ]
    },
    {
      "cell_type": "markdown",
      "metadata": {
        "id": "BsxiHWCWSHHt"
      },
      "source": [
        "6. **RandomForestClassifier**\n",
        "\n",
        "---\n",
        "\n",
        "\n",
        "\n",
        "---\n",
        "\n"
      ]
    },
    {
      "cell_type": "code",
      "metadata": {
        "id": "SLzOSFNuRlJw",
        "colab": {
          "base_uri": "https://localhost:8080/"
        },
        "outputId": "4d6ef099-3d1e-40c0-ff83-10e1c031c546"
      },
      "source": [
        "#lets use ensemble calssifier such as random forest\n",
        "from sklearn.ensemble import RandomForestClassifier\n",
        "from sklearn.model_selection import GridSearchCV\n",
        "parameters={\"n_estimators\":[10,100,500,1000]}\n",
        "rfc=RandomForestClassifier()\n",
        "clf = GridSearchCV(rfc, parameters, cv=5,scoring=\"f1\")\n",
        "clf.fit(x,y)\n",
        "clf.best_params_"
      ],
      "execution_count": 36,
      "outputs": [
        {
          "output_type": "execute_result",
          "data": {
            "text/plain": [
              "{'n_estimators': 100}"
            ]
          },
          "metadata": {
            "tags": []
          },
          "execution_count": 36
        }
      ]
    },
    {
      "cell_type": "code",
      "metadata": {
        "id": "85_x0gnESQmI",
        "colab": {
          "base_uri": "https://localhost:8080/"
        },
        "outputId": "ae2834fb-f8a5-49f8-cd68-bf65634bbcc0"
      },
      "source": [
        "rfc=RandomForestClassifier(n_estimators=100)\n",
        "maxf1_score(rfc,x,y)"
      ],
      "execution_count": 38,
      "outputs": [
        {
          "output_type": "stream",
          "text": [
            "random state : 42  and f1 score:  0.7027027027027026\n",
            "random state : 43  and f1 score:  0.7652173913043477\n",
            "random state : 44  and f1 score:  0.7559055118110236\n",
            "random state : 45  and f1 score:  0.709090909090909\n",
            "random state : 46  and f1 score:  0.8108108108108107\n",
            "random state : 47  and f1 score:  0.7964601769911505\n",
            "random state : 48  and f1 score:  0.7207207207207208\n",
            "random state : 49  and f1 score:  0.7551020408163266\n",
            "random state : 50  and f1 score:  0.7931034482758621\n",
            "random state : 51  and f1 score:  0.7286821705426356\n",
            "random state : 52  and f1 score:  0.7407407407407408\n",
            "random state : 53  and f1 score:  0.735042735042735\n",
            "random state : 54  and f1 score:  0.6833333333333333\n",
            "random state : 55  and f1 score:  0.7610619469026548\n",
            "random state : 56  and f1 score:  0.7096774193548386\n",
            "random state : 57  and f1 score:  0.7321428571428572\n",
            "random state : 58  and f1 score:  0.7719298245614034\n",
            "random state : 59  and f1 score:  0.7102803738317757\n",
            "random state : 60  and f1 score:  0.75\n",
            "random state : 61  and f1 score:  0.7796610169491527\n",
            "random state : 62  and f1 score:  0.7008547008547009\n",
            "random state : 63  and f1 score:  0.7130434782608696\n",
            "random state : 64  and f1 score:  0.7719298245614034\n",
            "random state : 65  and f1 score:  0.7592592592592593\n",
            "random state : 66  and f1 score:  0.7547169811320755\n",
            "random state : 67  and f1 score:  0.6915887850467289\n",
            "random state : 68  and f1 score:  0.7207207207207208\n",
            "random state : 69  and f1 score:  0.7027027027027026\n",
            "random state : 70  and f1 score:  0.7758620689655173\n",
            "random state : 71  and f1 score:  0.7706422018348623\n",
            "random state : 72  and f1 score:  0.7747747747747747\n",
            "random state : 73  and f1 score:  0.7543859649122806\n",
            "random state : 74  and f1 score:  0.7079646017699116\n",
            "random state : 75  and f1 score:  0.7863247863247863\n",
            "random state : 76  and f1 score:  0.7413793103448276\n",
            "random state : 77  and f1 score:  0.7027027027027026\n",
            "random state : 78  and f1 score:  0.7142857142857143\n",
            "random state : 79  and f1 score:  0.7454545454545455\n",
            "random state : 80  and f1 score:  0.7857142857142857\n",
            "random state : 81  and f1 score:  0.7826086956521741\n",
            "random state : 82  and f1 score:  0.6727272727272728\n",
            "random state : 83  and f1 score:  0.719298245614035\n",
            "random state : 84  and f1 score:  0.7333333333333333\n",
            "random state : 85  and f1 score:  0.75\n",
            "random state : 86  and f1 score:  0.7428571428571429\n",
            "random state : 87  and f1 score:  0.7758620689655173\n",
            "random state : 88  and f1 score:  0.7719298245614034\n",
            "random state : 89  and f1 score:  0.7663551401869159\n",
            "random state : 90  and f1 score:  0.7522935779816514\n",
            "random state : 91  and f1 score:  0.8288288288288289\n",
            "random state : 92  and f1 score:  0.7339449541284404\n",
            "random state : 93  and f1 score:  0.7543859649122806\n",
            "random state : 94  and f1 score:  0.7238095238095238\n",
            "random state : 95  and f1 score:  0.7433628318584072\n",
            "random state : 96  and f1 score:  0.7457627118644068\n",
            "random state : 97  and f1 score:  0.728813559322034\n",
            "random state : 98  and f1 score:  0.7272727272727274\n",
            "random state : 99  and f1 score:  0.7563025210084033\n",
            "maximum f1_score is at random state : 91  and it is : 0.8288288288288289\n"
          ],
          "name": "stdout"
        }
      ]
    },
    {
      "cell_type": "code",
      "metadata": {
        "colab": {
          "base_uri": "https://localhost:8080/"
        },
        "id": "wWxlqw_NSZeZ",
        "outputId": "67099ed9-9bbd-4aca-d48c-27eb5429e91e"
      },
      "source": [
        "print(\"Mean f1 score for random forest classifier: \",cross_val_score(rfc,x,y,cv=5,scoring=\"f1\").mean())\n",
        "print(\"standard deviation in f1 score for random forest classifier: \",cross_val_score(rfc,x,y,cv=5,scoring=\"f1\").std())\n",
        "print(cross_val_score(rfc,x,y,cv=5,scoring=\"f1\"))"
      ],
      "execution_count": 39,
      "outputs": [
        {
          "output_type": "stream",
          "text": [
            "Mean f1 score for random forest classifier:  0.7313912851926118\n",
            "standard deviation in f1 score for random forest classifier:  0.07453394828087516\n",
            "[0.65454545 0.75925926 0.78333333 0.66666667 0.81666667]\n"
          ],
          "name": "stdout"
        }
      ]
    },
    {
      "cell_type": "markdown",
      "metadata": {
        "id": "syPXOjOvUIdV"
      },
      "source": [
        "7. **AdaBoostClassifier**\n",
        "\n",
        "---\n",
        "\n",
        "\n",
        "\n",
        "---\n"
      ]
    },
    {
      "cell_type": "code",
      "metadata": {
        "id": "HtC60HSuUaPN",
        "colab": {
          "base_uri": "https://localhost:8080/"
        },
        "outputId": "a1f939e8-e9bb-4e4d-ebb2-dc8e8750396f"
      },
      "source": [
        "#Lets use ada boosting using svm as an estimator\n",
        "from sklearn.ensemble import AdaBoostClassifier\n",
        "ada=AdaBoostClassifier()\n",
        "parameters={\"learning_rate\":[0.001,0.01,0.1,1],\"n_estimators\":[10,100,500,1000],\"base_estimator\":[lg_clf,svc,DecisionTreeClassifier()]}\n",
        "clf = GridSearchCV(ada, parameters, cv=5)\n",
        "clf.fit(x,y)\n",
        "clf.best_params_"
      ],
      "execution_count": 41,
      "outputs": [
        {
          "output_type": "execute_result",
          "data": {
            "text/plain": [
              "{'base_estimator': LogisticRegression(C=1.0, class_weight=None, dual=False, fit_intercept=True,\n",
              "                    intercept_scaling=1, l1_ratio=None, max_iter=100,\n",
              "                    multi_class='auto', n_jobs=None, penalty='l2',\n",
              "                    random_state=None, solver='lbfgs', tol=0.0001, verbose=0,\n",
              "                    warm_start=False),\n",
              " 'learning_rate': 0.1,\n",
              " 'n_estimators': 500}"
            ]
          },
          "metadata": {
            "tags": []
          },
          "execution_count": 41
        }
      ]
    },
    {
      "cell_type": "code",
      "metadata": {
        "id": "KOIm8YO3UQU7",
        "colab": {
          "base_uri": "https://localhost:8080/"
        },
        "outputId": "11528046-5c89-4989-91bd-0c19d315a57a"
      },
      "source": [
        "ada=AdaBoostClassifier(base_estimator=lg_clf,learning_rate=0.1,n_estimators=500)\n",
        "maxf1_score(ada,x,y)"
      ],
      "execution_count": 42,
      "outputs": [
        {
          "output_type": "stream",
          "text": [
            "random state : 42  and f1 score:  0.752136752136752\n",
            "random state : 43  and f1 score:  0.7636363636363636\n",
            "random state : 44  and f1 score:  0.8067226890756303\n",
            "random state : 45  and f1 score:  0.709090909090909\n",
            "random state : 46  and f1 score:  0.7924528301886793\n",
            "random state : 47  and f1 score:  0.7207207207207208\n",
            "random state : 48  and f1 score:  0.7433628318584072\n",
            "random state : 49  and f1 score:  0.7142857142857142\n",
            "random state : 50  and f1 score:  0.75\n",
            "random state : 51  and f1 score:  0.7058823529411765\n",
            "random state : 52  and f1 score:  0.7777777777777777\n",
            "random state : 53  and f1 score:  0.7652173913043477\n",
            "random state : 54  and f1 score:  0.6785714285714286\n",
            "random state : 55  and f1 score:  0.7647058823529411\n",
            "random state : 56  and f1 score:  0.6909090909090909\n",
            "random state : 57  and f1 score:  0.6923076923076923\n",
            "random state : 58  and f1 score:  0.7735849056603773\n",
            "random state : 59  and f1 score:  0.6915887850467289\n",
            "random state : 60  and f1 score:  0.7818181818181817\n",
            "random state : 61  and f1 score:  0.7627118644067795\n",
            "random state : 62  and f1 score:  0.7289719626168225\n",
            "random state : 63  and f1 score:  0.7207207207207208\n",
            "random state : 64  and f1 score:  0.7413793103448276\n",
            "random state : 65  and f1 score:  0.7378640776699029\n",
            "random state : 66  and f1 score:  0.7857142857142857\n",
            "random state : 67  and f1 score:  0.6728971962616822\n",
            "random state : 68  and f1 score:  0.7476635514018692\n",
            "random state : 69  and f1 score:  0.7889908256880734\n",
            "random state : 70  and f1 score:  0.7652173913043477\n",
            "random state : 71  and f1 score:  0.7407407407407408\n",
            "random state : 72  and f1 score:  0.7339449541284404\n",
            "random state : 73  and f1 score:  0.7652173913043477\n",
            "random state : 74  and f1 score:  0.7663551401869159\n",
            "random state : 75  and f1 score:  0.7826086956521741\n",
            "random state : 76  and f1 score:  0.7572815533980582\n",
            "random state : 77  and f1 score:  0.6666666666666667\n",
            "random state : 78  and f1 score:  0.7037037037037037\n",
            "random state : 79  and f1 score:  0.7964601769911505\n",
            "random state : 80  and f1 score:  0.6666666666666666\n",
            "random state : 81  and f1 score:  0.7567567567567567\n",
            "random state : 82  and f1 score:  0.6168224299065421\n",
            "random state : 83  and f1 score:  0.7079646017699116\n",
            "random state : 84  and f1 score:  0.6542056074766354\n",
            "random state : 85  and f1 score:  0.7169811320754716\n",
            "random state : 86  and f1 score:  0.7547169811320755\n",
            "random state : 87  and f1 score:  0.8\n",
            "random state : 88  and f1 score:  0.7636363636363636\n",
            "random state : 89  and f1 score:  0.7678571428571429\n",
            "random state : 90  and f1 score:  0.6972477064220184\n",
            "random state : 91  and f1 score:  0.7457627118644068\n",
            "random state : 92  and f1 score:  0.6923076923076923\n",
            "random state : 93  and f1 score:  0.75\n",
            "random state : 94  and f1 score:  0.7358490566037735\n",
            "random state : 95  and f1 score:  0.7857142857142857\n",
            "random state : 96  and f1 score:  0.6846846846846846\n",
            "random state : 97  and f1 score:  0.709090909090909\n",
            "random state : 98  and f1 score:  0.7407407407407408\n",
            "random state : 99  and f1 score:  0.7222222222222223\n",
            "maximum f1_score is at random state : 44  and it is : 0.8067226890756303\n"
          ],
          "name": "stdout"
        }
      ]
    },
    {
      "cell_type": "code",
      "metadata": {
        "id": "ZXhNjI9TTMeh",
        "colab": {
          "base_uri": "https://localhost:8080/"
        },
        "outputId": "b47c0623-2577-4a4a-b0f6-c1add711da09"
      },
      "source": [
        "print(\"Mean auc roc score for AdaBoostClassifier: \",cross_val_score(ada,x,y,cv=5,scoring=\"f1\").mean())\n",
        "print(\"standard deviation in f1 score for AdaBoostClassifier: \",cross_val_score(ada,x,y,cv=5,scoring=\"f1\").std())\n",
        "print(cross_val_score(ada,x,y,cv=5,scoring=\"f1\"))"
      ],
      "execution_count": 43,
      "outputs": [
        {
          "output_type": "stream",
          "text": [
            "Mean auc roc score for AdaBoostClassifier:  0.7180510022039273\n",
            "standard deviation in f1 score for AdaBoostClassifier:  0.05528324072553742\n",
            "[0.68421053 0.76635514 0.70689655 0.64       0.79279279]\n"
          ],
          "name": "stdout"
        }
      ]
    },
    {
      "cell_type": "markdown",
      "metadata": {
        "id": "jtN8RSMkU09r"
      },
      "source": [
        "8. **GradientBoostingClassifier**\n",
        "\n",
        "---\n",
        "\n",
        "\n",
        "\n",
        "---\n",
        "\n"
      ]
    },
    {
      "cell_type": "code",
      "metadata": {
        "id": "nQJTmScaWjmL",
        "colab": {
          "base_uri": "https://localhost:8080/"
        },
        "outputId": "7d1184ff-d8d0-483b-b2ed-f490e7c454fb"
      },
      "source": [
        "#Lets use Gradient boosting classifier\n",
        "from sklearn.model_selection import GridSearchCV\n",
        "from sklearn.ensemble import GradientBoostingClassifier\n",
        "parameters={\"learning_rate\":[0.001,0.01,0.1,1],\"n_estimators\":[10,100,500,1000]}\n",
        "gb_clf=GradientBoostingClassifier()\n",
        "clf = GridSearchCV(gb_clf, parameters, cv=5,scoring=\"f1\")\n",
        "clf.fit(x,y)\n",
        "clf.best_params_"
      ],
      "execution_count": 44,
      "outputs": [
        {
          "output_type": "execute_result",
          "data": {
            "text/plain": [
              "{'learning_rate': 0.1, 'n_estimators': 100}"
            ]
          },
          "metadata": {
            "tags": []
          },
          "execution_count": 44
        }
      ]
    },
    {
      "cell_type": "code",
      "metadata": {
        "id": "CP2X_Dn6WV15",
        "colab": {
          "base_uri": "https://localhost:8080/"
        },
        "outputId": "243b7739-96ed-4ac9-d3cd-a1dd36f9bacd"
      },
      "source": [
        "gb_clf=GradientBoostingClassifier(learning_rate=0.1,n_estimators=100)\n",
        "maxf1_score(gb_clf,x,y)"
      ],
      "execution_count": 45,
      "outputs": [
        {
          "output_type": "stream",
          "text": [
            "random state : 42  and f1 score:  0.7304347826086957\n",
            "random state : 43  and f1 score:  0.831858407079646\n",
            "random state : 44  and f1 score:  0.7704918032786885\n",
            "random state : 45  and f1 score:  0.7378640776699029\n",
            "random state : 46  and f1 score:  0.7850467289719627\n",
            "random state : 47  and f1 score:  0.8181818181818181\n",
            "random state : 48  and f1 score:  0.8073394495412843\n",
            "random state : 49  and f1 score:  0.6956521739130435\n",
            "random state : 50  and f1 score:  0.7222222222222223\n",
            "random state : 51  and f1 score:  0.7692307692307694\n",
            "random state : 52  and f1 score:  0.7735849056603773\n",
            "random state : 53  and f1 score:  0.7543859649122806\n",
            "random state : 54  and f1 score:  0.6909090909090909\n",
            "random state : 55  and f1 score:  0.7663551401869159\n",
            "random state : 56  and f1 score:  0.7692307692307694\n",
            "random state : 57  and f1 score:  0.7358490566037735\n",
            "random state : 58  and f1 score:  0.8288288288288289\n",
            "random state : 59  and f1 score:  0.7636363636363636\n",
            "random state : 60  and f1 score:  0.7962962962962963\n",
            "random state : 61  and f1 score:  0.8103448275862069\n",
            "random state : 62  and f1 score:  0.7155963302752292\n",
            "random state : 63  and f1 score:  0.7454545454545455\n",
            "random state : 64  and f1 score:  0.7636363636363636\n",
            "random state : 65  and f1 score:  0.7358490566037735\n",
            "random state : 66  and f1 score:  0.803921568627451\n",
            "random state : 67  and f1 score:  0.7184466019417477\n",
            "random state : 68  and f1 score:  0.7407407407407408\n",
            "random state : 69  and f1 score:  0.7636363636363636\n",
            "random state : 70  and f1 score:  0.8037383177570093\n",
            "random state : 71  and f1 score:  0.7850467289719627\n",
            "random state : 72  and f1 score:  0.75\n",
            "random state : 73  and f1 score:  0.7894736842105263\n",
            "random state : 74  and f1 score:  0.7307692307692308\n",
            "random state : 75  and f1 score:  0.7964601769911505\n",
            "random state : 76  and f1 score:  0.7647058823529411\n",
            "random state : 77  and f1 score:  0.7079646017699116\n",
            "random state : 78  and f1 score:  0.7522935779816514\n",
            "random state : 79  and f1 score:  0.780952380952381\n",
            "random state : 80  and f1 score:  0.7102803738317757\n",
            "random state : 81  and f1 score:  0.8141592920353982\n",
            "random state : 82  and f1 score:  0.6476190476190475\n",
            "random state : 83  and f1 score:  0.7889908256880734\n",
            "random state : 84  and f1 score:  0.7304347826086957\n",
            "random state : 85  and f1 score:  0.7572815533980582\n",
            "random state : 86  and f1 score:  0.7599999999999999\n",
            "random state : 87  and f1 score:  0.8717948717948718\n",
            "random state : 88  and f1 score:  0.7889908256880734\n",
            "random state : 89  and f1 score:  0.7692307692307693\n",
            "random state : 90  and f1 score:  0.7169811320754716\n",
            "random state : 91  and f1 score:  0.7857142857142857\n",
            "random state : 92  and f1 score:  0.7358490566037735\n",
            "random state : 93  and f1 score:  0.7522935779816514\n",
            "random state : 94  and f1 score:  0.7169811320754716\n",
            "random state : 95  and f1 score:  0.7547169811320755\n",
            "random state : 96  and f1 score:  0.7454545454545455\n",
            "random state : 97  and f1 score:  0.7586206896551724\n",
            "random state : 98  and f1 score:  0.7169811320754716\n",
            "random state : 99  and f1 score:  0.8108108108108107\n",
            "maximum f1_score is at random state : 87  and it is : 0.8717948717948718\n"
          ],
          "name": "stdout"
        }
      ]
    },
    {
      "cell_type": "code",
      "metadata": {
        "id": "LkkiSw63WIXq",
        "colab": {
          "base_uri": "https://localhost:8080/"
        },
        "outputId": "82ab3ea5-0fed-459f-8b75-b6ddd347c423"
      },
      "source": [
        "#Lets use cross_val_score and evaluate the model\n",
        "from sklearn.model_selection import cross_val_score\n",
        "print(\"Mean f1 score for GradientBoostingClassifier: \",cross_val_score(gb_clf,x,y,cv=5,scoring=\"f1\").mean())\n",
        "print(\"standard deviation in f1 score for GradientBoostingClassifier: \",cross_val_score(gb_clf,x,y,cv=5,scoring=\"f1\").std())\n",
        "print(cross_val_score(gb_clf,x,y,cv=5,scoring=\"f1\"))"
      ],
      "execution_count": 46,
      "outputs": [
        {
          "output_type": "stream",
          "text": [
            "Mean f1 score for GradientBoostingClassifier:  0.7512529192982766\n",
            "standard deviation in f1 score for GradientBoostingClassifier:  0.057265715142808045\n",
            "[0.69158879 0.7962963  0.75925926 0.69387755 0.82758621]\n"
          ],
          "name": "stdout"
        }
      ]
    },
    {
      "cell_type": "markdown",
      "metadata": {
        "id": "jbCqfrcRXDRE"
      },
      "source": [
        "9. **XGBClassifier**\n",
        "\n",
        "---\n",
        "\n",
        "\n",
        "\n",
        "---\n",
        "\n"
      ]
    },
    {
      "cell_type": "code",
      "metadata": {
        "colab": {
          "base_uri": "https://localhost:8080/"
        },
        "id": "OxJz9tW6TzRS",
        "outputId": "8630f627-1509-494c-dfff-6a99f195d1e9"
      },
      "source": [
        "from sklearn.model_selection import GridSearchCV\n",
        "from xgboost import XGBClassifier\n",
        "xgb_clf = XGBClassifier()\n",
        "params = {\n",
        "        'min_child_weight': [1, 5, 10],\n",
        "        'gamma': [0.5, 1, 1.5, 2, 5],\n",
        "        'subsample': [0.6, 0.8, 1.0],\n",
        "        'colsample_bytree': [0.6, 0.8, 1.0],\n",
        "        'max_depth': [3, 4, 5]\n",
        "        }\n",
        "clf = GridSearchCV(xgb_clf, params, cv=5,scoring=\"f1\")\n",
        "clf.fit(x,y)\n",
        "clf.best_params_"
      ],
      "execution_count": 47,
      "outputs": [
        {
          "output_type": "execute_result",
          "data": {
            "text/plain": [
              "{'colsample_bytree': 1.0,\n",
              " 'gamma': 0.5,\n",
              " 'max_depth': 4,\n",
              " 'min_child_weight': 1,\n",
              " 'subsample': 0.6}"
            ]
          },
          "metadata": {
            "tags": []
          },
          "execution_count": 47
        }
      ]
    },
    {
      "cell_type": "code",
      "metadata": {
        "id": "3OBocqoyXJQH",
        "colab": {
          "base_uri": "https://localhost:8080/"
        },
        "outputId": "e47fb2af-d103-4d0f-c1c6-9f74e631a7a9"
      },
      "source": [
        "from xgboost import XGBClassifier\n",
        "xgb_clf = XGBClassifier(colsample_bytree=1.0, gamma= 5, max_depth= 4, min_child_weight= 1, subsample= 0.6)\n",
        "maxf1_score(xgb_clf,x,y)"
      ],
      "execution_count": 48,
      "outputs": [
        {
          "output_type": "stream",
          "text": [
            "random state : 42  and f1 score:  0.7339449541284404\n",
            "random state : 43  and f1 score:  0.8073394495412843\n",
            "random state : 44  and f1 score:  0.8099173553719008\n",
            "random state : 45  and f1 score:  0.7128712871287128\n",
            "random state : 46  and f1 score:  0.7200000000000001\n",
            "random state : 47  and f1 score:  0.7850467289719627\n",
            "random state : 48  and f1 score:  0.8073394495412843\n",
            "random state : 49  and f1 score:  0.7096774193548387\n",
            "random state : 50  and f1 score:  0.7522935779816514\n",
            "random state : 51  and f1 score:  0.735042735042735\n",
            "random state : 52  and f1 score:  0.7326732673267328\n",
            "random state : 53  and f1 score:  0.8\n",
            "random state : 54  and f1 score:  0.7027027027027026\n",
            "random state : 55  and f1 score:  0.7272727272727273\n",
            "random state : 56  and f1 score:  0.7037037037037037\n",
            "random state : 57  and f1 score:  0.7\n",
            "random state : 58  and f1 score:  0.7722772277227723\n",
            "random state : 59  and f1 score:  0.7358490566037735\n",
            "random state : 60  and f1 score:  0.75\n",
            "random state : 61  and f1 score:  0.8347826086956522\n",
            "random state : 62  and f1 score:  0.7070707070707071\n",
            "random state : 63  and f1 score:  0.7572815533980582\n",
            "random state : 64  and f1 score:  0.7678571428571429\n",
            "random state : 65  and f1 score:  0.693069306930693\n",
            "random state : 66  and f1 score:  0.7647058823529411\n",
            "random state : 67  and f1 score:  0.7289719626168225\n",
            "random state : 68  and f1 score:  0.7400000000000001\n",
            "random state : 69  and f1 score:  0.7647058823529411\n",
            "random state : 70  and f1 score:  0.7663551401869159\n",
            "random state : 71  and f1 score:  0.7735849056603773\n",
            "random state : 72  and f1 score:  0.7326732673267328\n",
            "random state : 73  and f1 score:  0.7304347826086957\n",
            "random state : 74  and f1 score:  0.7200000000000001\n",
            "random state : 75  and f1 score:  0.7307692307692308\n",
            "random state : 76  and f1 score:  0.7835051546391754\n",
            "random state : 77  and f1 score:  0.679245283018868\n",
            "random state : 78  and f1 score:  0.7\n",
            "random state : 79  and f1 score:  0.7272727272727273\n",
            "random state : 80  and f1 score:  0.6862745098039215\n",
            "random state : 81  and f1 score:  0.8073394495412843\n",
            "random state : 82  and f1 score:  0.6470588235294117\n",
            "random state : 83  and f1 score:  0.7592592592592593\n",
            "random state : 84  and f1 score:  0.6545454545454545\n",
            "random state : 85  and f1 score:  0.7766990291262136\n",
            "random state : 86  and f1 score:  0.7755102040816326\n",
            "random state : 87  and f1 score:  0.8173913043478261\n",
            "random state : 88  and f1 score:  0.7884615384615384\n",
            "random state : 89  and f1 score:  0.7254901960784312\n",
            "random state : 90  and f1 score:  0.7070707070707071\n",
            "random state : 91  and f1 score:  0.8141592920353982\n",
            "random state : 92  and f1 score:  0.7647058823529411\n",
            "random state : 93  and f1 score:  0.7378640776699029\n",
            "random state : 94  and f1 score:  0.7\n",
            "random state : 95  and f1 score:  0.8256880733944953\n",
            "random state : 96  and f1 score:  0.7142857142857143\n",
            "random state : 97  and f1 score:  0.7567567567567567\n",
            "random state : 98  and f1 score:  0.66\n",
            "random state : 99  and f1 score:  0.7663551401869159\n",
            "maximum f1_score is at random state : 61  and it is : 0.8347826086956522\n"
          ],
          "name": "stdout"
        }
      ]
    },
    {
      "cell_type": "code",
      "metadata": {
        "id": "qdia2B8TXMCQ",
        "colab": {
          "base_uri": "https://localhost:8080/"
        },
        "outputId": "b527d3b5-95d0-400a-a2c9-880d35e47e49"
      },
      "source": [
        "#Lets use cross_val_score and evaluate the model\n",
        "from sklearn.model_selection import cross_val_score\n",
        "print(\"Mean f1 score for XGBClassifier: \",cross_val_score(xgb_clf,x,y,cv=5,scoring=\"f1\").mean())\n",
        "print(\"standard deviation in f1 score for XGBClassifier: \",cross_val_score(xgb_clf,x,y,cv=5,scoring=\"f1\").std())\n",
        "print(cross_val_score(xgb_clf,x,y,cv=5,scoring=\"f1\"))"
      ],
      "execution_count": 49,
      "outputs": [
        {
          "output_type": "stream",
          "text": [
            "Mean f1 score for XGBClassifier:  0.7341622940353221\n",
            "standard deviation in f1 score for XGBClassifier:  0.07100342750255204\n",
            "[0.65384615 0.8        0.74336283 0.65217391 0.82142857]\n"
          ],
          "name": "stdout"
        }
      ]
    },
    {
      "cell_type": "code",
      "metadata": {
        "id": "nFZiOrTGXPdX"
      },
      "source": [
        "#comparitively GradientBoostingClassifier is performing better so lets use same\n",
        "#random state 87\n",
        "gb_clf=GradientBoostingClassifier(learning_rate=0.1,n_estimators=100)\n",
        "x_train,x_test,y_train,y_test=train_test_split(x, y,random_state = 87,test_size=0.20,stratify=y)\n",
        "gb_clf.fit(x_train,y_train)\n",
        "y_pred=gb_clf.predict(x_test)"
      ],
      "execution_count": 50,
      "outputs": []
    },
    {
      "cell_type": "code",
      "metadata": {
        "id": "8AwqSudJY87n",
        "colab": {
          "base_uri": "https://localhost:8080/"
        },
        "outputId": "d08b0359-a353-4c17-e9c3-a03b83eac994"
      },
      "source": [
        "from sklearn.metrics import confusion_matrix\n",
        "from sklearn.metrics import classification_report\n",
        "from sklearn.metrics import f1_score\n",
        "from sklearn.metrics import roc_auc_score\n",
        "from sklearn.metrics import accuracy_score\n",
        "print(\"Confusion matrix \\n\",confusion_matrix(y_test,y_pred))\n",
        "print(\"f1 score is : \",f1_score(y_test,y_pred))\n",
        "print(\"classification report \\n\",classification_report(y_test,y_pred))\n",
        "print(\"AUC ROC Score: \",roc_auc_score(y_test,y_pred))\n",
        "print(\"Accuracy is : \",accuracy_score(y_test,y_pred))"
      ],
      "execution_count": 51,
      "outputs": [
        {
          "output_type": "stream",
          "text": [
            "Confusion matrix \n",
            " [[77  8]\n",
            " [ 7 51]]\n",
            "f1 score is :  0.8717948717948718\n",
            "classification report \n",
            "               precision    recall  f1-score   support\n",
            "\n",
            "           0       0.92      0.91      0.91        85\n",
            "           1       0.86      0.88      0.87        58\n",
            "\n",
            "    accuracy                           0.90       143\n",
            "   macro avg       0.89      0.89      0.89       143\n",
            "weighted avg       0.90      0.90      0.90       143\n",
            "\n",
            "AUC ROC Score:  0.8925963488843813\n",
            "Accuracy is :  0.8951048951048951\n"
          ],
          "name": "stdout"
        }
      ]
    }
  ]
}