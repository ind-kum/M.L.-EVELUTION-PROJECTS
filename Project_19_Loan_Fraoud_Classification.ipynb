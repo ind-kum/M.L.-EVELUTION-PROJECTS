{
 "cells": [
  {
   "cell_type": "code",
   "execution_count": 1,
   "metadata": {},
   "outputs": [
    {
     "data": {
      "text/html": [
       "<div>\n",
       "<style scoped>\n",
       "    .dataframe tbody tr th:only-of-type {\n",
       "        vertical-align: middle;\n",
       "    }\n",
       "\n",
       "    .dataframe tbody tr th {\n",
       "        vertical-align: top;\n",
       "    }\n",
       "\n",
       "    .dataframe thead th {\n",
       "        text-align: right;\n",
       "    }\n",
       "</style>\n",
       "<table border=\"1\" class=\"dataframe\">\n",
       "  <thead>\n",
       "    <tr style=\"text-align: right;\">\n",
       "      <th></th>\n",
       "      <th>Loan_ID</th>\n",
       "      <th>Gender</th>\n",
       "      <th>Married</th>\n",
       "      <th>Dependents</th>\n",
       "      <th>Education</th>\n",
       "      <th>Self_Employed</th>\n",
       "      <th>ApplicantIncome</th>\n",
       "      <th>CoapplicantIncome</th>\n",
       "      <th>LoanAmount</th>\n",
       "      <th>Loan_Amount_Term</th>\n",
       "      <th>Credit_History</th>\n",
       "      <th>Property_Area</th>\n",
       "      <th>Loan_Status</th>\n",
       "    </tr>\n",
       "  </thead>\n",
       "  <tbody>\n",
       "    <tr>\n",
       "      <th>0</th>\n",
       "      <td>LP001002</td>\n",
       "      <td>Male</td>\n",
       "      <td>No</td>\n",
       "      <td>0</td>\n",
       "      <td>Graduate</td>\n",
       "      <td>No</td>\n",
       "      <td>5849</td>\n",
       "      <td>0.0</td>\n",
       "      <td>NaN</td>\n",
       "      <td>360.0</td>\n",
       "      <td>1.0</td>\n",
       "      <td>Urban</td>\n",
       "      <td>Y</td>\n",
       "    </tr>\n",
       "    <tr>\n",
       "      <th>1</th>\n",
       "      <td>LP001003</td>\n",
       "      <td>Male</td>\n",
       "      <td>Yes</td>\n",
       "      <td>1</td>\n",
       "      <td>Graduate</td>\n",
       "      <td>No</td>\n",
       "      <td>4583</td>\n",
       "      <td>1508.0</td>\n",
       "      <td>128.0</td>\n",
       "      <td>360.0</td>\n",
       "      <td>1.0</td>\n",
       "      <td>Rural</td>\n",
       "      <td>N</td>\n",
       "    </tr>\n",
       "    <tr>\n",
       "      <th>2</th>\n",
       "      <td>LP001005</td>\n",
       "      <td>Male</td>\n",
       "      <td>Yes</td>\n",
       "      <td>0</td>\n",
       "      <td>Graduate</td>\n",
       "      <td>Yes</td>\n",
       "      <td>3000</td>\n",
       "      <td>0.0</td>\n",
       "      <td>66.0</td>\n",
       "      <td>360.0</td>\n",
       "      <td>1.0</td>\n",
       "      <td>Urban</td>\n",
       "      <td>Y</td>\n",
       "    </tr>\n",
       "    <tr>\n",
       "      <th>3</th>\n",
       "      <td>LP001006</td>\n",
       "      <td>Male</td>\n",
       "      <td>Yes</td>\n",
       "      <td>0</td>\n",
       "      <td>Not Graduate</td>\n",
       "      <td>No</td>\n",
       "      <td>2583</td>\n",
       "      <td>2358.0</td>\n",
       "      <td>120.0</td>\n",
       "      <td>360.0</td>\n",
       "      <td>1.0</td>\n",
       "      <td>Urban</td>\n",
       "      <td>Y</td>\n",
       "    </tr>\n",
       "    <tr>\n",
       "      <th>4</th>\n",
       "      <td>LP001008</td>\n",
       "      <td>Male</td>\n",
       "      <td>No</td>\n",
       "      <td>0</td>\n",
       "      <td>Graduate</td>\n",
       "      <td>No</td>\n",
       "      <td>6000</td>\n",
       "      <td>0.0</td>\n",
       "      <td>141.0</td>\n",
       "      <td>360.0</td>\n",
       "      <td>1.0</td>\n",
       "      <td>Urban</td>\n",
       "      <td>Y</td>\n",
       "    </tr>\n",
       "    <tr>\n",
       "      <th>...</th>\n",
       "      <td>...</td>\n",
       "      <td>...</td>\n",
       "      <td>...</td>\n",
       "      <td>...</td>\n",
       "      <td>...</td>\n",
       "      <td>...</td>\n",
       "      <td>...</td>\n",
       "      <td>...</td>\n",
       "      <td>...</td>\n",
       "      <td>...</td>\n",
       "      <td>...</td>\n",
       "      <td>...</td>\n",
       "      <td>...</td>\n",
       "    </tr>\n",
       "    <tr>\n",
       "      <th>609</th>\n",
       "      <td>LP002978</td>\n",
       "      <td>Female</td>\n",
       "      <td>No</td>\n",
       "      <td>0</td>\n",
       "      <td>Graduate</td>\n",
       "      <td>No</td>\n",
       "      <td>2900</td>\n",
       "      <td>0.0</td>\n",
       "      <td>71.0</td>\n",
       "      <td>360.0</td>\n",
       "      <td>1.0</td>\n",
       "      <td>Rural</td>\n",
       "      <td>Y</td>\n",
       "    </tr>\n",
       "    <tr>\n",
       "      <th>610</th>\n",
       "      <td>LP002979</td>\n",
       "      <td>Male</td>\n",
       "      <td>Yes</td>\n",
       "      <td>3+</td>\n",
       "      <td>Graduate</td>\n",
       "      <td>No</td>\n",
       "      <td>4106</td>\n",
       "      <td>0.0</td>\n",
       "      <td>40.0</td>\n",
       "      <td>180.0</td>\n",
       "      <td>1.0</td>\n",
       "      <td>Rural</td>\n",
       "      <td>Y</td>\n",
       "    </tr>\n",
       "    <tr>\n",
       "      <th>611</th>\n",
       "      <td>LP002983</td>\n",
       "      <td>Male</td>\n",
       "      <td>Yes</td>\n",
       "      <td>1</td>\n",
       "      <td>Graduate</td>\n",
       "      <td>No</td>\n",
       "      <td>8072</td>\n",
       "      <td>240.0</td>\n",
       "      <td>253.0</td>\n",
       "      <td>360.0</td>\n",
       "      <td>1.0</td>\n",
       "      <td>Urban</td>\n",
       "      <td>Y</td>\n",
       "    </tr>\n",
       "    <tr>\n",
       "      <th>612</th>\n",
       "      <td>LP002984</td>\n",
       "      <td>Male</td>\n",
       "      <td>Yes</td>\n",
       "      <td>2</td>\n",
       "      <td>Graduate</td>\n",
       "      <td>No</td>\n",
       "      <td>7583</td>\n",
       "      <td>0.0</td>\n",
       "      <td>187.0</td>\n",
       "      <td>360.0</td>\n",
       "      <td>1.0</td>\n",
       "      <td>Urban</td>\n",
       "      <td>Y</td>\n",
       "    </tr>\n",
       "    <tr>\n",
       "      <th>613</th>\n",
       "      <td>LP002990</td>\n",
       "      <td>Female</td>\n",
       "      <td>No</td>\n",
       "      <td>0</td>\n",
       "      <td>Graduate</td>\n",
       "      <td>Yes</td>\n",
       "      <td>4583</td>\n",
       "      <td>0.0</td>\n",
       "      <td>133.0</td>\n",
       "      <td>360.0</td>\n",
       "      <td>0.0</td>\n",
       "      <td>Semiurban</td>\n",
       "      <td>N</td>\n",
       "    </tr>\n",
       "  </tbody>\n",
       "</table>\n",
       "<p>614 rows × 13 columns</p>\n",
       "</div>"
      ],
      "text/plain": [
       "      Loan_ID  Gender Married Dependents     Education Self_Employed  \\\n",
       "0    LP001002    Male      No          0      Graduate            No   \n",
       "1    LP001003    Male     Yes          1      Graduate            No   \n",
       "2    LP001005    Male     Yes          0      Graduate           Yes   \n",
       "3    LP001006    Male     Yes          0  Not Graduate            No   \n",
       "4    LP001008    Male      No          0      Graduate            No   \n",
       "..        ...     ...     ...        ...           ...           ...   \n",
       "609  LP002978  Female      No          0      Graduate            No   \n",
       "610  LP002979    Male     Yes         3+      Graduate            No   \n",
       "611  LP002983    Male     Yes          1      Graduate            No   \n",
       "612  LP002984    Male     Yes          2      Graduate            No   \n",
       "613  LP002990  Female      No          0      Graduate           Yes   \n",
       "\n",
       "     ApplicantIncome  CoapplicantIncome  LoanAmount  Loan_Amount_Term  \\\n",
       "0               5849                0.0         NaN             360.0   \n",
       "1               4583             1508.0       128.0             360.0   \n",
       "2               3000                0.0        66.0             360.0   \n",
       "3               2583             2358.0       120.0             360.0   \n",
       "4               6000                0.0       141.0             360.0   \n",
       "..               ...                ...         ...               ...   \n",
       "609             2900                0.0        71.0             360.0   \n",
       "610             4106                0.0        40.0             180.0   \n",
       "611             8072              240.0       253.0             360.0   \n",
       "612             7583                0.0       187.0             360.0   \n",
       "613             4583                0.0       133.0             360.0   \n",
       "\n",
       "     Credit_History Property_Area Loan_Status  \n",
       "0               1.0         Urban           Y  \n",
       "1               1.0         Rural           N  \n",
       "2               1.0         Urban           Y  \n",
       "3               1.0         Urban           Y  \n",
       "4               1.0         Urban           Y  \n",
       "..              ...           ...         ...  \n",
       "609             1.0         Rural           Y  \n",
       "610             1.0         Rural           Y  \n",
       "611             1.0         Urban           Y  \n",
       "612             1.0         Urban           Y  \n",
       "613             0.0     Semiurban           N  \n",
       "\n",
       "[614 rows x 13 columns]"
      ]
     },
     "execution_count": 1,
     "metadata": {},
     "output_type": "execute_result"
    }
   ],
   "source": [
    "import pandas as pd\n",
    "df_loan=pd.read_csv(\"https://raw.githubusercontent.com/ind-kum/DSData/master/loan_prediction.csv\")\n",
    "df_loan"
   ]
  },
  {
   "cell_type": "code",
   "execution_count": 2,
   "metadata": {},
   "outputs": [
    {
     "name": "stdout",
     "output_type": "stream",
     "text": [
      "Column data type : object  column name : Loan_ID  Null values:  0\n",
      "Column data type : object  column name : Gender  Null values:  13\n",
      "Column data type : object  column name : Married  Null values:  3\n",
      "Column data type : object  column name : Dependents  Null values:  15\n",
      "Column data type : object  column name : Education  Null values:  0\n",
      "Column data type : object  column name : Self_Employed  Null values:  32\n",
      "Column data type : int64  column name : ApplicantIncome  Null values:  0\n",
      "Column data type : float64  column name : CoapplicantIncome  Null values:  0\n",
      "Column data type : float64  column name : LoanAmount  Null values:  22\n",
      "Column data type : float64  column name : Loan_Amount_Term  Null values:  14\n",
      "Column data type : float64  column name : Credit_History  Null values:  50\n",
      "Column data type : object  column name : Property_Area  Null values:  0\n",
      "Column data type : object  column name : Loan_Status  Null values:  0\n"
     ]
    }
   ],
   "source": [
    "#Lets chcek the null values \n",
    "for col in df_loan.columns:\n",
    "    print(\"Column data type :\",df_loan[col].dtype,\" column name :\",col,\" Null values: \",df_loan[col].isnull().sum())\n",
    "#Below o/p shows presense of null values in each column"
   ]
  },
  {
   "cell_type": "code",
   "execution_count": 3,
   "metadata": {},
   "outputs": [
    {
     "data": {
      "text/html": [
       "<div>\n",
       "<style scoped>\n",
       "    .dataframe tbody tr th:only-of-type {\n",
       "        vertical-align: middle;\n",
       "    }\n",
       "\n",
       "    .dataframe tbody tr th {\n",
       "        vertical-align: top;\n",
       "    }\n",
       "\n",
       "    .dataframe thead th {\n",
       "        text-align: right;\n",
       "    }\n",
       "</style>\n",
       "<table border=\"1\" class=\"dataframe\">\n",
       "  <thead>\n",
       "    <tr style=\"text-align: right;\">\n",
       "      <th></th>\n",
       "      <th>ApplicantIncome</th>\n",
       "      <th>CoapplicantIncome</th>\n",
       "      <th>LoanAmount</th>\n",
       "      <th>Loan_Amount_Term</th>\n",
       "      <th>Credit_History</th>\n",
       "    </tr>\n",
       "  </thead>\n",
       "  <tbody>\n",
       "    <tr>\n",
       "      <th>ApplicantIncome</th>\n",
       "      <td>1.000000</td>\n",
       "      <td>-0.116605</td>\n",
       "      <td>0.570909</td>\n",
       "      <td>-0.045306</td>\n",
       "      <td>-0.014715</td>\n",
       "    </tr>\n",
       "    <tr>\n",
       "      <th>CoapplicantIncome</th>\n",
       "      <td>-0.116605</td>\n",
       "      <td>1.000000</td>\n",
       "      <td>0.188619</td>\n",
       "      <td>-0.059878</td>\n",
       "      <td>-0.002056</td>\n",
       "    </tr>\n",
       "    <tr>\n",
       "      <th>LoanAmount</th>\n",
       "      <td>0.570909</td>\n",
       "      <td>0.188619</td>\n",
       "      <td>1.000000</td>\n",
       "      <td>0.039447</td>\n",
       "      <td>-0.008433</td>\n",
       "    </tr>\n",
       "    <tr>\n",
       "      <th>Loan_Amount_Term</th>\n",
       "      <td>-0.045306</td>\n",
       "      <td>-0.059878</td>\n",
       "      <td>0.039447</td>\n",
       "      <td>1.000000</td>\n",
       "      <td>0.001470</td>\n",
       "    </tr>\n",
       "    <tr>\n",
       "      <th>Credit_History</th>\n",
       "      <td>-0.014715</td>\n",
       "      <td>-0.002056</td>\n",
       "      <td>-0.008433</td>\n",
       "      <td>0.001470</td>\n",
       "      <td>1.000000</td>\n",
       "    </tr>\n",
       "  </tbody>\n",
       "</table>\n",
       "</div>"
      ],
      "text/plain": [
       "                   ApplicantIncome  CoapplicantIncome  LoanAmount  \\\n",
       "ApplicantIncome           1.000000          -0.116605    0.570909   \n",
       "CoapplicantIncome        -0.116605           1.000000    0.188619   \n",
       "LoanAmount                0.570909           0.188619    1.000000   \n",
       "Loan_Amount_Term         -0.045306          -0.059878    0.039447   \n",
       "Credit_History           -0.014715          -0.002056   -0.008433   \n",
       "\n",
       "                   Loan_Amount_Term  Credit_History  \n",
       "ApplicantIncome           -0.045306       -0.014715  \n",
       "CoapplicantIncome         -0.059878       -0.002056  \n",
       "LoanAmount                 0.039447       -0.008433  \n",
       "Loan_Amount_Term           1.000000        0.001470  \n",
       "Credit_History             0.001470        1.000000  "
      ]
     },
     "execution_count": 3,
     "metadata": {},
     "output_type": "execute_result"
    }
   ],
   "source": [
    "#Lets check the corrrelation matrix\n",
    "df_loan.corr()"
   ]
  },
  {
   "cell_type": "code",
   "execution_count": 4,
   "metadata": {},
   "outputs": [
    {
     "data": {
      "text/html": [
       "<div>\n",
       "<style scoped>\n",
       "    .dataframe tbody tr th:only-of-type {\n",
       "        vertical-align: middle;\n",
       "    }\n",
       "\n",
       "    .dataframe tbody tr th {\n",
       "        vertical-align: top;\n",
       "    }\n",
       "\n",
       "    .dataframe thead th {\n",
       "        text-align: right;\n",
       "    }\n",
       "</style>\n",
       "<table border=\"1\" class=\"dataframe\">\n",
       "  <thead>\n",
       "    <tr style=\"text-align: right;\">\n",
       "      <th></th>\n",
       "      <th>ApplicantIncome</th>\n",
       "      <th>CoapplicantIncome</th>\n",
       "      <th>LoanAmount</th>\n",
       "      <th>Loan_Amount_Term</th>\n",
       "      <th>Credit_History</th>\n",
       "    </tr>\n",
       "  </thead>\n",
       "  <tbody>\n",
       "    <tr>\n",
       "      <th>count</th>\n",
       "      <td>614.000000</td>\n",
       "      <td>614.000000</td>\n",
       "      <td>592.000000</td>\n",
       "      <td>600.00000</td>\n",
       "      <td>564.000000</td>\n",
       "    </tr>\n",
       "    <tr>\n",
       "      <th>mean</th>\n",
       "      <td>5403.459283</td>\n",
       "      <td>1621.245798</td>\n",
       "      <td>146.412162</td>\n",
       "      <td>342.00000</td>\n",
       "      <td>0.842199</td>\n",
       "    </tr>\n",
       "    <tr>\n",
       "      <th>std</th>\n",
       "      <td>6109.041673</td>\n",
       "      <td>2926.248369</td>\n",
       "      <td>85.587325</td>\n",
       "      <td>65.12041</td>\n",
       "      <td>0.364878</td>\n",
       "    </tr>\n",
       "    <tr>\n",
       "      <th>min</th>\n",
       "      <td>150.000000</td>\n",
       "      <td>0.000000</td>\n",
       "      <td>9.000000</td>\n",
       "      <td>12.00000</td>\n",
       "      <td>0.000000</td>\n",
       "    </tr>\n",
       "    <tr>\n",
       "      <th>25%</th>\n",
       "      <td>2877.500000</td>\n",
       "      <td>0.000000</td>\n",
       "      <td>100.000000</td>\n",
       "      <td>360.00000</td>\n",
       "      <td>1.000000</td>\n",
       "    </tr>\n",
       "    <tr>\n",
       "      <th>50%</th>\n",
       "      <td>3812.500000</td>\n",
       "      <td>1188.500000</td>\n",
       "      <td>128.000000</td>\n",
       "      <td>360.00000</td>\n",
       "      <td>1.000000</td>\n",
       "    </tr>\n",
       "    <tr>\n",
       "      <th>75%</th>\n",
       "      <td>5795.000000</td>\n",
       "      <td>2297.250000</td>\n",
       "      <td>168.000000</td>\n",
       "      <td>360.00000</td>\n",
       "      <td>1.000000</td>\n",
       "    </tr>\n",
       "    <tr>\n",
       "      <th>max</th>\n",
       "      <td>81000.000000</td>\n",
       "      <td>41667.000000</td>\n",
       "      <td>700.000000</td>\n",
       "      <td>480.00000</td>\n",
       "      <td>1.000000</td>\n",
       "    </tr>\n",
       "  </tbody>\n",
       "</table>\n",
       "</div>"
      ],
      "text/plain": [
       "       ApplicantIncome  CoapplicantIncome  LoanAmount  Loan_Amount_Term  \\\n",
       "count       614.000000         614.000000  592.000000         600.00000   \n",
       "mean       5403.459283        1621.245798  146.412162         342.00000   \n",
       "std        6109.041673        2926.248369   85.587325          65.12041   \n",
       "min         150.000000           0.000000    9.000000          12.00000   \n",
       "25%        2877.500000           0.000000  100.000000         360.00000   \n",
       "50%        3812.500000        1188.500000  128.000000         360.00000   \n",
       "75%        5795.000000        2297.250000  168.000000         360.00000   \n",
       "max       81000.000000       41667.000000  700.000000         480.00000   \n",
       "\n",
       "       Credit_History  \n",
       "count      564.000000  \n",
       "mean         0.842199  \n",
       "std          0.364878  \n",
       "min          0.000000  \n",
       "25%          1.000000  \n",
       "50%          1.000000  \n",
       "75%          1.000000  \n",
       "max          1.000000  "
      ]
     },
     "execution_count": 4,
     "metadata": {},
     "output_type": "execute_result"
    }
   ],
   "source": [
    "#Lets describe the dataset\n",
    "df_loan.describe()\n",
    "#there is difference between mean value and median so there can outliers present in the data set"
   ]
  },
  {
   "cell_type": "code",
   "execution_count": 5,
   "metadata": {},
   "outputs": [
    {
     "data": {
      "image/png": "[encoded data removed]",
      "text/plain": [
       "<Figure size 432x288 with 1 Axes>"
      ]
     },
     "metadata": {
      "needs_background": "light"
     },
     "output_type": "display_data"
    }
   ],
   "source": [
    "#Lets chcek the count of each type of class in loan status \n",
    "import matplotlib.pyplot as plt\n",
    "import seaborn as sns\n",
    "sns.countplot(x=\"Loan_Status\",data=df_loan)\n",
    "plt.show()\n",
    "#imbalanced dataset problem so we can use SMOTE just to increase instances of minority classes in training dataset"
   ]
  },
  {
   "cell_type": "code",
   "execution_count": 6,
   "metadata": {},
   "outputs": [
    {
     "data": {
      "image/png": "[encoded data removed]",
      "text/plain": [
       "<Figure size 432x288 with 1 Axes>"
      ]
     },
     "metadata": {
      "needs_background": "light"
     },
     "output_type": "display_data"
    }
   ],
   "source": [
    "#lets check the count of loan status considering \"Self_Employed\"\n",
    "sns.countplot(x=\"Loan_Status\",hue=\"Self_Employed\",data=df_loan)\n",
    "plt.show()"
   ]
  },
  {
   "cell_type": "code",
   "execution_count": 7,
   "metadata": {},
   "outputs": [
    {
     "data": {
      "image/png": "[encoded data removed]",
      "text/plain": [
       "<Figure size 432x288 with 1 Axes>"
      ]
     },
     "metadata": {
      "needs_background": "light"
     },
     "output_type": "display_data"
    }
   ],
   "source": [
    "#Lets check the count based on \"Education\"\n",
    "sns.countplot(x=\"Loan_Status\",hue=\"Education\",data=df_loan)\n",
    "plt.show()\n",
    "#people who are graduated has tendency of getting loans than who are not"
   ]
  },
  {
   "cell_type": "code",
   "execution_count": 8,
   "metadata": {},
   "outputs": [
    {
     "data": {
      "image/png": "[encoded data removed]",
      "text/plain": [
       "<Figure size 432x288 with 1 Axes>"
      ]
     },
     "metadata": {
      "needs_background": "light"
     },
     "output_type": "display_data"
    }
   ],
   "source": [
    "#lets chcek loan status based on gender\n",
    "sns.countplot(x=\"Loan_Status\",hue=\"Gender\",data=df_loan)\n",
    "plt.show()\n",
    "#there are more number of males applying fro the loans comapred to female"
   ]
  },
  {
   "cell_type": "code",
   "execution_count": 9,
   "metadata": {},
   "outputs": [
    {
     "data": {
      "image/png": "[encoded data removed]",
      "text/plain": [
       "<Figure size 432x288 with 1 Axes>"
      ]
     },
     "metadata": {
      "needs_background": "light"
     },
     "output_type": "display_data"
    }
   ],
   "source": [
    "#lets chcek the loan status based on property area\n",
    "sns.countplot(x=\"Loan_Status\",hue=\"Property_Area\",data=df_loan)\n",
    "plt.show()"
   ]
  },
  {
   "cell_type": "code",
   "execution_count": 10,
   "metadata": {},
   "outputs": [
    {
     "data": {
      "image/png": "[encoded data removed]",
      "text/plain": [
       "<Figure size 432x288 with 1 Axes>"
      ]
     },
     "metadata": {
      "needs_background": "light"
     },
     "output_type": "display_data"
    }
   ],
   "source": [
    "#Lets chcek the count based on marital status\n",
    "sns.countplot(x=\"Married\",hue=\"Loan_Status\",data=df_loan)\n",
    "plt.show()\n",
    "#ration of people geting loans to not getting loans when they are married is high"
   ]
  },
  {
   "cell_type": "code",
   "execution_count": 11,
   "metadata": {},
   "outputs": [
    {
     "data": {
      "image/png": "[encoded data removed]",
      "text/plain": [
       "<Figure size 432x288 with 1 Axes>"
      ]
     },
     "metadata": {
      "needs_background": "light"
     },
     "output_type": "display_data"
    }
   ],
   "source": [
    "#Lets chcek loan status for applicant income greater than 5000\n",
    "sns.countplot(x=\"Loan_Status\",data=df_loan.loc[df_loan[\"ApplicantIncome\"]>5000])\n",
    "plt.show()\n",
    "#people whose loan was sanctioned are more than double of prople whose loan was not sanctioned"
   ]
  },
  {
   "cell_type": "code",
   "execution_count": 12,
   "metadata": {},
   "outputs": [
    {
     "data": {
      "image/png": "[encoded data removed]",
      "text/plain": [
       "<Figure size 432x288 with 1 Axes>"
      ]
     },
     "metadata": {
      "needs_background": "light"
     },
     "output_type": "display_data"
    }
   ],
   "source": [
    "#Lets chcek what is the effect on above count if co-aplicant income is 0\n",
    "sns.countplot(x=\"Loan_Status\",data=df_loan.loc[(df_loan[\"ApplicantIncome\"]>5000)&(df_loan[\"CoapplicantIncome\"]==0)])\n",
    "plt.show()\n",
    "#count reduced but still ratio is almost same"
   ]
  },
  {
   "cell_type": "code",
   "execution_count": 13,
   "metadata": {},
   "outputs": [
    {
     "data": {
      "image/png": "[encoded data removed]",
      "text/plain": [
       "<Figure size 432x288 with 1 Axes>"
      ]
     },
     "metadata": {
      "needs_background": "light"
     },
     "output_type": "display_data"
    }
   ],
   "source": [
    "#lets compare the average loan amount between self employed and not self employed\n",
    "sns.barplot(y=\"LoanAmount\",x=\"Self_Employed\",data=df_loan)\n",
    "plt.show()\n",
    "#avaerge loan amount demanded by the self employed is more but there is not too much difference"
   ]
  },
  {
   "cell_type": "code",
   "execution_count": 14,
   "metadata": {},
   "outputs": [
    {
     "data": {
      "image/png": "[encoded data removed]",
      "text/plain": [
       "<Figure size 432x288 with 1 Axes>"
      ]
     },
     "metadata": {
      "needs_background": "light"
     },
     "output_type": "display_data"
    }
   ],
   "source": [
    "#Lets compare the average income of employed and self employed\n",
    "sns.barplot(y=\"ApplicantIncome\",x=\"Self_Employed\",data=df_loan)\n",
    "plt.show()\n",
    "#Average income is also"
   ]
  },
  {
   "cell_type": "code",
   "execution_count": 15,
   "metadata": {},
   "outputs": [
    {
     "data": {
      "image/png": "[encoded data removed]",
      "text/plain": [
       "<Figure size 432x288 with 1 Axes>"
      ]
     },
     "metadata": {
      "needs_background": "light"
     },
     "output_type": "display_data"
    }
   ],
   "source": [
    "#Lets compare the count of people who got loans and who didn't\n",
    "sns.countplot(x=\"Loan_Status\",data=df_loan.loc[df_loan[\"Self_Employed\"]==\"Yes\"])\n",
    "plt.show()\n",
    "#there are more than double who got loan\n",
    "#next step is to compare the average income of people who got loan and who didn't ,given they are self employed"
   ]
  },
  {
   "cell_type": "code",
   "execution_count": 16,
   "metadata": {},
   "outputs": [
    {
     "data": {
      "image/png": "[encoded data removed]",
      "text/plain": [
       "<Figure size 432x288 with 1 Axes>"
      ]
     },
     "metadata": {
      "needs_background": "light"
     },
     "output_type": "display_data"
    }
   ],
   "source": [
    "sns.barplot(y=\"ApplicantIncome\",x=\"Loan_Status\",data=df_loan.loc[df_loan[\"Self_Employed\"]==\"Yes\"])\n",
    "plt.show()\n",
    "#So people who got loan has averge income more and it is expected"
   ]
  },
  {
   "cell_type": "code",
   "execution_count": 17,
   "metadata": {},
   "outputs": [
    {
     "data": {
      "image/png": "[encoded data removed]",
      "text/plain": [
       "<Figure size 432x288 with 1 Axes>"
      ]
     },
     "metadata": {
      "needs_background": "light"
     },
     "output_type": "display_data"
    }
   ],
   "source": [
    "# let's chcek the average loan amount as per Dependents\n",
    "sns.barplot(y=\"ApplicantIncome\",x=\"Dependents\",data=df_loan)\n",
    "plt.show()\n",
    "#Average income of dependents of with 2 is less than with 1"
   ]
  },
  {
   "cell_type": "code",
   "execution_count": 18,
   "metadata": {},
   "outputs": [
    {
     "data": {
      "image/png": "[encoded data removed]",
      "text/plain": [
       "<Figure size 432x288 with 1 Axes>"
      ]
     },
     "metadata": {
      "needs_background": "light"
     },
     "output_type": "display_data"
    }
   ],
   "source": [
    "#lets chcek the average loan amount requested\n",
    "sns.barplot(y=\"LoanAmount\",x=\"Dependents\",data=df_loan)\n",
    "plt.show()\n",
    "#Averge loan amount by person with dependents more 3 is highest"
   ]
  },
  {
   "cell_type": "code",
   "execution_count": 19,
   "metadata": {},
   "outputs": [
    {
     "data": {
      "text/plain": [
       "<matplotlib.axes._subplots.AxesSubplot at 0x21c5de79ac8>"
      ]
     },
     "execution_count": 19,
     "metadata": {},
     "output_type": "execute_result"
    },
    {
     "data": {
      "image/png": "[encoded data removed]",
      "text/plain": [
       "<Figure size 432x288 with 1 Axes>"
      ]
     },
     "metadata": {
      "needs_background": "light"
     },
     "output_type": "display_data"
    }
   ],
   "source": [
    "#Average loan amount requested groupped by Loan_Amount_Term\n",
    "sns.barplot(x=\"Loan_Amount_Term\",y=\"LoanAmount\",data=df_loan)"
   ]
  },
  {
   "cell_type": "code",
   "execution_count": 20,
   "metadata": {},
   "outputs": [
    {
     "name": "stdout",
     "output_type": "stream",
     "text": [
      "Column data type : object  column name : Loan_ID  Null values:  0\n",
      "Column data type : object  column name : Gender  Null values:  13\n",
      "Column data type : object  column name : Married  Null values:  3\n",
      "Column data type : object  column name : Dependents  Null values:  15\n",
      "Column data type : object  column name : Education  Null values:  0\n",
      "Column data type : object  column name : Self_Employed  Null values:  32\n",
      "Column data type : int64  column name : ApplicantIncome  Null values:  0\n",
      "Column data type : float64  column name : CoapplicantIncome  Null values:  0\n",
      "Column data type : float64  column name : LoanAmount  Null values:  22\n",
      "Column data type : float64  column name : Loan_Amount_Term  Null values:  14\n",
      "Column data type : float64  column name : Credit_History  Null values:  50\n",
      "Column data type : object  column name : Property_Area  Null values:  0\n",
      "Column data type : object  column name : Loan_Status  Null values:  0\n"
     ]
    }
   ],
   "source": [
    "#we have seen there are null values  \n",
    "for col in df_loan.columns:\n",
    "    print(\"Column data type :\",df_loan[col].dtype,\" column name :\",col,\" Null values: \",df_loan[col].isnull().sum())"
   ]
  },
  {
   "cell_type": "code",
   "execution_count": 21,
   "metadata": {},
   "outputs": [],
   "source": [
    "#lets impute the object datatype columns by mode groupped by same target class\n",
    "for col in df_loan.columns:\n",
    "    if df_loan[col].dtype==\"object\" and df_loan[col].isnull().sum()>0:\n",
    "        df_loan.loc[df_loan[\"Loan_Status\"]==\"Y\",[col]]=df_loan.loc[df_loan[\"Loan_Status\"]==\"Y\",[col]].fillna(df_loan.loc[df_loan[\"Loan_Status\"]==\"Y\",[col]].mode().iloc[0])\n",
    "        df_loan.loc[df_loan[\"Loan_Status\"]==\"N\",[col]]=df_loan.loc[df_loan[\"Loan_Status\"]==\"N\",[col]].fillna(df_loan.loc[df_loan[\"Loan_Status\"]==\"N\",[col]].mode().iloc[0])"
   ]
  },
  {
   "cell_type": "code",
   "execution_count": 22,
   "metadata": {},
   "outputs": [
    {
     "data": {
      "text/plain": [
       "Loan_ID               0\n",
       "Gender                0\n",
       "Married               0\n",
       "Dependents            0\n",
       "Education             0\n",
       "Self_Employed         0\n",
       "ApplicantIncome       0\n",
       "CoapplicantIncome     0\n",
       "LoanAmount           22\n",
       "Loan_Amount_Term     14\n",
       "Credit_History       50\n",
       "Property_Area         0\n",
       "Loan_Status           0\n",
       "dtype: int64"
      ]
     },
     "execution_count": 22,
     "metadata": {},
     "output_type": "execute_result"
    }
   ],
   "source": [
    "#Lets again chcek the null values\n",
    "df_loan.isnull().sum()"
   ]
  },
  {
   "cell_type": "code",
   "execution_count": 23,
   "metadata": {},
   "outputs": [],
   "source": [
    "#Loan amount can be imputed by mean grouped by classes\n",
    "df_loan.loc[df_loan[\"Loan_Status\"]==\"Y\",[\"LoanAmount\"]]=df_loan.loc[df_loan[\"Loan_Status\"]==\"Y\",[\"LoanAmount\"]].fillna(df_loan.loc[df_loan[\"Loan_Status\"]==\"Y\",[\"LoanAmount\"]].mean())\n",
    "df_loan.loc[df_loan[\"Loan_Status\"]==\"N\",[\"LoanAmount\"]]=df_loan.loc[df_loan[\"Loan_Status\"]==\"N\",[\"LoanAmount\"]].fillna(df_loan.loc[df_loan[\"Loan_Status\"]==\"N\",[\"LoanAmount\"]].mean())"
   ]
  },
  {
   "cell_type": "code",
   "execution_count": 24,
   "metadata": {},
   "outputs": [
    {
     "data": {
      "text/plain": [
       "Loan_ID               0\n",
       "Gender                0\n",
       "Married               0\n",
       "Dependents            0\n",
       "Education             0\n",
       "Self_Employed         0\n",
       "ApplicantIncome       0\n",
       "CoapplicantIncome     0\n",
       "LoanAmount            0\n",
       "Loan_Amount_Term     14\n",
       "Credit_History       50\n",
       "Property_Area         0\n",
       "Loan_Status           0\n",
       "dtype: int64"
      ]
     },
     "execution_count": 24,
     "metadata": {},
     "output_type": "execute_result"
    }
   ],
   "source": [
    "#lets chcek Null values again\n",
    "df_loan.isnull().sum()"
   ]
  },
  {
   "cell_type": "code",
   "execution_count": 25,
   "metadata": {},
   "outputs": [],
   "source": [
    "#Lets impute rest of the columns with mode as they seem to be of categorical type\n",
    "for col in df_loan.columns:\n",
    "    if df_loan[col].isnull().sum()>0:\n",
    "        df_loan.loc[df_loan[\"Loan_Status\"]==\"Y\",[col]]=df_loan.loc[df_loan[\"Loan_Status\"]==\"Y\",[col]].fillna(df_loan.loc[df_loan[\"Loan_Status\"]==\"Y\",[col]].mode().iloc[0])\n",
    "        df_loan.loc[df_loan[\"Loan_Status\"]==\"N\",[col]]=df_loan.loc[df_loan[\"Loan_Status\"]==\"N\",[col]].fillna(df_loan.loc[df_loan[\"Loan_Status\"]==\"N\",[col]].mode().iloc[0])"
   ]
  },
  {
   "cell_type": "code",
   "execution_count": 26,
   "metadata": {},
   "outputs": [
    {
     "data": {
      "text/plain": [
       "Loan_ID              0\n",
       "Gender               0\n",
       "Married              0\n",
       "Dependents           0\n",
       "Education            0\n",
       "Self_Employed        0\n",
       "ApplicantIncome      0\n",
       "CoapplicantIncome    0\n",
       "LoanAmount           0\n",
       "Loan_Amount_Term     0\n",
       "Credit_History       0\n",
       "Property_Area        0\n",
       "Loan_Status          0\n",
       "dtype: int64"
      ]
     },
     "execution_count": 26,
     "metadata": {},
     "output_type": "execute_result"
    }
   ],
   "source": [
    "#lets again check null values\n",
    "df_loan.isnull().sum()"
   ]
  },
  {
   "cell_type": "code",
   "execution_count": 27,
   "metadata": {},
   "outputs": [
    {
     "data": {
      "text/plain": [
       "ApplicantIncome      6.539513\n",
       "CoapplicantIncome    7.491531\n",
       "LoanAmount           2.724592\n",
       "Loan_Amount_Term    -2.402112\n",
       "Credit_History      -2.021971\n",
       "dtype: float64"
      ]
     },
     "execution_count": 27,
     "metadata": {},
     "output_type": "execute_result"
    }
   ],
   "source": [
    "#lets check the skewness of the dataset\n",
    "df_loan.skew()"
   ]
  },
  {
   "cell_type": "code",
   "execution_count": 28,
   "metadata": {},
   "outputs": [],
   "source": [
    "#dividing it into input and output\n",
    "df_x=df_loan.drop(columns=[\"Loan_Status\"])\n",
    "y=df_loan[[\"Loan_Status\"]]"
   ]
  },
  {
   "cell_type": "code",
   "execution_count": 29,
   "metadata": {},
   "outputs": [],
   "source": [
    "import numpy as np\n",
    "for index in df_x.skew().index:\n",
    "    if df_x.skew().loc[index]>0.55:\n",
    "        df_x[index]=np.log1p(df_x[index])"
   ]
  },
  {
   "cell_type": "code",
   "execution_count": 30,
   "metadata": {},
   "outputs": [
    {
     "data": {
      "text/plain": [
       "ApplicantIncome      0.482128\n",
       "CoapplicantIncome   -0.173073\n",
       "LoanAmount          -0.181343\n",
       "Loan_Amount_Term    -2.402112\n",
       "Credit_History      -2.021971\n",
       "dtype: float64"
      ]
     },
     "execution_count": 30,
     "metadata": {},
     "output_type": "execute_result"
    }
   ],
   "source": [
    "#lets chcek the skewness\n",
    "df_x.skew()"
   ]
  },
  {
   "cell_type": "code",
   "execution_count": 31,
   "metadata": {},
   "outputs": [
    {
     "data": {
      "text/plain": [
       "Loan_ID               object\n",
       "Gender                object\n",
       "Married               object\n",
       "Dependents            object\n",
       "Education             object\n",
       "Self_Employed         object\n",
       "ApplicantIncome      float64\n",
       "CoapplicantIncome    float64\n",
       "LoanAmount           float64\n",
       "Loan_Amount_Term     float64\n",
       "Credit_History       float64\n",
       "Property_Area         object\n",
       "dtype: object"
      ]
     },
     "execution_count": 31,
     "metadata": {},
     "output_type": "execute_result"
    }
   ],
   "source": [
    "#Lets chcek the datatypes in input dataset\n",
    "df_x.dtypes"
   ]
  },
  {
   "cell_type": "code",
   "execution_count": 32,
   "metadata": {},
   "outputs": [],
   "source": [
    "#we can delete loan id as it has no significance in prediction\n",
    "df_x.drop(columns=[\"Loan_ID\"],inplace=True)"
   ]
  },
  {
   "cell_type": "code",
   "execution_count": 33,
   "metadata": {},
   "outputs": [],
   "source": [
    "df_x=pd.get_dummies(df_x,drop_first=True)"
   ]
  },
  {
   "cell_type": "code",
   "execution_count": 34,
   "metadata": {},
   "outputs": [
    {
     "data": {
      "text/plain": [
       "(614, 14)"
      ]
     },
     "execution_count": 34,
     "metadata": {},
     "output_type": "execute_result"
    }
   ],
   "source": [
    "#Lets chcek the shape\n",
    "df_x.shape"
   ]
  },
  {
   "cell_type": "code",
   "execution_count": 35,
   "metadata": {},
   "outputs": [],
   "source": [
    "#lets bring all features to a common scale using\n",
    "from sklearn.preprocessing import StandardScaler\n",
    "sc=StandardScaler()\n",
    "sc.fit(df_x)\n",
    "x=sc.transform(df_x)\n",
    "x=pd.DataFrame(x,columns=df_x.columns)"
   ]
  },
  {
   "cell_type": "code",
   "execution_count": 36,
   "metadata": {},
   "outputs": [
    {
     "name": "stderr",
     "output_type": "stream",
     "text": [
      "C:\\ProgramData\\Anaconda3\\lib\\site-packages\\sklearn\\preprocessing\\_label.py:235: DataConversionWarning: A column-vector y was passed when a 1d array was expected. Please change the shape of y to (n_samples, ), for example using ravel().\n",
      "  y = column_or_1d(y, warn=True)\n",
      "C:\\ProgramData\\Anaconda3\\lib\\site-packages\\sklearn\\preprocessing\\_label.py:268: DataConversionWarning: A column-vector y was passed when a 1d array was expected. Please change the shape of y to (n_samples, ), for example using ravel().\n",
      "  y = column_or_1d(y, warn=True)\n"
     ]
    },
    {
     "data": {
      "text/plain": [
       "array([1, 0, 1, 1, 1, 1, 1, 0, 1, 0, 1, 1, 1, 0, 1, 1, 1, 0, 0, 1, 0, 1,\n",
       "       0, 0, 0, 1, 1, 1, 0, 1, 0, 0, 0, 1, 0, 1, 0, 1, 1, 1, 0, 1, 1, 1,\n",
       "       1, 1, 1, 1, 0, 1, 1, 1, 0, 0, 0, 1, 1, 0, 1, 1, 1, 1, 0, 0, 0, 0,\n",
       "       0, 1, 1, 0, 1, 1, 1, 0, 1, 0, 0, 0, 0, 1, 1, 1, 0, 0, 1, 1, 1, 1,\n",
       "       1, 1, 1, 1, 1, 1, 1, 0, 1, 1, 1, 1, 1, 1, 1, 1, 1, 1, 1, 0, 0, 1,\n",
       "       1, 1, 0, 1, 1, 1, 1, 1, 0, 1, 1, 1, 1, 1, 1, 1, 1, 1, 0, 0, 1, 1,\n",
       "       1, 1, 1, 0, 0, 1, 0, 0, 0, 1, 1, 1, 1, 1, 1, 1, 0, 1, 0, 1, 0, 0,\n",
       "       1, 1, 1, 1, 1, 1, 1, 0, 0, 1, 1, 1, 0, 1, 0, 1, 1, 1, 0, 1, 0, 1,\n",
       "       1, 0, 1, 0, 0, 0, 1, 0, 1, 1, 0, 1, 1, 1, 1, 0, 0, 1, 1, 0, 1, 1,\n",
       "       1, 0, 1, 1, 0, 1, 1, 1, 1, 1, 1, 0, 0, 0, 1, 1, 1, 1, 0, 1, 0, 1,\n",
       "       0, 1, 1, 1, 1, 0, 0, 1, 1, 1, 1, 1, 1, 1, 1, 1, 0, 1, 1, 1, 1, 0,\n",
       "       1, 1, 1, 0, 1, 1, 1, 1, 0, 0, 1, 1, 0, 1, 0, 0, 0, 0, 1, 1, 0, 1,\n",
       "       1, 1, 1, 1, 0, 1, 1, 1, 1, 1, 1, 1, 1, 1, 1, 1, 0, 1, 1, 1, 0, 1,\n",
       "       0, 1, 1, 1, 1, 0, 1, 0, 1, 1, 1, 1, 0, 0, 0, 1, 1, 1, 1, 0, 1, 0,\n",
       "       0, 1, 1, 1, 1, 1, 0, 1, 1, 1, 1, 0, 1, 1, 1, 1, 1, 0, 1, 1, 0, 1,\n",
       "       1, 1, 1, 1, 1, 1, 1, 1, 0, 1, 0, 0, 1, 1, 1, 1, 0, 1, 1, 1, 1, 0,\n",
       "       1, 0, 1, 1, 1, 0, 0, 1, 0, 1, 1, 1, 1, 0, 0, 0, 1, 0, 1, 1, 1, 0,\n",
       "       1, 1, 1, 1, 0, 1, 1, 1, 1, 1, 0, 1, 1, 0, 1, 1, 1, 1, 1, 1, 1, 1,\n",
       "       0, 1, 1, 0, 0, 0, 1, 1, 0, 1, 1, 1, 0, 0, 0, 1, 0, 1, 0, 1, 0, 0,\n",
       "       1, 1, 1, 0, 1, 0, 1, 1, 0, 1, 1, 1, 1, 0, 1, 1, 1, 1, 1, 1, 0, 1,\n",
       "       1, 1, 1, 1, 1, 1, 1, 0, 0, 0, 0, 1, 0, 1, 1, 1, 1, 0, 1, 0, 1, 1,\n",
       "       1, 1, 0, 1, 0, 1, 1, 0, 1, 0, 1, 1, 1, 1, 1, 0, 1, 0, 1, 1, 1, 1,\n",
       "       1, 1, 0, 0, 1, 0, 1, 1, 1, 1, 0, 1, 1, 1, 1, 0, 1, 1, 1, 0, 1, 1,\n",
       "       1, 0, 1, 1, 0, 1, 1, 0, 0, 1, 1, 0, 0, 0, 1, 1, 1, 1, 0, 1, 1, 1,\n",
       "       1, 1, 1, 1, 0, 0, 1, 1, 1, 1, 0, 1, 1, 0, 1, 1, 1, 1, 0, 1, 0, 1,\n",
       "       0, 1, 1, 0, 0, 1, 1, 1, 1, 1, 1, 1, 1, 1, 0, 1, 1, 0, 0, 0, 1, 0,\n",
       "       1, 0, 0, 1, 0, 1, 1, 1, 1, 0, 1, 0, 0, 0, 1, 1, 1, 0, 1, 0, 1, 1,\n",
       "       1, 1, 0, 0, 1, 1, 0, 1, 1, 1, 1, 0, 1, 1, 1, 1, 1, 1, 1, 0])"
      ]
     },
     "execution_count": 36,
     "metadata": {},
     "output_type": "execute_result"
    }
   ],
   "source": [
    "#lets use labelencoder to convert target class into integers\n",
    "from sklearn.preprocessing import LabelEncoder\n",
    "le=LabelEncoder()\n",
    "le.fit(y)\n",
    "y=le.transform(y)\n",
    "y"
   ]
  },
  {
   "cell_type": "code",
   "execution_count": 37,
   "metadata": {},
   "outputs": [],
   "source": [
    "#since it is imbalanced dataset so we will focus on auc-roc score\n",
    "from imblearn.over_sampling import SMOTE\n",
    "from sklearn.metrics import roc_auc_score\n",
    "from sklearn.model_selection import train_test_split\n",
    "def max_aucroc_score(clf,df_x,y):\n",
    "    max_aucroc_score=0\n",
    "    for r_state in range(42,100):\n",
    "        x_train, x_test, y_train, y_test = train_test_split(df_x, y,random_state = r_state,test_size=0.20,stratify=y)\n",
    "        x_train, y_train = SMOTE().fit_sample(x_train, y_train)\n",
    "        clf.fit(x_train,y_train)\n",
    "        y_pred = clf.predict(x_test)\n",
    "        aucroc_scr=roc_auc_score(y_test,y_pred)\n",
    "        print(\"auc roc score corresponding to \",r_state,\" is \",aucroc_scr)\n",
    "        if aucroc_scr>max_aucroc_score:\n",
    "            max_aucroc_score=aucroc_scr\n",
    "            final_r_state=r_state\n",
    "    print(\"max auc roc score corresponding to \",final_r_state,\" is \",max_aucroc_score)\n",
    "    return final_r_state"
   ]
  },
  {
   "cell_type": "code",
   "execution_count": 38,
   "metadata": {},
   "outputs": [
    {
     "name": "stdout",
     "output_type": "stream",
     "text": [
      "auc roc score corresponding to  42  is  0.8345201238390093\n",
      "auc roc score corresponding to  43  is  0.6970588235294117\n",
      "auc roc score corresponding to  44  is  0.6925696594427245\n",
      "auc roc score corresponding to  45  is  0.7057275541795665\n",
      "auc roc score corresponding to  46  is  0.6911764705882353\n",
      "auc roc score corresponding to  47  is  0.6631578947368422\n",
      "auc roc score corresponding to  48  is  0.6544891640866873\n",
      "auc roc score corresponding to  49  is  0.7230650154798761\n",
      "auc roc score corresponding to  50  is  0.6631578947368422\n",
      "auc roc score corresponding to  51  is  0.6777089783281733\n",
      "auc roc score corresponding to  52  is  0.6804953560371517\n",
      "auc roc score corresponding to  53  is  0.664860681114551\n",
      "auc roc score corresponding to  54  is  0.7088235294117646\n",
      "auc roc score corresponding to  55  is  0.7247678018575852\n",
      "auc roc score corresponding to  56  is  0.6281733746130032\n",
      "auc roc score corresponding to  57  is  0.6852941176470588\n",
      "auc roc score corresponding to  58  is  0.6575851393188854\n",
      "auc roc score corresponding to  59  is  0.6544891640866873\n",
      "auc roc score corresponding to  60  is  0.6936532507739939\n",
      "auc roc score corresponding to  61  is  0.601857585139319\n",
      "auc roc score corresponding to  62  is  0.6808049535603716\n",
      "auc roc score corresponding to  63  is  0.6839009287925697\n",
      "auc roc score corresponding to  64  is  0.6911764705882353\n",
      "auc roc score corresponding to  65  is  0.7171826625386997\n",
      "auc roc score corresponding to  66  is  0.6981424148606811\n",
      "auc roc score corresponding to  67  is  0.7116099071207429\n",
      "auc roc score corresponding to  68  is  0.6544891640866873\n",
      "auc roc score corresponding to  69  is  0.6911764705882353\n",
      "auc roc score corresponding to  70  is  0.6631578947368422\n",
      "auc roc score corresponding to  71  is  0.6852941176470588\n",
      "auc roc score corresponding to  72  is  0.6967492260061919\n",
      "auc roc score corresponding to  73  is  0.6309597523219814\n",
      "auc roc score corresponding to  74  is  0.601857585139319\n",
      "auc roc score corresponding to  75  is  0.6821981424148607\n",
      "auc roc score corresponding to  76  is  0.7289473684210527\n",
      "auc roc score corresponding to  77  is  0.7642414860681115\n",
      "auc roc score corresponding to  78  is  0.6721362229102168\n",
      "auc roc score corresponding to  79  is  0.7642414860681115\n",
      "auc roc score corresponding to  80  is  0.660061919504644\n",
      "auc roc score corresponding to  81  is  0.7130030959752323\n",
      "auc roc score corresponding to  82  is  0.625077399380805\n",
      "auc roc score corresponding to  83  is  0.7202786377708978\n",
      "auc roc score corresponding to  84  is  0.6880804953560371\n",
      "auc roc score corresponding to  85  is  0.6354489164086687\n",
      "auc roc score corresponding to  86  is  0.7348297213622291\n",
      "auc roc score corresponding to  87  is  0.5724458204334365\n",
      "auc roc score corresponding to  88  is  0.7202786377708978\n",
      "auc roc score corresponding to  89  is  0.7099071207430339\n",
      "auc roc score corresponding to  90  is  0.7160990712074303\n",
      "auc roc score corresponding to  91  is  0.6835913312693498\n",
      "auc roc score corresponding to  92  is  0.6880804953560371\n",
      "auc roc score corresponding to  93  is  0.6309597523219814\n",
      "auc roc score corresponding to  94  is  0.6721362229102168\n",
      "auc roc score corresponding to  95  is  0.6676470588235295\n",
      "auc roc score corresponding to  96  is  0.7628482972136222\n",
      "auc roc score corresponding to  97  is  0.639938080495356\n",
      "auc roc score corresponding to  98  is  0.6472136222910216\n",
      "auc roc score corresponding to  99  is  0.7905572755417957\n",
      "max auc roc score corresponding to  42  is  0.8345201238390093\n"
     ]
    },
    {
     "data": {
      "text/plain": [
       "42"
      ]
     },
     "execution_count": 38,
     "metadata": {},
     "output_type": "execute_result"
    }
   ],
   "source": [
    "#Lets use logistic regression and check\n",
    "from sklearn.linear_model import LogisticRegression\n",
    "import warnings\n",
    "warnings.filterwarnings(\"ignore\")\n",
    "lg_clf=LogisticRegression()\n",
    "max_aucroc_score(lg_clf,x,y)"
   ]
  },
  {
   "cell_type": "code",
   "execution_count": 39,
   "metadata": {},
   "outputs": [
    {
     "name": "stdout",
     "output_type": "stream",
     "text": [
      "auc roc score corresponding to  42  is  0.756656346749226\n",
      "auc roc score corresponding to  43  is  0.6939628482972137\n",
      "auc roc score corresponding to  44  is  0.5794117647058823\n",
      "auc roc score corresponding to  45  is  0.6278637770897834\n",
      "auc roc score corresponding to  46  is  0.719969040247678\n",
      "auc roc score corresponding to  47  is  0.6763157894736842\n",
      "auc roc score corresponding to  48  is  0.6351393188854488\n",
      "auc roc score corresponding to  49  is  0.6424148606811146\n",
      "auc roc score corresponding to  50  is  0.6586687306501546\n",
      "auc roc score corresponding to  51  is  0.6718266253869969\n",
      "auc roc score corresponding to  52  is  0.6278637770897834\n",
      "auc roc score corresponding to  53  is  0.7099071207430339\n",
      "auc roc score corresponding to  54  is  0.6760061919504644\n",
      "auc roc score corresponding to  55  is  0.668421052631579\n",
      "auc roc score corresponding to  56  is  0.6441176470588235\n",
      "auc roc score corresponding to  57  is  0.7012383900928792\n",
      "auc roc score corresponding to  58  is  0.5942724458204334\n",
      "auc roc score corresponding to  59  is  0.6292569659442725\n",
      "auc roc score corresponding to  60  is  0.6936532507739939\n",
      "auc roc score corresponding to  61  is  0.6530959752321981\n",
      "auc roc score corresponding to  62  is  0.6891640866873064\n",
      "auc roc score corresponding to  63  is  0.6147058823529412\n",
      "auc roc score corresponding to  64  is  0.6804953560371517\n",
      "auc roc score corresponding to  65  is  0.708204334365325\n",
      "auc roc score corresponding to  66  is  0.6469040247678018\n",
      "auc roc score corresponding to  67  is  0.5662538699690403\n",
      "auc roc score corresponding to  68  is  0.6337461300309598\n",
      "auc roc score corresponding to  69  is  0.7479876160990713\n",
      "auc roc score corresponding to  70  is  0.7479876160990713\n",
      "auc roc score corresponding to  71  is  0.6791021671826625\n",
      "auc roc score corresponding to  72  is  0.6555727554179567\n",
      "auc roc score corresponding to  73  is  0.6424148606811146\n",
      "auc roc score corresponding to  74  is  0.6441176470588235\n",
      "auc roc score corresponding to  75  is  0.6746130030959752\n",
      "auc roc score corresponding to  76  is  0.6891640866873064\n",
      "auc roc score corresponding to  77  is  0.6513931888544893\n",
      "auc roc score corresponding to  78  is  0.6704334365325076\n",
      "auc roc score corresponding to  79  is  0.7552631578947369\n",
      "auc roc score corresponding to  80  is  0.6586687306501546\n",
      "auc roc score corresponding to  81  is  0.6351393188854488\n",
      "auc roc score corresponding to  82  is  0.7029411764705882\n",
      "auc roc score corresponding to  83  is  0.6673374613003096\n",
      "auc roc score corresponding to  84  is  0.6572755417956657\n",
      "auc roc score corresponding to  85  is  0.7202786377708978\n",
      "auc roc score corresponding to  86  is  0.6732198142414861\n",
      "auc roc score corresponding to  87  is  0.6060371517027863\n",
      "auc roc score corresponding to  88  is  0.681888544891641\n",
      "auc roc score corresponding to  89  is  0.6908668730650155\n",
      "auc roc score corresponding to  90  is  0.6558823529411765\n",
      "auc roc score corresponding to  91  is  0.6527863777089783\n",
      "auc roc score corresponding to  92  is  0.6261609907120743\n",
      "auc roc score corresponding to  93  is  0.7099071207430339\n",
      "auc roc score corresponding to  94  is  0.6777089783281733\n",
      "auc roc score corresponding to  95  is  0.6441176470588235\n",
      "auc roc score corresponding to  96  is  0.721671826625387\n",
      "auc roc score corresponding to  97  is  0.6673374613003096\n",
      "auc roc score corresponding to  98  is  0.6413312693498452\n",
      "auc roc score corresponding to  99  is  0.6704334365325076\n",
      "max auc roc score corresponding to  42  is  0.756656346749226\n"
     ]
    },
    {
     "data": {
      "text/plain": [
       "42"
      ]
     },
     "execution_count": 39,
     "metadata": {},
     "output_type": "execute_result"
    }
   ],
   "source": [
    "#lets chcek decision tree\n",
    "from sklearn.tree import DecisionTreeClassifier\n",
    "dc=DecisionTreeClassifier()\n",
    "max_aucroc_score(dc,df_x,y)"
   ]
  },
  {
   "cell_type": "code",
   "execution_count": 40,
   "metadata": {},
   "outputs": [
    {
     "data": {
      "text/plain": [
       "{'n_estimators': 500}"
      ]
     },
     "execution_count": 40,
     "metadata": {},
     "output_type": "execute_result"
    }
   ],
   "source": [
    "#lets use random forest\n",
    "from sklearn.ensemble import RandomForestClassifier\n",
    "from sklearn.model_selection import GridSearchCV\n",
    "parameters={\"n_estimators\":[10,100,500]}\n",
    "rf_clf=RandomForestClassifier()\n",
    "clf = GridSearchCV(rf_clf, parameters, cv=5,scoring=\"roc_auc\")\n",
    "clf.fit(df_x,y)\n",
    "clf.best_params_"
   ]
  },
  {
   "cell_type": "code",
   "execution_count": 41,
   "metadata": {},
   "outputs": [
    {
     "name": "stdout",
     "output_type": "stream",
     "text": [
      "auc roc score corresponding to  42  is  0.7729102167182663\n",
      "auc roc score corresponding to  43  is  0.6693498452012383\n",
      "auc roc score corresponding to  44  is  0.6735294117647059\n",
      "auc roc score corresponding to  45  is  0.6662538699690402\n",
      "auc roc score corresponding to  46  is  0.7261609907120743\n",
      "auc roc score corresponding to  47  is  0.7057275541795665\n",
      "auc roc score corresponding to  48  is  0.6707430340557275\n",
      "auc roc score corresponding to  49  is  0.7510835913312693\n",
      "auc roc score corresponding to  50  is  0.6544891640866873\n",
      "auc roc score corresponding to  51  is  0.7026315789473685\n",
      "auc roc score corresponding to  52  is  0.7292569659442724\n",
      "auc roc score corresponding to  53  is  0.7088235294117646\n",
      "auc roc score corresponding to  54  is  0.698452012383901\n",
      "auc roc score corresponding to  55  is  0.7597523219814242\n",
      "auc roc score corresponding to  56  is  0.651702786377709\n",
      "auc roc score corresponding to  57  is  0.6897832817337461\n",
      "auc roc score corresponding to  58  is  0.6385448916408669\n",
      "auc roc score corresponding to  59  is  0.6413312693498452\n",
      "auc roc score corresponding to  60  is  0.7715170278637771\n",
      "auc roc score corresponding to  61  is  0.6458204334365325\n",
      "auc roc score corresponding to  62  is  0.6808049535603716\n",
      "auc roc score corresponding to  63  is  0.6603715170278638\n",
      "auc roc score corresponding to  64  is  0.7659442724458203\n",
      "auc roc score corresponding to  65  is  0.7143962848297213\n",
      "auc roc score corresponding to  66  is  0.7379256965944272\n",
      "auc roc score corresponding to  67  is  0.6821981424148607\n",
      "auc roc score corresponding to  68  is  0.7057275541795665\n",
      "auc roc score corresponding to  69  is  0.7174922600619194\n",
      "auc roc score corresponding to  70  is  0.6953560371517027\n",
      "auc roc score corresponding to  71  is  0.6721362229102168\n",
      "auc roc score corresponding to  72  is  0.7057275541795665\n",
      "auc roc score corresponding to  73  is  0.7160990712074303\n",
      "auc roc score corresponding to  74  is  0.6634674922600619\n",
      "auc roc score corresponding to  75  is  0.7306501547987616\n",
      "auc roc score corresponding to  76  is  0.7715170278637771\n",
      "auc roc score corresponding to  77  is  0.7524767801857586\n",
      "auc roc score corresponding to  78  is  0.7057275541795665\n",
      "auc roc score corresponding to  79  is  0.6603715170278638\n",
      "auc roc score corresponding to  80  is  0.6967492260061919\n",
      "auc roc score corresponding to  81  is  0.6880804953560371\n",
      "auc roc score corresponding to  82  is  0.784984520123839\n",
      "auc roc score corresponding to  83  is  0.7275541795665634\n",
      "auc roc score corresponding to  84  is  0.7147058823529412\n",
      "auc roc score corresponding to  85  is  0.6676470588235295\n",
      "auc roc score corresponding to  86  is  0.6821981424148607\n",
      "auc roc score corresponding to  87  is  0.6253869969040248\n",
      "auc roc score corresponding to  88  is  0.7188854489164087\n",
      "auc roc score corresponding to  89  is  0.7628482972136222\n",
      "auc roc score corresponding to  90  is  0.7116099071207429\n",
      "auc roc score corresponding to  91  is  0.6970588235294117\n",
      "auc roc score corresponding to  92  is  0.7157894736842105\n",
      "auc roc score corresponding to  93  is  0.6735294117647059\n",
      "auc roc score corresponding to  94  is  0.6575851393188854\n",
      "auc roc score corresponding to  95  is  0.6413312693498452\n",
      "auc roc score corresponding to  96  is  0.7541795665634675\n",
      "auc roc score corresponding to  97  is  0.651702786377709\n",
      "auc roc score corresponding to  98  is  0.6634674922600619\n",
      "auc roc score corresponding to  99  is  0.7099071207430339\n",
      "max auc roc score corresponding to  82  is  0.784984520123839\n"
     ]
    },
    {
     "data": {
      "text/plain": [
       "82"
      ]
     },
     "execution_count": 41,
     "metadata": {},
     "output_type": "execute_result"
    }
   ],
   "source": [
    "rf_clf=RandomForestClassifier(n_estimators=500)\n",
    "max_aucroc_score(rf_clf,df_x,y)"
   ]
  },
  {
   "cell_type": "code",
   "execution_count": 42,
   "metadata": {},
   "outputs": [
    {
     "data": {
      "text/plain": [
       "{'n_neighbors': 29}"
      ]
     },
     "execution_count": 42,
     "metadata": {},
     "output_type": "execute_result"
    }
   ],
   "source": [
    "#Lets use KNN\n",
    "#For KNN we need to know the best value of k using grid search\n",
    "from sklearn.model_selection import GridSearchCV\n",
    "from sklearn.neighbors import KNeighborsClassifier\n",
    "import warnings\n",
    "warnings.filterwarnings(\"ignore\")\n",
    "kc=KNeighborsClassifier()\n",
    "neighbors={\"n_neighbors\":range(1,30)}\n",
    "clf = GridSearchCV(kc, neighbors, cv=5,scoring=\"roc_auc\")\n",
    "clf.fit(x,y)\n",
    "clf.best_params_"
   ]
  },
  {
   "cell_type": "code",
   "execution_count": 43,
   "metadata": {},
   "outputs": [
    {
     "name": "stdout",
     "output_type": "stream",
     "text": [
      "auc roc score corresponding to  42  is  0.7465944272445821\n",
      "auc roc score corresponding to  43  is  0.7043343653250774\n",
      "auc roc score corresponding to  44  is  0.6939628482972137\n",
      "auc roc score corresponding to  45  is  0.721671826625387\n",
      "auc roc score corresponding to  46  is  0.7143962848297213\n",
      "auc roc score corresponding to  47  is  0.6808049535603716\n",
      "auc roc score corresponding to  48  is  0.6354489164086687\n",
      "auc roc score corresponding to  49  is  0.6835913312693498\n",
      "auc roc score corresponding to  50  is  0.6586687306501546\n",
      "auc roc score corresponding to  51  is  0.6981424148606811\n",
      "auc roc score corresponding to  52  is  0.646594427244582\n",
      "auc roc score corresponding to  53  is  0.6970588235294117\n",
      "auc roc score corresponding to  54  is  0.6998452012383901\n",
      "auc roc score corresponding to  55  is  0.7348297213622291\n",
      "auc roc score corresponding to  56  is  0.6181114551083591\n",
      "auc roc score corresponding to  57  is  0.6690402476780186\n",
      "auc roc score corresponding to  58  is  0.6970588235294117\n",
      "auc roc score corresponding to  59  is  0.5489164086687306\n",
      "auc roc score corresponding to  60  is  0.6496904024767802\n",
      "auc roc score corresponding to  61  is  0.6236842105263158\n",
      "auc roc score corresponding to  62  is  0.6704334365325076\n",
      "auc roc score corresponding to  63  is  0.7202786377708978\n",
      "auc roc score corresponding to  64  is  0.7143962848297213\n",
      "auc roc score corresponding to  65  is  0.6760061919504644\n",
      "auc roc score corresponding to  66  is  0.7057275541795665\n",
      "auc roc score corresponding to  67  is  0.6690402476780186\n",
      "auc roc score corresponding to  68  is  0.6749226006191951\n",
      "auc roc score corresponding to  69  is  0.7424148606811145\n",
      "auc roc score corresponding to  70  is  0.638235294117647\n",
      "auc roc score corresponding to  71  is  0.6458204334365325\n",
      "auc roc score corresponding to  72  is  0.6455108359133127\n",
      "auc roc score corresponding to  73  is  0.6808049535603716\n",
      "auc roc score corresponding to  74  is  0.5724458204334365\n",
      "auc roc score corresponding to  75  is  0.7099071207430339\n",
      "auc roc score corresponding to  76  is  0.7362229102167182\n",
      "auc roc score corresponding to  77  is  0.7303405572755417\n",
      "auc roc score corresponding to  78  is  0.6880804953560371\n",
      "auc roc score corresponding to  79  is  0.6032507739938081\n",
      "auc roc score corresponding to  80  is  0.6469040247678018\n",
      "auc roc score corresponding to  81  is  0.7202786377708978\n",
      "auc roc score corresponding to  82  is  0.7074303405572755\n",
      "auc roc score corresponding to  83  is  0.6863777089783282\n",
      "auc roc score corresponding to  84  is  0.6880804953560371\n",
      "auc roc score corresponding to  85  is  0.6385448916408669\n",
      "auc roc score corresponding to  86  is  0.6908668730650155\n",
      "auc roc score corresponding to  87  is  0.5637770897832817\n",
      "auc roc score corresponding to  88  is  0.6804953560371517\n",
      "auc roc score corresponding to  89  is  0.6631578947368422\n",
      "auc roc score corresponding to  90  is  0.698452012383901\n",
      "auc roc score corresponding to  91  is  0.6939628482972137\n",
      "auc roc score corresponding to  92  is  0.7292569659442724\n",
      "auc roc score corresponding to  93  is  0.65\n",
      "auc roc score corresponding to  94  is  0.6880804953560371\n",
      "auc roc score corresponding to  95  is  0.6911764705882353\n",
      "auc roc score corresponding to  96  is  0.7320433436532507\n",
      "auc roc score corresponding to  97  is  0.6326625386996905\n",
      "auc roc score corresponding to  98  is  0.6105263157894737\n",
      "auc roc score corresponding to  99  is  0.721671826625387\n",
      "max auc roc score corresponding to  42  is  0.7465944272445821\n"
     ]
    },
    {
     "data": {
      "text/plain": [
       "42"
      ]
     },
     "execution_count": 43,
     "metadata": {},
     "output_type": "execute_result"
    }
   ],
   "source": [
    "kc=KNeighborsClassifier(n_neighbors=29)\n",
    "max_aucroc_score(kc,x,y)"
   ]
  },
  {
   "cell_type": "code",
   "execution_count": 44,
   "metadata": {},
   "outputs": [
    {
     "data": {
      "text/plain": [
       "{'C': 0.01, 'kernel': 'rbf'}"
      ]
     },
     "execution_count": 44,
     "metadata": {},
     "output_type": "execute_result"
    }
   ],
   "source": [
    "#Lets use SVM\n",
    "from sklearn.svm import SVC\n",
    "svc=SVC()\n",
    "parameters={\"kernel\":[\"linear\", \"poly\", \"rbf\"],\"C\":[0.001,0.01,0.1,1,10]}\n",
    "clf = GridSearchCV(svc, parameters, cv=5,scoring=\"roc_auc\")\n",
    "clf.fit(x,y)\n",
    "clf.best_params_"
   ]
  },
  {
   "cell_type": "code",
   "execution_count": 45,
   "metadata": {},
   "outputs": [
    {
     "name": "stdout",
     "output_type": "stream",
     "text": [
      "auc roc score corresponding to  42  is  0.7760061919504644\n",
      "auc roc score corresponding to  43  is  0.6253869969040248\n",
      "auc roc score corresponding to  44  is  0.7001547987616099\n",
      "auc roc score corresponding to  45  is  0.7424148606811145\n",
      "auc roc score corresponding to  46  is  0.678328173374613\n",
      "auc roc score corresponding to  47  is  0.7320433436532507\n",
      "auc roc score corresponding to  48  is  0.625077399380805\n",
      "auc roc score corresponding to  49  is  0.7777089783281734\n",
      "auc roc score corresponding to  50  is  0.6987616099071208\n",
      "auc roc score corresponding to  51  is  0.7026315789473685\n",
      "auc roc score corresponding to  52  is  0.6334365325077399\n",
      "auc roc score corresponding to  53  is  0.6928792569659443\n",
      "auc roc score corresponding to  54  is  0.7046439628482972\n",
      "auc roc score corresponding to  55  is  0.7334365325077399\n",
      "auc roc score corresponding to  56  is  0.6256965944272446\n",
      "auc roc score corresponding to  57  is  0.6724458204334366\n",
      "auc roc score corresponding to  58  is  0.5693498452012384\n",
      "auc roc score corresponding to  59  is  0.6402476780185758\n",
      "auc roc score corresponding to  60  is  0.6953560371517027\n",
      "auc roc score corresponding to  61  is  0.6520123839009289\n",
      "auc roc score corresponding to  62  is  0.7337461300309599\n",
      "auc roc score corresponding to  63  is  0.7001547987616099\n",
      "auc roc score corresponding to  64  is  0.6970588235294117\n",
      "auc roc score corresponding to  65  is  0.7424148606811145\n",
      "auc roc score corresponding to  66  is  0.6469040247678018\n",
      "auc roc score corresponding to  67  is  0.6749226006191951\n",
      "auc roc score corresponding to  68  is  0.6544891640866873\n",
      "auc roc score corresponding to  69  is  0.6797213622291023\n",
      "auc roc score corresponding to  70  is  0.6586687306501546\n",
      "auc roc score corresponding to  71  is  0.6797213622291023\n",
      "auc roc score corresponding to  72  is  0.6410216718266253\n",
      "auc roc score corresponding to  73  is  0.6614551083591331\n",
      "auc roc score corresponding to  74  is  0.6357585139318885\n",
      "auc roc score corresponding to  75  is  0.6752321981424149\n",
      "auc roc score corresponding to  76  is  0.7729102167182663\n",
      "auc roc score corresponding to  77  is  0.7614551083591331\n",
      "auc roc score corresponding to  78  is  0.6914860681114552\n",
      "auc roc score corresponding to  79  is  0.6396284829721363\n",
      "auc roc score corresponding to  80  is  0.7130030959752323\n",
      "auc roc score corresponding to  81  is  0.7102167182662539\n",
      "auc roc score corresponding to  82  is  0.688390092879257\n",
      "auc roc score corresponding to  83  is  0.7143962848297213\n",
      "auc roc score corresponding to  84  is  0.6856037151702786\n",
      "auc roc score corresponding to  85  is  0.6530959752321981\n",
      "auc roc score corresponding to  86  is  0.7320433436532507\n",
      "auc roc score corresponding to  87  is  0.5931888544891641\n",
      "auc roc score corresponding to  88  is  0.695046439628483\n",
      "auc roc score corresponding to  89  is  0.6998452012383901\n",
      "auc roc score corresponding to  90  is  0.6911764705882353\n",
      "auc roc score corresponding to  91  is  0.7264705882352941\n",
      "auc roc score corresponding to  92  is  0.7060371517027864\n",
      "auc roc score corresponding to  93  is  0.6852941176470588\n",
      "auc roc score corresponding to  94  is  0.6710526315789473\n",
      "auc roc score corresponding to  95  is  0.6651702786377709\n",
      "auc roc score corresponding to  96  is  0.7396284829721362\n",
      "auc roc score corresponding to  97  is  0.6651702786377709\n",
      "auc roc score corresponding to  98  is  0.639938080495356\n",
      "auc roc score corresponding to  99  is  0.78328173374613\n",
      "max auc roc score corresponding to  99  is  0.78328173374613\n"
     ]
    },
    {
     "data": {
      "text/plain": [
       "99"
      ]
     },
     "execution_count": 45,
     "metadata": {},
     "output_type": "execute_result"
    }
   ],
   "source": [
    "svc=SVC(kernel=\"rbf\",C=0.01)\n",
    "max_aucroc_score(svc,x,y)"
   ]
  },
  {
   "cell_type": "code",
   "execution_count": 46,
   "metadata": {},
   "outputs": [
    {
     "data": {
      "text/plain": [
       "{'learning_rate': 0.001, 'n_estimators': 500}"
      ]
     },
     "execution_count": 46,
     "metadata": {},
     "output_type": "execute_result"
    }
   ],
   "source": [
    "from sklearn.ensemble import GradientBoostingClassifier\n",
    "parameters={\"learning_rate\":[0.001,0.01,0.1,1],\"n_estimators\":[10,100,500,1000]}\n",
    "gb_clf=GradientBoostingClassifier()\n",
    "clf = GridSearchCV(gb_clf, parameters, cv=5,scoring=\"roc_auc\")\n",
    "clf.fit(df_x,y)\n",
    "clf.best_params_"
   ]
  },
  {
   "cell_type": "code",
   "execution_count": 47,
   "metadata": {},
   "outputs": [
    {
     "name": "stdout",
     "output_type": "stream",
     "text": [
      "auc roc score corresponding to  42  is  0.7379256965944272\n",
      "auc roc score corresponding to  43  is  0.6738390092879256\n",
      "auc roc score corresponding to  44  is  0.698452012383901\n",
      "auc roc score corresponding to  45  is  0.7410216718266254\n",
      "auc roc score corresponding to  46  is  0.6856037151702786\n",
      "auc roc score corresponding to  47  is  0.6956656346749226\n",
      "auc roc score corresponding to  48  is  0.6651702786377709\n",
      "auc roc score corresponding to  49  is  0.7351393188854488\n",
      "auc roc score corresponding to  50  is  0.6869969040247678\n",
      "auc roc score corresponding to  51  is  0.7247678018575852\n",
      "auc roc score corresponding to  52  is  0.7102167182662539\n",
      "auc roc score corresponding to  53  is  0.6956656346749226\n",
      "auc roc score corresponding to  54  is  0.7088235294117646\n",
      "auc roc score corresponding to  55  is  0.7219814241486069\n",
      "auc roc score corresponding to  56  is  0.613312693498452\n",
      "auc roc score corresponding to  57  is  0.6866873065015481\n",
      "auc roc score corresponding to  58  is  0.6226006191950464\n",
      "auc roc score corresponding to  59  is  0.6592879256965944\n",
      "auc roc score corresponding to  60  is  0.7119195046439628\n",
      "auc roc score corresponding to  61  is  0.6136222910216718\n",
      "auc roc score corresponding to  62  is  0.7351393188854488\n",
      "auc roc score corresponding to  63  is  0.698452012383901\n",
      "auc roc score corresponding to  64  is  0.7292569659442724\n",
      "auc roc score corresponding to  65  is  0.6687306501547987\n",
      "auc roc score corresponding to  66  is  0.6791021671826625\n",
      "auc roc score corresponding to  67  is  0.6866873065015481\n",
      "auc roc score corresponding to  68  is  0.6267801857585139\n",
      "auc roc score corresponding to  69  is  0.6721362229102168\n",
      "auc roc score corresponding to  70  is  0.7043343653250774\n",
      "auc roc score corresponding to  71  is  0.6309597523219814\n",
      "auc roc score corresponding to  72  is  0.6732198142414861\n",
      "auc roc score corresponding to  73  is  0.6825077399380803\n",
      "auc roc score corresponding to  74  is  0.6606811145510836\n",
      "auc roc score corresponding to  75  is  0.6942724458204335\n",
      "auc roc score corresponding to  76  is  0.7513931888544892\n",
      "auc roc score corresponding to  77  is  0.7541795665634675\n",
      "auc roc score corresponding to  78  is  0.6942724458204335\n",
      "auc roc score corresponding to  79  is  0.6326625386996905\n",
      "auc roc score corresponding to  80  is  0.7160990712074303\n",
      "auc roc score corresponding to  81  is  0.6662538699690402\n",
      "auc roc score corresponding to  82  is  0.676625386996904\n",
      "auc roc score corresponding to  83  is  0.6967492260061919\n",
      "auc roc score corresponding to  84  is  0.701547987616099\n",
      "auc roc score corresponding to  85  is  0.6856037151702786\n",
      "auc roc score corresponding to  86  is  0.7247678018575852\n",
      "auc roc score corresponding to  87  is  0.5489164086687306\n",
      "auc roc score corresponding to  88  is  0.7247678018575852\n",
      "auc roc score corresponding to  89  is  0.7455108359133128\n",
      "auc roc score corresponding to  90  is  0.7001547987616099\n",
      "auc roc score corresponding to  91  is  0.6928792569659443\n",
      "auc roc score corresponding to  92  is  0.6956656346749226\n",
      "auc roc score corresponding to  93  is  0.6309597523219814\n",
      "auc roc score corresponding to  94  is  0.6738390092879256\n",
      "auc roc score corresponding to  95  is  0.6547987616099071\n",
      "auc roc score corresponding to  96  is  0.7441176470588236\n",
      "auc roc score corresponding to  97  is  0.6544891640866873\n",
      "auc roc score corresponding to  98  is  0.6561919504643963\n",
      "auc roc score corresponding to  99  is  0.774613003095975\n",
      "max auc roc score corresponding to  99  is  0.774613003095975\n"
     ]
    },
    {
     "data": {
      "text/plain": [
       "99"
      ]
     },
     "execution_count": 47,
     "metadata": {},
     "output_type": "execute_result"
    }
   ],
   "source": [
    "gb_clf=GradientBoostingClassifier(learning_rate=0.001,n_estimators=500)\n",
    "max_aucroc_score(gb_clf,df_x,y)"
   ]
  },
  {
   "cell_type": "code",
   "execution_count": 48,
   "metadata": {},
   "outputs": [
    {
     "name": "stdout",
     "output_type": "stream",
     "text": [
      "auc roc score corresponding to  42  is  0.8006191950464396\n",
      "auc roc score corresponding to  43  is  0.6690402476780186\n",
      "auc roc score corresponding to  44  is  0.6205882352941177\n",
      "auc roc score corresponding to  45  is  0.7171826625386997\n",
      "auc roc score corresponding to  46  is  0.6922600619195046\n",
      "auc roc score corresponding to  47  is  0.6877708978328174\n",
      "auc roc score corresponding to  48  is  0.6558823529411765\n",
      "auc roc score corresponding to  49  is  0.7054179566563468\n",
      "auc roc score corresponding to  50  is  0.7040247678018576\n",
      "auc roc score corresponding to  51  is  0.6804953560371517\n",
      "auc roc score corresponding to  52  is  0.6791021671826625\n",
      "auc roc score corresponding to  53  is  0.7012383900928792\n",
      "auc roc score corresponding to  54  is  0.6379256965944272\n",
      "auc roc score corresponding to  55  is  0.6863777089783282\n",
      "auc roc score corresponding to  56  is  0.5959752321981424\n",
      "auc roc score corresponding to  57  is  0.5693498452012384\n",
      "auc roc score corresponding to  58  is  0.5721362229102167\n",
      "auc roc score corresponding to  59  is  0.6496904024767802\n",
      "auc roc score corresponding to  60  is  0.6410216718266253\n",
      "auc roc score corresponding to  61  is  0.6998452012383901\n",
      "auc roc score corresponding to  62  is  0.5925696594427246\n",
      "auc roc score corresponding to  63  is  0.6424148606811146\n",
      "auc roc score corresponding to  64  is  0.7171826625386997\n",
      "auc roc score corresponding to  65  is  0.7348297213622291\n",
      "auc roc score corresponding to  66  is  0.6510835913312693\n",
      "auc roc score corresponding to  67  is  0.6513931888544893\n",
      "auc roc score corresponding to  68  is  0.7348297213622291\n",
      "auc roc score corresponding to  69  is  0.6586687306501546\n",
      "auc roc score corresponding to  70  is  0.7040247678018576\n",
      "auc roc score corresponding to  71  is  0.6088235294117648\n",
      "auc roc score corresponding to  72  is  0.6247678018575851\n",
      "auc roc score corresponding to  73  is  0.7054179566563468\n",
      "auc roc score corresponding to  74  is  0.6939628482972137\n",
      "auc roc score corresponding to  75  is  0.7171826625386997\n",
      "auc roc score corresponding to  76  is  0.731733746130031\n",
      "auc roc score corresponding to  77  is  0.6849845201238389\n",
      "auc roc score corresponding to  78  is  0.6102167182662539\n",
      "auc roc score corresponding to  79  is  0.6337461300309598\n",
      "auc roc score corresponding to  80  is  0.6936532507739939\n",
      "auc roc score corresponding to  81  is  0.6835913312693498\n",
      "auc roc score corresponding to  82  is  0.6866873065015481\n",
      "auc roc score corresponding to  83  is  0.6791021671826625\n",
      "auc roc score corresponding to  84  is  0.6967492260061919\n",
      "auc roc score corresponding to  85  is  0.6191950464396284\n",
      "auc roc score corresponding to  86  is  0.6877708978328174\n",
      "auc roc score corresponding to  87  is  0.5769349845201238\n",
      "auc roc score corresponding to  88  is  0.6482972136222911\n",
      "auc roc score corresponding to  89  is  0.6555727554179567\n",
      "auc roc score corresponding to  90  is  0.7099071207430339\n",
      "auc roc score corresponding to  91  is  0.6438080495356037\n",
      "auc roc score corresponding to  92  is  0.6877708978328174\n",
      "auc roc score corresponding to  93  is  0.6894736842105263\n",
      "auc roc score corresponding to  94  is  0.6718266253869969\n",
      "auc roc score corresponding to  95  is  0.6116099071207429\n",
      "auc roc score corresponding to  96  is  0.7143962848297213\n",
      "auc roc score corresponding to  97  is  0.6410216718266253\n",
      "auc roc score corresponding to  98  is  0.5811145510835913\n",
      "auc roc score corresponding to  99  is  0.6746130030959752\n",
      "max auc roc score corresponding to  42  is  0.8006191950464396\n"
     ]
    },
    {
     "data": {
      "text/plain": [
       "42"
      ]
     },
     "execution_count": 48,
     "metadata": {},
     "output_type": "execute_result"
    }
   ],
   "source": [
    "#Lets use ada boosting using decision tree as an estimator\n",
    "from sklearn.ensemble import AdaBoostClassifier\n",
    "#parameters={\"base_estimator\":[dc,lg_clf,svc],\"learning_rate\":[0.001,0.01,0.1,1],\"n_estimators\":[10,100,500,1000]}\n",
    "ada_clf=AdaBoostClassifier(base_estimator=dc)\n",
    "max_aucroc_score(ada_clf,df_x,y)"
   ]
  },
  {
   "cell_type": "code",
   "execution_count": 49,
   "metadata": {},
   "outputs": [
    {
     "name": "stdout",
     "output_type": "stream",
     "text": [
      "Mean roc auc score for logistic classifier:  0.7682755153343389\n",
      "standard deviation in roc auc score for logistic classifier:  0.054104400479102574\n",
      "[0.82012384 0.70928793 0.77777778 0.83180708 0.70238095]\n"
     ]
    }
   ],
   "source": [
    "#lets use cross_val_score for logistic regression\n",
    "from sklearn.model_selection import cross_val_score\n",
    "print(\"Mean roc auc score for logistic classifier: \",cross_val_score(lg_clf,x,y,cv=5,scoring=\"roc_auc\").mean())\n",
    "print(\"standard deviation in roc auc score for logistic classifier: \",cross_val_score(lg_clf,x,y,cv=5,scoring=\"roc_auc\").std())\n",
    "print(cross_val_score(lg_clf,x,y,cv=5,scoring=\"roc_auc\"))"
   ]
  },
  {
   "cell_type": "code",
   "execution_count": 50,
   "metadata": {},
   "outputs": [
    {
     "name": "stdout",
     "output_type": "stream",
     "text": [
      "Mean auc roc score for decision tree classifier:  0.6832272423139296\n",
      "standard deviation in auc roc score for decision tree classifier:  0.0376152830752894\n",
      "[0.71888545 0.55479876 0.66208791 0.72710623 0.64786967]\n"
     ]
    }
   ],
   "source": [
    "#lets use cross_val_score for decision tree\n",
    "print(\"Mean auc roc score for decision tree classifier: \",cross_val_score(dc,df_x,y,cv=5,scoring=\"roc_auc\").mean())\n",
    "print(\"standard deviation in auc roc score for decision tree classifier: \",cross_val_score(dc,df_x,y,cv=5,scoring=\"roc_auc\").std())\n",
    "print(cross_val_score(dc,df_x,y,cv=5,scoring=\"roc_auc\"))"
   ]
  },
  {
   "cell_type": "code",
   "execution_count": 51,
   "metadata": {},
   "outputs": [
    {
     "name": "stdout",
     "output_type": "stream",
     "text": [
      "Mean auc roc score for random forest classifier:  0.7784919406359034\n",
      "standard deviation in auc roc score for random forest classifier:  0.03133814856776633\n",
      "[0.79643963 0.74473684 0.79059829 0.82905983 0.75971178]\n"
     ]
    }
   ],
   "source": [
    "#lets check cross_val_score for random forest\n",
    "print(\"Mean auc roc score for random forest classifier: \",cross_val_score(rf_clf,df_x,y,cv=5,scoring=\"roc_auc\").mean())\n",
    "print(\"standard deviation in auc roc score for random forest classifier: \",cross_val_score(rf_clf,df_x,y,cv=5,scoring=\"roc_auc\").std())\n",
    "print(cross_val_score(rf_clf,df_x,y,cv=5,scoring=\"roc_auc\"))"
   ]
  },
  {
   "cell_type": "code",
   "execution_count": 52,
   "metadata": {},
   "outputs": [
    {
     "name": "stdout",
     "output_type": "stream",
     "text": [
      "Mean roc auc score for knn classifier:  0.7491623761515402\n",
      "standard deviation in roc auc score for knn classifier:  0.02936681724044758\n",
      "[0.75990712 0.72414861 0.74053724 0.80082418 0.72039474]\n"
     ]
    }
   ],
   "source": [
    "#lets use cross_val_score for knn \n",
    "from sklearn.model_selection import cross_val_score\n",
    "print(\"Mean roc auc score for knn classifier: \",cross_val_score(kc,x,y,cv=5,scoring=\"roc_auc\").mean())\n",
    "print(\"standard deviation in roc auc score for knn classifier: \",cross_val_score(kc,x,y,cv=5,scoring=\"roc_auc\").std())\n",
    "print(cross_val_score(kc,x,y,cv=5,scoring=\"roc_auc\"))"
   ]
  },
  {
   "cell_type": "code",
   "execution_count": 53,
   "metadata": {},
   "outputs": [
    {
     "name": "stdout",
     "output_type": "stream",
     "text": [
      "Mean roc auc score for svm classifier:  0.7516992329995427\n",
      "standard deviation in roc auc score for svm classifier:  0.0389316591287871\n",
      "[0.73839009 0.70650155 0.79120879 0.80372405 0.71867168]\n"
     ]
    }
   ],
   "source": [
    "#lets use cross_val_score for svm\n",
    "from sklearn.model_selection import cross_val_score\n",
    "print(\"Mean roc auc score for svm classifier: \",cross_val_score(svc,x,y,cv=5,scoring=\"roc_auc\").mean())\n",
    "print(\"standard deviation in roc auc score for svm classifier: \",cross_val_score(svc,x,y,cv=5,scoring=\"roc_auc\").std())\n",
    "print(cross_val_score(svc,x,y,cv=5,scoring=\"roc_auc\"))"
   ]
  },
  {
   "cell_type": "code",
   "execution_count": 54,
   "metadata": {},
   "outputs": [
    {
     "name": "stdout",
     "output_type": "stream",
     "text": [
      "Mean auc roc score for gradient boosting classifier:  0.7548620419827851\n",
      "standard deviation in auc roc score for gradient boosting classifier:  0.07344431188808453\n",
      "[0.78018576 0.64334365 0.73427961 0.87057387 0.74592732]\n"
     ]
    }
   ],
   "source": [
    "#lets check cross_val_score for gradient boosting\n",
    "print(\"Mean auc roc score for gradient boosting classifier: \",cross_val_score(gb_clf,df_x,y,cv=5,scoring=\"roc_auc\").mean())\n",
    "print(\"standard deviation in auc roc score for gradient boosting classifier: \",cross_val_score(gb_clf,df_x,y,cv=5,scoring=\"roc_auc\").std())\n",
    "print(cross_val_score(gb_clf,df_x,y,cv=5,scoring=\"roc_auc\"))"
   ]
  },
  {
   "cell_type": "code",
   "execution_count": 57,
   "metadata": {},
   "outputs": [],
   "source": [
    "# we will use random forest as our final model\n",
    "# random state 82\n",
    "x_train, x_test, y_train, y_test = train_test_split(df_x, y,random_state = 82,test_size=0.20,stratify=y)\n",
    "x_train, y_train = SMOTE().fit_sample(x_train, y_train)\n",
    "rf_clf=RandomForestClassifier(n_estimators=500)\n",
    "rf_clf.fit(x_train,y_train)\n",
    "y_pred=rf_clf.predict(x_test)"
   ]
  },
  {
   "cell_type": "code",
   "execution_count": 58,
   "metadata": {},
   "outputs": [
    {
     "name": "stdout",
     "output_type": "stream",
     "text": [
      "Confusion matrix \n",
      " [[20 18]\n",
      " [ 4 81]]\n",
      "f1 score is :  0.8804347826086957\n",
      "classification report \n",
      "               precision    recall  f1-score   support\n",
      "\n",
      "           0       0.83      0.53      0.65        38\n",
      "           1       0.82      0.95      0.88        85\n",
      "\n",
      "    accuracy                           0.82       123\n",
      "   macro avg       0.83      0.74      0.76       123\n",
      "weighted avg       0.82      0.82      0.81       123\n",
      "\n",
      "AUC ROC Score:  0.7396284829721362\n"
     ]
    }
   ],
   "source": [
    "from sklearn.metrics import confusion_matrix\n",
    "from sklearn.metrics import classification_report\n",
    "from sklearn.metrics import f1_score\n",
    "from sklearn.metrics import roc_auc_score\n",
    "print(\"Confusion matrix \\n\",confusion_matrix(y_test,y_pred))\n",
    "print(\"f1 score is : \",f1_score(y_test,y_pred))\n",
    "print(\"classification report \\n\",classification_report(y_test,y_pred))\n",
    "print(\"AUC ROC Score: \",roc_auc_score(y_test,y_pred))"
   ]
  }
 ],
 "metadata": {
  "kernelspec": {
   "display_name": "Python 3",
   "language": "python",
   "name": "python3"
  },
  "language_info": {
   "codemirror_mode": {
    "name": "ipython",
    "version": 3
   },
   "file_extension": ".py",
   "mimetype": "text/x-python",
   "name": "python",
   "nbconvert_exporter": "python",
   "pygments_lexer": "ipython3",
   "version": "3.7.6"
  }
 },
 "nbformat": 4,
 "nbformat_minor": 4
}
