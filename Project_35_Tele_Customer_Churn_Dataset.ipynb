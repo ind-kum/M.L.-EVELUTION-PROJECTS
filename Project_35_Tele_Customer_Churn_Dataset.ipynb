{
 "cells": [
  {
   "cell_type": "code",
   "execution_count": 1,
   "metadata": {},
   "outputs": [
    {
     "data": {
      "text/html": [
       "<div>\n",
       "<style scoped>\n",
       "    .dataframe tbody tr th:only-of-type {\n",
       "        vertical-align: middle;\n",
       "    }\n",
       "\n",
       "    .dataframe tbody tr th {\n",
       "        vertical-align: top;\n",
       "    }\n",
       "\n",
       "    .dataframe thead th {\n",
       "        text-align: right;\n",
       "    }\n",
       "</style>\n",
       "<table border=\"1\" class=\"dataframe\">\n",
       "  <thead>\n",
       "    <tr style=\"text-align: right;\">\n",
       "      <th></th>\n",
       "      <th>customerID</th>\n",
       "      <th>gender</th>\n",
       "      <th>SeniorCitizen</th>\n",
       "      <th>Partner</th>\n",
       "      <th>Dependents</th>\n",
       "      <th>tenure</th>\n",
       "      <th>PhoneService</th>\n",
       "      <th>MultipleLines</th>\n",
       "      <th>InternetService</th>\n",
       "      <th>OnlineSecurity</th>\n",
       "      <th>...</th>\n",
       "      <th>DeviceProtection</th>\n",
       "      <th>TechSupport</th>\n",
       "      <th>StreamingTV</th>\n",
       "      <th>StreamingMovies</th>\n",
       "      <th>Contract</th>\n",
       "      <th>PaperlessBilling</th>\n",
       "      <th>PaymentMethod</th>\n",
       "      <th>MonthlyCharges</th>\n",
       "      <th>TotalCharges</th>\n",
       "      <th>Churn</th>\n",
       "    </tr>\n",
       "  </thead>\n",
       "  <tbody>\n",
       "    <tr>\n",
       "      <th>0</th>\n",
       "      <td>7590-VHVEG</td>\n",
       "      <td>Female</td>\n",
       "      <td>0</td>\n",
       "      <td>Yes</td>\n",
       "      <td>No</td>\n",
       "      <td>1</td>\n",
       "      <td>No</td>\n",
       "      <td>No phone service</td>\n",
       "      <td>DSL</td>\n",
       "      <td>No</td>\n",
       "      <td>...</td>\n",
       "      <td>No</td>\n",
       "      <td>No</td>\n",
       "      <td>No</td>\n",
       "      <td>No</td>\n",
       "      <td>Month-to-month</td>\n",
       "      <td>Yes</td>\n",
       "      <td>Electronic check</td>\n",
       "      <td>29.85</td>\n",
       "      <td>29.85</td>\n",
       "      <td>No</td>\n",
       "    </tr>\n",
       "    <tr>\n",
       "      <th>1</th>\n",
       "      <td>5575-GNVDE</td>\n",
       "      <td>Male</td>\n",
       "      <td>0</td>\n",
       "      <td>No</td>\n",
       "      <td>No</td>\n",
       "      <td>34</td>\n",
       "      <td>Yes</td>\n",
       "      <td>No</td>\n",
       "      <td>DSL</td>\n",
       "      <td>Yes</td>\n",
       "      <td>...</td>\n",
       "      <td>Yes</td>\n",
       "      <td>No</td>\n",
       "      <td>No</td>\n",
       "      <td>No</td>\n",
       "      <td>One year</td>\n",
       "      <td>No</td>\n",
       "      <td>Mailed check</td>\n",
       "      <td>56.95</td>\n",
       "      <td>1889.5</td>\n",
       "      <td>No</td>\n",
       "    </tr>\n",
       "    <tr>\n",
       "      <th>2</th>\n",
       "      <td>3668-QPYBK</td>\n",
       "      <td>Male</td>\n",
       "      <td>0</td>\n",
       "      <td>No</td>\n",
       "      <td>No</td>\n",
       "      <td>2</td>\n",
       "      <td>Yes</td>\n",
       "      <td>No</td>\n",
       "      <td>DSL</td>\n",
       "      <td>Yes</td>\n",
       "      <td>...</td>\n",
       "      <td>No</td>\n",
       "      <td>No</td>\n",
       "      <td>No</td>\n",
       "      <td>No</td>\n",
       "      <td>Month-to-month</td>\n",
       "      <td>Yes</td>\n",
       "      <td>Mailed check</td>\n",
       "      <td>53.85</td>\n",
       "      <td>108.15</td>\n",
       "      <td>Yes</td>\n",
       "    </tr>\n",
       "    <tr>\n",
       "      <th>3</th>\n",
       "      <td>7795-CFOCW</td>\n",
       "      <td>Male</td>\n",
       "      <td>0</td>\n",
       "      <td>No</td>\n",
       "      <td>No</td>\n",
       "      <td>45</td>\n",
       "      <td>No</td>\n",
       "      <td>No phone service</td>\n",
       "      <td>DSL</td>\n",
       "      <td>Yes</td>\n",
       "      <td>...</td>\n",
       "      <td>Yes</td>\n",
       "      <td>Yes</td>\n",
       "      <td>No</td>\n",
       "      <td>No</td>\n",
       "      <td>One year</td>\n",
       "      <td>No</td>\n",
       "      <td>Bank transfer (automatic)</td>\n",
       "      <td>42.30</td>\n",
       "      <td>1840.75</td>\n",
       "      <td>No</td>\n",
       "    </tr>\n",
       "    <tr>\n",
       "      <th>4</th>\n",
       "      <td>9237-HQITU</td>\n",
       "      <td>Female</td>\n",
       "      <td>0</td>\n",
       "      <td>No</td>\n",
       "      <td>No</td>\n",
       "      <td>2</td>\n",
       "      <td>Yes</td>\n",
       "      <td>No</td>\n",
       "      <td>Fiber optic</td>\n",
       "      <td>No</td>\n",
       "      <td>...</td>\n",
       "      <td>No</td>\n",
       "      <td>No</td>\n",
       "      <td>No</td>\n",
       "      <td>No</td>\n",
       "      <td>Month-to-month</td>\n",
       "      <td>Yes</td>\n",
       "      <td>Electronic check</td>\n",
       "      <td>70.70</td>\n",
       "      <td>151.65</td>\n",
       "      <td>Yes</td>\n",
       "    </tr>\n",
       "    <tr>\n",
       "      <th>...</th>\n",
       "      <td>...</td>\n",
       "      <td>...</td>\n",
       "      <td>...</td>\n",
       "      <td>...</td>\n",
       "      <td>...</td>\n",
       "      <td>...</td>\n",
       "      <td>...</td>\n",
       "      <td>...</td>\n",
       "      <td>...</td>\n",
       "      <td>...</td>\n",
       "      <td>...</td>\n",
       "      <td>...</td>\n",
       "      <td>...</td>\n",
       "      <td>...</td>\n",
       "      <td>...</td>\n",
       "      <td>...</td>\n",
       "      <td>...</td>\n",
       "      <td>...</td>\n",
       "      <td>...</td>\n",
       "      <td>...</td>\n",
       "      <td>...</td>\n",
       "    </tr>\n",
       "    <tr>\n",
       "      <th>7038</th>\n",
       "      <td>6840-RESVB</td>\n",
       "      <td>Male</td>\n",
       "      <td>0</td>\n",
       "      <td>Yes</td>\n",
       "      <td>Yes</td>\n",
       "      <td>24</td>\n",
       "      <td>Yes</td>\n",
       "      <td>Yes</td>\n",
       "      <td>DSL</td>\n",
       "      <td>Yes</td>\n",
       "      <td>...</td>\n",
       "      <td>Yes</td>\n",
       "      <td>Yes</td>\n",
       "      <td>Yes</td>\n",
       "      <td>Yes</td>\n",
       "      <td>One year</td>\n",
       "      <td>Yes</td>\n",
       "      <td>Mailed check</td>\n",
       "      <td>84.80</td>\n",
       "      <td>1990.5</td>\n",
       "      <td>No</td>\n",
       "    </tr>\n",
       "    <tr>\n",
       "      <th>7039</th>\n",
       "      <td>2234-XADUH</td>\n",
       "      <td>Female</td>\n",
       "      <td>0</td>\n",
       "      <td>Yes</td>\n",
       "      <td>Yes</td>\n",
       "      <td>72</td>\n",
       "      <td>Yes</td>\n",
       "      <td>Yes</td>\n",
       "      <td>Fiber optic</td>\n",
       "      <td>No</td>\n",
       "      <td>...</td>\n",
       "      <td>Yes</td>\n",
       "      <td>No</td>\n",
       "      <td>Yes</td>\n",
       "      <td>Yes</td>\n",
       "      <td>One year</td>\n",
       "      <td>Yes</td>\n",
       "      <td>Credit card (automatic)</td>\n",
       "      <td>103.20</td>\n",
       "      <td>7362.9</td>\n",
       "      <td>No</td>\n",
       "    </tr>\n",
       "    <tr>\n",
       "      <th>7040</th>\n",
       "      <td>4801-JZAZL</td>\n",
       "      <td>Female</td>\n",
       "      <td>0</td>\n",
       "      <td>Yes</td>\n",
       "      <td>Yes</td>\n",
       "      <td>11</td>\n",
       "      <td>No</td>\n",
       "      <td>No phone service</td>\n",
       "      <td>DSL</td>\n",
       "      <td>Yes</td>\n",
       "      <td>...</td>\n",
       "      <td>No</td>\n",
       "      <td>No</td>\n",
       "      <td>No</td>\n",
       "      <td>No</td>\n",
       "      <td>Month-to-month</td>\n",
       "      <td>Yes</td>\n",
       "      <td>Electronic check</td>\n",
       "      <td>29.60</td>\n",
       "      <td>346.45</td>\n",
       "      <td>No</td>\n",
       "    </tr>\n",
       "    <tr>\n",
       "      <th>7041</th>\n",
       "      <td>8361-LTMKD</td>\n",
       "      <td>Male</td>\n",
       "      <td>1</td>\n",
       "      <td>Yes</td>\n",
       "      <td>No</td>\n",
       "      <td>4</td>\n",
       "      <td>Yes</td>\n",
       "      <td>Yes</td>\n",
       "      <td>Fiber optic</td>\n",
       "      <td>No</td>\n",
       "      <td>...</td>\n",
       "      <td>No</td>\n",
       "      <td>No</td>\n",
       "      <td>No</td>\n",
       "      <td>No</td>\n",
       "      <td>Month-to-month</td>\n",
       "      <td>Yes</td>\n",
       "      <td>Mailed check</td>\n",
       "      <td>74.40</td>\n",
       "      <td>306.6</td>\n",
       "      <td>Yes</td>\n",
       "    </tr>\n",
       "    <tr>\n",
       "      <th>7042</th>\n",
       "      <td>3186-AJIEK</td>\n",
       "      <td>Male</td>\n",
       "      <td>0</td>\n",
       "      <td>No</td>\n",
       "      <td>No</td>\n",
       "      <td>66</td>\n",
       "      <td>Yes</td>\n",
       "      <td>No</td>\n",
       "      <td>Fiber optic</td>\n",
       "      <td>Yes</td>\n",
       "      <td>...</td>\n",
       "      <td>Yes</td>\n",
       "      <td>Yes</td>\n",
       "      <td>Yes</td>\n",
       "      <td>Yes</td>\n",
       "      <td>Two year</td>\n",
       "      <td>Yes</td>\n",
       "      <td>Bank transfer (automatic)</td>\n",
       "      <td>105.65</td>\n",
       "      <td>6844.5</td>\n",
       "      <td>No</td>\n",
       "    </tr>\n",
       "  </tbody>\n",
       "</table>\n",
       "<p>7043 rows × 21 columns</p>\n",
       "</div>"
      ],
      "text/plain": [
       "      customerID  gender  SeniorCitizen Partner Dependents  tenure  \\\n",
       "0     7590-VHVEG  Female              0     Yes         No       1   \n",
       "1     5575-GNVDE    Male              0      No         No      34   \n",
       "2     3668-QPYBK    Male              0      No         No       2   \n",
       "3     7795-CFOCW    Male              0      No         No      45   \n",
       "4     9237-HQITU  Female              0      No         No       2   \n",
       "...          ...     ...            ...     ...        ...     ...   \n",
       "7038  6840-RESVB    Male              0     Yes        Yes      24   \n",
       "7039  2234-XADUH  Female              0     Yes        Yes      72   \n",
       "7040  4801-JZAZL  Female              0     Yes        Yes      11   \n",
       "7041  8361-LTMKD    Male              1     Yes         No       4   \n",
       "7042  3186-AJIEK    Male              0      No         No      66   \n",
       "\n",
       "     PhoneService     MultipleLines InternetService OnlineSecurity  ...  \\\n",
       "0              No  No phone service             DSL             No  ...   \n",
       "1             Yes                No             DSL            Yes  ...   \n",
       "2             Yes                No             DSL            Yes  ...   \n",
       "3              No  No phone service             DSL            Yes  ...   \n",
       "4             Yes                No     Fiber optic             No  ...   \n",
       "...           ...               ...             ...            ...  ...   \n",
       "7038          Yes               Yes             DSL            Yes  ...   \n",
       "7039          Yes               Yes     Fiber optic             No  ...   \n",
       "7040           No  No phone service             DSL            Yes  ...   \n",
       "7041          Yes               Yes     Fiber optic             No  ...   \n",
       "7042          Yes                No     Fiber optic            Yes  ...   \n",
       "\n",
       "     DeviceProtection TechSupport StreamingTV StreamingMovies        Contract  \\\n",
       "0                  No          No          No              No  Month-to-month   \n",
       "1                 Yes          No          No              No        One year   \n",
       "2                  No          No          No              No  Month-to-month   \n",
       "3                 Yes         Yes          No              No        One year   \n",
       "4                  No          No          No              No  Month-to-month   \n",
       "...               ...         ...         ...             ...             ...   \n",
       "7038              Yes         Yes         Yes             Yes        One year   \n",
       "7039              Yes          No         Yes             Yes        One year   \n",
       "7040               No          No          No              No  Month-to-month   \n",
       "7041               No          No          No              No  Month-to-month   \n",
       "7042              Yes         Yes         Yes             Yes        Two year   \n",
       "\n",
       "     PaperlessBilling              PaymentMethod MonthlyCharges  TotalCharges  \\\n",
       "0                 Yes           Electronic check          29.85         29.85   \n",
       "1                  No               Mailed check          56.95        1889.5   \n",
       "2                 Yes               Mailed check          53.85        108.15   \n",
       "3                  No  Bank transfer (automatic)          42.30       1840.75   \n",
       "4                 Yes           Electronic check          70.70        151.65   \n",
       "...               ...                        ...            ...           ...   \n",
       "7038              Yes               Mailed check          84.80        1990.5   \n",
       "7039              Yes    Credit card (automatic)         103.20        7362.9   \n",
       "7040              Yes           Electronic check          29.60        346.45   \n",
       "7041              Yes               Mailed check          74.40         306.6   \n",
       "7042              Yes  Bank transfer (automatic)         105.65        6844.5   \n",
       "\n",
       "     Churn  \n",
       "0       No  \n",
       "1       No  \n",
       "2      Yes  \n",
       "3       No  \n",
       "4      Yes  \n",
       "...    ...  \n",
       "7038    No  \n",
       "7039    No  \n",
       "7040    No  \n",
       "7041   Yes  \n",
       "7042    No  \n",
       "\n",
       "[7043 rows x 21 columns]"
      ]
     },
     "execution_count": 1,
     "metadata": {},
     "output_type": "execute_result"
    }
   ],
   "source": [
    "import pandas as pd\n",
    "df_churn=pd.read_csv(\"https://raw.githubusercontent.com/ind-kum/Datasets/master/Telecom%20customer%20churn%20dataset.csv\",sep=\",\")\n",
    "df_churn"
   ]
  },
  {
   "cell_type": "code",
   "execution_count": 2,
   "metadata": {},
   "outputs": [
    {
     "data": {
      "text/plain": [
       "customerID          0\n",
       "gender              0\n",
       "SeniorCitizen       0\n",
       "Partner             0\n",
       "Dependents          0\n",
       "tenure              0\n",
       "PhoneService        0\n",
       "MultipleLines       0\n",
       "InternetService     0\n",
       "OnlineSecurity      0\n",
       "OnlineBackup        0\n",
       "DeviceProtection    0\n",
       "TechSupport         0\n",
       "StreamingTV         0\n",
       "StreamingMovies     0\n",
       "Contract            0\n",
       "PaperlessBilling    0\n",
       "PaymentMethod       0\n",
       "MonthlyCharges      0\n",
       "TotalCharges        0\n",
       "Churn               0\n",
       "dtype: int64"
      ]
     },
     "execution_count": 2,
     "metadata": {},
     "output_type": "execute_result"
    }
   ],
   "source": [
    "#lets chcek the null values in the dataset\n",
    "df_churn.isnull().sum()\n",
    "#We can see in the entire dataset there are no null values"
   ]
  },
  {
   "cell_type": "code",
   "execution_count": 3,
   "metadata": {},
   "outputs": [
    {
     "data": {
      "text/plain": [
       "customerID           object\n",
       "gender               object\n",
       "SeniorCitizen         int64\n",
       "Partner              object\n",
       "Dependents           object\n",
       "tenure                int64\n",
       "PhoneService         object\n",
       "MultipleLines        object\n",
       "InternetService      object\n",
       "OnlineSecurity       object\n",
       "OnlineBackup         object\n",
       "DeviceProtection     object\n",
       "TechSupport          object\n",
       "StreamingTV          object\n",
       "StreamingMovies      object\n",
       "Contract             object\n",
       "PaperlessBilling     object\n",
       "PaymentMethod        object\n",
       "MonthlyCharges      float64\n",
       "TotalCharges         object\n",
       "Churn                object\n",
       "dtype: object"
      ]
     },
     "execution_count": 3,
     "metadata": {},
     "output_type": "execute_result"
    }
   ],
   "source": [
    "#Lets chcek the datatypes of columns\n",
    "df_churn.dtypes\n",
    "#Seeing below datatypes on thing is clear that Total charges need to converted to float"
   ]
  },
  {
   "cell_type": "code",
   "execution_count": 4,
   "metadata": {},
   "outputs": [],
   "source": [
    "#Lets do the conversion of \"TotalCharges\" column to float type\n",
    "df_churn[\"TotalCharges\"]=df_churn[\"TotalCharges\"].str.strip()\n",
    "df_churn[\"TotalCharges\"]=pd.to_numeric(df_churn[\"TotalCharges\"])"
   ]
  },
  {
   "cell_type": "code",
   "execution_count": 5,
   "metadata": {},
   "outputs": [
    {
     "data": {
      "text/plain": [
       "customerID           object\n",
       "gender               object\n",
       "SeniorCitizen         int64\n",
       "Partner              object\n",
       "Dependents           object\n",
       "tenure                int64\n",
       "PhoneService         object\n",
       "MultipleLines        object\n",
       "InternetService      object\n",
       "OnlineSecurity       object\n",
       "OnlineBackup         object\n",
       "DeviceProtection     object\n",
       "TechSupport          object\n",
       "StreamingTV          object\n",
       "StreamingMovies      object\n",
       "Contract             object\n",
       "PaperlessBilling     object\n",
       "PaymentMethod        object\n",
       "MonthlyCharges      float64\n",
       "TotalCharges        float64\n",
       "Churn                object\n",
       "dtype: object"
      ]
     },
     "execution_count": 5,
     "metadata": {},
     "output_type": "execute_result"
    }
   ],
   "source": [
    "#Lets chcek the datatypes again\n",
    "df_churn.dtypes\n",
    "#Hence we observe datatype has been changed to float for \"TotalCharges\""
   ]
  },
  {
   "cell_type": "code",
   "execution_count": 6,
   "metadata": {},
   "outputs": [
    {
     "data": {
      "text/plain": [
       "customerID           0\n",
       "gender               0\n",
       "SeniorCitizen        0\n",
       "Partner              0\n",
       "Dependents           0\n",
       "tenure               0\n",
       "PhoneService         0\n",
       "MultipleLines        0\n",
       "InternetService      0\n",
       "OnlineSecurity       0\n",
       "OnlineBackup         0\n",
       "DeviceProtection     0\n",
       "TechSupport          0\n",
       "StreamingTV          0\n",
       "StreamingMovies      0\n",
       "Contract             0\n",
       "PaperlessBilling     0\n",
       "PaymentMethod        0\n",
       "MonthlyCharges       0\n",
       "TotalCharges        11\n",
       "Churn                0\n",
       "dtype: int64"
      ]
     },
     "execution_count": 6,
     "metadata": {},
     "output_type": "execute_result"
    }
   ],
   "source": [
    "#lets chcek the null vaues\n",
    "df_churn.isnull().sum()\n",
    "#But above conversion genrated null values in TotalCharges column"
   ]
  },
  {
   "cell_type": "code",
   "execution_count": 7,
   "metadata": {},
   "outputs": [
    {
     "data": {
      "text/html": [
       "<div>\n",
       "<style scoped>\n",
       "    .dataframe tbody tr th:only-of-type {\n",
       "        vertical-align: middle;\n",
       "    }\n",
       "\n",
       "    .dataframe tbody tr th {\n",
       "        vertical-align: top;\n",
       "    }\n",
       "\n",
       "    .dataframe thead th {\n",
       "        text-align: right;\n",
       "    }\n",
       "</style>\n",
       "<table border=\"1\" class=\"dataframe\">\n",
       "  <thead>\n",
       "    <tr style=\"text-align: right;\">\n",
       "      <th></th>\n",
       "      <th>customerID</th>\n",
       "      <th>gender</th>\n",
       "      <th>SeniorCitizen</th>\n",
       "      <th>Partner</th>\n",
       "      <th>Dependents</th>\n",
       "      <th>tenure</th>\n",
       "      <th>PhoneService</th>\n",
       "      <th>MultipleLines</th>\n",
       "      <th>InternetService</th>\n",
       "      <th>OnlineSecurity</th>\n",
       "      <th>...</th>\n",
       "      <th>DeviceProtection</th>\n",
       "      <th>TechSupport</th>\n",
       "      <th>StreamingTV</th>\n",
       "      <th>StreamingMovies</th>\n",
       "      <th>Contract</th>\n",
       "      <th>PaperlessBilling</th>\n",
       "      <th>PaymentMethod</th>\n",
       "      <th>MonthlyCharges</th>\n",
       "      <th>TotalCharges</th>\n",
       "      <th>Churn</th>\n",
       "    </tr>\n",
       "  </thead>\n",
       "  <tbody>\n",
       "    <tr>\n",
       "      <th>488</th>\n",
       "      <td>4472-LVYGI</td>\n",
       "      <td>Female</td>\n",
       "      <td>0</td>\n",
       "      <td>Yes</td>\n",
       "      <td>Yes</td>\n",
       "      <td>0</td>\n",
       "      <td>No</td>\n",
       "      <td>No phone service</td>\n",
       "      <td>DSL</td>\n",
       "      <td>Yes</td>\n",
       "      <td>...</td>\n",
       "      <td>Yes</td>\n",
       "      <td>Yes</td>\n",
       "      <td>Yes</td>\n",
       "      <td>No</td>\n",
       "      <td>Two year</td>\n",
       "      <td>Yes</td>\n",
       "      <td>Bank transfer (automatic)</td>\n",
       "      <td>52.55</td>\n",
       "      <td>NaN</td>\n",
       "      <td>No</td>\n",
       "    </tr>\n",
       "    <tr>\n",
       "      <th>753</th>\n",
       "      <td>3115-CZMZD</td>\n",
       "      <td>Male</td>\n",
       "      <td>0</td>\n",
       "      <td>No</td>\n",
       "      <td>Yes</td>\n",
       "      <td>0</td>\n",
       "      <td>Yes</td>\n",
       "      <td>No</td>\n",
       "      <td>No</td>\n",
       "      <td>No internet service</td>\n",
       "      <td>...</td>\n",
       "      <td>No internet service</td>\n",
       "      <td>No internet service</td>\n",
       "      <td>No internet service</td>\n",
       "      <td>No internet service</td>\n",
       "      <td>Two year</td>\n",
       "      <td>No</td>\n",
       "      <td>Mailed check</td>\n",
       "      <td>20.25</td>\n",
       "      <td>NaN</td>\n",
       "      <td>No</td>\n",
       "    </tr>\n",
       "    <tr>\n",
       "      <th>936</th>\n",
       "      <td>5709-LVOEQ</td>\n",
       "      <td>Female</td>\n",
       "      <td>0</td>\n",
       "      <td>Yes</td>\n",
       "      <td>Yes</td>\n",
       "      <td>0</td>\n",
       "      <td>Yes</td>\n",
       "      <td>No</td>\n",
       "      <td>DSL</td>\n",
       "      <td>Yes</td>\n",
       "      <td>...</td>\n",
       "      <td>Yes</td>\n",
       "      <td>No</td>\n",
       "      <td>Yes</td>\n",
       "      <td>Yes</td>\n",
       "      <td>Two year</td>\n",
       "      <td>No</td>\n",
       "      <td>Mailed check</td>\n",
       "      <td>80.85</td>\n",
       "      <td>NaN</td>\n",
       "      <td>No</td>\n",
       "    </tr>\n",
       "    <tr>\n",
       "      <th>1082</th>\n",
       "      <td>4367-NUYAO</td>\n",
       "      <td>Male</td>\n",
       "      <td>0</td>\n",
       "      <td>Yes</td>\n",
       "      <td>Yes</td>\n",
       "      <td>0</td>\n",
       "      <td>Yes</td>\n",
       "      <td>Yes</td>\n",
       "      <td>No</td>\n",
       "      <td>No internet service</td>\n",
       "      <td>...</td>\n",
       "      <td>No internet service</td>\n",
       "      <td>No internet service</td>\n",
       "      <td>No internet service</td>\n",
       "      <td>No internet service</td>\n",
       "      <td>Two year</td>\n",
       "      <td>No</td>\n",
       "      <td>Mailed check</td>\n",
       "      <td>25.75</td>\n",
       "      <td>NaN</td>\n",
       "      <td>No</td>\n",
       "    </tr>\n",
       "    <tr>\n",
       "      <th>1340</th>\n",
       "      <td>1371-DWPAZ</td>\n",
       "      <td>Female</td>\n",
       "      <td>0</td>\n",
       "      <td>Yes</td>\n",
       "      <td>Yes</td>\n",
       "      <td>0</td>\n",
       "      <td>No</td>\n",
       "      <td>No phone service</td>\n",
       "      <td>DSL</td>\n",
       "      <td>Yes</td>\n",
       "      <td>...</td>\n",
       "      <td>Yes</td>\n",
       "      <td>Yes</td>\n",
       "      <td>Yes</td>\n",
       "      <td>No</td>\n",
       "      <td>Two year</td>\n",
       "      <td>No</td>\n",
       "      <td>Credit card (automatic)</td>\n",
       "      <td>56.05</td>\n",
       "      <td>NaN</td>\n",
       "      <td>No</td>\n",
       "    </tr>\n",
       "    <tr>\n",
       "      <th>3331</th>\n",
       "      <td>7644-OMVMY</td>\n",
       "      <td>Male</td>\n",
       "      <td>0</td>\n",
       "      <td>Yes</td>\n",
       "      <td>Yes</td>\n",
       "      <td>0</td>\n",
       "      <td>Yes</td>\n",
       "      <td>No</td>\n",
       "      <td>No</td>\n",
       "      <td>No internet service</td>\n",
       "      <td>...</td>\n",
       "      <td>No internet service</td>\n",
       "      <td>No internet service</td>\n",
       "      <td>No internet service</td>\n",
       "      <td>No internet service</td>\n",
       "      <td>Two year</td>\n",
       "      <td>No</td>\n",
       "      <td>Mailed check</td>\n",
       "      <td>19.85</td>\n",
       "      <td>NaN</td>\n",
       "      <td>No</td>\n",
       "    </tr>\n",
       "    <tr>\n",
       "      <th>3826</th>\n",
       "      <td>3213-VVOLG</td>\n",
       "      <td>Male</td>\n",
       "      <td>0</td>\n",
       "      <td>Yes</td>\n",
       "      <td>Yes</td>\n",
       "      <td>0</td>\n",
       "      <td>Yes</td>\n",
       "      <td>Yes</td>\n",
       "      <td>No</td>\n",
       "      <td>No internet service</td>\n",
       "      <td>...</td>\n",
       "      <td>No internet service</td>\n",
       "      <td>No internet service</td>\n",
       "      <td>No internet service</td>\n",
       "      <td>No internet service</td>\n",
       "      <td>Two year</td>\n",
       "      <td>No</td>\n",
       "      <td>Mailed check</td>\n",
       "      <td>25.35</td>\n",
       "      <td>NaN</td>\n",
       "      <td>No</td>\n",
       "    </tr>\n",
       "    <tr>\n",
       "      <th>4380</th>\n",
       "      <td>2520-SGTTA</td>\n",
       "      <td>Female</td>\n",
       "      <td>0</td>\n",
       "      <td>Yes</td>\n",
       "      <td>Yes</td>\n",
       "      <td>0</td>\n",
       "      <td>Yes</td>\n",
       "      <td>No</td>\n",
       "      <td>No</td>\n",
       "      <td>No internet service</td>\n",
       "      <td>...</td>\n",
       "      <td>No internet service</td>\n",
       "      <td>No internet service</td>\n",
       "      <td>No internet service</td>\n",
       "      <td>No internet service</td>\n",
       "      <td>Two year</td>\n",
       "      <td>No</td>\n",
       "      <td>Mailed check</td>\n",
       "      <td>20.00</td>\n",
       "      <td>NaN</td>\n",
       "      <td>No</td>\n",
       "    </tr>\n",
       "    <tr>\n",
       "      <th>5218</th>\n",
       "      <td>2923-ARZLG</td>\n",
       "      <td>Male</td>\n",
       "      <td>0</td>\n",
       "      <td>Yes</td>\n",
       "      <td>Yes</td>\n",
       "      <td>0</td>\n",
       "      <td>Yes</td>\n",
       "      <td>No</td>\n",
       "      <td>No</td>\n",
       "      <td>No internet service</td>\n",
       "      <td>...</td>\n",
       "      <td>No internet service</td>\n",
       "      <td>No internet service</td>\n",
       "      <td>No internet service</td>\n",
       "      <td>No internet service</td>\n",
       "      <td>One year</td>\n",
       "      <td>Yes</td>\n",
       "      <td>Mailed check</td>\n",
       "      <td>19.70</td>\n",
       "      <td>NaN</td>\n",
       "      <td>No</td>\n",
       "    </tr>\n",
       "    <tr>\n",
       "      <th>6670</th>\n",
       "      <td>4075-WKNIU</td>\n",
       "      <td>Female</td>\n",
       "      <td>0</td>\n",
       "      <td>Yes</td>\n",
       "      <td>Yes</td>\n",
       "      <td>0</td>\n",
       "      <td>Yes</td>\n",
       "      <td>Yes</td>\n",
       "      <td>DSL</td>\n",
       "      <td>No</td>\n",
       "      <td>...</td>\n",
       "      <td>Yes</td>\n",
       "      <td>Yes</td>\n",
       "      <td>Yes</td>\n",
       "      <td>No</td>\n",
       "      <td>Two year</td>\n",
       "      <td>No</td>\n",
       "      <td>Mailed check</td>\n",
       "      <td>73.35</td>\n",
       "      <td>NaN</td>\n",
       "      <td>No</td>\n",
       "    </tr>\n",
       "    <tr>\n",
       "      <th>6754</th>\n",
       "      <td>2775-SEFEE</td>\n",
       "      <td>Male</td>\n",
       "      <td>0</td>\n",
       "      <td>No</td>\n",
       "      <td>Yes</td>\n",
       "      <td>0</td>\n",
       "      <td>Yes</td>\n",
       "      <td>Yes</td>\n",
       "      <td>DSL</td>\n",
       "      <td>Yes</td>\n",
       "      <td>...</td>\n",
       "      <td>No</td>\n",
       "      <td>Yes</td>\n",
       "      <td>No</td>\n",
       "      <td>No</td>\n",
       "      <td>Two year</td>\n",
       "      <td>Yes</td>\n",
       "      <td>Bank transfer (automatic)</td>\n",
       "      <td>61.90</td>\n",
       "      <td>NaN</td>\n",
       "      <td>No</td>\n",
       "    </tr>\n",
       "  </tbody>\n",
       "</table>\n",
       "<p>11 rows × 21 columns</p>\n",
       "</div>"
      ],
      "text/plain": [
       "      customerID  gender  SeniorCitizen Partner Dependents  tenure  \\\n",
       "488   4472-LVYGI  Female              0     Yes        Yes       0   \n",
       "753   3115-CZMZD    Male              0      No        Yes       0   \n",
       "936   5709-LVOEQ  Female              0     Yes        Yes       0   \n",
       "1082  4367-NUYAO    Male              0     Yes        Yes       0   \n",
       "1340  1371-DWPAZ  Female              0     Yes        Yes       0   \n",
       "3331  7644-OMVMY    Male              0     Yes        Yes       0   \n",
       "3826  3213-VVOLG    Male              0     Yes        Yes       0   \n",
       "4380  2520-SGTTA  Female              0     Yes        Yes       0   \n",
       "5218  2923-ARZLG    Male              0     Yes        Yes       0   \n",
       "6670  4075-WKNIU  Female              0     Yes        Yes       0   \n",
       "6754  2775-SEFEE    Male              0      No        Yes       0   \n",
       "\n",
       "     PhoneService     MultipleLines InternetService       OnlineSecurity  ...  \\\n",
       "488            No  No phone service             DSL                  Yes  ...   \n",
       "753           Yes                No              No  No internet service  ...   \n",
       "936           Yes                No             DSL                  Yes  ...   \n",
       "1082          Yes               Yes              No  No internet service  ...   \n",
       "1340           No  No phone service             DSL                  Yes  ...   \n",
       "3331          Yes                No              No  No internet service  ...   \n",
       "3826          Yes               Yes              No  No internet service  ...   \n",
       "4380          Yes                No              No  No internet service  ...   \n",
       "5218          Yes                No              No  No internet service  ...   \n",
       "6670          Yes               Yes             DSL                   No  ...   \n",
       "6754          Yes               Yes             DSL                  Yes  ...   \n",
       "\n",
       "         DeviceProtection          TechSupport          StreamingTV  \\\n",
       "488                   Yes                  Yes                  Yes   \n",
       "753   No internet service  No internet service  No internet service   \n",
       "936                   Yes                   No                  Yes   \n",
       "1082  No internet service  No internet service  No internet service   \n",
       "1340                  Yes                  Yes                  Yes   \n",
       "3331  No internet service  No internet service  No internet service   \n",
       "3826  No internet service  No internet service  No internet service   \n",
       "4380  No internet service  No internet service  No internet service   \n",
       "5218  No internet service  No internet service  No internet service   \n",
       "6670                  Yes                  Yes                  Yes   \n",
       "6754                   No                  Yes                   No   \n",
       "\n",
       "          StreamingMovies  Contract PaperlessBilling  \\\n",
       "488                    No  Two year              Yes   \n",
       "753   No internet service  Two year               No   \n",
       "936                   Yes  Two year               No   \n",
       "1082  No internet service  Two year               No   \n",
       "1340                   No  Two year               No   \n",
       "3331  No internet service  Two year               No   \n",
       "3826  No internet service  Two year               No   \n",
       "4380  No internet service  Two year               No   \n",
       "5218  No internet service  One year              Yes   \n",
       "6670                   No  Two year               No   \n",
       "6754                   No  Two year              Yes   \n",
       "\n",
       "                  PaymentMethod MonthlyCharges  TotalCharges  Churn  \n",
       "488   Bank transfer (automatic)          52.55           NaN     No  \n",
       "753                Mailed check          20.25           NaN     No  \n",
       "936                Mailed check          80.85           NaN     No  \n",
       "1082               Mailed check          25.75           NaN     No  \n",
       "1340    Credit card (automatic)          56.05           NaN     No  \n",
       "3331               Mailed check          19.85           NaN     No  \n",
       "3826               Mailed check          25.35           NaN     No  \n",
       "4380               Mailed check          20.00           NaN     No  \n",
       "5218               Mailed check          19.70           NaN     No  \n",
       "6670               Mailed check          73.35           NaN     No  \n",
       "6754  Bank transfer (automatic)          61.90           NaN     No  \n",
       "\n",
       "[11 rows x 21 columns]"
      ]
     },
     "execution_count": 7,
     "metadata": {},
     "output_type": "execute_result"
    }
   ],
   "source": [
    "#lets chcek the rows where it raised null values\n",
    "df_churn.loc[df_churn[\"TotalCharges\"].isnull()]"
   ]
  },
  {
   "cell_type": "code",
   "execution_count": 8,
   "metadata": {},
   "outputs": [],
   "source": [
    "#imputing the genrated null values with mean in \"TotalCharges\"\n",
    "df_churn[\"TotalCharges\"].fillna(df_churn[\"TotalCharges\"].mean(),inplace=True)"
   ]
  },
  {
   "cell_type": "code",
   "execution_count": 9,
   "metadata": {},
   "outputs": [
    {
     "data": {
      "text/plain": [
       "customerID          0\n",
       "gender              0\n",
       "SeniorCitizen       0\n",
       "Partner             0\n",
       "Dependents          0\n",
       "tenure              0\n",
       "PhoneService        0\n",
       "MultipleLines       0\n",
       "InternetService     0\n",
       "OnlineSecurity      0\n",
       "OnlineBackup        0\n",
       "DeviceProtection    0\n",
       "TechSupport         0\n",
       "StreamingTV         0\n",
       "StreamingMovies     0\n",
       "Contract            0\n",
       "PaperlessBilling    0\n",
       "PaymentMethod       0\n",
       "MonthlyCharges      0\n",
       "TotalCharges        0\n",
       "Churn               0\n",
       "dtype: int64"
      ]
     },
     "execution_count": 9,
     "metadata": {},
     "output_type": "execute_result"
    }
   ],
   "source": [
    "#Lets again chcek null values\n",
    "df_churn.isnull().sum()\n",
    "#Hence imputation is successful"
   ]
  },
  {
   "cell_type": "code",
   "execution_count": 10,
   "metadata": {},
   "outputs": [],
   "source": [
    "#Also lets delete \"customerID\" column as it will not add any significance to the model building process\n",
    "df_churn.drop(columns=[\"customerID\"],inplace=True)"
   ]
  },
  {
   "cell_type": "code",
   "execution_count": 11,
   "metadata": {},
   "outputs": [
    {
     "name": "stdout",
     "output_type": "stream",
     "text": [
      "Male      3555\n",
      "Female    3488\n",
      "Name: gender, dtype: int64\n",
      "\n",
      "No     3641\n",
      "Yes    3402\n",
      "Name: Partner, dtype: int64\n",
      "\n",
      "No     4933\n",
      "Yes    2110\n",
      "Name: Dependents, dtype: int64\n",
      "\n",
      "Yes    6361\n",
      "No      682\n",
      "Name: PhoneService, dtype: int64\n",
      "\n",
      "No                  3390\n",
      "Yes                 2971\n",
      "No phone service     682\n",
      "Name: MultipleLines, dtype: int64\n",
      "\n",
      "Fiber optic    3096\n",
      "DSL            2421\n",
      "No             1526\n",
      "Name: InternetService, dtype: int64\n",
      "\n",
      "No                     3498\n",
      "Yes                    2019\n",
      "No internet service    1526\n",
      "Name: OnlineSecurity, dtype: int64\n",
      "\n",
      "No                     3088\n",
      "Yes                    2429\n",
      "No internet service    1526\n",
      "Name: OnlineBackup, dtype: int64\n",
      "\n",
      "No                     3095\n",
      "Yes                    2422\n",
      "No internet service    1526\n",
      "Name: DeviceProtection, dtype: int64\n",
      "\n",
      "No                     3473\n",
      "Yes                    2044\n",
      "No internet service    1526\n",
      "Name: TechSupport, dtype: int64\n",
      "\n",
      "No                     2810\n",
      "Yes                    2707\n",
      "No internet service    1526\n",
      "Name: StreamingTV, dtype: int64\n",
      "\n",
      "No                     2785\n",
      "Yes                    2732\n",
      "No internet service    1526\n",
      "Name: StreamingMovies, dtype: int64\n",
      "\n",
      "Month-to-month    3875\n",
      "Two year          1695\n",
      "One year          1473\n",
      "Name: Contract, dtype: int64\n",
      "\n",
      "Yes    4171\n",
      "No     2872\n",
      "Name: PaperlessBilling, dtype: int64\n",
      "\n",
      "Electronic check             2365\n",
      "Mailed check                 1612\n",
      "Bank transfer (automatic)    1544\n",
      "Credit card (automatic)      1522\n",
      "Name: PaymentMethod, dtype: int64\n",
      "\n",
      "No     5174\n",
      "Yes    1869\n",
      "Name: Churn, dtype: int64\n",
      "\n"
     ]
    }
   ],
   "source": [
    "#Lets chcek the value counts of each column of object datatype\n",
    "for col in df_churn.columns:\n",
    "    if df_churn[col].dtype==\"object\":\n",
    "        print(df_churn[col].value_counts())\n",
    "        print()"
   ]
  },
  {
   "cell_type": "code",
   "execution_count": 12,
   "metadata": {},
   "outputs": [
    {
     "data": {
      "image/png": "[encoded data removed]",
      "text/plain": [
       "<Figure size 432x288 with 1 Axes>"
      ]
     },
     "metadata": {
      "needs_background": "light"
     },
     "output_type": "display_data"
    }
   ],
   "source": [
    "#Lets do some graphical EDA\n",
    "import seaborn as sns\n",
    "import matplotlib.pyplot as plt\n",
    "sns.countplot(x=\"Churn\",data=df_churn)\n",
    "plt.show()\n",
    "#this shows dataset is imbalanced hence auc roc curve should be the metric"
   ]
  },
  {
   "cell_type": "code",
   "execution_count": 13,
   "metadata": {},
   "outputs": [
    {
     "data": {
      "image/png": "[encoded data removed]",
      "text/plain": [
       "<Figure size 432x288 with 1 Axes>"
      ]
     },
     "metadata": {
      "needs_background": "light"
     },
     "output_type": "display_data"
    }
   ],
   "source": [
    "#Which \"Contract\" type of cutsomers are churning more\n",
    "sns.countplot(x=\"Contract\",data=df_churn.loc[df_churn[\"Churn\"]==\"Yes\"])\n",
    "plt.show()\n",
    "#Customers who have churned are mostly having contract of \"Month to Month\""
   ]
  },
  {
   "cell_type": "code",
   "execution_count": 14,
   "metadata": {},
   "outputs": [
    {
     "data": {
      "image/png": "[encoded data removed]",
      "text/plain": [
       "<Figure size 432x288 with 1 Axes>"
      ]
     },
     "metadata": {
      "needs_background": "light"
     },
     "output_type": "display_data"
    }
   ],
   "source": [
    "#Lets seen the churn on the basis of gender\n",
    "sns.countplot(x=\"gender\",data=df_churn.loc[df_churn[\"Churn\"]==\"Yes\"])\n",
    "plt.show()\n",
    "#So boh type of genders equally churned"
   ]
  },
  {
   "cell_type": "code",
   "execution_count": 15,
   "metadata": {},
   "outputs": [
    {
     "data": {
      "image/png": "[encoded data removed]",
      "text/plain": [
       "<Figure size 432x288 with 1 Axes>"
      ]
     },
     "metadata": {
      "needs_background": "light"
     },
     "output_type": "display_data"
    }
   ],
   "source": [
    "#Lets check the count of churn on the basis \"InternetService\" \n",
    "sns.countplot(x=\"InternetService\",data=df_churn.loc[df_churn[\"Churn\"]==\"Yes\"])\n",
    "plt.show()\n",
    "#High amount of people i.e more than 1200 who churned are having InternetService of Fiber optic type\n",
    "#So may be this type of service is bad and needs to be focussed on"
   ]
  },
  {
   "cell_type": "code",
   "execution_count": 16,
   "metadata": {},
   "outputs": [
    {
     "data": {
      "image/png": "[encoded data removed]",
      "text/plain": [
       "<Figure size 432x288 with 1 Axes>"
      ]
     },
     "metadata": {
      "needs_background": "light"
     },
     "output_type": "display_data"
    }
   ],
   "source": [
    "#lets check the count of customers who churned on basis of \"PaymentMethod\"\n",
    "sns.countplot(x=\"PaymentMethod\",data=df_churn.loc[df_churn[\"Churn\"]==\"Yes\"])\n",
    "plt.show()\n",
    "#Here we obseved churn is higher around 1100 i.e more than 50% of churn where customers are using \"Electronic check\"\n",
    "#We can say this mode of payment has multiple issues because of which customers are dissatisfied"
   ]
  },
  {
   "cell_type": "code",
   "execution_count": 17,
   "metadata": {},
   "outputs": [
    {
     "data": {
      "image/png": "[encoded data removed]",
      "text/plain": [
       "<Figure size 432x288 with 1 Axes>"
      ]
     },
     "metadata": {
      "needs_background": "light"
     },
     "output_type": "display_data"
    }
   ],
   "source": [
    "#Lets chcek the count of churn on the basis of \"Partner\" \n",
    "sns.countplot(x=\"Partner\",data=df_churn.loc[df_churn[\"Churn\"]==\"Yes\"])\n",
    "plt.show()\n",
    "#churn in unmarried persons are more compared to married eventhough both type of customers almost equally exist in dataset"
   ]
  },
  {
   "cell_type": "code",
   "execution_count": 18,
   "metadata": {},
   "outputs": [
    {
     "data": {
      "image/png": "[encoded data removed]",
      "text/plain": [
       "<Figure size 432x288 with 1 Axes>"
      ]
     },
     "metadata": {
      "needs_background": "light"
     },
     "output_type": "display_data"
    }
   ],
   "source": [
    "#lets chcek the count of customers churn on the basis \"StreamingMovies\"\n",
    "sns.countplot(x=\"StreamingMovies\",data=df_churn.loc[df_churn[\"Churn\"]==\"Yes\"])\n",
    "plt.show()\n",
    "#difficult to infer anything from thi plot"
   ]
  },
  {
   "cell_type": "code",
   "execution_count": 19,
   "metadata": {},
   "outputs": [
    {
     "data": {
      "image/png": "[encoded data removed]",
      "text/plain": [
       "<Figure size 432x288 with 1 Axes>"
      ]
     },
     "metadata": {
      "needs_background": "light"
     },
     "output_type": "display_data"
    }
   ],
   "source": [
    "#lets chcek the count of customers churn on the basis \"MultipleLines\"\n",
    "sns.countplot(x=\"MultipleLines\",data=df_churn.loc[df_churn[\"Churn\"]==\"Yes\"])\n",
    "plt.show()"
   ]
  },
  {
   "cell_type": "code",
   "execution_count": 20,
   "metadata": {},
   "outputs": [
    {
     "data": {
      "text/plain": [
       "Index(['gender', 'SeniorCitizen', 'Partner', 'Dependents', 'tenure',\n",
       "       'PhoneService', 'MultipleLines', 'InternetService', 'OnlineSecurity',\n",
       "       'OnlineBackup', 'DeviceProtection', 'TechSupport', 'StreamingTV',\n",
       "       'StreamingMovies', 'Contract', 'PaperlessBilling', 'PaymentMethod',\n",
       "       'MonthlyCharges', 'TotalCharges', 'Churn'],\n",
       "      dtype='object')"
      ]
     },
     "execution_count": 20,
     "metadata": {},
     "output_type": "execute_result"
    }
   ],
   "source": [
    "df_churn.columns"
   ]
  },
  {
   "cell_type": "code",
   "execution_count": 21,
   "metadata": {},
   "outputs": [
    {
     "data": {
      "image/png": "[encoded data removed]",
      "text/plain": [
       "<Figure size 432x288 with 1 Axes>"
      ]
     },
     "metadata": {
      "needs_background": "light"
     },
     "output_type": "display_data"
    }
   ],
   "source": [
    "#Now lets check the count of \"SeniorCitizen\"\n",
    "sns.countplot(x=\"SeniorCitizen\",hue=\"Churn\",data=df_churn)\n",
    "plt.show()\n",
    "#Most of the senior citizens churned ...we could inspect the reason for their churn"
   ]
  },
  {
   "cell_type": "code",
   "execution_count": 22,
   "metadata": {},
   "outputs": [
    {
     "data": {
      "image/png": "[encoded data removed]",
      "text/plain": [
       "<Figure size 432x288 with 1 Axes>"
      ]
     },
     "metadata": {
      "needs_background": "light"
     },
     "output_type": "display_data"
    }
   ],
   "source": [
    "#lets chcek the count of customers churn on the basis \"MultipleLines\"\n",
    "sns.countplot(x=\"TechSupport\",data=df_churn.loc[df_churn[\"Churn\"]==\"Yes\"])\n",
    "plt.show()\n",
    "#Around 1400 people who churned were not having TechSupport\n",
    "#We should chcek the reason behind this too"
   ]
  },
  {
   "cell_type": "code",
   "execution_count": 23,
   "metadata": {},
   "outputs": [
    {
     "data": {
      "image/png": "[encoded data removed]",
      "text/plain": [
       "<Figure size 432x288 with 1 Axes>"
      ]
     },
     "metadata": {
      "needs_background": "light"
     },
     "output_type": "display_data"
    }
   ],
   "source": [
    "#lets chcek the average montly charges af the customers who chunrned compared to who didn't\n",
    "sns.barplot(x=\"Churn\",y=\"MonthlyCharges\",data=df_churn)\n",
    "plt.show()\n",
    "#customers who churned were charged more than who didnt"
   ]
  },
  {
   "cell_type": "code",
   "execution_count": 24,
   "metadata": {},
   "outputs": [
    {
     "data": {
      "image/png": "[encoded data removed]",
      "text/plain": [
       "<Figure size 432x288 with 1 Axes>"
      ]
     },
     "metadata": {
      "needs_background": "light"
     },
     "output_type": "display_data"
    }
   ],
   "source": [
    "#lets chcek the average total charges af the customers who chunrned compared to who didn't\n",
    "sns.barplot(x=\"Churn\",y=\"TotalCharges\",data=df_churn)\n",
    "plt.show()\n",
    "#customers who didnt chuned has averge total charges more"
   ]
  },
  {
   "cell_type": "code",
   "execution_count": 25,
   "metadata": {},
   "outputs": [],
   "source": [
    "#Lets divide the dataset into input and output\n",
    "df_x=df_churn.drop(columns=[\"Churn\"])\n",
    "y=df_churn[[\"Churn\"]]"
   ]
  },
  {
   "cell_type": "code",
   "execution_count": 26,
   "metadata": {},
   "outputs": [],
   "source": [
    "#Lets convert our dataset to a numeric form such that our M.L model can understand using on hot encoding\n",
    "df_x=pd.get_dummies(df_x,drop_first=True)"
   ]
  },
  {
   "cell_type": "code",
   "execution_count": 27,
   "metadata": {},
   "outputs": [
    {
     "data": {
      "text/plain": [
       "(7043, 30)"
      ]
     },
     "execution_count": 27,
     "metadata": {},
     "output_type": "execute_result"
    }
   ],
   "source": [
    "#Lets chcek the shape\n",
    "df_x.shape\n",
    "#Number column increased from 20 to 30 in input as a result of one hot encoding"
   ]
  },
  {
   "cell_type": "code",
   "execution_count": 28,
   "metadata": {},
   "outputs": [
    {
     "name": "stderr",
     "output_type": "stream",
     "text": [
      "C:\\ProgramData\\Anaconda3\\lib\\site-packages\\sklearn\\preprocessing\\_label.py:251: DataConversionWarning: A column-vector y was passed when a 1d array was expected. Please change the shape of y to (n_samples, ), for example using ravel().\n",
      "  y = column_or_1d(y, warn=True)\n"
     ]
    }
   ],
   "source": [
    "from sklearn.preprocessing import LabelEncoder\n",
    "y=LabelEncoder().fit_transform(y)"
   ]
  },
  {
   "cell_type": "code",
   "execution_count": 29,
   "metadata": {},
   "outputs": [],
   "source": [
    "#since it is imbalanced dataset so we will focus on auc-roc score\n",
    "from imblearn.over_sampling import SMOTE\n",
    "from sklearn.metrics import roc_auc_score\n",
    "from sklearn.model_selection import train_test_split\n",
    "def max_aucroc_score(clf,df_x,y):\n",
    "    max_aucroc_score=0\n",
    "    for r_state in range(42,100):\n",
    "        x_train, x_test, y_train, y_test = train_test_split(df_x, y,random_state = r_state,test_size=0.20,stratify=y)\n",
    "        x_train, y_train = SMOTE().fit_sample(x_train, y_train)\n",
    "        clf.fit(x_train,y_train)\n",
    "        y_pred = clf.predict(x_test)\n",
    "        aucroc_scr=roc_auc_score(y_test,y_pred)\n",
    "        print(\"auc roc score corresponding to \",r_state,\" is \",aucroc_scr)\n",
    "        if aucroc_scr>max_aucroc_score:\n",
    "            max_aucroc_score=aucroc_scr\n",
    "            final_r_state=r_state\n",
    "    print(\"max auc roc score corresponding to \",final_r_state,\" is \",max_aucroc_score)\n",
    "    return final_r_state"
   ]
  },
  {
   "cell_type": "code",
   "execution_count": 30,
   "metadata": {},
   "outputs": [],
   "source": [
    "#lets make a function which evaluates the model using cross_val_score\n",
    "from sklearn.model_selection import cross_val_score\n",
    "def model_evaluation(model,x,y):\n",
    "    scores=cross_val_score(model,x,y,cv=5,scoring=\"roc_auc\")\n",
    "    print(\"Mean roc auc score for classifier: \",scores.mean())\n",
    "    print(\"standard deviation in roc auc score for classifier: \",scores.std())\n",
    "    print(scores)"
   ]
  },
  {
   "cell_type": "code",
   "execution_count": 31,
   "metadata": {},
   "outputs": [],
   "source": [
    "#let's bring the features to same scale\n",
    "from sklearn.preprocessing import StandardScaler\n",
    "sc=StandardScaler()\n",
    "sc.fit(df_x)\n",
    "x=sc.transform(df_x)\n",
    "x=pd.DataFrame(x,columns=df_x.columns)"
   ]
  },
  {
   "cell_type": "code",
   "execution_count": 32,
   "metadata": {},
   "outputs": [
    {
     "name": "stdout",
     "output_type": "stream",
     "text": [
      "auc roc score corresponding to  42  is  0.7503900901599111\n",
      "auc roc score corresponding to  43  is  0.7802965718566742\n",
      "auc roc score corresponding to  44  is  0.7727918571908342\n",
      "auc roc score corresponding to  45  is  0.7685111989459816\n",
      "auc roc score corresponding to  46  is  0.7625009687669534\n",
      "auc roc score corresponding to  47  is  0.7520189103309308\n",
      "auc roc score corresponding to  48  is  0.7719716345036037\n",
      "auc roc score corresponding to  49  is  0.7516934046345811\n",
      "auc roc score corresponding to  50  is  0.7495698674726807\n",
      "auc roc score corresponding to  51  is  0.7821501459608876\n",
      "auc roc score corresponding to  52  is  0.7727918571908342\n",
      "auc roc score corresponding to  53  is  0.7706799452323749\n",
      "auc roc score corresponding to  54  is  0.7664780800330673\n",
      "auc roc score corresponding to  55  is  0.7825208607817304\n",
      "auc roc score corresponding to  56  is  0.7550298380221653\n",
      "auc roc score corresponding to  57  is  0.7591193262548761\n",
      "auc roc score corresponding to  58  is  0.7718592575370069\n",
      "auc roc score corresponding to  59  is  0.7478958381771681\n",
      "auc roc score corresponding to  60  is  0.7792515952362499\n",
      "auc roc score corresponding to  61  is  0.7720840114702008\n",
      "auc roc score corresponding to  62  is  0.75689503732982\n",
      "auc roc score corresponding to  63  is  0.7656694825492779\n",
      "auc roc score corresponding to  64  is  0.7778811129194761\n",
      "auc roc score corresponding to  65  is  0.7694773825208608\n",
      "auc roc score corresponding to  66  is  0.7609729003590896\n",
      "auc roc score corresponding to  67  is  0.7525807951639154\n",
      "auc roc score corresponding to  68  is  0.7610516934046347\n",
      "auc roc score corresponding to  69  is  0.755558138934098\n",
      "auc roc score corresponding to  70  is  0.7624557596424605\n",
      "auc roc score corresponding to  71  is  0.7753196930946291\n",
      "auc roc score corresponding to  72  is  0.7846663566612416\n",
      "auc roc score corresponding to  73  is  0.7512103128471415\n",
      "auc roc score corresponding to  74  is  0.7682980702162288\n",
      "auc roc score corresponding to  75  is  0.7895424836601307\n",
      "auc roc score corresponding to  76  is  0.7422227388979307\n",
      "auc roc score corresponding to  77  is  0.7531762639179519\n",
      "auc roc score corresponding to  78  is  0.754243199255987\n",
      "auc roc score corresponding to  79  is  0.773083778966132\n",
      "auc roc score corresponding to  80  is  0.7667028339662612\n",
      "auc roc score corresponding to  81  is  0.7660285721666796\n",
      "auc roc score corresponding to  82  is  0.7632423984086387\n",
      "auc roc score corresponding to  83  is  0.7601978867963523\n",
      "auc roc score corresponding to  84  is  0.7711514118163736\n",
      "auc roc score corresponding to  85  is  0.7523560412307214\n",
      "auc roc score corresponding to  86  is  0.7834082513110647\n",
      "auc roc score corresponding to  87  is  0.7594900410757188\n",
      "auc roc score corresponding to  88  is  0.7728254411118862\n",
      "auc roc score corresponding to  89  is  0.755558138934098\n",
      "auc roc score corresponding to  90  is  0.7610852773256864\n",
      "auc roc score corresponding to  91  is  0.754367201426025\n",
      "auc roc score corresponding to  92  is  0.7786225425611615\n",
      "auc roc score corresponding to  93  is  0.7650623885918004\n",
      "auc roc score corresponding to  94  is  0.7748701852282415\n",
      "auc roc score corresponding to  95  is  0.7578612209046992\n",
      "auc roc score corresponding to  96  is  0.7525136273218115\n",
      "auc roc score corresponding to  97  is  0.7670619235836628\n",
      "auc roc score corresponding to  98  is  0.7564455294634324\n",
      "auc roc score corresponding to  99  is  0.7546707484047638\n",
      "max auc roc score corresponding to  75  is  0.7895424836601307\n"
     ]
    },
    {
     "data": {
      "text/plain": [
       "75"
      ]
     },
     "execution_count": 32,
     "metadata": {},
     "output_type": "execute_result"
    }
   ],
   "source": [
    "#Lets chcek logistic regression\n",
    "from sklearn.linear_model import LogisticRegression\n",
    "import warnings\n",
    "warnings.filterwarnings(\"ignore\")\n",
    "lg_clf=LogisticRegression()\n",
    "max_aucroc_score(lg_clf,x,y)"
   ]
  },
  {
   "cell_type": "code",
   "execution_count": 33,
   "metadata": {},
   "outputs": [
    {
     "name": "stdout",
     "output_type": "stream",
     "text": [
      "LOGISTIC CLASSIFIER\n",
      "\n",
      "\n",
      "Mean roc auc score for classifier:  0.8453234144988361\n",
      "standard deviation in roc auc score for classifier:  0.010954443386459732\n",
      "[0.85826294 0.85883903 0.83320804 0.83776664 0.83854043]\n"
     ]
    }
   ],
   "source": [
    "#lets print the scores for logistic regression\n",
    "print(\"LOGISTIC CLASSIFIER\\n\\n\")\n",
    "model_evaluation(lg_clf,x,y)"
   ]
  },
  {
   "cell_type": "code",
   "execution_count": 34,
   "metadata": {},
   "outputs": [
    {
     "name": "stdout",
     "output_type": "stream",
     "text": [
      "auc roc score corresponding to  42  is  0.6495840760546643\n",
      "auc roc score corresponding to  43  is  0.6840515125681367\n",
      "auc roc score corresponding to  44  is  0.647438580175153\n",
      "auc roc score corresponding to  45  is  0.6694915911028443\n",
      "auc roc score corresponding to  46  is  0.6758053682606111\n",
      "auc roc score corresponding to  47  is  0.640001033351417\n",
      "auc roc score corresponding to  48  is  0.6479100467591516\n",
      "auc roc score corresponding to  49  is  0.6806698700560593\n",
      "auc roc score corresponding to  50  is  0.6478764628380997\n",
      "auc roc score corresponding to  51  is  0.6568640367873105\n",
      "auc roc score corresponding to  52  is  0.6585044821617713\n",
      "auc roc score corresponding to  53  is  0.6756594073729624\n",
      "auc roc score corresponding to  54  is  0.6638068666201659\n",
      "auc roc score corresponding to  55  is  0.6596837944664031\n",
      "auc roc score corresponding to  56  is  0.6479436306802037\n",
      "auc roc score corresponding to  57  is  0.6379562892350616\n",
      "auc roc score corresponding to  58  is  0.6868376863261774\n",
      "auc roc score corresponding to  59  is  0.6541114469503216\n",
      "auc roc score corresponding to  60  is  0.6234751608153144\n",
      "auc roc score corresponding to  61  is  0.6616161616161615\n",
      "auc roc score corresponding to  62  is  0.6728396496938696\n",
      "auc roc score corresponding to  63  is  0.6618073316283035\n",
      "auc roc score corresponding to  64  is  0.672244180939833\n",
      "auc roc score corresponding to  65  is  0.6704241907566716\n",
      "auc roc score corresponding to  66  is  0.6645818801829032\n",
      "auc roc score corresponding to  67  is  0.6364398460306389\n",
      "auc roc score corresponding to  68  is  0.6646606732284481\n",
      "auc roc score corresponding to  69  is  0.6562349841122219\n",
      "auc roc score corresponding to  70  is  0.6726820636027796\n",
      "auc roc score corresponding to  71  is  0.6615825776951096\n",
      "auc roc score corresponding to  72  is  0.658605233924927\n",
      "auc roc score corresponding to  73  is  0.6618073316283035\n",
      "auc roc score corresponding to  74  is  0.6304967836937146\n",
      "auc roc score corresponding to  75  is  0.6856131648970524\n",
      "auc roc score corresponding to  76  is  0.6670089643235424\n",
      "auc roc score corresponding to  77  is  0.6845681882766282\n",
      "auc roc score corresponding to  78  is  0.6748727686067839\n",
      "auc roc score corresponding to  79  is  0.6715027512981477\n",
      "auc roc score corresponding to  80  is  0.6668513782324526\n",
      "auc roc score corresponding to  81  is  0.6814112996977446\n",
      "auc roc score corresponding to  82  is  0.6496964530212612\n",
      "auc roc score corresponding to  83  is  0.6651101810948358\n",
      "auc roc score corresponding to  84  is  0.6711656203983569\n",
      "auc roc score corresponding to  85  is  0.6503138804929086\n",
      "auc roc score corresponding to  86  is  0.6701658529024259\n",
      "auc roc score corresponding to  87  is  0.64869668552533\n",
      "auc roc score corresponding to  88  is  0.6701994368234777\n",
      "auc roc score corresponding to  89  is  0.6504378826629466\n",
      "auc roc score corresponding to  90  is  0.6722777648608851\n",
      "auc roc score corresponding to  91  is  0.6632901909116742\n",
      "auc roc score corresponding to  92  is  0.6776925262858766\n",
      "auc roc score corresponding to  93  is  0.6446407812136712\n",
      "auc roc score corresponding to  94  is  0.6655596889612235\n",
      "auc roc score corresponding to  95  is  0.6434614689090392\n",
      "auc roc score corresponding to  96  is  0.6580885582164355\n",
      "auc roc score corresponding to  97  is  0.6305303676147666\n",
      "auc roc score corresponding to  98  is  0.6592794957245086\n",
      "auc roc score corresponding to  99  is  0.6515164432044228\n",
      "max auc roc score corresponding to  58  is  0.6868376863261774\n"
     ]
    },
    {
     "data": {
      "text/plain": [
       "58"
      ]
     },
     "execution_count": 34,
     "metadata": {},
     "output_type": "execute_result"
    }
   ],
   "source": [
    "#Lets chcek the decision tree\n",
    "from sklearn.tree import DecisionTreeClassifier\n",
    "dc=DecisionTreeClassifier()\n",
    "max_aucroc_score(dc,df_x,y)"
   ]
  },
  {
   "cell_type": "code",
   "execution_count": 35,
   "metadata": {},
   "outputs": [
    {
     "name": "stdout",
     "output_type": "stream",
     "text": [
      "Decision tree CLASSIFIER\n",
      "\n",
      "\n",
      "Mean roc auc score for classifier:  0.6541779158912785\n",
      "standard deviation in roc auc score for classifier:  0.011404034750313714\n",
      "[0.66198558 0.6590767  0.64217882 0.63931435 0.66833413]\n"
     ]
    }
   ],
   "source": [
    "#Lets print the scores of decision tree\n",
    "print(\"Decision tree CLASSIFIER\\n\\n\")\n",
    "model_evaluation(dc,df_x,y)"
   ]
  },
  {
   "cell_type": "code",
   "execution_count": 36,
   "metadata": {},
   "outputs": [
    {
     "data": {
      "text/plain": [
       "{'n_estimators': 500}"
      ]
     },
     "execution_count": 36,
     "metadata": {},
     "output_type": "execute_result"
    }
   ],
   "source": [
    "#lets chcek random forest also\n",
    "from sklearn.ensemble import RandomForestClassifier\n",
    "from sklearn.model_selection import GridSearchCV\n",
    "parameters={\"n_estimators\":[10,100,500]}\n",
    "rf_clf=RandomForestClassifier()\n",
    "clf = GridSearchCV(rf_clf, parameters, cv=10,scoring=\"roc_auc\")\n",
    "clf.fit(df_x,y)\n",
    "clf.best_params_"
   ]
  },
  {
   "cell_type": "code",
   "execution_count": 37,
   "metadata": {},
   "outputs": [
    {
     "name": "stdout",
     "output_type": "stream",
     "text": [
      "auc roc score corresponding to  42  is  0.7256193650055542\n",
      "auc roc score corresponding to  43  is  0.7350228629001008\n",
      "auc roc score corresponding to  44  is  0.7272262264589632\n",
      "auc roc score corresponding to  45  is  0.701150895140665\n",
      "auc roc score corresponding to  46  is  0.719755095714175\n",
      "auc roc score corresponding to  47  is  0.6975444986953938\n",
      "auc roc score corresponding to  48  is  0.6884109638585343\n",
      "auc roc score corresponding to  49  is  0.7118796662274923\n",
      "auc roc score corresponding to  50  is  0.6996228267328012\n",
      "auc roc score corresponding to  51  is  0.7190136660724896\n",
      "auc roc score corresponding to  52  is  0.7238781678679377\n",
      "auc roc score corresponding to  53  is  0.7201374357384588\n",
      "auc roc score corresponding to  54  is  0.7255186132423985\n",
      "auc roc score corresponding to  55  is  0.71967630266863\n",
      "auc roc score corresponding to  56  is  0.6901521609961508\n",
      "auc roc score corresponding to  57  is  0.7160027383812549\n",
      "auc roc score corresponding to  58  is  0.7194179648143842\n",
      "auc roc score corresponding to  59  is  0.7167777519439923\n",
      "auc roc score corresponding to  60  is  0.7242488826887804\n",
      "auc roc score corresponding to  61  is  0.7261812498385387\n",
      "auc roc score corresponding to  62  is  0.7108463148105091\n",
      "auc roc score corresponding to  63  is  0.7129582267689685\n",
      "auc roc score corresponding to  64  is  0.7226200625177608\n",
      "auc roc score corresponding to  65  is  0.7254734041179054\n",
      "auc roc score corresponding to  66  is  0.717294427652484\n",
      "auc roc score corresponding to  67  is  0.7192720039267353\n",
      "auc roc score corresponding to  68  is  0.7140367873104446\n",
      "auc roc score corresponding to  69  is  0.7200922266139658\n",
      "auc roc score corresponding to  70  is  0.7195639257020331\n",
      "auc roc score corresponding to  71  is  0.7280464491461933\n",
      "auc roc score corresponding to  72  is  0.7401792864708465\n",
      "auc roc score corresponding to  73  is  0.7172724689348731\n",
      "auc roc score corresponding to  74  is  0.7101720530109277\n",
      "auc roc score corresponding to  75  is  0.7448642434575938\n",
      "auc roc score corresponding to  76  is  0.6919385672582603\n",
      "auc roc score corresponding to  77  is  0.7190472499935415\n",
      "auc roc score corresponding to  78  is  0.7306298276886513\n",
      "auc roc score corresponding to  79  is  0.7106551447983672\n",
      "auc roc score corresponding to  80  is  0.7144075021312873\n",
      "auc roc score corresponding to  81  is  0.7168565449895373\n",
      "auc roc score corresponding to  82  is  0.7219122167971274\n",
      "auc roc score corresponding to  83  is  0.7112170296313519\n",
      "auc roc score corresponding to  84  is  0.7356183316541373\n",
      "auc roc score corresponding to  85  is  0.7132501485442662\n",
      "auc roc score corresponding to  86  is  0.7327197809294996\n",
      "auc roc score corresponding to  87  is  0.7299336071714588\n",
      "auc roc score corresponding to  88  is  0.732270273063112\n",
      "auc roc score corresponding to  89  is  0.7258441189387481\n",
      "auc roc score corresponding to  90  is  0.7204629414348085\n",
      "auc roc score corresponding to  91  is  0.7214291250096878\n",
      "auc roc score corresponding to  92  is  0.740999509158077\n",
      "auc roc score corresponding to  93  is  0.7124751349815289\n",
      "auc roc score corresponding to  94  is  0.74088713219148\n",
      "auc roc score corresponding to  95  is  0.7049820455191299\n",
      "auc roc score corresponding to  96  is  0.7268890955591722\n",
      "auc roc score corresponding to  97  is  0.7144410860523392\n",
      "auc roc score corresponding to  98  is  0.7080937249735204\n",
      "auc roc score corresponding to  99  is  0.6997468289028391\n",
      "max auc roc score corresponding to  75  is  0.7448642434575938\n"
     ]
    },
    {
     "data": {
      "text/plain": [
       "75"
      ]
     },
     "execution_count": 37,
     "metadata": {},
     "output_type": "execute_result"
    }
   ],
   "source": [
    "rf_clf=RandomForestClassifier(n_estimators=500)\n",
    "max_aucroc_score(rf_clf,df_x,y)"
   ]
  },
  {
   "cell_type": "code",
   "execution_count": 38,
   "metadata": {},
   "outputs": [
    {
     "data": {
      "text/plain": [
       "{'n_neighbors': 29}"
      ]
     },
     "execution_count": 38,
     "metadata": {},
     "output_type": "execute_result"
    }
   ],
   "source": [
    "#lets chcek KNN\n",
    "from sklearn.neighbors import KNeighborsClassifier\n",
    "import warnings\n",
    "warnings.filterwarnings(\"ignore\")\n",
    "kc=KNeighborsClassifier()\n",
    "neighbors={\"n_neighbors\":range(1,30)}\n",
    "clf = GridSearchCV(kc, neighbors, cv=5,scoring=\"roc_auc\")\n",
    "clf.fit(x,y)\n",
    "clf.best_params_"
   ]
  },
  {
   "cell_type": "code",
   "execution_count": 39,
   "metadata": {},
   "outputs": [
    {
     "name": "stdout",
     "output_type": "stream",
     "text": [
      "auc roc score corresponding to  42  is  0.7262574595055413\n",
      "auc roc score corresponding to  43  is  0.7511082693947144\n",
      "auc roc score corresponding to  44  is  0.7585341910150094\n",
      "auc roc score corresponding to  45  is  0.7272572270014726\n",
      "auc roc score corresponding to  46  is  0.7268865121806298\n",
      "auc roc score corresponding to  47  is  0.7214937094732492\n",
      "auc roc score corresponding to  48  is  0.7413676406003772\n",
      "auc roc score corresponding to  49  is  0.7343124338009249\n",
      "auc roc score corresponding to  50  is  0.7201232271564754\n",
      "auc roc score corresponding to  51  is  0.7415252266914671\n",
      "auc roc score corresponding to  52  is  0.7494006561781498\n",
      "auc roc score corresponding to  53  is  0.7361776331085794\n",
      "auc roc score corresponding to  54  is  0.7282905784184556\n",
      "auc roc score corresponding to  55  is  0.7423338241752565\n",
      "auc roc score corresponding to  56  is  0.7298186468263195\n",
      "auc roc score corresponding to  57  is  0.7282569944974038\n",
      "auc roc score corresponding to  58  is  0.7508499315404686\n",
      "auc roc score corresponding to  59  is  0.7151799323154822\n",
      "auc roc score corresponding to  60  is  0.7369862305923687\n",
      "auc roc score corresponding to  61  is  0.7339417189800822\n",
      "auc roc score corresponding to  62  is  0.7358405022087886\n",
      "auc roc score corresponding to  63  is  0.731796223100571\n",
      "auc roc score corresponding to  64  is  0.7525239608359813\n",
      "auc roc score corresponding to  65  is  0.7409633418584824\n",
      "auc roc score corresponding to  66  is  0.7283693714640006\n",
      "auc roc score corresponding to  67  is  0.7151127644733783\n",
      "auc roc score corresponding to  68  is  0.7332338732594488\n",
      "auc roc score corresponding to  69  is  0.725437236818311\n",
      "auc roc score corresponding to  70  is  0.7457154666873337\n",
      "auc roc score corresponding to  71  is  0.7436035547288744\n",
      "auc roc score corresponding to  72  is  0.7401431191712521\n",
      "auc roc score corresponding to  73  is  0.7355821643545429\n",
      "auc roc score corresponding to  74  is  0.7335710041592395\n",
      "auc roc score corresponding to  75  is  0.7476930429615852\n",
      "auc roc score corresponding to  76  is  0.7132256064481128\n",
      "auc roc score corresponding to  77  is  0.7370650236379137\n",
      "auc roc score corresponding to  78  is  0.7373905293342633\n",
      "auc roc score corresponding to  79  is  0.7423002402542044\n",
      "auc roc score corresponding to  80  is  0.743974269549717\n",
      "auc roc score corresponding to  81  is  0.7457606758118267\n",
      "auc roc score corresponding to  82  is  0.7352114495337002\n",
      "auc roc score corresponding to  83  is  0.7267405512929809\n",
      "auc roc score corresponding to  84  is  0.7436035547288744\n",
      "auc roc score corresponding to  85  is  0.7160001550027126\n",
      "auc roc score corresponding to  86  is  0.7438618925831202\n",
      "auc roc score corresponding to  87  is  0.7457154666873337\n",
      "auc roc score corresponding to  88  is  0.7517709059908548\n",
      "auc roc score corresponding to  89  is  0.7497377870779405\n",
      "auc roc score corresponding to  90  is  0.7303017386137591\n",
      "auc roc score corresponding to  91  is  0.7262910434265933\n",
      "auc roc score corresponding to  92  is  0.7427497481205921\n",
      "auc roc score corresponding to  93  is  0.7162249089359063\n",
      "auc roc score corresponding to  94  is  0.7385478829212845\n",
      "auc roc score corresponding to  95  is  0.726931721305123\n",
      "auc roc score corresponding to  96  is  0.7212017876979514\n",
      "auc roc score corresponding to  97  is  0.725324859851714\n",
      "auc roc score corresponding to  98  is  0.7164832467901522\n",
      "auc roc score corresponding to  99  is  0.7498501640445374\n",
      "max auc roc score corresponding to  44  is  0.7585341910150094\n"
     ]
    },
    {
     "data": {
      "text/plain": [
       "44"
      ]
     },
     "execution_count": 39,
     "metadata": {},
     "output_type": "execute_result"
    }
   ],
   "source": [
    "kc=KNeighborsClassifier(n_neighbors=29)\n",
    "max_aucroc_score(kc,x,y)"
   ]
  },
  {
   "cell_type": "code",
   "execution_count": 40,
   "metadata": {},
   "outputs": [
    {
     "data": {
      "text/plain": [
       "{'C': 0.001, 'kernel': 'linear'}"
      ]
     },
     "execution_count": 40,
     "metadata": {},
     "output_type": "execute_result"
    }
   ],
   "source": [
    "#Lets chcek SVM Classifier\n",
    "from sklearn.svm import SVC\n",
    "from sklearn.model_selection import GridSearchCV\n",
    "svc=SVC()\n",
    "parameters={\"kernel\":[\"linear\", \"poly\", \"rbf\"],\"C\":[0.001,0.01,0.1,1,10]}\n",
    "clf = GridSearchCV(svc, parameters, cv=5,scoring=\"roc_auc\")\n",
    "clf.fit(x,y)\n",
    "clf.best_params_"
   ]
  },
  {
   "cell_type": "code",
   "execution_count": 41,
   "metadata": {},
   "outputs": [
    {
     "name": "stdout",
     "output_type": "stream",
     "text": [
      "auc roc score corresponding to  42  is  0.750569634968612\n",
      "auc roc score corresponding to  43  is  0.7744206773618539\n",
      "auc roc score corresponding to  44  is  0.7760494975328736\n",
      "auc roc score corresponding to  45  is  0.753018677826862\n",
      "auc roc score corresponding to  46  is  0.7527267560515642\n",
      "auc roc score corresponding to  47  is  0.7466261076235501\n",
      "auc roc score corresponding to  48  is  0.7646464646464647\n",
      "auc roc score corresponding to  49  is  0.7542884083804801\n",
      "auc roc score corresponding to  50  is  0.7416156449404532\n",
      "auc roc score corresponding to  51  is  0.766803585729417\n",
      "auc roc score corresponding to  52  is  0.7662869100209254\n",
      "auc roc score corresponding to  53  is  0.7723423493244466\n",
      "auc roc score corresponding to  54  is  0.7508279728228577\n",
      "auc roc score corresponding to  55  is  0.7674326384045054\n",
      "auc roc score corresponding to  56  is  0.7379756645741301\n",
      "auc roc score corresponding to  57  is  0.7556588906972539\n",
      "auc roc score corresponding to  58  is  0.7647924255341135\n",
      "auc roc score corresponding to  59  is  0.7422446976155417\n",
      "auc roc score corresponding to  60  is  0.7660957400087836\n",
      "auc roc score corresponding to  61  is  0.7544679531891808\n",
      "auc roc score corresponding to  62  is  0.7500529592601204\n",
      "auc roc score corresponding to  63  is  0.7606473946627399\n",
      "auc roc score corresponding to  64  is  0.7700392673538453\n",
      "auc roc score corresponding to  65  is  0.7569169960474309\n",
      "auc roc score corresponding to  66  is  0.7615567439096851\n",
      "auc roc score corresponding to  67  is  0.7351894908160893\n",
      "auc roc score corresponding to  68  is  0.7537265235474955\n",
      "auc roc score corresponding to  69  is  0.7547715001679196\n",
      "auc roc score corresponding to  70  is  0.76538789428815\n",
      "auc roc score corresponding to  71  is  0.7635007362628845\n",
      "auc roc score corresponding to  72  is  0.7773076028830503\n",
      "auc roc score corresponding to  73  is  0.7470420315688858\n",
      "auc roc score corresponding to  74  is  0.7598943398176135\n",
      "auc roc score corresponding to  75  is  0.7822173138029914\n",
      "auc roc score corresponding to  76  is  0.7415484770983491\n",
      "auc roc score corresponding to  77  is  0.7576248417680643\n",
      "auc roc score corresponding to  78  is  0.7466261076235501\n",
      "auc roc score corresponding to  79  is  0.7665788317962232\n",
      "auc roc score corresponding to  80  is  0.7614895760675813\n",
      "auc roc score corresponding to  81  is  0.7513446485313493\n",
      "auc roc score corresponding to  82  is  0.7514234415768942\n",
      "auc roc score corresponding to  83  is  0.7557712676638507\n",
      "auc roc score corresponding to  84  is  0.7648712185796587\n",
      "auc roc score corresponding to  85  is  0.7417280219070501\n",
      "auc roc score corresponding to  86  is  0.7544679531891808\n",
      "auc roc score corresponding to  87  is  0.7602198455139632\n",
      "auc roc score corresponding to  88  is  0.7718140484125139\n",
      "auc roc score corresponding to  89  is  0.7556253067762019\n",
      "auc roc score corresponding to  90  is  0.7470420315688858\n",
      "auc roc score corresponding to  91  is  0.7491991526518381\n",
      "auc roc score corresponding to  92  is  0.7697021364540548\n",
      "auc roc score corresponding to  93  is  0.7487832287065023\n",
      "auc roc score corresponding to  94  is  0.769252628587667\n",
      "auc roc score corresponding to  95  is  0.7611976542922835\n",
      "auc roc score corresponding to  96  is  0.7530974708724069\n",
      "auc roc score corresponding to  97  is  0.7591077010514351\n",
      "auc roc score corresponding to  98  is  0.7465137306569533\n",
      "auc roc score corresponding to  99  is  0.7480534242682579\n",
      "max auc roc score corresponding to  75  is  0.7822173138029914\n"
     ]
    },
    {
     "data": {
      "text/plain": [
       "75"
      ]
     },
     "execution_count": 41,
     "metadata": {},
     "output_type": "execute_result"
    }
   ],
   "source": [
    "svc=SVC(C=0.001,kernel=\"linear\")\n",
    "max_aucroc_score(svc,x,y)"
   ]
  },
  {
   "cell_type": "code",
   "execution_count": 42,
   "metadata": {},
   "outputs": [
    {
     "name": "stdout",
     "output_type": "stream",
     "text": [
      "SVM CLASSIFIER\n",
      "\n",
      "\n",
      "Mean roc auc score for classifier:  0.8350054953598187\n",
      "standard deviation in roc auc score for classifier:  0.009377680866110497\n",
      "[0.84778217 0.8445762  0.82894805 0.82964344 0.82407762]\n"
     ]
    }
   ],
   "source": [
    "#Cross val score for SVM classifier\n",
    "print(\"SVM CLASSIFIER\\n\\n\")\n",
    "model_evaluation(svc,x,y)"
   ]
  },
  {
   "cell_type": "code",
   "execution_count": 43,
   "metadata": {},
   "outputs": [
    {
     "data": {
      "text/plain": [
       "{'learning_rate': 0.01,\n",
       " 'max_depth': 25,\n",
       " 'n_estimators': 200,\n",
       " 'num_leaves': 300}"
      ]
     },
     "execution_count": 43,
     "metadata": {},
     "output_type": "execute_result"
    }
   ],
   "source": [
    "import lightgbm as lgb\n",
    "lg = lgb.LGBMClassifier(silent=False)\n",
    "param_dist = {\"max_depth\": [25,50, 75],\n",
    "              \"learning_rate\" : [0.01,0.05,0.1],\n",
    "              \"num_leaves\": [300,900,1200],\n",
    "              \"n_estimators\": [200]\n",
    "             }\n",
    "grid_search = GridSearchCV(lg, n_jobs=-1, param_grid=param_dist, cv = 5, scoring=\"roc_auc\")\n",
    "grid_search.fit(df_x,y)\n",
    "grid_search.best_params_"
   ]
  },
  {
   "cell_type": "code",
   "execution_count": 44,
   "metadata": {},
   "outputs": [
    {
     "name": "stdout",
     "output_type": "stream",
     "text": [
      "roc score corresponding to  42  is  0.8190420832364567\n",
      "roc score corresponding to  43  is  0.8379704978170451\n",
      "roc score corresponding to  44  is  0.8277429021674545\n",
      "roc score corresponding to  45  is  0.8033687256193651\n",
      "roc score corresponding to  46  is  0.8146865070138728\n",
      "roc score corresponding to  47  is  0.8027280477408354\n",
      "roc score corresponding to  48  is  0.8178072282931619\n",
      "roc score corresponding to  49  is  0.8213309566250743\n",
      "roc score corresponding to  50  is  0.8037975664574131\n",
      "roc score corresponding to  51  is  0.8110775271900591\n",
      "roc score corresponding to  52  is  0.8264796300601928\n",
      "roc score corresponding to  53  is  0.8234932444651115\n",
      "roc score corresponding to  54  is  0.8316773876876178\n",
      "roc score corresponding to  55  is  0.8192784623730915\n",
      "roc score corresponding to  56  is  0.7986514764008371\n",
      "roc score corresponding to  57  is  0.8109909840088868\n",
      "roc score corresponding to  58  is  0.8138029915523521\n",
      "roc score corresponding to  59  is  0.8088441964401043\n",
      "roc score corresponding to  60  is  0.8270143894184816\n",
      "roc score corresponding to  61  is  0.8229494432819241\n",
      "roc score corresponding to  62  is  0.8119752512335633\n",
      "roc score corresponding to  63  is  0.8062944018186985\n",
      "roc score corresponding to  64  is  0.8335645457128833\n",
      "roc score corresponding to  65  is  0.8278449456198818\n",
      "roc score corresponding to  66  is  0.8085238575008397\n",
      "roc score corresponding to  67  is  0.8119416673125113\n",
      "roc score corresponding to  68  is  0.8153504352992843\n",
      "roc score corresponding to  69  is  0.8324097755044046\n",
      "roc score corresponding to  70  is  0.8201477692526286\n",
      "roc score corresponding to  71  is  0.8340747629750188\n",
      "roc score corresponding to  72  is  0.8325789867989356\n",
      "roc score corresponding to  73  is  0.8195019246170143\n",
      "roc score corresponding to  74  is  0.8138727427729986\n",
      "roc score corresponding to  75  is  0.8339507608049808\n",
      "roc score corresponding to  76  is  0.8047185409077993\n",
      "roc score corresponding to  77  is  0.8171743005502595\n",
      "roc score corresponding to  78  is  0.816957296752693\n",
      "roc score corresponding to  79  is  0.8228034823942754\n",
      "roc score corresponding to  80  is  0.8071895424836601\n",
      "roc score corresponding to  81  is  0.8131765222558063\n",
      "roc score corresponding to  82  is  0.8121948384096721\n",
      "roc score corresponding to  83  is  0.8040404040404041\n",
      "roc score corresponding to  84  is  0.8311503784649563\n",
      "roc score corresponding to  85  is  0.810603477227518\n",
      "roc score corresponding to  86  is  0.8397646542147821\n",
      "roc score corresponding to  87  is  0.8464775633573586\n",
      "roc score corresponding to  88  is  0.8240060451057895\n",
      "roc score corresponding to  89  is  0.8208930739621276\n",
      "roc score corresponding to  90  is  0.811831873724457\n",
      "roc score corresponding to  91  is  0.8033209331163296\n",
      "roc score corresponding to  92  is  0.8378607042289907\n",
      "roc score corresponding to  93  is  0.8117078715544188\n",
      "roc score corresponding to  94  is  0.8309940840631377\n",
      "roc score corresponding to  95  is  0.8137539073600454\n",
      "roc score corresponding to  96  is  0.8277881112919475\n",
      "roc score corresponding to  97  is  0.8035198532640987\n",
      "roc score corresponding to  98  is  0.8103038053165931\n",
      "roc score corresponding to  99  is  0.826057247668501\n",
      "max roc score corresponding to  87  is  0.8464775633573586\n"
     ]
    }
   ],
   "source": [
    "#LGBM also give provision to define which all columns should be treated as categorical\n",
    "#So we will use above provision and see what is the result\n",
    "params={'learning_rate': 0.01,'max_depth': 25,'n_estimators': 200,'num_leaves': 300}\n",
    "max_auc_score=0\n",
    "for r_state in range(42,100):\n",
    "    x_train, x_test, y_train, y_test = train_test_split(df_x, y,random_state = r_state,test_size=0.20,stratify=y)\n",
    "    x_train, y_train = SMOTE().fit_sample(x_train, y_train)\n",
    "    d_train = lgb.Dataset(x_train, label=y_train)\n",
    "    lgb_model = lgb.train(params, d_train)\n",
    "    y_pred = lgb_model.predict(x_test)\n",
    "    roc_scr=roc_auc_score(y_test,y_pred)\n",
    "    print(\"roc score corresponding to \",r_state,\" is \",roc_scr)\n",
    "    if roc_scr>max_auc_score:\n",
    "        max_auc_score=roc_scr\n",
    "        final_r_state=r_state\n",
    "print(\"max roc score corresponding to \",final_r_state,\" is \",max_auc_score)"
   ]
  },
  {
   "cell_type": "code",
   "execution_count": 45,
   "metadata": {},
   "outputs": [
    {
     "data": {
      "text/plain": [
       "pandas.core.frame.DataFrame"
      ]
     },
     "execution_count": 45,
     "metadata": {},
     "output_type": "execute_result"
    }
   ],
   "source": [
    "type(df_x)"
   ]
  },
  {
   "cell_type": "code",
   "execution_count": 46,
   "metadata": {},
   "outputs": [
    {
     "name": "stdout",
     "output_type": "stream",
     "text": [
      "Mean roc score for lgbm regressor:  0.827617986964572\n",
      "standard deviation in roc score for lgbm regressor:  0.011346437058833614\n",
      "[0.8388496692786236, 0.8384352489615647, 0.8167312644694744, 0.8115553208209587, 0.8325184312922383]\n"
     ]
    }
   ],
   "source": [
    "#The above model i.e light gradient boosting works better when categorical features are defined\n",
    "#So we will use this to create our final model\n",
    "#Also when compared to random forest its giving better and fast results\n",
    "#Lets chcek the cross_val_scores\n",
    "import numpy as np\n",
    "from sklearn.model_selection import KFold\n",
    "scores=[]\n",
    "k_fold = KFold(n_splits=5)\n",
    "for train_index,test_index in k_fold.split(df_x):\n",
    "    x_train, x_test, y_train, y_test = df_x.iloc[train_index], df_x.iloc[test_index], y[train_index], y[test_index]\n",
    "    d_train = lgb.Dataset(x_train, label=y_train)\n",
    "    lgb_model = lgb.train(params, d_train)\n",
    "    y_pred = lgb_model.predict(x_test)\n",
    "    roc_scr=roc_auc_score(y_test,y_pred)\n",
    "    scores.append(roc_scr)\n",
    "print(\"Mean roc score for lgbm regressor: \",np.array(scores).mean())\n",
    "print(\"standard deviation in roc score for lgbm regressor: \",np.array(scores).std())\n",
    "print(scores)"
   ]
  }
 ],
 "metadata": {
  "kernelspec": {
   "display_name": "Python 3",
   "language": "python",
   "name": "python3"
  },
  "language_info": {
   "codemirror_mode": {
    "name": "ipython",
    "version": 3
   },
   "file_extension": ".py",
   "mimetype": "text/x-python",
   "name": "python",
   "nbconvert_exporter": "python",
   "pygments_lexer": "ipython3",
   "version": "3.7.6"
  }
 },
 "nbformat": 4,
 "nbformat_minor": 4
}
